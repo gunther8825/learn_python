{
 "cells": [
  {
   "cell_type": "markdown",
   "metadata": {
    "id": "T3tjmiEcJGLn"
   },
   "source": [
    "To start, click File --> Save Notebook As...\n",
    "\n",
    "Then you can have your own copy you can modify."
   ]
  },
  {
   "cell_type": "markdown",
   "metadata": {
    "id": "XCqRDs8j77HH"
   },
   "source": [
    "# Numeric Types\n",
    "Adapted from Chapter 5 of Lutz, Mark. *Learning Python*, 5th Edition, O'Reilly, 2013\n",
    "\n",
    "And Chapter 5 of Lutz, Mark. *Learning Python*, 6th Edition, O'Reilly, 2025"
   ]
  },
  {
   "cell_type": "markdown",
   "metadata": {
    "id": "08TfqyM_X2hA"
   },
   "source": [
    "## Operations & Precedence"
   ]
  },
  {
   "cell_type": "code",
   "execution_count": null,
   "metadata": {
    "id": "u9Pd9lpNX47b"
   },
   "outputs": [],
   "source": [
    "# define two variables to demonstrate operations\n",
    "A = 1\n",
    "B = 2"
   ]
  },
  {
   "cell_type": "code",
   "execution_count": null,
   "metadata": {
    "colab": {
     "base_uri": "https://localhost:8080/"
    },
    "executionInfo": {
     "elapsed": 140,
     "status": "ok",
     "timestamp": 1734621995333,
     "user": {
      "displayName": "Jacqueline Gunther",
      "userId": "09898809932311330039"
     },
     "user_tz": 300
    },
    "id": "Yf94-xM2YC76",
    "outputId": "62acc1e2-1e5b-481f-eb35-ab6c8c046602"
   },
   "outputs": [
    {
     "name": "stdout",
     "output_type": "stream",
     "text": [
      "1\n",
      "2\n"
     ]
    }
   ],
   "source": [
    "## yield x, yield from x\n",
    "# yield is used in functions, more on these later, but here's an example.\n",
    "def test_function(A,B):\n",
    "  yield A\n",
    "  yield B\n",
    "\n",
    "for x in test_function(A,B):\n",
    "  print(x)"
   ]
  },
  {
   "cell_type": "code",
   "execution_count": null,
   "metadata": {
    "id": "3kb4J01Crq7j"
   },
   "outputs": [],
   "source": []
  },
  {
   "cell_type": "code",
   "execution_count": null,
   "metadata": {
    "colab": {
     "base_uri": "https://localhost:8080/"
    },
    "executionInfo": {
     "elapsed": 176,
     "status": "ok",
     "timestamp": 1734621995507,
     "user": {
      "displayName": "Jacqueline Gunther",
      "userId": "09898809932311330039"
     },
     "user_tz": 300
    },
    "id": "J9n5dCmRYHyQ",
    "outputId": "3962f381-d2b0-4921-b11e-efa436977769"
   },
   "outputs": [
    {
     "data": {
      "text/plain": [
       "3"
      ]
     },
     "execution_count": 3,
     "metadata": {},
     "output_type": "execute_result"
    }
   ],
   "source": [
    "## lambada args: expression\n",
    "# creates a function, more on that later, but here's an example.\n",
    "A = 1\n",
    "B = 2\n",
    "add_2_num = lambda a,b: a+b\n",
    "add_2_num(A,B)"
   ]
  },
  {
   "cell_type": "code",
   "execution_count": null,
   "metadata": {
    "colab": {
     "base_uri": "https://localhost:8080/"
    },
    "executionInfo": {
     "elapsed": 7,
     "status": "ok",
     "timestamp": 1734621995507,
     "user": {
      "displayName": "Jacqueline Gunther",
      "userId": "09898809932311330039"
     },
     "user_tz": 300
    },
    "id": "ZN1JXi5EZapW",
    "outputId": "d880c898-6045-44a6-bca6-91b8e87e4a92"
   },
   "outputs": [
    {
     "data": {
      "text/plain": [
       "400"
      ]
     },
     "execution_count": 4,
     "metadata": {},
     "output_type": "execute_result"
    }
   ],
   "source": [
    "## x if y else z\n",
    "# A is 1 and less than B = 2, so the answer is 400\n",
    "# If A was more than B the answer would be 300\n",
    "300 if A > B else 400"
   ]
  },
  {
   "cell_type": "code",
   "execution_count": null,
   "metadata": {
    "colab": {
     "base_uri": "https://localhost:8080/"
    },
    "executionInfo": {
     "elapsed": 6,
     "status": "ok",
     "timestamp": 1734621995507,
     "user": {
      "displayName": "Jacqueline Gunther",
      "userId": "09898809932311330039"
     },
     "user_tz": 300
    },
    "id": "MBaEsOUnav0P",
    "outputId": "41dabffd-8c87-4316-96ae-c070194f6734"
   },
   "outputs": [
    {
     "data": {
      "text/plain": [
       "True"
      ]
     },
     "execution_count": 5,
     "metadata": {},
     "output_type": "execute_result"
    }
   ],
   "source": [
    "## or\n",
    "# Will only be false if both statements are false, otherwise true.\n",
    "T = True\n",
    "F = False\n",
    "T or F"
   ]
  },
  {
   "cell_type": "code",
   "execution_count": null,
   "metadata": {
    "colab": {
     "base_uri": "https://localhost:8080/"
    },
    "executionInfo": {
     "elapsed": 5,
     "status": "ok",
     "timestamp": 1734621995507,
     "user": {
      "displayName": "Jacqueline Gunther",
      "userId": "09898809932311330039"
     },
     "user_tz": 300
    },
    "id": "sdSP-CBhbThJ",
    "outputId": "7640d506-f031-4a34-f8ad-fd25dcf01de6"
   },
   "outputs": [
    {
     "data": {
      "text/plain": [
       "False"
      ]
     },
     "execution_count": 6,
     "metadata": {},
     "output_type": "execute_result"
    }
   ],
   "source": [
    "## and\n",
    "# Will only be true if both statements are true, otherwise false.\n",
    "T and F"
   ]
  },
  {
   "cell_type": "code",
   "execution_count": null,
   "metadata": {
    "colab": {
     "base_uri": "https://localhost:8080/"
    },
    "executionInfo": {
     "elapsed": 4,
     "status": "ok",
     "timestamp": 1734621995507,
     "user": {
      "displayName": "Jacqueline Gunther",
      "userId": "09898809932311330039"
     },
     "user_tz": 300
    },
    "id": "K2y3QzUkdBeX",
    "outputId": "432a5994-949e-4bea-d9d3-91817827dc10"
   },
   "outputs": [
    {
     "name": "stdout",
     "output_type": "stream",
     "text": [
      "False\n",
      "True\n"
     ]
    }
   ],
   "source": [
    "## not\n",
    "# is the oppotste of the variable\n",
    "print(not T)\n",
    "print(not F)"
   ]
  },
  {
   "cell_type": "code",
   "execution_count": null,
   "metadata": {
    "colab": {
     "base_uri": "https://localhost:8080/"
    },
    "executionInfo": {
     "elapsed": 121,
     "status": "ok",
     "timestamp": 1734622638504,
     "user": {
      "displayName": "Jacqueline Gunther",
      "userId": "09898809932311330039"
     },
     "user_tz": 300
    },
    "id": "zFFgHtsSdJK6",
    "outputId": "83346855-555b-4c7c-b5d5-9f25821242ec"
   },
   "outputs": [
    {
     "name": "stdout",
     "output_type": "stream",
     "text": [
      "1 in L True\n",
      "5 in L False\n",
      "1 not in L False\n",
      "5 not in L True\n",
      "1>2 is False\n",
      "1<2 is True\n",
      "1>=2 is False\n",
      "1<=2 is True\n",
      "1==2 is False\n",
      "1!=2 is True\n"
     ]
    }
   ],
   "source": [
    "L = [1, 2, 3, 4] # make a list\n",
    "## in\n",
    "# Checks if the value or object is in another object\n",
    "print(\"1 in L\",1 in L) # check if 1 is in L\n",
    "print(\"5 in L\",5 in L) # check if 5 is in L\n",
    "## not in\n",
    "# Checks if the object is not in another object.\n",
    "print(\"1 not in L\",1 not in L) # check if 1 is not in L\n",
    "print(\"5 not in L\",5 not in L) # check if 5 is not in L\n",
    "## Less than and more than (< & >)\n",
    "print(\"1>2 is\",1>2)\n",
    "print(\"1<2 is\",1<2)\n",
    "## Less than or equal to and more than or equal to (<= & >=)\n",
    "print(\"1>=2 is\",1>=2)\n",
    "print(\"1<=2 is\",1<=2)\n",
    "## Equal to and not equal to (== & !=)\n",
    "print(\"1==2 is\",1==2)\n",
    "print(\"1!=2 is\",1!=2)"
   ]
  },
  {
   "cell_type": "code",
   "execution_count": null,
   "metadata": {
    "colab": {
     "base_uri": "https://localhost:8080/"
    },
    "executionInfo": {
     "elapsed": 2,
     "status": "ok",
     "timestamp": 1734621995507,
     "user": {
      "displayName": "Jacqueline Gunther",
      "userId": "09898809932311330039"
     },
     "user_tz": 300
    },
    "id": "7FcrFjOSdyLu",
    "outputId": "166916f8-5cad-49eb-f655-eae7bd4d7879"
   },
   "outputs": [
    {
     "name": "stdout",
     "output_type": "stream",
     "text": [
      "True\n",
      "{1, 2, 3, 4, 5, 6}\n"
     ]
    }
   ],
   "source": [
    "## Bitwise OR\n",
    "print(T|F)\n",
    "\n",
    "Set1 = {1,2,3,4}\n",
    "Set2 = {3,4,5,6}\n",
    "## Bitwise OR with set, gives union of sets\n",
    "print(Set1 | Set2)"
   ]
  },
  {
   "cell_type": "code",
   "execution_count": null,
   "metadata": {
    "colab": {
     "base_uri": "https://localhost:8080/"
    },
    "executionInfo": {
     "elapsed": 109,
     "status": "ok",
     "timestamp": 1734622743236,
     "user": {
      "displayName": "Jacqueline Gunther",
      "userId": "09898809932311330039"
     },
     "user_tz": 300
    },
    "id": "i-Kd8GuKkif1",
    "outputId": "00539e0a-3c6f-42d5-b607-de3242cd90d2"
   },
   "outputs": [
    {
     "name": "stdout",
     "output_type": "stream",
     "text": [
      "True\n",
      "{1, 2, 5, 6}\n"
     ]
    }
   ],
   "source": [
    "## Bitwise XOR or set symmetric difference\n",
    "# XOR follows this\n",
    "# 0 XOR 0 is 0\n",
    "# 0 XOR 1 is 1\n",
    "# 1 XOR 0 is 1\n",
    "# 1 XOR 1 is 0\n",
    "print(T^F)\n",
    "\n",
    "## Bitwise XOR with set, gives difference of sets\n",
    "print(Set1 ^ Set2)"
   ]
  },
  {
   "cell_type": "code",
   "execution_count": null,
   "metadata": {
    "colab": {
     "base_uri": "https://localhost:8080/"
    },
    "executionInfo": {
     "elapsed": 2,
     "status": "ok",
     "timestamp": 1734621995507,
     "user": {
      "displayName": "Jacqueline Gunther",
      "userId": "09898809932311330039"
     },
     "user_tz": 300
    },
    "id": "NIOd5qmPgWXA",
    "outputId": "40942c6e-e2cd-4473-d88c-3559afdffcfe"
   },
   "outputs": [
    {
     "name": "stdout",
     "output_type": "stream",
     "text": [
      "False\n",
      "{3, 4}\n"
     ]
    }
   ],
   "source": [
    "## Bitwise AND\n",
    "print(T&F)\n",
    "\n",
    "## Bitwise AND with set, gives intersection of sets\n",
    "print(Set1 & Set2)"
   ]
  },
  {
   "cell_type": "code",
   "execution_count": null,
   "metadata": {
    "colab": {
     "base_uri": "https://localhost:8080/"
    },
    "executionInfo": {
     "elapsed": 2,
     "status": "ok",
     "timestamp": 1734621995658,
     "user": {
      "displayName": "Jacqueline Gunther",
      "userId": "09898809932311330039"
     },
     "user_tz": 300
    },
    "id": "N5Mux533hYg-",
    "outputId": "087b2bec-3597-4473-ac89-08da663021b8"
   },
   "outputs": [
    {
     "data": {
      "text/plain": [
       "4"
      ]
     },
     "execution_count": 11,
     "metadata": {},
     "output_type": "execute_result"
    }
   ],
   "source": [
    "## x<<y or x>>y shifts x by y bits\n",
    "\n",
    "2 << 1"
   ]
  },
  {
   "cell_type": "code",
   "execution_count": null,
   "metadata": {
    "colab": {
     "base_uri": "https://localhost:8080/"
    },
    "executionInfo": {
     "elapsed": 2,
     "status": "ok",
     "timestamp": 1734621995658,
     "user": {
      "displayName": "Jacqueline Gunther",
      "userId": "09898809932311330039"
     },
     "user_tz": 300
    },
    "id": "ihCedCCehm8o",
    "outputId": "c92861cc-bd2d-4748-f386-4f9d46c5d730"
   },
   "outputs": [
    {
     "name": "stdout",
     "output_type": "stream",
     "text": [
      "3\n",
      "-1\n"
     ]
    }
   ],
   "source": [
    "## Addition and Subtraction\n",
    "print(A+B)\n",
    "print(A-B)"
   ]
  },
  {
   "cell_type": "code",
   "execution_count": null,
   "metadata": {
    "colab": {
     "base_uri": "https://localhost:8080/"
    },
    "executionInfo": {
     "elapsed": 128,
     "status": "ok",
     "timestamp": 1734622374707,
     "user": {
      "displayName": "Jacqueline Gunther",
      "userId": "09898809932311330039"
     },
     "user_tz": 300
    },
    "id": "aZgh8PeqhuFw",
    "outputId": "34ca265e-a391-41dd-d339-139f9ba23144"
   },
   "outputs": [
    {
     "name": "stdout",
     "output_type": "stream",
     "text": [
      "2\n",
      "1\n",
      "0.5\n",
      "0\n"
     ]
    }
   ],
   "source": [
    "## Multiplication, Remainder, Division (true and floor)\n",
    "\n",
    "# Multiply\n",
    "print(A*B)\n",
    "# Remainder from division, 1/2 is 0 remainder 1\n",
    "print(A%B)\n",
    "# Division (true)\n",
    "print(A/B)\n",
    "# Division (floor, rounds down)\n",
    "print(A//B)"
   ]
  },
  {
   "cell_type": "code",
   "execution_count": null,
   "metadata": {
    "colab": {
     "base_uri": "https://localhost:8080/"
    },
    "executionInfo": {
     "elapsed": 102,
     "status": "ok",
     "timestamp": 1734623109367,
     "user": {
      "displayName": "Jacqueline Gunther",
      "userId": "09898809932311330039"
     },
     "user_tz": 300
    },
    "id": "hLK6kruCjOoK",
    "outputId": "21489908-602a-48aa-d3d3-905fa1ae2411"
   },
   "outputs": [
    {
     "name": "stdout",
     "output_type": "stream",
     "text": [
      "-1\n",
      "2\n",
      "-8\n"
     ]
    }
   ],
   "source": [
    "## Negative\n",
    "print(-A)\n",
    "print(+B)\n",
    "\n",
    "## Bitwise NOT (inversion)\n",
    "# 7 (0111 in binary) becomes -8 (1000 in binary)\n",
    "print(~7)"
   ]
  },
  {
   "cell_type": "code",
   "execution_count": null,
   "metadata": {
    "colab": {
     "base_uri": "https://localhost:8080/"
    },
    "executionInfo": {
     "elapsed": 102,
     "status": "ok",
     "timestamp": 1734623134654,
     "user": {
      "displayName": "Jacqueline Gunther",
      "userId": "09898809932311330039"
     },
     "user_tz": 300
    },
    "id": "X5nLhioUlgSp",
    "outputId": "0cbfd4c2-bd96-495b-dd09-c4091444d45d"
   },
   "outputs": [
    {
     "name": "stdout",
     "output_type": "stream",
     "text": [
      "8\n"
     ]
    }
   ],
   "source": [
    "## Exponent\n",
    "print(B**3)"
   ]
  },
  {
   "cell_type": "code",
   "execution_count": null,
   "metadata": {
    "colab": {
     "base_uri": "https://localhost:8080/"
    },
    "executionInfo": {
     "elapsed": 169,
     "status": "ok",
     "timestamp": 1734623207826,
     "user": {
      "displayName": "Jacqueline Gunther",
      "userId": "09898809932311330039"
     },
     "user_tz": 300
    },
    "id": "XQFutzuZmIKw",
    "outputId": "84c25ee5-ff71-4c16-dcf4-cd7a618ff3a9"
   },
   "outputs": [
    {
     "name": "stdout",
     "output_type": "stream",
     "text": [
      "4\n",
      "[2, 4, 6, 8, 10]\n"
     ]
    }
   ],
   "source": [
    "L2 = [1,2,3,4,5,6,7,8,9,10]\n",
    "\n",
    "print(L2[3])\n",
    "print(L2[1:10:2])\n",
    "\n",
    "# x(...) call in a funcition, method, class, etc.\n",
    "# x.attr Attribute reference"
   ]
  },
  {
   "cell_type": "code",
   "execution_count": null,
   "metadata": {
    "id": "_fenSi3AmV0V"
   },
   "outputs": [],
   "source": [
    "# Tuple (...)\n",
    "# List [...]\n",
    "# Dictionary and/or set {...}"
   ]
  },
  {
   "cell_type": "code",
   "execution_count": null,
   "metadata": {
    "id": "JQSpDSglmz28"
   },
   "outputs": [],
   "source": [
    "## Oder of"
   ]
  },
  {
   "cell_type": "markdown",
   "metadata": {
    "id": "Cf3Vg19rm5FR"
   },
   "source": [
    "### Oder of Operation\n",
    "\n",
    "The order is from the most precedence to the least.  The operations are in order from least to most in the section above (Operations & Precedence). For example, the code will multiply numbers before adding them."
   ]
  },
  {
   "cell_type": "code",
   "execution_count": null,
   "metadata": {
    "colab": {
     "base_uri": "https://localhost:8080/"
    },
    "executionInfo": {
     "elapsed": 87,
     "status": "ok",
     "timestamp": 1734623440647,
     "user": {
      "displayName": "Jacqueline Gunther",
      "userId": "09898809932311330039"
     },
     "user_tz": 300
    },
    "id": "P7pnLY7ZnJem",
    "outputId": "197176d5-5dfa-48ee-87b3-997511cebb72"
   },
   "outputs": [
    {
     "data": {
      "text/plain": [
       "26"
      ]
     },
     "execution_count": 29,
     "metadata": {},
     "output_type": "execute_result"
    }
   ],
   "source": [
    "w = 2\n",
    "x = 3\n",
    "y = 4\n",
    "z = 5\n",
    "\n",
    "# Examples of order of operation\n",
    "w*x+y*z\n",
    "\n",
    "# 2*3+4*5\n",
    "# 6+20\n",
    "# 26"
   ]
  },
  {
   "cell_type": "code",
   "execution_count": null,
   "metadata": {
    "colab": {
     "base_uri": "https://localhost:8080/"
    },
    "executionInfo": {
     "elapsed": 116,
     "status": "ok",
     "timestamp": 1734623552329,
     "user": {
      "displayName": "Jacqueline Gunther",
      "userId": "09898809932311330039"
     },
     "user_tz": 300
    },
    "id": "GeaO4SqTnS4T",
    "outputId": "25d5c567-b24b-4058-f442-037d50485c06"
   },
   "outputs": [
    {
     "data": {
      "text/plain": [
       "70"
      ]
     },
     "execution_count": 31,
     "metadata": {},
     "output_type": "execute_result"
    }
   ],
   "source": [
    "# Parenthesis will change the order of operation\n",
    "\n",
    "w*(x+y)*z\n",
    "\n",
    "# 2*(3+4)*5\n",
    "# 2*7*5\n",
    "# 70"
   ]
  },
  {
   "cell_type": "markdown",
   "metadata": {
    "id": "6mvtWR4Hn68B"
   },
   "source": [
    "### Mixed numeric types"
   ]
  },
  {
   "cell_type": "code",
   "execution_count": null,
   "metadata": {
    "colab": {
     "base_uri": "https://localhost:8080/"
    },
    "executionInfo": {
     "elapsed": 85,
     "status": "ok",
     "timestamp": 1734623668076,
     "user": {
      "displayName": "Jacqueline Gunther",
      "userId": "09898809932311330039"
     },
     "user_tz": 300
    },
    "id": "V-lYtgbMn8gX",
    "outputId": "2a27b8d5-3766-414b-dc64-7a13aa55bb05"
   },
   "outputs": [
    {
     "name": "stdout",
     "output_type": "stream",
     "text": [
      "22.3\n",
      "<class 'int'>\n",
      "<class 'float'>\n",
      "<class 'float'>\n"
     ]
    }
   ],
   "source": [
    "## Numbers will convert authomatically to the \"higher complexity\" type\n",
    "c = 20 # an integer\n",
    "d = 2.3 # a float\n",
    "f = c+d # a float\n",
    "print(f)\n",
    "print(type(c))\n",
    "print(type(d))\n",
    "print(type(f))"
   ]
  },
  {
   "cell_type": "code",
   "execution_count": null,
   "metadata": {
    "id": "wtSvZAs5oGKL"
   },
   "outputs": [],
   "source": [
    "## Complexity from simple to more complex\n",
    "# Integer\n",
    "# Floating\n",
    "# Complex"
   ]
  },
  {
   "cell_type": "code",
   "execution_count": null,
   "metadata": {
    "colab": {
     "base_uri": "https://localhost:8080/"
    },
    "executionInfo": {
     "elapsed": 85,
     "status": "ok",
     "timestamp": 1734623836968,
     "user": {
      "displayName": "Jacqueline Gunther",
      "userId": "09898809932311330039"
     },
     "user_tz": 300
    },
    "id": "gFsRtBJrojYo",
    "outputId": "c8d51230-523e-4f76-fb34-838476ad6603"
   },
   "outputs": [
    {
     "name": "stdout",
     "output_type": "stream",
     "text": [
      "3\n",
      "4.0\n"
     ]
    }
   ],
   "source": [
    "## You can force the type\n",
    "print(int(3.1415926535)) # Use int to create an integer, it will round\n",
    "print(float(4)) # will convert to float"
   ]
  },
  {
   "cell_type": "markdown",
   "metadata": {
    "id": "Hk5JJn623Gfv"
   },
   "source": [
    "## Things about numbers"
   ]
  },
  {
   "cell_type": "code",
   "execution_count": null,
   "metadata": {
    "colab": {
     "base_uri": "https://localhost:8080/"
    },
    "executionInfo": {
     "elapsed": 135,
     "status": "ok",
     "timestamp": 1734627657274,
     "user": {
      "displayName": "Jacqueline Gunther",
      "userId": "09898809932311330039"
     },
     "user_tz": 300
    },
    "id": "TZwEjozioxiI",
    "outputId": "02dc642f-cd54-42d7-feb8-4e7826d325c9"
   },
   "outputs": [
    {
     "name": "stdout",
     "output_type": "stream",
     "text": [
      "3.3000000000000003\n"
     ]
    }
   ],
   "source": [
    "n = 1.1 +2.2\n",
    "print(n)\n",
    "# gives a wierd output, has to do with limitations of floating-point hardware."
   ]
  },
  {
   "cell_type": "code",
   "execution_count": null,
   "metadata": {
    "colab": {
     "base_uri": "https://localhost:8080/"
    },
    "executionInfo": {
     "elapsed": 97,
     "status": "ok",
     "timestamp": 1734627777903,
     "user": {
      "displayName": "Jacqueline Gunther",
      "userId": "09898809932311330039"
     },
     "user_tz": 300
    },
    "id": "p28s1CsY2uAj",
    "outputId": "01764792-2cfd-4ea4-b790-b2f14108aef6"
   },
   "outputs": [
    {
     "name": "stdout",
     "output_type": "stream",
     "text": [
      "3.300000e+00\n",
      "3.30\n",
      "3.300000e+00 3.30\n"
     ]
    }
   ],
   "source": [
    "# format differently\n",
    "print('%e' % n) # as an exponent\n",
    "print('%.2f' % n) # as a float with 2 decimal places\n",
    "print(f'{n:e}',f'{n:.2f}') # both"
   ]
  },
  {
   "cell_type": "markdown",
   "metadata": {
    "id": "-Mt9E3-M4S_U"
   },
   "source": [
    "### Chained Comparisons"
   ]
  },
  {
   "cell_type": "code",
   "execution_count": null,
   "metadata": {
    "id": "Ur__OE3a3dwv"
   },
   "outputs": [],
   "source": [
    "A = 1\n",
    "B = 2\n",
    "C = 3\n"
   ]
  },
  {
   "cell_type": "code",
   "execution_count": null,
   "metadata": {
    "colab": {
     "base_uri": "https://localhost:8080/"
    },
    "executionInfo": {
     "elapsed": 96,
     "status": "ok",
     "timestamp": 1734627925979,
     "user": {
      "displayName": "Jacqueline Gunther",
      "userId": "09898809932311330039"
     },
     "user_tz": 300
    },
    "id": "ofC6TnGO4Yfg",
    "outputId": "fb702c1e-2cca-435f-ede0-c2c1857322e0"
   },
   "outputs": [
    {
     "data": {
      "text/plain": [
       "True"
      ]
     },
     "execution_count": 46,
     "metadata": {},
     "output_type": "execute_result"
    }
   ],
   "source": [
    "A<B<C"
   ]
  },
  {
   "cell_type": "code",
   "execution_count": null,
   "metadata": {
    "colab": {
     "base_uri": "https://localhost:8080/"
    },
    "executionInfo": {
     "elapsed": 98,
     "status": "ok",
     "timestamp": 1734627937493,
     "user": {
      "displayName": "Jacqueline Gunther",
      "userId": "09898809932311330039"
     },
     "user_tz": 300
    },
    "id": "Jjv0OGDC4Z7k",
    "outputId": "faed0b4d-3cf3-4e6a-c076-e5d455795067"
   },
   "outputs": [
    {
     "data": {
      "text/plain": [
       "True"
      ]
     },
     "execution_count": 47,
     "metadata": {},
     "output_type": "execute_result"
    }
   ],
   "source": [
    "A<B and B<C"
   ]
  },
  {
   "cell_type": "code",
   "execution_count": null,
   "metadata": {
    "colab": {
     "base_uri": "https://localhost:8080/"
    },
    "executionInfo": {
     "elapsed": 145,
     "status": "ok",
     "timestamp": 1734627965600,
     "user": {
      "displayName": "Jacqueline Gunther",
      "userId": "09898809932311330039"
     },
     "user_tz": 300
    },
    "id": "8Ewj-iIs4cvY",
    "outputId": "0f9a0837-d18d-415b-bc5d-4371c30895f9"
   },
   "outputs": [
    {
     "data": {
      "text/plain": [
       "False"
      ]
     },
     "execution_count": 48,
     "metadata": {},
     "output_type": "execute_result"
    }
   ],
   "source": [
    "A == B < C"
   ]
  },
  {
   "cell_type": "markdown",
   "metadata": {
    "id": "LJvNqxi75PUc"
   },
   "source": [
    "### Floor vs Trunctation"
   ]
  },
  {
   "cell_type": "code",
   "execution_count": null,
   "metadata": {
    "colab": {
     "base_uri": "https://localhost:8080/"
    },
    "executionInfo": {
     "elapsed": 123,
     "status": "ok",
     "timestamp": 1734635140278,
     "user": {
      "displayName": "Jacqueline Gunther",
      "userId": "09898809932311330039"
     },
     "user_tz": 300
    },
    "id": "4XTb8pKd4jlv",
    "outputId": "86b0545f-3847-44b7-e404-e4da427ac221"
   },
   "outputs": [
    {
     "name": "stdout",
     "output_type": "stream",
     "text": [
      "-1.5\n",
      "-2\n",
      "-2\n",
      "-1\n"
     ]
    }
   ],
   "source": [
    "import math\n",
    "print(3/-2)  # Keep the remainder\n",
    "print(3//-2) # Rounds down\n",
    "print(math.floor(3/-2)) # Rounds down same as above\n",
    "print(math.trunc(3/-2)) # Rounds closest to 0"
   ]
  },
  {
   "cell_type": "markdown",
   "metadata": {
    "id": "28Ssg2fqi5JJ"
   },
   "source": [
    "## Complex Numbers"
   ]
  },
  {
   "cell_type": "code",
   "execution_count": null,
   "metadata": {
    "colab": {
     "base_uri": "https://localhost:8080/"
    },
    "executionInfo": {
     "elapsed": 124,
     "status": "ok",
     "timestamp": 1735595519702,
     "user": {
      "displayName": "Jacqueline Gunther",
      "userId": "09898809932311330039"
     },
     "user_tz": 300
    },
    "id": "HfhrK4RQjDZu",
    "outputId": "8df51440-b360-4f30-9568-64f7f5e635bb"
   },
   "outputs": [
    {
     "name": "stdout",
     "output_type": "stream",
     "text": [
      "1j\n",
      "(1+1j)\n",
      "(1+1j)\n"
     ]
    }
   ],
   "source": [
    "print(1j)\n",
    "print(1+1j)\n",
    "print(1+1J)  # You can use j or captial J, cannot use i or I"
   ]
  },
  {
   "cell_type": "code",
   "execution_count": null,
   "metadata": {
    "colab": {
     "base_uri": "https://localhost:8080/"
    },
    "executionInfo": {
     "elapsed": 168,
     "status": "ok",
     "timestamp": 1735595691385,
     "user": {
      "displayName": "Jacqueline Gunther",
      "userId": "09898809932311330039"
     },
     "user_tz": 300
    },
    "id": "V_sS0fRXjXeZ",
    "outputId": "c81ecb21-0051-4ffb-f3cf-119a38b61ad4"
   },
   "outputs": [
    {
     "name": "stdout",
     "output_type": "stream",
     "text": [
      "1.0\n",
      "1.0\n",
      "(1-1j)\n",
      "1.4142135623730951\n",
      "0.7853981633974483\n"
     ]
    }
   ],
   "source": [
    "import cmath\n",
    "\n",
    "H = 1+1j\n",
    "print(H.real)\n",
    "print(H.imag)\n",
    "print(H.conjugate())\n",
    "print(abs(H))\n",
    "print(cmath.phase(H))\n"
   ]
  },
  {
   "cell_type": "markdown",
   "metadata": {
    "id": "xPG2QJevkh3t"
   },
   "source": [
    "## Hex, octal, and binary numbers"
   ]
  },
  {
   "cell_type": "code",
   "execution_count": null,
   "metadata": {
    "colab": {
     "base_uri": "https://localhost:8080/"
    },
    "executionInfo": {
     "elapsed": 132,
     "status": "ok",
     "timestamp": 1735595886763,
     "user": {
      "displayName": "Jacqueline Gunther",
      "userId": "09898809932311330039"
     },
     "user_tz": 300
    },
    "id": "oGhVuTBWjfgy",
    "outputId": "bd22ae9d-7206-4ae3-a176-e12901959968"
   },
   "outputs": [
    {
     "name": "stdout",
     "output_type": "stream",
     "text": [
      "16\n",
      "16\n",
      "16\n"
     ]
    }
   ],
   "source": [
    "print(0x10)  # use x for hex\n",
    "print(0o20)  # use o for octal\n",
    "print(0b10000)  # use b for binary"
   ]
  },
  {
   "cell_type": "code",
   "execution_count": null,
   "metadata": {
    "colab": {
     "base_uri": "https://localhost:8080/"
    },
    "executionInfo": {
     "elapsed": 146,
     "status": "ok",
     "timestamp": 1735595912031,
     "user": {
      "displayName": "Jacqueline Gunther",
      "userId": "09898809932311330039"
     },
     "user_tz": 300
    },
    "id": "67yG3KHdk7VQ",
    "outputId": "8140672d-5af3-4903-bf46-9c9fb42e626c"
   },
   "outputs": [
    {
     "name": "stdout",
     "output_type": "stream",
     "text": [
      "16\n",
      "16\n",
      "16\n"
     ]
    }
   ],
   "source": [
    "# or\n",
    "print(int('10',16))\n",
    "print(int('20',8))\n",
    "print(int('10000',2))"
   ]
  },
  {
   "cell_type": "code",
   "execution_count": null,
   "metadata": {
    "colab": {
     "base_uri": "https://localhost:8080/"
    },
    "executionInfo": {
     "elapsed": 109,
     "status": "ok",
     "timestamp": 1735595933704,
     "user": {
      "displayName": "Jacqueline Gunther",
      "userId": "09898809932311330039"
     },
     "user_tz": 300
    },
    "id": "KrD5GDUfkNte",
    "outputId": "63a42d6f-6373-4de7-ba3c-c1d634a484f1"
   },
   "outputs": [
    {
     "name": "stdout",
     "output_type": "stream",
     "text": [
      "0x10\n",
      "0o20\n",
      "0b10000\n"
     ]
    }
   ],
   "source": [
    "# or reverse\n",
    "print(hex(16))\n",
    "print(oct(16))\n",
    "print(bin(16))"
   ]
  },
  {
   "cell_type": "code",
   "execution_count": null,
   "metadata": {
    "colab": {
     "base_uri": "https://localhost:8080/"
    },
    "executionInfo": {
     "elapsed": 97,
     "status": "ok",
     "timestamp": 1735663244993,
     "user": {
      "displayName": "Jacqueline Gunther",
      "userId": "09898809932311330039"
     },
     "user_tz": 300
    },
    "id": "Pg52aJ8lk-o7",
    "outputId": "d9d5403d-d95a-419b-f750-77f5813a9677"
   },
   "outputs": [
    {
     "data": {
      "text/plain": [
       "2"
      ]
     },
     "execution_count": 2,
     "metadata": {},
     "output_type": "execute_result"
    }
   ],
   "source": [
    "eval('0x10') # eval evaluates what is in the string as a function\n",
    "\n",
    "## another example\n",
    "# eval('1+1')"
   ]
  },
  {
   "cell_type": "code",
   "execution_count": null,
   "metadata": {
    "colab": {
     "base_uri": "https://localhost:8080/",
     "height": 35
    },
    "executionInfo": {
     "elapsed": 71,
     "status": "ok",
     "timestamp": 1735663402390,
     "user": {
      "displayName": "Jacqueline Gunther",
      "userId": "09898809932311330039"
     },
     "user_tz": 300
    },
    "id": "_HfmLgxkluGO",
    "outputId": "514b81a1-036f-4da3-b455-391277c081bc"
   },
   "outputs": [
    {
     "data": {
      "application/vnd.google.colaboratory.intrinsic+json": {
       "type": "string"
      },
      "text/plain": [
       "'Binary: 10000, Octal: 20, Hexadecimal: 10, Hexadecimal with base: 0X10'"
      ]
     },
     "execution_count": 4,
     "metadata": {},
     "output_type": "execute_result"
    }
   ],
   "source": [
    "# Create a string\n",
    "'Binary: {:b}, Octal: {:o}, Hexadecimal: {:x}, Hexadecimal with base: {:#X}'.format(16,16,16,16)"
   ]
  },
  {
   "cell_type": "code",
   "execution_count": null,
   "metadata": {
    "colab": {
     "base_uri": "https://localhost:8080/"
    },
    "executionInfo": {
     "elapsed": 83,
     "status": "ok",
     "timestamp": 1735663508858,
     "user": {
      "displayName": "Jacqueline Gunther",
      "userId": "09898809932311330039"
     },
     "user_tz": 300
    },
    "id": "eKVRzGp0mTN9",
    "outputId": "e6a32f57-00f4-4c2e-de6b-61752a4e48a9"
   },
   "outputs": [
    {
     "name": "stdout",
     "output_type": "stream",
     "text": [
      "0b11111111\n",
      "0o377\n",
      "255\n"
     ]
    }
   ],
   "source": [
    "# Converting\n",
    "X = 0xFF\n",
    "print(bin(X))\n",
    "print(oct(X))\n",
    "print((X))"
   ]
  },
  {
   "cell_type": "markdown",
   "metadata": {
    "id": "ns_MiUu2nPrR"
   },
   "source": [
    "## Bitwise Operations\n",
    "Python can support bitwise operations, but won't be covered here.\n",
    "\n",
    "Try cheking this online resource: https://www.geeksforgeeks.org/python-bitwise-operators/"
   ]
  },
  {
   "cell_type": "markdown",
   "metadata": {
    "id": "OiLc2OCSpr5k"
   },
   "source": [
    "## Math Operations"
   ]
  },
  {
   "cell_type": "code",
   "execution_count": null,
   "metadata": {
    "colab": {
     "base_uri": "https://localhost:8080/"
    },
    "executionInfo": {
     "elapsed": 49,
     "status": "ok",
     "timestamp": 1735664448979,
     "user": {
      "displayName": "Jacqueline Gunther",
      "userId": "09898809932311330039"
     },
     "user_tz": 300
    },
    "id": "HXI5RkwTp4vm",
    "outputId": "dab16da6-4832-435d-ad9b-aa22085b9062"
   },
   "outputs": [
    {
     "name": "stdout",
     "output_type": "stream",
     "text": [
      "5\n",
      "32\n",
      "16\n",
      "7\n",
      "1\n"
     ]
    }
   ],
   "source": [
    "# build in mathematical operations (i.e. you don't have to import the math library first.)\n",
    "print(abs(-5))\n",
    "print(pow(2,5))\n",
    "print(sum((1,3,5,7)))\n",
    "print(max((1,3,5,7)))\n",
    "print(min((1,3,5,7)))"
   ]
  },
  {
   "cell_type": "code",
   "execution_count": null,
   "metadata": {
    "colab": {
     "base_uri": "https://localhost:8080/"
    },
    "executionInfo": {
     "elapsed": 53,
     "status": "ok",
     "timestamp": 1735664523357,
     "user": {
      "displayName": "Jacqueline Gunther",
      "userId": "09898809932311330039"
     },
     "user_tz": 300
    },
    "id": "RqF6TYHrp8WJ",
    "outputId": "b72ccf85-73e1-4601-daf4-0200c5e80038"
   },
   "outputs": [
    {
     "data": {
      "text/plain": [
       "(3, 3.14, 4000)"
      ]
     },
     "execution_count": 20,
     "metadata": {},
     "output_type": "execute_result"
    }
   ],
   "source": [
    "# rounds to nearest digit, two decimal points, to the nearest thousand.\n",
    "round(3.1415),round(3.1415,2),round(3810,-3)"
   ]
  },
  {
   "cell_type": "markdown",
   "metadata": {
    "id": "g6tgvTaMFbuF"
   },
   "source": [
    "### Math Library"
   ]
  },
  {
   "cell_type": "code",
   "execution_count": null,
   "metadata": {
    "id": "UAXVKMJ7mx6r"
   },
   "outputs": [],
   "source": [
    "import math  # This imports the math package\n",
    "# This is needed for other mathematical operations."
   ]
  },
  {
   "cell_type": "code",
   "execution_count": null,
   "metadata": {
    "colab": {
     "base_uri": "https://localhost:8080/"
    },
    "executionInfo": {
     "elapsed": 50,
     "status": "ok",
     "timestamp": 1735664629246,
     "user": {
      "displayName": "Jacqueline Gunther",
      "userId": "09898809932311330039"
     },
     "user_tz": 300
    },
    "id": "uPblSqbtpw3a",
    "outputId": "c6163340-a245-4628-9870-ab57af269ee2"
   },
   "outputs": [
    {
     "name": "stdout",
     "output_type": "stream",
     "text": [
      "3.141592653589793\n",
      "2.718281828459045\n",
      "1.0\n"
     ]
    },
    {
     "data": {
      "text/plain": [
       "12.0"
      ]
     },
     "execution_count": 24,
     "metadata": {},
     "output_type": "execute_result"
    }
   ],
   "source": [
    "print(math.pi)\n",
    "print(math.e)\n",
    "print(math.sin(math.pi/2))\n",
    "math.sqrt(144)"
   ]
  },
  {
   "cell_type": "markdown",
   "metadata": {
    "id": "j7NHmcv3FeQj"
   },
   "source": [
    "### Random Library"
   ]
  },
  {
   "cell_type": "code",
   "execution_count": null,
   "metadata": {
    "colab": {
     "base_uri": "https://localhost:8080/"
    },
    "executionInfo": {
     "elapsed": 52,
     "status": "ok",
     "timestamp": 1735671514441,
     "user": {
      "displayName": "Jacqueline Gunther",
      "userId": "09898809932311330039"
     },
     "user_tz": 300
    },
    "id": "BBo8aHi6py0R",
    "outputId": "9b3bfe42-bcc3-406d-8551-85ad187dfbf4"
   },
   "outputs": [
    {
     "data": {
      "text/plain": [
       "0.045879601841364526"
      ]
     },
     "execution_count": 35,
     "metadata": {},
     "output_type": "execute_result"
    }
   ],
   "source": [
    "## random\n",
    "import random # library for random generator\n",
    "random.random()  # gives a random number between 0-1"
   ]
  },
  {
   "cell_type": "code",
   "execution_count": null,
   "metadata": {
    "colab": {
     "base_uri": "https://localhost:8080/"
    },
    "executionInfo": {
     "elapsed": 51,
     "status": "ok",
     "timestamp": 1735670307032,
     "user": {
      "displayName": "Jacqueline Gunther",
      "userId": "09898809932311330039"
     },
     "user_tz": 300
    },
    "id": "mXx025Q_AiDY",
    "outputId": "d426d899-1323-4ef9-c608-4c9f887dd7b9"
   },
   "outputs": [
    {
     "data": {
      "text/plain": [
       "-0.9439069056538709"
      ]
     },
     "execution_count": 28,
     "metadata": {},
     "output_type": "execute_result"
    }
   ],
   "source": [
    "random.gauss(0,1) # gives a random number from a normal distribution"
   ]
  },
  {
   "cell_type": "code",
   "execution_count": null,
   "metadata": {
    "colab": {
     "base_uri": "https://localhost:8080/"
    },
    "executionInfo": {
     "elapsed": 95,
     "status": "ok",
     "timestamp": 1735671406904,
     "user": {
      "displayName": "Jacqueline Gunther",
      "userId": "09898809932311330039"
     },
     "user_tz": 300
    },
    "id": "tiLtoUY4Axg9",
    "outputId": "e7a5cc2c-6348-40a0-de9f-d25eeff77c01"
   },
   "outputs": [
    {
     "data": {
      "text/plain": [
       "7"
      ]
     },
     "execution_count": 31,
     "metadata": {},
     "output_type": "execute_result"
    }
   ],
   "source": [
    "random.randint(1,10) # gives a random integer between 1 and 10"
   ]
  },
  {
   "cell_type": "code",
   "execution_count": null,
   "metadata": {
    "colab": {
     "base_uri": "https://localhost:8080/",
     "height": 35
    },
    "executionInfo": {
     "elapsed": 54,
     "status": "ok",
     "timestamp": 1735671471533,
     "user": {
      "displayName": "Jacqueline Gunther",
      "userId": "09898809932311330039"
     },
     "user_tz": 300
    },
    "id": "bMnk0LyNE-Bb",
    "outputId": "c1004986-49ad-4656-d8e7-14e28ee74675"
   },
   "outputs": [
    {
     "data": {
      "application/vnd.google.colaboratory.intrinsic+json": {
       "type": "string"
      },
      "text/plain": [
       "'Star Wars'"
      ]
     },
     "execution_count": 33,
     "metadata": {},
     "output_type": "execute_result"
    }
   ],
   "source": [
    "random.choice(['Star Wars','Lord or the Rings', 'Avengers', 'My Big Fat Greek Wedding']) # gives a random choice from a list"
   ]
  },
  {
   "cell_type": "code",
   "execution_count": null,
   "metadata": {
    "colab": {
     "base_uri": "https://localhost:8080/"
    },
    "executionInfo": {
     "elapsed": 72,
     "status": "ok",
     "timestamp": 1735671500943,
     "user": {
      "displayName": "Jacqueline Gunther",
      "userId": "09898809932311330039"
     },
     "user_tz": 300
    },
    "id": "HMNGD6AYFK0g",
    "outputId": "ab301756-5b37-44f2-ef0e-2f19391f22ac"
   },
   "outputs": [
    {
     "name": "stdout",
     "output_type": "stream",
     "text": [
      "['Spades', 'Diamonds', 'Hearts', 'Clubs']\n"
     ]
    }
   ],
   "source": [
    "suits = ['Clubs', 'Diamonds', 'Hearts', 'Spades']\n",
    "random.shuffle(suits) # shuffles a list\n",
    "print(suits)"
   ]
  },
  {
   "cell_type": "markdown",
   "metadata": {
    "id": "x8lc4ftMFh8R"
   },
   "source": [
    "### Statistics library"
   ]
  },
  {
   "cell_type": "code",
   "execution_count": null,
   "metadata": {
    "id": "WebCzfN2FU_C"
   },
   "outputs": [],
   "source": [
    "import statistics # library for statistics"
   ]
  },
  {
   "cell_type": "code",
   "execution_count": null,
   "metadata": {
    "colab": {
     "base_uri": "https://localhost:8080/"
    },
    "executionInfo": {
     "elapsed": 52,
     "status": "ok",
     "timestamp": 1735671609049,
     "user": {
      "displayName": "Jacqueline Gunther",
      "userId": "09898809932311330039"
     },
     "user_tz": 300
    },
    "id": "fk6frm5hFoIT",
    "outputId": "003c922a-8017-4e01-ab25-2b29e749d9b8"
   },
   "outputs": [
    {
     "name": "stdout",
     "output_type": "stream",
     "text": [
      "18.9\n",
      "17.5\n",
      "1\n"
     ]
    }
   ],
   "source": [
    "num_list = [1,5,8,10,15,20,25,30,35,40]\n",
    "print(statistics.mean(num_list))\n",
    "print(statistics.median(num_list))\n",
    "print(statistics.mode(num_list))"
   ]
  },
  {
   "cell_type": "code",
   "execution_count": null,
   "metadata": {
    "id": "S61JnJegFvY1"
   },
   "outputs": [],
   "source": [
    "## There are many more functions.\n",
    "# You can see them by running the following code.\n",
    "# uncomment to use\n",
    "\n",
    "# dir(statistics)"
   ]
  },
  {
   "cell_type": "markdown",
   "metadata": {
    "id": "j-GAtAJJ5Fh1"
   },
   "source": [
    "## Decimals"
   ]
  },
  {
   "cell_type": "code",
   "execution_count": null,
   "metadata": {
    "colab": {
     "base_uri": "https://localhost:8080/"
    },
    "executionInfo": {
     "elapsed": 117,
     "status": "ok",
     "timestamp": 1735852857409,
     "user": {
      "displayName": "Jacqueline Gunther",
      "userId": "09898809932311330039"
     },
     "user_tz": 300
    },
    "id": "7UnBIvakF08X",
    "outputId": "db3a01aa-c6d4-44d3-c9d6-faf71b609296"
   },
   "outputs": [
    {
     "data": {
      "text/plain": [
       "5.551115123125783e-17"
      ]
     },
     "execution_count": 2,
     "metadata": {},
     "output_type": "execute_result"
    }
   ],
   "source": [
    "0.1+0.1+0.1+-0.3\n",
    "\n",
    "# The answer is almost 0, but is not zero because of the precision of the computer (enought bits to be accurate)"
   ]
  },
  {
   "cell_type": "code",
   "execution_count": null,
   "metadata": {
    "colab": {
     "base_uri": "https://localhost:8080/"
    },
    "executionInfo": {
     "elapsed": 242,
     "status": "ok",
     "timestamp": 1735853065214,
     "user": {
      "displayName": "Jacqueline Gunther",
      "userId": "09898809932311330039"
     },
     "user_tz": 300
    },
    "id": "FmMq1TP_5Jce",
    "outputId": "dd1e7f60-7329-4245-abc5-040640222ffa"
   },
   "outputs": [
    {
     "data": {
      "text/plain": [
       "Decimal('0.0')"
      ]
     },
     "execution_count": 3,
     "metadata": {},
     "output_type": "execute_result"
    }
   ],
   "source": [
    "from decimal import Decimal # import the decimal library\n",
    "\n",
    "Decimal('0.1')+Decimal('0.1')+Decimal('0.1')-Decimal('0.3')\n",
    "\n",
    "# The answer is now accurate\n",
    "# Strings are converted to decimals at the desired number of decimal places (one)"
   ]
  },
  {
   "cell_type": "code",
   "execution_count": null,
   "metadata": {
    "colab": {
     "base_uri": "https://localhost:8080/"
    },
    "executionInfo": {
     "elapsed": 86,
     "status": "ok",
     "timestamp": 1735853116590,
     "user": {
      "displayName": "Jacqueline Gunther",
      "userId": "09898809932311330039"
     },
     "user_tz": 300
    },
    "id": "PCUZeM1a58Ja",
    "outputId": "fce93dd0-7225-41a8-8c60-93475a5f0af1"
   },
   "outputs": [
    {
     "data": {
      "text/plain": [
       "Decimal('0.0000')"
      ]
     },
     "execution_count": 5,
     "metadata": {},
     "output_type": "execute_result"
    }
   ],
   "source": [
    "Decimal('0.1')+Decimal('0.1000')+Decimal('0.1')-Decimal('0.3')\n",
    "\n",
    "# Since one of the numbers has four decimal places, the answer will be four decimal places."
   ]
  },
  {
   "cell_type": "code",
   "execution_count": null,
   "metadata": {
    "colab": {
     "base_uri": "https://localhost:8080/"
    },
    "executionInfo": {
     "elapsed": 86,
     "status": "ok",
     "timestamp": 1735853317705,
     "user": {
      "displayName": "Jacqueline Gunther",
      "userId": "09898809932311330039"
     },
     "user_tz": 300
    },
    "id": "PJtsDZLm6udN",
    "outputId": "62675aaa-081d-447a-fbb3-c7aa172d05b1"
   },
   "outputs": [
    {
     "data": {
      "text/plain": [
       "Decimal('2.775557561565156540423631668E-17')"
      ]
     },
     "execution_count": 8,
     "metadata": {},
     "output_type": "execute_result"
    }
   ],
   "source": [
    "# Decimal takes a string as an input.  If you do not use strings. This happens.\n",
    "Decimal(0.1)+Decimal(0.1)+Decimal(0.1)-Decimal(0.3)"
   ]
  },
  {
   "cell_type": "code",
   "execution_count": null,
   "metadata": {
    "colab": {
     "base_uri": "https://localhost:8080/"
    },
    "executionInfo": {
     "elapsed": 108,
     "status": "ok",
     "timestamp": 1735853231800,
     "user": {
      "displayName": "Jacqueline Gunther",
      "userId": "09898809932311330039"
     },
     "user_tz": 300
    },
    "id": "iarOuWhB6H3A",
    "outputId": "e9464af6-4433-4797-9f88-aaf033134ecc"
   },
   "outputs": [
    {
     "data": {
      "text/plain": [
       "0.0"
      ]
     },
     "execution_count": 7,
     "metadata": {},
     "output_type": "execute_result"
    }
   ],
   "source": [
    "## A note:\n",
    "# For the most part his is not an issue.  When you need a certain level of precision\n",
    "# keep in mind that precision in dependent on the bits used for the calcualtion.\n",
    "\n",
    "0.2+0.2-0.4  #an example with no issue."
   ]
  },
  {
   "cell_type": "code",
   "execution_count": null,
   "metadata": {
    "colab": {
     "base_uri": "https://localhost:8080/"
    },
    "executionInfo": {
     "elapsed": 176,
     "status": "ok",
     "timestamp": 1735853417943,
     "user": {
      "displayName": "Jacqueline Gunther",
      "userId": "09898809932311330039"
     },
     "user_tz": 300
    },
    "id": "saXXetZm6tiz",
    "outputId": "c3307058-68fc-4994-bc87-a27fb16e334f"
   },
   "outputs": [
    {
     "data": {
      "text/plain": [
       "Decimal('0.09090909090909090909090909091')"
      ]
     },
     "execution_count": 12,
     "metadata": {},
     "output_type": "execute_result"
    }
   ],
   "source": [
    "import decimal\n",
    "\n",
    "decimal.Decimal(1)/decimal.Decimal(11)"
   ]
  },
  {
   "cell_type": "code",
   "execution_count": null,
   "metadata": {
    "colab": {
     "base_uri": "https://localhost:8080/"
    },
    "executionInfo": {
     "elapsed": 181,
     "status": "ok",
     "timestamp": 1735853426718,
     "user": {
      "displayName": "Jacqueline Gunther",
      "userId": "09898809932311330039"
     },
     "user_tz": 300
    },
    "id": "CqGiGJ556WnG",
    "outputId": "cadb7020-a5d5-44aa-ddf6-f02e80c6657d"
   },
   "outputs": [
    {
     "data": {
      "text/plain": [
       "Decimal('0.09091')"
      ]
     },
     "execution_count": 13,
     "metadata": {},
     "output_type": "execute_result"
    }
   ],
   "source": [
    "decimal.getcontext().prec = 4\n",
    "decimal.Decimal(1)/decimal.Decimal(11)"
   ]
  },
  {
   "cell_type": "markdown",
   "metadata": {
    "id": "lzNGawSg7s0w"
   },
   "source": [
    "## Fraction Objects"
   ]
  },
  {
   "cell_type": "code",
   "execution_count": null,
   "metadata": {
    "colab": {
     "base_uri": "https://localhost:8080/"
    },
    "executionInfo": {
     "elapsed": 219,
     "status": "ok",
     "timestamp": 1735854189926,
     "user": {
      "displayName": "Jacqueline Gunther",
      "userId": "09898809932311330039"
     },
     "user_tz": 300
    },
    "id": "Zl6bx-1m7a9Y",
    "outputId": "f54b0ddc-6287-4ec5-d626-822086633357"
   },
   "outputs": [
    {
     "name": "stdout",
     "output_type": "stream",
     "text": [
      "1/3\n",
      "2/3\n"
     ]
    }
   ],
   "source": [
    "from fractions import Fraction\n",
    "x = Fraction(1,3)\n",
    "y = Fraction(2,3)\n",
    "print(x)\n",
    "print(y)"
   ]
  },
  {
   "cell_type": "code",
   "execution_count": null,
   "metadata": {
    "colab": {
     "base_uri": "https://localhost:8080/"
    },
    "executionInfo": {
     "elapsed": 2,
     "status": "ok",
     "timestamp": 1735854214572,
     "user": {
      "displayName": "Jacqueline Gunther",
      "userId": "09898809932311330039"
     },
     "user_tz": 300
    },
    "id": "LpvG4_W1-J4N",
    "outputId": "f35fa879-911b-4fb4-aae0-f7cbd9d07ddb"
   },
   "outputs": [
    {
     "name": "stdout",
     "output_type": "stream",
     "text": [
      "1\n",
      "-1/3\n",
      "2/9\n"
     ]
    }
   ],
   "source": [
    "print(x+y)\n",
    "print(x-y)\n",
    "print(x*y)"
   ]
  },
  {
   "cell_type": "code",
   "execution_count": null,
   "metadata": {
    "colab": {
     "base_uri": "https://localhost:8080/"
    },
    "executionInfo": {
     "elapsed": 224,
     "status": "ok",
     "timestamp": 1735854349697,
     "user": {
      "displayName": "Jacqueline Gunther",
      "userId": "09898809932311330039"
     },
     "user_tz": 300
    },
    "id": "2DCjkXGq-Y1W",
    "outputId": "4392895c-4d3c-4bd7-bae4-93a40e9dd031"
   },
   "outputs": [
    {
     "data": {
      "text/plain": [
       "Fraction(1, 5)"
      ]
     },
     "execution_count": 21,
     "metadata": {},
     "output_type": "execute_result"
    }
   ],
   "source": [
    "Fraction('.2')"
   ]
  },
  {
   "cell_type": "code",
   "execution_count": null,
   "metadata": {
    "colab": {
     "base_uri": "https://localhost:8080/"
    },
    "executionInfo": {
     "elapsed": 215,
     "status": "ok",
     "timestamp": 1735854493329,
     "user": {
      "displayName": "Jacqueline Gunther",
      "userId": "09898809932311330039"
     },
     "user_tz": 300
    },
    "id": "oEUz0JNm-1up",
    "outputId": "df7f1928-37e1-4017-d22f-07fbc0259a59"
   },
   "outputs": [
    {
     "data": {
      "text/plain": [
       "1.0"
      ]
     },
     "execution_count": 22,
     "metadata": {},
     "output_type": "execute_result"
    }
   ],
   "source": [
    "## The float version is only as accurate as the float software\n",
    "\n",
    "f1 = 1/3\n",
    "f2 = 2/3\n",
    "\n",
    "f1+f2"
   ]
  },
  {
   "cell_type": "code",
   "execution_count": null,
   "metadata": {
    "colab": {
     "base_uri": "https://localhost:8080/"
    },
    "executionInfo": {
     "elapsed": 121,
     "status": "ok",
     "timestamp": 1735854566042,
     "user": {
      "displayName": "Jacqueline Gunther",
      "userId": "09898809932311330039"
     },
     "user_tz": 300
    },
    "id": "txY1OUzp_Y0W",
    "outputId": "c97e76c2-d414-424d-a92f-7789395fc702"
   },
   "outputs": [
    {
     "data": {
      "text/plain": [
       "Fraction(0, 1)"
      ]
     },
     "execution_count": 24,
     "metadata": {},
     "output_type": "execute_result"
    }
   ],
   "source": [
    "Fraction(1,10)+Fraction(1,10)+Fraction(1,10)-Fraction(3,10)"
   ]
  },
  {
   "cell_type": "markdown",
   "metadata": {
    "id": "81uAicqx_30x"
   },
   "source": [
    "## Set Objects\n",
    "Sets will only show an item once in a set no matter how many times it is added.  For example [1, 1, 3] will only show {1,3}"
   ]
  },
  {
   "cell_type": "code",
   "execution_count": null,
   "metadata": {
    "colab": {
     "base_uri": "https://localhost:8080/"
    },
    "executionInfo": {
     "elapsed": 235,
     "status": "ok",
     "timestamp": 1735854922194,
     "user": {
      "displayName": "Jacqueline Gunther",
      "userId": "09898809932311330039"
     },
     "user_tz": 300
    },
    "id": "guNk5GqQ_lxz",
    "outputId": "abc9005c-95ef-4cf4-c0d8-9da376ce0131"
   },
   "outputs": [
    {
     "name": "stdout",
     "output_type": "stream",
     "text": [
      "{'a', 'e', 'd', 'c', 'b'}\n",
      "{'hello', 100, 5, 'j'}\n"
     ]
    }
   ],
   "source": [
    "# Two ways to make a set\n",
    "z = set('abcde')\n",
    "w = {100,'j',5,'hello'}\n",
    "print(z)\n",
    "print(w)  # The order is not preserved."
   ]
  },
  {
   "cell_type": "code",
   "execution_count": null,
   "metadata": {
    "colab": {
     "base_uri": "https://localhost:8080/"
    },
    "executionInfo": {
     "elapsed": 112,
     "status": "ok",
     "timestamp": 1735854990595,
     "user": {
      "displayName": "Jacqueline Gunther",
      "userId": "09898809932311330039"
     },
     "user_tz": 300
    },
    "id": "X_RdTkAjA30E",
    "outputId": "4d1e8fc0-77e7-4b64-c2af-e54d2e46043c"
   },
   "outputs": [
    {
     "data": {
      "text/plain": [
       "set()"
      ]
     },
     "execution_count": 28,
     "metadata": {},
     "output_type": "execute_result"
    }
   ],
   "source": [
    "# Make empty set\n",
    "empty_set = set()\n",
    "empty_set"
   ]
  },
  {
   "cell_type": "code",
   "execution_count": null,
   "metadata": {
    "colab": {
     "base_uri": "https://localhost:8080/"
    },
    "executionInfo": {
     "elapsed": 105,
     "status": "ok",
     "timestamp": 1735855062171,
     "user": {
      "displayName": "Jacqueline Gunther",
      "userId": "09898809932311330039"
     },
     "user_tz": 300
    },
    "id": "URsH7TLPBSPp",
    "outputId": "6284d425-8a0c-4a6d-a873-603f4f680b2b"
   },
   "outputs": [
    {
     "data": {
      "text/plain": [
       "{'a', 'b', 'w', 'y', 'z'}"
      ]
     },
     "execution_count": 29,
     "metadata": {},
     "output_type": "execute_result"
    }
   ],
   "source": [
    "not_empty_set = set(['a', 'b', 'a', 'z', 'y', 'w', 'z'])\n",
    "not_empty_set\n",
    "# The output drops duplicates and puts the letters in order."
   ]
  },
  {
   "cell_type": "code",
   "execution_count": null,
   "metadata": {
    "colab": {
     "base_uri": "https://localhost:8080/"
    },
    "executionInfo": {
     "elapsed": 154,
     "status": "ok",
     "timestamp": 1735855135883,
     "user": {
      "displayName": "Jacqueline Gunther",
      "userId": "09898809932311330039"
     },
     "user_tz": 300
    },
    "id": "PAsxkeplBjuT",
    "outputId": "0c806dda-a66b-474e-a91f-df9483d782df"
   },
   "outputs": [
    {
     "data": {
      "text/plain": [
       "{1, 4, 5, 6, 'H', 'e', 'l', 'o'}"
      ]
     },
     "execution_count": 30,
     "metadata": {},
     "output_type": "execute_result"
    }
   ],
   "source": [
    "# Star unpacking\n",
    "\n",
    "{1, *'Hello', *[4,5,6]}"
   ]
  },
  {
   "cell_type": "code",
   "execution_count": null,
   "metadata": {
    "id": "uVKR-o_OB1tR"
   },
   "outputs": [],
   "source": [
    "A = set('abcxyz')\n",
    "B = set('cdewxy')"
   ]
  },
  {
   "cell_type": "code",
   "execution_count": null,
   "metadata": {
    "colab": {
     "base_uri": "https://localhost:8080/"
    },
    "executionInfo": {
     "elapsed": 105,
     "status": "ok",
     "timestamp": 1735939064600,
     "user": {
      "displayName": "Jacqueline Gunther",
      "userId": "09898809932311330039"
     },
     "user_tz": 300
    },
    "id": "GZEp2T_TBOmG",
    "outputId": "a848c326-4be4-4e5a-f749-f8360cda2b86"
   },
   "outputs": [
    {
     "name": "stdout",
     "output_type": "stream",
     "text": [
      "{'b', 'z', 'a'}\n",
      "{'d', 'x', 'z', 'y', 'b', 'c', 'a', 'e', 'w'}\n",
      "{'y', 'c', 'x'}\n",
      "{'b', 'd', 'a', 'e', 'w', 'z'}\n",
      "False False False False\n"
     ]
    }
   ],
   "source": [
    "print(A-B)  # letters that are different; a and b exist in A not B\n",
    "            # and z exis in B not A\n",
    "print(A|B)  # all the letters (not repeated) in both sets\n",
    "print(A&B)  # all letters that are in common\n",
    "print(A^B)  # letters in A or B but not in both\n",
    "print(A<B,A>B,A<=B,A>=B)  # test for subset or superset; here all false"
   ]
  },
  {
   "cell_type": "code",
   "execution_count": null,
   "metadata": {
    "colab": {
     "base_uri": "https://localhost:8080/"
    },
    "executionInfo": {
     "elapsed": 244,
     "status": "ok",
     "timestamp": 1735939137490,
     "user": {
      "displayName": "Jacqueline Gunther",
      "userId": "09898809932311330039"
     },
     "user_tz": 300
    },
    "id": "0wkSXAMSBPh1",
    "outputId": "6e7128e7-ba65-4029-a2ae-186edb165ad5"
   },
   "outputs": [
    {
     "name": "stdout",
     "output_type": "stream",
     "text": [
      "True False\n"
     ]
    }
   ],
   "source": [
    "C = set([1,2,3])\n",
    "D = set([1,2,3,4,5])\n",
    "print(C<D,C>D)  # C is a subset of D (True); but D is not a subset of C (False)"
   ]
  },
  {
   "cell_type": "code",
   "execution_count": null,
   "metadata": {
    "colab": {
     "base_uri": "https://localhost:8080/"
    },
    "executionInfo": {
     "elapsed": 129,
     "status": "ok",
     "timestamp": 1735939488422,
     "user": {
      "displayName": "Jacqueline Gunther",
      "userId": "09898809932311330039"
     },
     "user_tz": 300
    },
    "id": "NSiFPUEwCJS_",
    "outputId": "eb0d8199-cb2a-4318-d48d-ffab8944a27e"
   },
   "outputs": [
    {
     "name": "stdout",
     "output_type": "stream",
     "text": [
      "True\n",
      "False\n",
      "True\n"
     ]
    }
   ],
   "source": [
    "print(3 in D)  # ask if an element exists in a given set\n",
    "print(3 not in D)  # ask if an element does not exist in a given set\n",
    "print('b' in A)    # works for strings too."
   ]
  },
  {
   "cell_type": "code",
   "execution_count": null,
   "metadata": {
    "colab": {
     "base_uri": "https://localhost:8080/"
    },
    "executionInfo": {
     "elapsed": 211,
     "status": "ok",
     "timestamp": 1735939653417,
     "user": {
      "displayName": "Jacqueline Gunther",
      "userId": "09898809932311330039"
     },
     "user_tz": 300
    },
    "id": "0VnS8CH9DZYE",
    "outputId": "8e2fb139-d966-4f29-b1af-029f4465d345"
   },
   "outputs": [
    {
     "name": "stdout",
     "output_type": "stream",
     "text": [
      "{'y', 'c', 'x'}\n",
      "{'y', 'Hello', 'c', 'x'}\n",
      "{'y', 'c', 100, 'x', 200, 'Hello'}\n"
     ]
    }
   ],
   "source": [
    "F = A.intersection(B)  # same as A&B\n",
    "print(F)\n",
    "\n",
    "F.add('Hello')         # Insert item\n",
    "print(F)\n",
    "\n",
    "F.update(set([100, 200]))  # merge sets\n",
    "print(F)\n",
    "\n",
    "F.remove('y')              # remove an item\n",
    "print(F)"
   ]
  },
  {
   "cell_type": "code",
   "execution_count": null,
   "metadata": {
    "colab": {
     "base_uri": "https://localhost:8080/"
    },
    "executionInfo": {
     "elapsed": 2,
     "status": "ok",
     "timestamp": 1736200576148,
     "user": {
      "displayName": "Jacqueline Gunther",
      "userId": "09898809932311330039"
     },
     "user_tz": 300
    },
    "id": "z3DXwaCtDmiu",
    "outputId": "73b83ddb-ce36-4a28-8e3c-bfe5b7ccf45c"
   },
   "outputs": [
    {
     "name": "stdout",
     "output_type": "stream",
     "text": [
      "4\n",
      "8\n",
      "12\n"
     ]
    }
   ],
   "source": [
    "## Sets are iterable so you can use them in for loops\n",
    "for num in set([1,2,3]):\n",
    "  print(num*4)"
   ]
  },
  {
   "cell_type": "code",
   "execution_count": null,
   "metadata": {
    "colab": {
     "base_uri": "https://localhost:8080/"
    },
    "executionInfo": {
     "elapsed": 77,
     "status": "ok",
     "timestamp": 1736458195147,
     "user": {
      "displayName": "Jacqueline Gunther",
      "userId": "09898809932311330039"
     },
     "user_tz": 300
    },
    "id": "UXaddVI3nhln",
    "outputId": "36b4e88d-e6ca-4868-91c1-24620969235a"
   },
   "outputs": [
    {
     "data": {
      "text/plain": [
       "{(1, 2, 3), 5}"
      ]
     },
     "execution_count": 10,
     "metadata": {},
     "output_type": "execute_result"
    }
   ],
   "source": [
    "S = {5}\n",
    "# S.add([1,2,3])  # Cannot do this because list is unhashable\n",
    "S.add((1,2,3))  # do this instead, but treates this as one unit (see result)\n",
    "S"
   ]
  },
  {
   "cell_type": "code",
   "execution_count": null,
   "metadata": {
    "colab": {
     "base_uri": "https://localhost:8080/"
    },
    "executionInfo": {
     "elapsed": 56,
     "status": "ok",
     "timestamp": 1736458264260,
     "user": {
      "displayName": "Jacqueline Gunther",
      "userId": "09898809932311330039"
     },
     "user_tz": 300
    },
    "id": "mkOMhkeNxVA2",
    "outputId": "5f34d0f5-8b0a-4405-fb27-cb16cfe0ddc2"
   },
   "outputs": [
    {
     "data": {
      "text/plain": [
       "{1, 2, 3, 5}"
      ]
     },
     "execution_count": 11,
     "metadata": {},
     "output_type": "execute_result"
    }
   ],
   "source": [
    "# To merge the sets use\n",
    "S = {5}\n",
    "S.update([1,2,3])\n",
    "S"
   ]
  },
  {
   "cell_type": "code",
   "execution_count": null,
   "metadata": {
    "colab": {
     "base_uri": "https://localhost:8080/"
    },
    "executionInfo": {
     "elapsed": 70,
     "status": "ok",
     "timestamp": 1736458475519,
     "user": {
      "displayName": "Jacqueline Gunther",
      "userId": "09898809932311330039"
     },
     "user_tz": 300
    },
    "id": "75PLrx6n-l4R",
    "outputId": "3b0cbb64-5251-4560-ca62-d72b00755091"
   },
   "outputs": [
    {
     "data": {
      "text/plain": [
       "{2, 4, 6, 8}"
      ]
     },
     "execution_count": 12,
     "metadata": {},
     "output_type": "execute_result"
    }
   ],
   "source": [
    "# Creating a set with a loop\n",
    "{x*2 for x in [1,2,3,4]}"
   ]
  },
  {
   "cell_type": "code",
   "execution_count": null,
   "metadata": {
    "id": "kOlxf3Qg_ZdG"
   },
   "outputs": [],
   "source": [
    "# Sets can be used to:\n",
    "# 1. remove duplicates (can change the order though)  set([1,1,3,4,4,5])\n",
    "# 2. find the differences of two strings or set of numbers  set([1,2,3,4]) - set([1,2,3,5])\n",
    "# 3. compare outputs set1 == set2"
   ]
  },
  {
   "cell_type": "code",
   "execution_count": null,
   "metadata": {
    "id": "UoV7ERdvAFbd"
   },
   "outputs": [],
   "source": []
  }
 ],
 "metadata": {
  "colab": {
   "authorship_tag": "ABX9TyP3yX5QAgnWsXJR8tws3HyU",
   "provenance": []
  },
  "kernelspec": {
   "display_name": "Python 3 (ipykernel)",
   "language": "python",
   "name": "python3"
  },
  "language_info": {
   "codemirror_mode": {
    "name": "ipython",
    "version": 3
   },
   "file_extension": ".py",
   "mimetype": "text/x-python",
   "name": "python",
   "nbconvert_exporter": "python",
   "pygments_lexer": "ipython3",
   "version": "3.10.15"
  }
 },
 "nbformat": 4,
 "nbformat_minor": 4
}
