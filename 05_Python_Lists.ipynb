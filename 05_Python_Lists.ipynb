{
 "cells": [
  {
   "cell_type": "markdown",
   "metadata": {
    "id": "Vntqk6bniQ7b"
   },
   "source": [
    "To start, click File --> Save Notebook As...\n",
    "\n",
    "Then you can have your own copy you can modify.\n"
   ]
  },
  {
   "cell_type": "markdown",
   "metadata": {
    "id": "o7VZOCcSRakC"
   },
   "source": [
    "Adapted from Chapter 8: Lists and Dictionaries of Lutz, Mark. *Learning Python*, 6th Edition, O'Reilly, 2025"
   ]
  },
  {
   "cell_type": "markdown",
   "metadata": {
    "id": "uvBzSO4niSUo"
   },
   "source": [
    "# Lists\n"
   ]
  },
  {
   "cell_type": "code",
   "execution_count": null,
   "metadata": {
    "colab": {
     "base_uri": "https://localhost:8080/"
    },
    "executionInfo": {
     "elapsed": 95,
     "status": "ok",
     "timestamp": 1739544077048,
     "user": {
      "displayName": "Jacqueline Gunther",
      "userId": "09898809932311330039"
     },
     "user_tz": 300
    },
    "id": "jb_xkh5RRYdn",
    "outputId": "0c2d9a34-38f3-4ac5-b2c8-aace3f0bde0e"
   },
   "outputs": [
    {
     "name": "stdout",
     "output_type": "stream",
     "text": [
      "[]\n",
      "[1, 2, 3]\n",
      "[1, 'A', True]\n",
      "[[1, 2, 3], ['A', 'B', 'C'], [True, False, True, False]]\n"
     ]
    }
   ],
   "source": [
    "L0 = []                         # empty list\n",
    "L1 = [1, 2, 3]                  # list\n",
    "L2 = [1, 'A', True]             # also a list with different object types\n",
    "L3  = [[1,2,3],\n",
    "       ['A','B','C'],\n",
    "       [True,False,True,False]] # this is also a list, a nested list\n",
    "print(L0)\n",
    "print(L1)\n",
    "print(L2)\n",
    "print(L3)"
   ]
  },
  {
   "cell_type": "code",
   "execution_count": null,
   "metadata": {
    "colab": {
     "base_uri": "https://localhost:8080/"
    },
    "executionInfo": {
     "elapsed": 52,
     "status": "ok",
     "timestamp": 1739544143639,
     "user": {
      "displayName": "Jacqueline Gunther",
      "userId": "09898809932311330039"
     },
     "user_tz": 300
    },
    "id": "FiF7Jw-BS9Uk",
    "outputId": "829dc4f0-bbc9-417d-c754-2f592e4059c3"
   },
   "outputs": [
    {
     "name": "stdout",
     "output_type": "stream",
     "text": [
      "[0, 1, 2, 3, 4, 5, 6, 7, 8, 9]\n"
     ]
    }
   ],
   "source": [
    "L4 = list(range(10))  # have a range of numbers in a list.\n",
    "print(L4)"
   ]
  },
  {
   "cell_type": "code",
   "execution_count": null,
   "metadata": {
    "colab": {
     "base_uri": "https://localhost:8080/"
    },
    "executionInfo": {
     "elapsed": 51,
     "status": "ok",
     "timestamp": 1739544152303,
     "user": {
      "displayName": "Jacqueline Gunther",
      "userId": "09898809932311330039"
     },
     "user_tz": 300
    },
    "id": "O7Rm7uVZ6SZ4",
    "outputId": "f576ba15-97f4-4083-fa90-ea85e828d893"
   },
   "outputs": [
    {
     "name": "stdout",
     "output_type": "stream",
     "text": [
      "['h', 'e', 'l', 'l', 'o']\n"
     ]
    }
   ],
   "source": [
    "L5 = list('hello')\n",
    "print(L5)"
   ]
  },
  {
   "cell_type": "code",
   "execution_count": null,
   "metadata": {
    "colab": {
     "base_uri": "https://localhost:8080/"
    },
    "executionInfo": {
     "elapsed": 53,
     "status": "ok",
     "timestamp": 1739544207856,
     "user": {
      "displayName": "Jacqueline Gunther",
      "userId": "09898809932311330039"
     },
     "user_tz": 300
    },
    "id": "iB0395RF6Uht",
    "outputId": "1bf80eb1-27b4-4303-8fd6-99f0eaf6fa85"
   },
   "outputs": [
    {
     "name": "stdout",
     "output_type": "stream",
     "text": [
      "[1, 2, 3, 1, 'A', True]\n"
     ]
    }
   ],
   "source": [
    "# Concatenate,\n",
    "L6 = L1 + L2\n",
    "print(L6)"
   ]
  },
  {
   "cell_type": "code",
   "execution_count": null,
   "metadata": {
    "colab": {
     "base_uri": "https://localhost:8080/"
    },
    "executionInfo": {
     "elapsed": 77,
     "status": "ok",
     "timestamp": 1739544275331,
     "user": {
      "displayName": "Jacqueline Gunther",
      "userId": "09898809932311330039"
     },
     "user_tz": 300
    },
    "id": "Bli7nPLY6iFc",
    "outputId": "03224daa-d45c-4a87-a60f-5dea88d064c9"
   },
   "outputs": [
    {
     "name": "stdout",
     "output_type": "stream",
     "text": [
      "[1, 'A', True, 1, 'A', True, 1, 'A', True]\n"
     ]
    }
   ],
   "source": [
    "# Repeat\n",
    "L7 = L2*3\n",
    "print(L7)"
   ]
  },
  {
   "cell_type": "code",
   "execution_count": null,
   "metadata": {
    "colab": {
     "base_uri": "https://localhost:8080/"
    },
    "executionInfo": {
     "elapsed": 9,
     "status": "ok",
     "timestamp": 1740088540402,
     "user": {
      "displayName": "Jacqueline Gunther",
      "userId": "09898809932311330039"
     },
     "user_tz": 300
    },
    "id": "LGe5BmqJW6eo",
    "outputId": "a21a0c9d-e9c9-4670-805c-32fc63d7b434"
   },
   "outputs": [
    {
     "name": "stdout",
     "output_type": "stream",
     "text": [
      "apple\n",
      "banana\n",
      "cherry\n"
     ]
    }
   ],
   "source": [
    "# Index\n",
    "L8 = ['apple', 'banana', 'cherry']\n",
    "print(L8[0])\n",
    "print(L8[1])\n",
    "print(L8[-1])"
   ]
  },
  {
   "cell_type": "code",
   "execution_count": null,
   "metadata": {
    "colab": {
     "base_uri": "https://localhost:8080/"
    },
    "executionInfo": {
     "elapsed": 18,
     "status": "ok",
     "timestamp": 1740088561196,
     "user": {
      "displayName": "Jacqueline Gunther",
      "userId": "09898809932311330039"
     },
     "user_tz": 300
    },
    "id": "ScYLVPbAXA9p",
    "outputId": "a8280e31-2617-46cb-8e81-ca4464ec8e00"
   },
   "outputs": [
    {
     "name": "stdout",
     "output_type": "stream",
     "text": [
      "[1, 2, 3]\n",
      "2\n",
      "9\n"
     ]
    }
   ],
   "source": [
    "# Matrix\n",
    "matrix = [[1,2,3],\n",
    "          [4,5,6],\n",
    "          [7,8,9]]\n",
    "print(matrix[0])\n",
    "print(matrix[0][1])\n",
    "print(matrix[2][2])"
   ]
  },
  {
   "cell_type": "code",
   "execution_count": null,
   "metadata": {
    "colab": {
     "base_uri": "https://localhost:8080/"
    },
    "executionInfo": {
     "elapsed": 275,
     "status": "ok",
     "timestamp": 1739570322297,
     "user": {
      "displayName": "Jacqueline Gunther",
      "userId": "09898809932311330039"
     },
     "user_tz": 300
    },
    "id": "Ufyyb712Yfw8",
    "outputId": "7d7cecc6-fc44-4ae7-ae42-2252082ac993"
   },
   "outputs": [
    {
     "name": "stdout",
     "output_type": "stream",
     "text": [
      "['Hello', 'Mars!']\n"
     ]
    }
   ],
   "source": [
    "# Changing items in lists\n",
    "\n",
    "greeting = ['Hello', 'World!']\n",
    "greeting[1] = 'Mars!'\n",
    "print(greeting)"
   ]
  },
  {
   "cell_type": "code",
   "execution_count": null,
   "metadata": {
    "colab": {
     "base_uri": "https://localhost:8080/"
    },
    "executionInfo": {
     "elapsed": 198,
     "status": "ok",
     "timestamp": 1739568986918,
     "user": {
      "displayName": "Jacqueline Gunther",
      "userId": "09898809932311330039"
     },
     "user_tz": 300
    },
    "id": "zTKhX0de6tvl",
    "outputId": "0ede1016-ffa0-4e1f-b336-f18c8aa29974"
   },
   "outputs": [
    {
     "name": "stdout",
     "output_type": "stream",
     "text": [
      "True\n",
      "False\n"
     ]
    }
   ],
   "source": [
    "# compare lists\n",
    "Num1 = [1,2,3,4]\n",
    "Num2 = [5,6,7,8]\n",
    "print(Num1 < Num2)\n",
    "print(Num1 == Num2)"
   ]
  },
  {
   "cell_type": "code",
   "execution_count": null,
   "metadata": {
    "colab": {
     "base_uri": "https://localhost:8080/"
    },
    "executionInfo": {
     "elapsed": 600,
     "status": "ok",
     "timestamp": 1739569026266,
     "user": {
      "displayName": "Jacqueline Gunther",
      "userId": "09898809932311330039"
     },
     "user_tz": 300
    },
    "id": "7s6mP9OR6zxg",
    "outputId": "cfa0d52f-3a84-4d28-dc31-2a6a2ef303e5"
   },
   "outputs": [
    {
     "data": {
      "text/plain": [
       "True"
      ]
     },
     "execution_count": 8,
     "metadata": {},
     "output_type": "execute_result"
    }
   ],
   "source": [
    "3 in Num1 # Is the number 3 in list Num1"
   ]
  },
  {
   "cell_type": "code",
   "execution_count": null,
   "metadata": {
    "colab": {
     "base_uri": "https://localhost:8080/"
    },
    "executionInfo": {
     "elapsed": 557,
     "status": "ok",
     "timestamp": 1739569044990,
     "user": {
      "displayName": "Jacqueline Gunther",
      "userId": "09898809932311330039"
     },
     "user_tz": 300
    },
    "id": "IjJT7lgHZI0l",
    "outputId": "f2059f10-2268-44a3-c29c-3e60e32b7f7a"
   },
   "outputs": [
    {
     "name": "stdout",
     "output_type": "stream",
     "text": [
      "1\n",
      "2\n",
      "3\n",
      "4\n"
     ]
    }
   ],
   "source": [
    "# Iterate a list\n",
    "for i in Num1:\n",
    "  print(i)"
   ]
  },
  {
   "cell_type": "code",
   "execution_count": null,
   "metadata": {
    "colab": {
     "base_uri": "https://localhost:8080/"
    },
    "executionInfo": {
     "elapsed": 552,
     "status": "ok",
     "timestamp": 1739569966048,
     "user": {
      "displayName": "Jacqueline Gunther",
      "userId": "09898809932311330039"
     },
     "user_tz": 300
    },
    "id": "kAnIa-D-ZRsC",
    "outputId": "5535817c-7b2b-44c2-e33c-20028591e626"
   },
   "outputs": [
    {
     "name": "stdout",
     "output_type": "stream",
     "text": [
      "[1, 2, 3]\n",
      "[1, 2, 3, 4, 5]\n",
      "[1, 2, 3, 'a', 4, 5]\n"
     ]
    }
   ],
   "source": [
    "# Append a list\n",
    "Num3 = [1,2]\n",
    "Num3.append(3)\n",
    "print(Num3)\n",
    "Num3.extend([4,5]) # extend list more than 1 entry\n",
    "print(Num3)\n",
    "Num3.insert(3,'a') # insert in a specific spot\n",
    "print(Num3)"
   ]
  },
  {
   "cell_type": "code",
   "execution_count": null,
   "metadata": {
    "colab": {
     "base_uri": "https://localhost:8080/"
    },
    "executionInfo": {
     "elapsed": 579,
     "status": "ok",
     "timestamp": 1739570130050,
     "user": {
      "displayName": "Jacqueline Gunther",
      "userId": "09898809932311330039"
     },
     "user_tz": 300
    },
    "id": "uV76tDVoZZe5",
    "outputId": "a8bf0652-3a51-4615-cf14-232c4c8b5641"
   },
   "outputs": [
    {
     "name": "stdout",
     "output_type": "stream",
     "text": [
      "3\n",
      "0\n",
      "2\n"
     ]
    }
   ],
   "source": [
    "# Search\n",
    "Alph_Num = [1, 2, 3, 'a', 4, 5,'a']\n",
    "print(Alph_Num.index('a'))             # Tells you the location of an item\n",
    "print(Alph_Num.index(1))\n",
    "print(Alph_Num.count('a'))             # Tells you how many times an item appears"
   ]
  },
  {
   "cell_type": "code",
   "execution_count": null,
   "metadata": {
    "colab": {
     "base_uri": "https://localhost:8080/"
    },
    "executionInfo": {
     "elapsed": 10,
     "status": "ok",
     "timestamp": 1740087420774,
     "user": {
      "displayName": "Jacqueline Gunther",
      "userId": "09898809932311330039"
     },
     "user_tz": 300
    },
    "id": "pKwktA9OR3mc",
    "outputId": "de528ed4-0a12-49a5-980f-959a76d14e34"
   },
   "outputs": [
    {
     "name": "stdout",
     "output_type": "stream",
     "text": [
      "['e', 'x', 'c', 'j', 'a']\n",
      "['a', 'c', 'e', 'j', 'x']\n",
      "['a', 'c', 'e', 'j', 'x']\n",
      "[]\n",
      "[]\n",
      "['a', 'c', 'e', 'j', 'x']\n"
     ]
    }
   ],
   "source": [
    "# Reverse, Sort, Copy, & Clear\n",
    "letters = ['a','j','c','x','e']\n",
    "letters.reverse()              # reverse the order of the list\n",
    "print(letters)\n",
    "letters.sort()                 # sort the items in order (needs to be same object type)\n",
    "print(letters)\n",
    "letters_copy = letters.copy()  # Copies a list otherwise the new variable will still be connected to the orginal.\n",
    "letters_again = letters        # not copied, connected to letters\n",
    "\n",
    "\n",
    "letters.clear()                # clear the list, will give an empty list []\n",
    "print(letters)                 # it is clearned output is []\n",
    "print(letters_again)           # also cleared\n",
    "print(letters_copy)            # not cleared, the copy remains\n",
    "\n"
   ]
  },
  {
   "cell_type": "code",
   "execution_count": null,
   "metadata": {
    "colab": {
     "base_uri": "https://localhost:8080/"
    },
    "executionInfo": {
     "elapsed": 4,
     "status": "ok",
     "timestamp": 1740147972191,
     "user": {
      "displayName": "Jacqueline Gunther",
      "userId": "09898809932311330039"
     },
     "user_tz": 300
    },
    "id": "RjxhYxGNXTdA",
    "outputId": "adae9038-d281-4bbe-f60d-3ea37fdfc07e"
   },
   "outputs": [
    {
     "name": "stdout",
     "output_type": "stream",
     "text": [
      "['apple', 'banana', 'orange', 'pear']\n",
      "['pear', 'orange', 'banana', 'apple']\n",
      "['pear', 'apple', 'banana', 'orange']\n",
      "['apple', 'pear', 'banana', 'orange']\n"
     ]
    }
   ],
   "source": [
    "# More about sorting\n",
    "\n",
    "fruit = ['apple','pear','banana','orange']\n",
    "\n",
    "print(sorted(fruit))\n",
    "print(sorted(fruit, reverse=True))  #gives the reverse sorting\n",
    "print(sorted(fruit, key=len))       # sorts by length of item\n",
    "print(fruit)                        # The original list remains."
   ]
  },
  {
   "cell_type": "code",
   "execution_count": null,
   "metadata": {
    "colab": {
     "base_uri": "https://localhost:8080/"
    },
    "executionInfo": {
     "elapsed": 10,
     "status": "ok",
     "timestamp": 1740148008260,
     "user": {
      "displayName": "Jacqueline Gunther",
      "userId": "09898809932311330039"
     },
     "user_tz": 300
    },
    "id": "eoO7yjT55ztX",
    "outputId": "9f2a5080-36b2-402b-8bdf-baee1cdb3c31"
   },
   "outputs": [
    {
     "name": "stdout",
     "output_type": "stream",
     "text": [
      "['apple', 'banana', 'orange', 'pear']\n"
     ]
    }
   ],
   "source": [
    "# Using .sort() changes the lists.\n",
    "fruit = ['apple','pear','banana','orange']\n",
    "fruit.sort()\n",
    "print(fruit)"
   ]
  },
  {
   "cell_type": "code",
   "execution_count": null,
   "metadata": {
    "colab": {
     "base_uri": "https://localhost:8080/"
    },
    "executionInfo": {
     "elapsed": 572,
     "status": "ok",
     "timestamp": 1739570183011,
     "user": {
      "displayName": "Jacqueline Gunther",
      "userId": "09898809932311330039"
     },
     "user_tz": 300
    },
    "id": "VeGi8lBLdD0c",
    "outputId": "7d6b9618-8c1d-4a4f-8a55-69ea643639da"
   },
   "outputs": [
    {
     "name": "stdout",
     "output_type": "stream",
     "text": [
      "[1, 2, 3, 4, 5, 'a']\n",
      "1\n",
      "[2, 3, 4, 5, 'a']\n"
     ]
    }
   ],
   "source": [
    "# Shrink\n",
    "Alph_Num = [1, 2, 3, 'a', 4, 5,'a']\n",
    "Alph_Num.remove('a')   # remove 'a'; Note: only removes first one.\n",
    "print(Alph_Num)\n",
    "print(Alph_Num.pop(0)) # remove a specific index\n",
    "print(Alph_Num)"
   ]
  },
  {
   "cell_type": "code",
   "execution_count": null,
   "metadata": {
    "colab": {
     "base_uri": "https://localhost:8080/"
    },
    "executionInfo": {
     "elapsed": 3,
     "status": "ok",
     "timestamp": 1740088009669,
     "user": {
      "displayName": "Jacqueline Gunther",
      "userId": "09898809932311330039"
     },
     "user_tz": 300
    },
    "id": "mKSV-aETdhr5",
    "outputId": "f574a10f-7850-4d68-8a2a-7fd7911f3f21"
   },
   "outputs": [
    {
     "name": "stdout",
     "output_type": "stream",
     "text": [
      "[2, 3, 'a', 4, 5, 'a']\n",
      "[2, 4, 5, 'a']\n",
      "[5, 'a']\n"
     ]
    }
   ],
   "source": [
    "# More deleting\n",
    "Alph_Num = [1, 2, 3, 'a', 4, 5,'a']\n",
    "del Alph_Num[0]\n",
    "print(Alph_Num)\n",
    "del Alph_Num[1:3]\n",
    "print(Alph_Num)\n",
    "Alph_Num[0:2] =[]\n",
    "print(Alph_Num)"
   ]
  },
  {
   "cell_type": "code",
   "execution_count": null,
   "metadata": {
    "colab": {
     "base_uri": "https://localhost:8080/"
    },
    "executionInfo": {
     "elapsed": 7,
     "status": "ok",
     "timestamp": 1740088120142,
     "user": {
      "displayName": "Jacqueline Gunther",
      "userId": "09898809932311330039"
     },
     "user_tz": 300
    },
    "id": "dUjR0zaqTXwn",
    "outputId": "5db4d7f7-110e-4c3e-ff5c-66e0f2090cb5"
   },
   "outputs": [
    {
     "name": "stdout",
     "output_type": "stream",
     "text": [
      "[1, 2, 3, 50, 5, 6, 7]\n",
      "[1, 2, 3, 50, 10, 100, 1000]\n"
     ]
    }
   ],
   "source": [
    "# Unlike Strings you can change an element\n",
    "numbers = [1,2,3,4,5,6,7]\n",
    "numbers[3] = 50\n",
    "print(numbers)\n",
    "\n",
    "numbers[4:8] =[10, 100, 1000]\n",
    "print(numbers)"
   ]
  },
  {
   "cell_type": "code",
   "execution_count": null,
   "metadata": {
    "colab": {
     "base_uri": "https://localhost:8080/"
    },
    "executionInfo": {
     "elapsed": 4,
     "status": "ok",
     "timestamp": 1740148882249,
     "user": {
      "displayName": "Jacqueline Gunther",
      "userId": "09898809932311330039"
     },
     "user_tz": 300
    },
    "id": "XpMEiUWK4xf9",
    "outputId": "a0ccecc5-0939-43b5-a481-2cee27d98a9c"
   },
   "outputs": [
    {
     "data": {
      "text/plain": [
       "['hhhh', 'eeee', 'llll', 'llll', 'oooo']"
      ]
     },
     "execution_count": 11,
     "metadata": {},
     "output_type": "execute_result"
    }
   ],
   "source": [
    "# Comprehension\n",
    "mult = [ii*4 for ii in 'hello']\n",
    "mult"
   ]
  },
  {
   "cell_type": "code",
   "execution_count": null,
   "metadata": {
    "colab": {
     "base_uri": "https://localhost:8080/"
    },
    "executionInfo": {
     "elapsed": 13,
     "status": "ok",
     "timestamp": 1740148954522,
     "user": {
      "displayName": "Jacqueline Gunther",
      "userId": "09898809932311330039"
     },
     "user_tz": 300
    },
    "id": "ev9uNmnv9Lrb",
    "outputId": "7d717028-3560-4301-c42f-9aa194c1f536"
   },
   "outputs": [
    {
     "data": {
      "text/plain": [
       "['hhhh', 'eeee', 'llll', 'llll', 'oooo']"
      ]
     },
     "execution_count": 12,
     "metadata": {},
     "output_type": "execute_result"
    }
   ],
   "source": [
    "# Loop\n",
    "mult2 = []\n",
    "for ii in 'hello':\n",
    "  mult2.append(ii*4)\n",
    "mult2"
   ]
  }
 ],
 "metadata": {
  "colab": {
   "authorship_tag": "ABX9TyNafUGihMQ2A8uFNS0ye7zF",
   "provenance": []
  },
  "kernelspec": {
   "display_name": "Python 3 (ipykernel)",
   "language": "python",
   "name": "python3"
  },
  "language_info": {
   "codemirror_mode": {
    "name": "ipython",
    "version": 3
   },
   "file_extension": ".py",
   "mimetype": "text/x-python",
   "name": "python",
   "nbconvert_exporter": "python",
   "pygments_lexer": "ipython3",
   "version": "3.10.15"
  }
 },
 "nbformat": 4,
 "nbformat_minor": 4
}
