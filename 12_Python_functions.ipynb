{
 "cells": [
  {
   "cell_type": "markdown",
   "metadata": {
    "id": "Vntqk6bniQ7b"
   },
   "source": [
    "To start, click File --> Save Notebook As...\n",
    "\n",
    "Then you can have your own copy you can modify.\n"
   ]
  },
  {
   "cell_type": "markdown",
   "metadata": {
    "id": "o7VZOCcSRakC"
   },
   "source": [
    "Reference:\n",
    "\n",
    "Chapters 16: \"Function Basics\", Lutz, Mark. *Learning Python*, 6th Edition, O'Reilly, 2025"
   ]
  },
  {
   "cell_type": "markdown",
   "metadata": {
    "id": "8r2gCH7XLaOX"
   },
   "source": [
    "# Functions"
   ]
  },
  {
   "cell_type": "code",
   "execution_count": null,
   "metadata": {
    "id": "UWg1v_MI_8VH"
   },
   "outputs": [],
   "source": [
    "# functions follow a specific format\n",
    "\n",
    "def add_two(number):      # Define a function: Here the name of the function is add_two.\n",
    "                          # In the parenthesis is an object you can pass into the function\n",
    "\n",
    "  plus_two = number + 2   # Here the function is happening.  This is a simple case where we are justing adding two to whatever number is inputted.\n",
    "  return plus_two         # return outputs the object you want\n"
   ]
  },
  {
   "cell_type": "code",
   "execution_count": null,
   "metadata": {
    "colab": {
     "base_uri": "https://localhost:8080/"
    },
    "executionInfo": {
     "elapsed": 3,
     "status": "ok",
     "timestamp": 1744317991156,
     "user": {
      "displayName": "Gunther",
      "userId": "09898809932311330039"
     },
     "user_tz": 240
    },
    "id": "P3ubMo6ZdDAw",
    "outputId": "f8549b48-4403-4cb3-9152-e6c860e24eff"
   },
   "outputs": [
    {
     "data": {
      "text/plain": [
       "7"
      ]
     },
     "execution_count": 2,
     "metadata": {},
     "output_type": "execute_result"
    }
   ],
   "source": [
    "add_two(5)  # Now lets try it out.  Putting in 5 should return 5+2 or 7"
   ]
  },
  {
   "cell_type": "code",
   "execution_count": null,
   "metadata": {
    "colab": {
     "base_uri": "https://localhost:8080/"
    },
    "executionInfo": {
     "elapsed": 2,
     "status": "ok",
     "timestamp": 1744318109341,
     "user": {
      "displayName": "Gunther",
      "userId": "09898809932311330039"
     },
     "user_tz": 240
    },
    "id": "XomEpeLUdEHw",
    "outputId": "288ac623-e505-4c60-ad75-7ccb925296a5"
   },
   "outputs": [
    {
     "data": {
      "text/plain": [
       "12.5"
      ]
     },
     "execution_count": 6,
     "metadata": {},
     "output_type": "execute_result"
    }
   ],
   "source": [
    "x = 10.5\n",
    "add_two(x)"
   ]
  },
  {
   "cell_type": "code",
   "execution_count": null,
   "metadata": {
    "id": "jmmCK9pmdNnC"
   },
   "outputs": [],
   "source": [
    "# add_two(\"hello \")\n",
    "\n",
    "# This will give an error since the function is adding an integer to another object so it needs to be either an integer or float."
   ]
  },
  {
   "cell_type": "code",
   "execution_count": null,
   "metadata": {
    "colab": {
     "base_uri": "https://localhost:8080/"
    },
    "executionInfo": {
     "elapsed": 4,
     "status": "ok",
     "timestamp": 1744394989276,
     "user": {
      "displayName": "Gunther",
      "userId": "09898809932311330039"
     },
     "user_tz": 240
    },
    "id": "3mNlNW6cdRIZ",
    "outputId": "5be901b4-aa0d-4fc0-83de-6bf9add890e6"
   },
   "outputs": [
    {
     "name": "stdout",
     "output_type": "stream",
     "text": [
      "10\n",
      "11\n",
      "14\n",
      "19\n",
      "26\n",
      "35\n",
      "46\n",
      "59\n",
      "74\n",
      "91\n"
     ]
    }
   ],
   "source": [
    "# functions are very useful to reduce the amount of code that needs to be written.\n",
    "# Also, functions can be used several times for various purposes.\n",
    "\n",
    "def square_add_3(number):\n",
    "  return number * number+3\n",
    "\n",
    "\n",
    "num = 2\n",
    "for i in range(10):\n",
    "  print(square_add_3(i)+square_add_3(num))\n",
    "\n",
    "## instead of:\n",
    "# num = 2\n",
    "# for i in range(10):\n",
    "#   print((i**2+3)+(num**2+3))  # All those parentheses can get confusing."
   ]
  },
  {
   "cell_type": "code",
   "execution_count": null,
   "metadata": {
    "colab": {
     "base_uri": "https://localhost:8080/"
    },
    "executionInfo": {
     "elapsed": 3,
     "status": "ok",
     "timestamp": 1744395120326,
     "user": {
      "displayName": "Gunther",
      "userId": "09898809932311330039"
     },
     "user_tz": 240
    },
    "id": "ijWr8qdOd7jp",
    "outputId": "978f25e8-a808-4b90-a079-6c05048016f7"
   },
   "outputs": [
    {
     "name": "stdout",
     "output_type": "stream",
     "text": [
      "hello\n"
     ]
    }
   ],
   "source": [
    "# The function does not need an input\n",
    "\n",
    "def print_hello():\n",
    "  print(\"hello\")\n",
    "\n",
    "print_hello()"
   ]
  },
  {
   "cell_type": "markdown",
   "metadata": {
    "id": "DJetFSgcEsnR"
   },
   "source": [
    "## Lambda functions"
   ]
  },
  {
   "cell_type": "code",
   "execution_count": null,
   "metadata": {
    "colab": {
     "base_uri": "https://localhost:8080/"
    },
    "executionInfo": {
     "elapsed": 4,
     "status": "ok",
     "timestamp": 1744395525451,
     "user": {
      "displayName": "Gunther",
      "userId": "09898809932311330039"
     },
     "user_tz": 240
    },
    "id": "Q1KZD_BTEvVc",
    "outputId": "4b2823a1-8dce-4567-b6df-2fb34f03a91e"
   },
   "outputs": [
    {
     "data": {
      "text/plain": [
       "7"
      ]
     },
     "execution_count": 6,
     "metadata": {},
     "output_type": "execute_result"
    }
   ],
   "source": [
    "# Another way to define a function is with lambda\n",
    "\n",
    "add_two = lambda x: x+2\n",
    "\n",
    "add_two(5)"
   ]
  },
  {
   "cell_type": "code",
   "execution_count": null,
   "metadata": {
    "colab": {
     "base_uri": "https://localhost:8080/"
    },
    "executionInfo": {
     "elapsed": 3,
     "status": "ok",
     "timestamp": 1744395933715,
     "user": {
      "displayName": "Gunther",
      "userId": "09898809932311330039"
     },
     "user_tz": 240
    },
    "id": "aKEf_iliE1z6",
    "outputId": "11f8a44a-7081-4083-dfae-3d83a2f28e57"
   },
   "outputs": [
    {
     "name": "stdout",
     "output_type": "stream",
     "text": [
      "['Alice', 'Charlie', 'bob']\n",
      "['Alice', 'bob', 'Charlie']\n"
     ]
    }
   ],
   "source": [
    "# however one advantage is that you don't have name them and they can work in another object.\n",
    "\n",
    "# Example with sorted\n",
    "names = ['Charlie','Alice', 'bob']\n",
    "print(sorted(names))\n",
    "\n",
    "sorted_names = sorted(names, key=lambda x: x.lower())  # the function in key makes them all lower case, otherwise they would place capitalized words first. See first output.\n",
    "print(sorted_names)\n",
    "\n"
   ]
  },
  {
   "cell_type": "code",
   "execution_count": null,
   "metadata": {
    "colab": {
     "base_uri": "https://localhost:8080/"
    },
    "executionInfo": {
     "elapsed": 3,
     "status": "ok",
     "timestamp": 1744395804844,
     "user": {
      "displayName": "Gunther",
      "userId": "09898809932311330039"
     },
     "user_tz": 240
    },
    "id": "-8VB1ooSFqK6",
    "outputId": "dc3252d6-558e-49be-e502-2c0e8af60e7c"
   },
   "outputs": [
    {
     "data": {
      "text/plain": [
       "[4, 3, 2, 1]"
      ]
     },
     "execution_count": 10,
     "metadata": {},
     "output_type": "execute_result"
    }
   ],
   "source": [
    "nums = [3, 4, 2, 1]\n",
    "sorted(nums, key=lambda x: -x)  # the key makes the numbers negative before sorting them, but then outputs the original numbers."
   ]
  },
  {
   "cell_type": "code",
   "execution_count": null,
   "metadata": {
    "id": "BoRYyzGaF6Bv"
   },
   "outputs": [],
   "source": [
    "# Lambda is better for short concise functions.  For more complex functions, use def."
   ]
  },
  {
   "cell_type": "markdown",
   "metadata": {
    "id": "SYdH13C0LdP0"
   },
   "source": [
    "# Creating and saving functions to import"
   ]
  },
  {
   "cell_type": "code",
   "execution_count": null,
   "metadata": {
    "colab": {
     "base_uri": "https://localhost:8080/"
    },
    "executionInfo": {
     "elapsed": 13,
     "status": "ok",
     "timestamp": 1744397578065,
     "user": {
      "displayName": "Gunther",
      "userId": "09898809932311330039"
     },
     "user_tz": 240
    },
    "id": "P9S_U13THVy9",
    "outputId": "a5c3c8b6-7805-4977-995b-5282eddc281a"
   },
   "outputs": [
    {
     "name": "stdout",
     "output_type": "stream",
     "text": [
      "Function written to greetings.py\n"
     ]
    }
   ],
   "source": [
    "## Let's create a .py file first.  This will be saved into your working directory.\n",
    "\n",
    "# This script will create a new Python file and write a function to it\n",
    "\n",
    "function_code = \"\"\"\n",
    "def greet(name):\n",
    "    \\\"\\\"\\\"Returns a greeting message for the given name.\\\"\\\"\\\"\n",
    "    return f\"Hello, {name}!\"\n",
    "\"\"\"\n",
    "\n",
    "# Write the function to a file\n",
    "with open(\"greetings.py\", \"w\") as file:\n",
    "    file.write(function_code)\n",
    "\n",
    "print(\"Function written to greetings.py\")\n"
   ]
  },
  {
   "cell_type": "code",
   "execution_count": null,
   "metadata": {
    "id": "D1BFvzIdMq8E"
   },
   "outputs": [],
   "source": [
    "# Now there should be a file called greetings.py\n",
    "# Open it up and check it out!  there is a function defined in it.\n",
    "# We can call the function by importing it.\n",
    "\n",
    "import greetings"
   ]
  },
  {
   "cell_type": "code",
   "execution_count": null,
   "metadata": {
    "colab": {
     "base_uri": "https://localhost:8080/",
     "height": 35
    },
    "executionInfo": {
     "elapsed": 3,
     "status": "ok",
     "timestamp": 1744397679941,
     "user": {
      "displayName": "Gunther",
      "userId": "09898809932311330039"
     },
     "user_tz": 240
    },
    "id": "49MWK4bAM5iQ",
    "outputId": "8816719b-1c5d-4369-f2b3-26dcf8d65130"
   },
   "outputs": [
    {
     "data": {
      "application/vnd.google.colaboratory.intrinsic+json": {
       "type": "string"
      },
      "text/plain": [
       "'Hello, Kitty!'"
      ]
     },
     "execution_count": 18,
     "metadata": {},
     "output_type": "execute_result"
    }
   ],
   "source": [
    "# Now we can use the function inside.\n",
    "\n",
    "greetings.greet(\"Kitty\")"
   ]
  },
  {
   "cell_type": "code",
   "execution_count": null,
   "metadata": {
    "colab": {
     "base_uri": "https://localhost:8080/",
     "height": 35
    },
    "executionInfo": {
     "elapsed": 5,
     "status": "ok",
     "timestamp": 1744397711319,
     "user": {
      "displayName": "Gunther",
      "userId": "09898809932311330039"
     },
     "user_tz": 240
    },
    "id": "HU5Bi9yeNBNO",
    "outputId": "8e12a12c-21a0-496f-fb0e-d25af97ce354"
   },
   "outputs": [
    {
     "data": {
      "application/vnd.google.colaboratory.intrinsic+json": {
       "type": "string"
      },
      "text/plain": [
       "'Hello, Kitty!'"
      ]
     },
     "execution_count": 19,
     "metadata": {},
     "output_type": "execute_result"
    }
   ],
   "source": [
    "# We can also import just the function\n",
    "from greetings import greet\n",
    "\n",
    "greet(\"Kitty\")  # Now you don't have to use greetings.greet"
   ]
  },
  {
   "cell_type": "code",
   "execution_count": null,
   "metadata": {
    "colab": {
     "base_uri": "https://localhost:8080/",
     "height": 35
    },
    "executionInfo": {
     "elapsed": 10,
     "status": "ok",
     "timestamp": 1744397797107,
     "user": {
      "displayName": "Gunther",
      "userId": "09898809932311330039"
     },
     "user_tz": 240
    },
    "id": "orW-2JXqNaU5",
    "outputId": "9228f81a-2da3-45e1-bd7e-08c2de88a6df"
   },
   "outputs": [
    {
     "data": {
      "application/vnd.google.colaboratory.intrinsic+json": {
       "type": "string"
      },
      "text/plain": [
       "'Hello, Kitty!'"
      ]
     },
     "execution_count": 20,
     "metadata": {},
     "output_type": "execute_result"
    }
   ],
   "source": [
    "# You can also import the .py by a different name to make typing easier.\n",
    "import greetings as g\n",
    "\n",
    "g.greet(\"Kitty\")"
   ]
  },
  {
   "cell_type": "code",
   "execution_count": null,
   "metadata": {
    "id": "BLvMBxkCNLea"
   },
   "outputs": [],
   "source": [
    "# Note the .py file can contain many functions if you so desire.  You can then call them once you import the .py file."
   ]
  }
 ],
 "metadata": {
  "colab": {
   "authorship_tag": "ABX9TyMra5Jn4p5EEJUEpZawRxRk",
   "provenance": []
  },
  "kernelspec": {
   "display_name": "Python 3 (ipykernel)",
   "language": "python",
   "name": "python3"
  },
  "language_info": {
   "codemirror_mode": {
    "name": "ipython",
    "version": 3
   },
   "file_extension": ".py",
   "mimetype": "text/x-python",
   "name": "python",
   "nbconvert_exporter": "python",
   "pygments_lexer": "ipython3",
   "version": "3.10.15"
  }
 },
 "nbformat": 4,
 "nbformat_minor": 4
}
