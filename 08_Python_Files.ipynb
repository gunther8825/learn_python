{
 "cells": [
  {
   "cell_type": "markdown",
   "metadata": {
    "id": "Vntqk6bniQ7b"
   },
   "source": [
    "To start, click File --> Save Notebook As...\n",
    "\n",
    "Then you can have your own copy you can modify.\n"
   ]
  },
  {
   "cell_type": "markdown",
   "metadata": {
    "id": "o7VZOCcSRakC"
   },
   "source": [
    "Adapted from Chapter 9: Tuples, Files, and Everything Else of Lutz, Mark. *Learning Python*, 6th Edition, O'Reilly, 2025"
   ]
  },
  {
   "cell_type": "markdown",
   "metadata": {
    "id": "uvBzSO4niSUo"
   },
   "source": [
    "# Files"
   ]
  },
  {
   "cell_type": "code",
   "execution_count": null,
   "metadata": {
    "colab": {
     "base_uri": "https://localhost:8080/",
     "height": 35
    },
    "executionInfo": {
     "elapsed": 22,
     "status": "ok",
     "timestamp": 1741121069383,
     "user": {
      "displayName": "Gunther",
      "userId": "09898809932311330039"
     },
     "user_tz": 300
    },
    "id": "ioGyMYgwEaDA",
    "outputId": "ee2ff47e-044d-47ee-889e-590d8ac21da1"
   },
   "outputs": [
    {
     "data": {
      "application/vnd.google.colaboratory.intrinsic+json": {
       "type": "string"
      },
      "text/plain": [
       "'/content'"
      ]
     },
     "execution_count": 1,
     "metadata": {},
     "output_type": "execute_result"
    }
   ],
   "source": [
    "# First understand what directory you are in\n",
    "import os\n",
    "os.getcwd()  # The output is where the files will be saved.  You can change the path place it somewhere else"
   ]
  },
  {
   "cell_type": "code",
   "execution_count": null,
   "metadata": {
    "id": "9XNDZIINFk7P"
   },
   "outputs": [],
   "source": [
    "myfile = open('myfile.txt', 'w')    # Open file with 'w' which is to write the document\n",
    "myfile.write('Hello World!')        # Write something in the file.\n",
    "myfile.close()                      # Always close the document!!"
   ]
  },
  {
   "cell_type": "code",
   "execution_count": null,
   "metadata": {
    "id": "KVWCbGyRGdLX"
   },
   "outputs": [],
   "source": [
    "import os\n",
    "\n",
    "os.mkdir(\"my_documents\")  # create a new folder\n"
   ]
  },
  {
   "cell_type": "code",
   "execution_count": null,
   "metadata": {
    "id": "wW5HqB9iHK6M"
   },
   "outputs": [],
   "source": [
    "myfile = open('my_documents/myfile2.txt', 'w')    # Open file with 'w' which is to write the document.  This will be put into the my_documents folder\n",
    "myfile.write('Hello Mars!')        # Write something in the file.\n",
    "myfile.close()"
   ]
  },
  {
   "cell_type": "code",
   "execution_count": null,
   "metadata": {
    "id": "MFER_sahHZZ_"
   },
   "outputs": [],
   "source": [
    "## If you are in colab, click on the file icon to the left.  You should see this:"
   ]
  },
  {
   "cell_type": "markdown",
   "metadata": {
    "id": "7B2FBhG0PP7k"
   },
   "source": [
    "![image.png](data:image/png;base64,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)"
   ]
  },
  {
   "cell_type": "code",
   "execution_count": null,
   "metadata": {
    "id": "ItcycqL5PZxd"
   },
   "outputs": [],
   "source": [
    "# myfile.txt is in the main folder\n",
    "# myfile2.txt is in the my_documents folder\n",
    "# files can be called or saved in the current working directory (CWD) without a full path.\n",
    "# You can make paths relative to the CWD by including the folder name or going up a director from the CWD by using \"../\"\""
   ]
  },
  {
   "cell_type": "code",
   "execution_count": null,
   "metadata": {
    "colab": {
     "base_uri": "https://localhost:8080/"
    },
    "executionInfo": {
     "elapsed": 5,
     "status": "ok",
     "timestamp": 1741121069489,
     "user": {
      "displayName": "Gunther",
      "userId": "09898809932311330039"
     },
     "user_tz": 300
    },
    "id": "alvPeOfMT6j3",
    "outputId": "11187e24-c554-41f3-e8a3-5cf6696bf578"
   },
   "outputs": [
    {
     "name": "stdout",
     "output_type": "stream",
     "text": [
      "Hello World!\n"
     ]
    }
   ],
   "source": [
    "open_file = open('myfile.txt', 'r')  # This opens the file so that it can be read.\n",
    "print(open_file.read())              # Reads entire files\n",
    "open_file.close()"
   ]
  },
  {
   "cell_type": "code",
   "execution_count": null,
   "metadata": {
    "id": "0zMo3oLQgZEQ"
   },
   "outputs": [],
   "source": [
    "## This will not work!  myfile2.txt does not exist in the CWD\n",
    "# open_file = open('myfile2.txt', 'r')\n",
    "# print(open_file.read())\n",
    "# open_file.close()"
   ]
  },
  {
   "cell_type": "code",
   "execution_count": null,
   "metadata": {
    "colab": {
     "base_uri": "https://localhost:8080/"
    },
    "executionInfo": {
     "elapsed": 15,
     "status": "ok",
     "timestamp": 1741121069503,
     "user": {
      "displayName": "Gunther",
      "userId": "09898809932311330039"
     },
     "user_tz": 300
    },
    "id": "m1n5FfkcUCpC",
    "outputId": "7cd4da39-b93e-4920-8e94-64d32ef0c30a"
   },
   "outputs": [
    {
     "name": "stdout",
     "output_type": "stream",
     "text": [
      "Hello Mars!\n"
     ]
    }
   ],
   "source": [
    "open_file = open('my_documents/myfile2.txt', 'r')  # This opens the file located in my_documents.\n",
    "print(open_file.read())\n",
    "open_file.close()"
   ]
  },
  {
   "cell_type": "code",
   "execution_count": null,
   "metadata": {
    "colab": {
     "base_uri": "https://localhost:8080/"
    },
    "executionInfo": {
     "elapsed": 29,
     "status": "ok",
     "timestamp": 1741121069531,
     "user": {
      "displayName": "Gunther",
      "userId": "09898809932311330039"
     },
     "user_tz": 300
    },
    "id": "ZIw8AjtAg6_s",
    "outputId": "dca00de4-53ae-4dd4-abfe-5abe48cbc94c"
   },
   "outputs": [
    {
     "name": "stdout",
     "output_type": "stream",
     "text": [
      "Hello\n"
     ]
    }
   ],
   "source": [
    "open_file = open('myfile.txt', 'r')  # This opens the file so that it can be read.\n",
    "print(open_file.read(5))              # Reads first 5 characters\n",
    "open_file.close()"
   ]
  },
  {
   "cell_type": "markdown",
   "metadata": {
    "id": "taZ8S2-eiUJM"
   },
   "source": [
    "## Append a file"
   ]
  },
  {
   "cell_type": "code",
   "execution_count": null,
   "metadata": {
    "id": "smjp0E4C57YH"
   },
   "outputs": [],
   "source": [
    "open_file = open('myfile.txt', 'a')  # This opens the file so that it can be appended.\n",
    "open_file.write(\"\"\"\n",
    "Hello Mars!\n",
    "Hello Venus!\n",
    "Hello Jupter!\n",
    "\"\"\")\n",
    "\n",
    "open_file.close()"
   ]
  },
  {
   "cell_type": "code",
   "execution_count": null,
   "metadata": {
    "colab": {
     "base_uri": "https://localhost:8080/"
    },
    "executionInfo": {
     "elapsed": 43,
     "status": "ok",
     "timestamp": 1741121069582,
     "user": {
      "displayName": "Gunther",
      "userId": "09898809932311330039"
     },
     "user_tz": 300
    },
    "id": "IvJgzTrZ8GbS",
    "outputId": "44c237f8-a20b-4a78-8ced-f35069f3d1e3"
   },
   "outputs": [
    {
     "name": "stdout",
     "output_type": "stream",
     "text": [
      "Hello World!\n",
      "Hello Mars!\n",
      "Hello Venus!\n",
      "Hello Jupter!\n",
      "\n"
     ]
    }
   ],
   "source": [
    "# Let's see what happened\n",
    "open_file = open('myfile.txt', 'r')  # This opens the file so that it can be read.\n",
    "print(open_file.read())              # Reads entire files\n",
    "open_file.close()"
   ]
  },
  {
   "cell_type": "code",
   "execution_count": null,
   "metadata": {
    "colab": {
     "base_uri": "https://localhost:8080/"
    },
    "executionInfo": {
     "elapsed": 4,
     "status": "ok",
     "timestamp": 1741121069589,
     "user": {
      "displayName": "Gunther",
      "userId": "09898809932311330039"
     },
     "user_tz": 300
    },
    "id": "9M6N8FmJ8N2k",
    "outputId": "06e611e4-5f90-4fbd-e4fb-f90ef33f3b2f"
   },
   "outputs": [
    {
     "name": "stdout",
     "output_type": "stream",
     "text": [
      "Hello World!\n",
      "\n",
      "Hello Mars!\n",
      "\n"
     ]
    }
   ],
   "source": [
    "# We can read line by line in the file.\n",
    "open_file = open('myfile.txt', 'r')  # This opens the file so that it can be read.\n",
    "print(open_file.readline())          # Read first line\n",
    "print(open_file.readline())          # Read second line\n",
    "open_file.close()                    # Close file.\n"
   ]
  },
  {
   "cell_type": "code",
   "execution_count": null,
   "metadata": {
    "colab": {
     "base_uri": "https://localhost:8080/"
    },
    "executionInfo": {
     "elapsed": 2,
     "status": "ok",
     "timestamp": 1741121069590,
     "user": {
      "displayName": "Gunther",
      "userId": "09898809932311330039"
     },
     "user_tz": 300
    },
    "id": "CN2P_Cjz8fRl",
    "outputId": "f9c4879b-f785-4e01-e28d-60031eb8af85"
   },
   "outputs": [
    {
     "name": "stdout",
     "output_type": "stream",
     "text": [
      "applebananaorangecherrypear\n"
     ]
    }
   ],
   "source": [
    "# Let's write a list to a file.\n",
    "a_list = ['apple',\n",
    "          'banana',\n",
    "          'orange',\n",
    "          'cherry',\n",
    "          'pear']\n",
    "open_file = open('fruit.txt', 'w')  # This opens the file so that it can be read.\n",
    "open_file.writelines(a_list)         # Write list to file.\n",
    "open_file.close()                    # Close file.\n",
    "\n",
    "# Let's see what happened\n",
    "open_file = open('fruit.txt', 'r')  # This opens the file so that it can be read.\n",
    "print(open_file.read())              # Reads entire files\n",
    "open_file.close()\n",
    "\n",
    "# The output is not that clean.  The list has been squashed into one word."
   ]
  },
  {
   "cell_type": "code",
   "execution_count": null,
   "metadata": {
    "colab": {
     "base_uri": "https://localhost:8080/"
    },
    "executionInfo": {
     "elapsed": 5,
     "status": "ok",
     "timestamp": 1741121662412,
     "user": {
      "displayName": "Gunther",
      "userId": "09898809932311330039"
     },
     "user_tz": 300
    },
    "id": "0qpxbse58pWX",
    "outputId": "f8433694-41ea-4179-a59e-5e77e35a087b"
   },
   "outputs": [
    {
     "name": "stdout",
     "output_type": "stream",
     "text": [
      "apple\n",
      "banana\n",
      "orange\n",
      "cherry\n",
      "pear\n",
      "\n"
     ]
    }
   ],
   "source": [
    "a_list = ['apple', 'banana', 'orange', 'cherry', 'pear']\n",
    "\n",
    "# Using 'with' to ensure the file is properly closed after writing, reading, etc.\n",
    "with open('fruit.txt', 'w') as file:      # writes over previous file\n",
    "    file.write(\"\\n\".join(a_list) + \"\\n\")  # Adds newlines automatically\n",
    "\n",
    "\n",
    "# Let's see what happened\n",
    "with open('fruit.txt', 'r') as open_file:  # This opens the file so that it can be read.\n",
    "  print(open_file.read())              # Reads entire files\n",
    "\n"
   ]
  },
  {
   "cell_type": "code",
   "execution_count": null,
   "metadata": {
    "colab": {
     "base_uri": "https://localhost:8080/"
    },
    "executionInfo": {
     "elapsed": 3,
     "status": "ok",
     "timestamp": 1741121663252,
     "user": {
      "displayName": "Gunther",
      "userId": "09898809932311330039"
     },
     "user_tz": 300
    },
    "id": "0rafSB-ESlXM",
    "outputId": "fcbacc9c-ba24-4a1f-f860-d4c98f33a0a1"
   },
   "outputs": [
    {
     "name": "stdout",
     "output_type": "stream",
     "text": [
      "['apple\\n', 'banana\\n', 'orange\\n', 'cherry\\n', 'pear\\n']\n",
      "['apple', 'banana', 'orange', 'cherry', 'pear']\n"
     ]
    }
   ],
   "source": [
    "# We can read the file back into a list\n",
    "with open('fruit.txt', 'r') as open_file:  # This opens the file so that it can be read.\n",
    "  fruit_list = open_file.readlines()\n",
    "\n",
    "\n",
    "print(fruit_list)                   # This put's '\\n' at the end which stands for newline\n",
    "\n",
    "cleaned_fruits = [fruit.strip() for fruit in fruit_list]  # get rid of \\n\n",
    "print(cleaned_fruits)"
   ]
  },
  {
   "cell_type": "code",
   "execution_count": null,
   "metadata": {
    "id": "h_VA8sYT6J0A"
   },
   "outputs": [],
   "source": []
  }
 ],
 "metadata": {
  "colab": {
   "authorship_tag": "ABX9TyO2UIhFNZ7rjjToj7XLoRSL",
   "provenance": []
  },
  "kernelspec": {
   "display_name": "Python 3 (ipykernel)",
   "language": "python",
   "name": "python3"
  },
  "language_info": {
   "codemirror_mode": {
    "name": "ipython",
    "version": 3
   },
   "file_extension": ".py",
   "mimetype": "text/x-python",
   "name": "python",
   "nbconvert_exporter": "python",
   "pygments_lexer": "ipython3",
   "version": "3.10.15"
  }
 },
 "nbformat": 4,
 "nbformat_minor": 4
}
