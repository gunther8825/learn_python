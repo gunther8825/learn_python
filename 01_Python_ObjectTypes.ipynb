{
 "cells": [
  {
   "cell_type": "markdown",
   "metadata": {
    "id": "T3tjmiEcJGLn"
   },
   "source": [
    "To start, click File --> Save Notebook As...\n",
    "\n",
    "Then you can have your own copy you can modify."
   ]
  },
  {
   "cell_type": "markdown",
   "metadata": {
    "id": "XCqRDs8j77HH"
   },
   "source": [
    "# Python Object Types\n",
    "Reference: Chapter 4 of Lutz, Mark. *Learning Python*, 5th Edition, O'Reilly, 2013\n",
    "\n",
    "Cheat Sheets:\n",
    "\n",
    "https://media.datacamp.com/cms/python-basics-cheat-sheet-v3.pdf\n",
    "\n",
    "https://github.com/ehmatthes/pcc_3e/releases/download/v1.0.0/beginners_python_cheat_sheet_pcc_all.pdf"
   ]
  },
  {
   "cell_type": "code",
   "execution_count": null,
   "metadata": {
    "id": "sz1CRDKj18nO"
   },
   "outputs": [],
   "source": [
    "# Note:\n",
    "# The pound or hash symbol denotes a comment.  When running code, these sections\n",
    "# after a \"#\" will not be part of the code.\n",
    "\n",
    "# Another note, the function print is sometimes used so that the output to a\n",
    "# function or operation is displayed below the code.  The expression in the print\n",
    "# function can be taking out of print(...) and still be used."
   ]
  },
  {
   "cell_type": "markdown",
   "metadata": {
    "id": "PhqnPNI672h-"
   },
   "source": [
    "## Numbers"
   ]
  },
  {
   "cell_type": "code",
   "execution_count": null,
   "metadata": {
    "colab": {
     "base_uri": "https://localhost:8080/"
    },
    "executionInfo": {
     "elapsed": 191,
     "status": "ok",
     "timestamp": 1734471198538,
     "user": {
      "displayName": "Jacqueline Gunther",
      "userId": "09898809932311330039"
     },
     "user_tz": 300
    },
    "id": "zTGAG4rdhf0o",
    "outputId": "a3a29a8e-e02d-4664-e5dd-a0d7685bd573"
   },
   "outputs": [
    {
     "name": "stdout",
     "output_type": "stream",
     "text": [
      "7\n",
      "3\n",
      "10\n",
      "2.5\n",
      "25\n",
      "1\n",
      "2\n"
     ]
    }
   ],
   "source": [
    "## Manipulating numbers\n",
    "print(5+2)   # additon\n",
    "print(5-2)   # subtraction\n",
    "print(5*2)   # multiplication\n",
    "print(5/2)   # division\n",
    "print(5**2)  # exponent (5^2)\n",
    "print(5%2)   # remainder from division; 5/2 is 2 remainder 1\n",
    "print(5//2)  # rounds down after dividing; 5/2 is 2.5 and rounded to 2"
   ]
  },
  {
   "cell_type": "code",
   "execution_count": null,
   "metadata": {
    "colab": {
     "base_uri": "https://localhost:8080/"
    },
    "executionInfo": {
     "elapsed": 3,
     "status": "ok",
     "timestamp": 1734471198986,
     "user": {
      "displayName": "Jacqueline Gunther",
      "userId": "09898809932311330039"
     },
     "user_tz": 300
    },
    "id": "y0k8-M1YHSy4",
    "outputId": "b9da511a-7d26-40e2-f7ed-3ad2e2c0d73e"
   },
   "outputs": [
    {
     "name": "stdout",
     "output_type": "stream",
     "text": [
      "2.23606797749979\n",
      "3.141592653589793\n"
     ]
    }
   ],
   "source": [
    "## To do anymore complicated mathematical operations you would need to import a library such as:\n",
    "import math\n",
    "sqrt_num = math.sqrt(5)  #square root of 5\n",
    "print(sqrt_num)\n",
    "print(math.pi)  # pi"
   ]
  },
  {
   "cell_type": "code",
   "execution_count": null,
   "metadata": {
    "colab": {
     "base_uri": "https://localhost:8080/"
    },
    "executionInfo": {
     "elapsed": 2,
     "status": "ok",
     "timestamp": 1734471198986,
     "user": {
      "displayName": "Jacqueline Gunther",
      "userId": "09898809932311330039"
     },
     "user_tz": 300
    },
    "id": "-tNr5SPf8q2q",
    "outputId": "13f83142-68f4-4d78-feb4-52856c5a492b"
   },
   "outputs": [
    {
     "name": "stdout",
     "output_type": "stream",
     "text": [
      "0.06622542637634687\n",
      "4\n"
     ]
    }
   ],
   "source": [
    "# if you need a random number you can import the 'random' library\n",
    "import random\n",
    "print(random.random()) # prints a random number between 0 and 1\n",
    "print(random.choice([1,2,3,4,5])) # prints a random number from a list"
   ]
  },
  {
   "cell_type": "markdown",
   "metadata": {
    "id": "qlTnSC499QtZ"
   },
   "source": [
    "## Strings\n",
    "### Strings are sequences that keep their order.  Other types of sequences are lists, and tuples.  Strings, however, are sequences of characters."
   ]
  },
  {
   "cell_type": "code",
   "execution_count": null,
   "metadata": {
    "colab": {
     "base_uri": "https://localhost:8080/"
    },
    "executionInfo": {
     "elapsed": 153,
     "status": "ok",
     "timestamp": 1734471199137,
     "user": {
      "displayName": "Jacqueline Gunther",
      "userId": "09898809932311330039"
     },
     "user_tz": 300
    },
    "id": "iPJ46tec9GAH",
    "outputId": "3f7e6745-f551-4155-ba5d-05cb5ee8f149"
   },
   "outputs": [
    {
     "name": "stdout",
     "output_type": "stream",
     "text": [
      "Hello World!\n",
      "H\n",
      "e\n",
      "!\n",
      "d\n"
     ]
    }
   ],
   "source": [
    "S = \"Hello World!\"\n",
    "print(S)    # prints the whole string\n",
    "print(S[0]) # prints the first character\n",
    "print(S[1]) # prints the second character\n",
    "print(S[-1])# prints the last character\n",
    "print(S[-2])# prints second to last charcter"
   ]
  },
  {
   "cell_type": "code",
   "execution_count": null,
   "metadata": {
    "colab": {
     "base_uri": "https://localhost:8080/"
    },
    "executionInfo": {
     "elapsed": 5,
     "status": "ok",
     "timestamp": 1734471199137,
     "user": {
      "displayName": "Jacqueline Gunther",
      "userId": "09898809932311330039"
     },
     "user_tz": 300
    },
    "id": "RxNajbJr99Uu",
    "outputId": "4757b4e8-2931-4c8b-c7fa-21ff006b8778"
   },
   "outputs": [
    {
     "name": "stdout",
     "output_type": "stream",
     "text": [
      "el\n",
      "World!\n",
      "Hello\n",
      "Hello World\n",
      "Hello World!\n"
     ]
    }
   ],
   "source": [
    "print(S[1:3]) # prints the second and third character; 1 through 2, but not 3\n",
    "print(S[6:])  # prints from the seventh position onwards\n",
    "print(S[:5])  # prints from the beginning up to the fifth position,\n",
    "              # but not including the 5th position\n",
    "print(S[:-1]) # prints everything but the last position\n",
    "print(S[:])   # prints everything"
   ]
  },
  {
   "cell_type": "markdown",
   "metadata": {
    "id": "kGLXaXSR_v2c"
   },
   "source": [
    "### Adding to Strings and Repeating"
   ]
  },
  {
   "cell_type": "code",
   "execution_count": null,
   "metadata": {
    "colab": {
     "base_uri": "https://localhost:8080/"
    },
    "executionInfo": {
     "elapsed": 5,
     "status": "ok",
     "timestamp": 1734471199137,
     "user": {
      "displayName": "Jacqueline Gunther",
      "userId": "09898809932311330039"
     },
     "user_tz": 300
    },
    "id": "c_Blss5t_xeF",
    "outputId": "9f63992e-8191-4c4a-efdf-ff522e9b8aca"
   },
   "outputs": [
    {
     "name": "stdout",
     "output_type": "stream",
     "text": [
      "Hello World! Hello Mars!\n",
      "Hello World!Hello World!Hello World!\n"
     ]
    }
   ],
   "source": [
    "print(S + ' Hello Mars!') # add to the string\n",
    "                          # the plus sign does something different for strings.\n",
    "                          # Here, it concats versus for numbers where it adds.\n",
    "\n",
    "print(S*3)                # repeat the string"
   ]
  },
  {
   "cell_type": "markdown",
   "metadata": {
    "id": "IYk44zSgAlp1"
   },
   "source": [
    "### Immutability\n",
    "##### Numbers, Strings, and tuples are immutable (cannot be changed)\n",
    "##### Lists, dictionaries, and sets are not"
   ]
  },
  {
   "cell_type": "code",
   "execution_count": null,
   "metadata": {
    "colab": {
     "base_uri": "https://localhost:8080/"
    },
    "executionInfo": {
     "elapsed": 4,
     "status": "ok",
     "timestamp": 1734471199137,
     "user": {
      "displayName": "Jacqueline Gunther",
      "userId": "09898809932311330039"
     },
     "user_tz": 300
    },
    "id": "DFJfauS3An1C",
    "outputId": "7597587d-bb30-4351-c6ee-01dc6b9b15bf"
   },
   "outputs": [
    {
     "name": "stdout",
     "output_type": "stream",
     "text": [
      "Hello World!\n"
     ]
    }
   ],
   "source": [
    "print(S) # S is still the same, we have not changed it."
   ]
  },
  {
   "cell_type": "code",
   "execution_count": null,
   "metadata": {
    "id": "2F3IlzkmAxE1"
   },
   "outputs": [],
   "source": [
    "# S[0] = 'Z'  # This will give an error because you cannot change the object"
   ]
  },
  {
   "cell_type": "code",
   "execution_count": null,
   "metadata": {
    "colab": {
     "base_uri": "https://localhost:8080/"
    },
    "executionInfo": {
     "elapsed": 3,
     "status": "ok",
     "timestamp": 1734471199137,
     "user": {
      "displayName": "Jacqueline Gunther",
      "userId": "09898809932311330039"
     },
     "user_tz": 300
    },
    "id": "3cWD4O2AEHkD",
    "outputId": "7baebb49-bbd3-4ee1-c80b-0524059de4e7"
   },
   "outputs": [
    {
     "name": "stdout",
     "output_type": "stream",
     "text": [
      "Zello World!\n"
     ]
    }
   ],
   "source": [
    "S = 'Z'+S[1:] # We need to run a new expression in order to change it.\n",
    "print(S)      # Now S is different"
   ]
  },
  {
   "cell_type": "code",
   "execution_count": null,
   "metadata": {
    "colab": {
     "base_uri": "https://localhost:8080/"
    },
    "executionInfo": {
     "elapsed": 4,
     "status": "ok",
     "timestamp": 1734471199138,
     "user": {
      "displayName": "Jacqueline Gunther",
      "userId": "09898809932311330039"
     },
     "user_tz": 300
    },
    "id": "LnFqWF4rEWs8",
    "outputId": "958d8e61-967a-47de-f3df-6bf1a4210612"
   },
   "outputs": [
    {
     "data": {
      "text/plain": [
       "['a', 'p', 'p', 'l', 'e']"
      ]
     },
     "execution_count": 10,
     "metadata": {},
     "output_type": "execute_result"
    }
   ],
   "source": [
    "A = 'apple'\n",
    "L = list(A) # convert string into a list of characters\n",
    "L"
   ]
  },
  {
   "cell_type": "code",
   "execution_count": null,
   "metadata": {
    "colab": {
     "base_uri": "https://localhost:8080/"
    },
    "executionInfo": {
     "elapsed": 3,
     "status": "ok",
     "timestamp": 1734471199138,
     "user": {
      "displayName": "Jacqueline Gunther",
      "userId": "09898809932311330039"
     },
     "user_tz": 300
    },
    "id": "5toAcOnSfPET",
    "outputId": "8e82581b-7194-4c7a-bfc1-23ce58dcc510"
   },
   "outputs": [
    {
     "data": {
      "text/plain": [
       "['a', 'p', 'p', 'l', 'y']"
      ]
     },
     "execution_count": 11,
     "metadata": {},
     "output_type": "execute_result"
    }
   ],
   "source": [
    "L[-1] = 'y' # change the last character\n",
    "L           # lists are not immutable, so you can change one of the characters"
   ]
  },
  {
   "cell_type": "code",
   "execution_count": null,
   "metadata": {
    "colab": {
     "base_uri": "https://localhost:8080/",
     "height": 35
    },
    "executionInfo": {
     "elapsed": 174,
     "status": "ok",
     "timestamp": 1734471199310,
     "user": {
      "displayName": "Jacqueline Gunther",
      "userId": "09898809932311330039"
     },
     "user_tz": 300
    },
    "id": "dICF21PcffxH",
    "outputId": "1241081e-f5fc-45e5-d64a-ff7520509629"
   },
   "outputs": [
    {
     "data": {
      "application/vnd.google.colaboratory.intrinsic+json": {
       "type": "string"
      },
      "text/plain": [
       "'apply'"
      ]
     },
     "execution_count": 12,
     "metadata": {},
     "output_type": "execute_result"
    }
   ],
   "source": [
    "\"\".join(L) # convert list back to string\n",
    "           # join, joins the characters with no space (\"\")"
   ]
  },
  {
   "cell_type": "code",
   "execution_count": null,
   "metadata": {
    "id": "j3nMdUuxf2nK"
   },
   "outputs": [],
   "source": [
    "# ## There are easier ways to do this; not recommended.\n",
    "# B = bytearray(b'apple') # convert string into a bytearray\n",
    "# B.extend(b'orange')     # extend with the word oranges\n",
    "# B.decode()              # turn back into a string."
   ]
  },
  {
   "cell_type": "markdown",
   "metadata": {
    "id": "kj1MKgF8gwGu"
   },
   "source": [
    "### Type Specific Methods\n",
    "String specific operations"
   ]
  },
  {
   "cell_type": "code",
   "execution_count": null,
   "metadata": {
    "colab": {
     "base_uri": "https://localhost:8080/"
    },
    "executionInfo": {
     "elapsed": 13,
     "status": "ok",
     "timestamp": 1734471199310,
     "user": {
      "displayName": "Jacqueline Gunther",
      "userId": "09898809932311330039"
     },
     "user_tz": 300
    },
    "id": "0MztxgXDgyhV",
    "outputId": "d2effa76-3a0b-4ea1-915a-53bc486709d5"
   },
   "outputs": [
    {
     "data": {
      "text/plain": [
       "6"
      ]
     },
     "execution_count": 14,
     "metadata": {},
     "output_type": "execute_result"
    }
   ],
   "source": [
    "W = \"Hello World!\"\n",
    "W.find('World!')  # Find the offset; remember indexing starts at 0, so its the 7th position."
   ]
  },
  {
   "cell_type": "code",
   "execution_count": null,
   "metadata": {
    "colab": {
     "base_uri": "https://localhost:8080/",
     "height": 35
    },
    "executionInfo": {
     "elapsed": 13,
     "status": "ok",
     "timestamp": 1734471199310,
     "user": {
      "displayName": "Jacqueline Gunther",
      "userId": "09898809932311330039"
     },
     "user_tz": 300
    },
    "id": "cR0kjpkmhNXH",
    "outputId": "c91674c0-9eac-4ea9-e890-bf8bbbad1563"
   },
   "outputs": [
    {
     "data": {
      "application/vnd.google.colaboratory.intrinsic+json": {
       "type": "string"
      },
      "text/plain": [
       "'Hello Mars!'"
      ]
     },
     "execution_count": 15,
     "metadata": {},
     "output_type": "execute_result"
    }
   ],
   "source": [
    "W.replace('World!', 'Mars!') # replace the word"
   ]
  },
  {
   "cell_type": "code",
   "execution_count": null,
   "metadata": {
    "colab": {
     "base_uri": "https://localhost:8080/",
     "height": 35
    },
    "executionInfo": {
     "elapsed": 12,
     "status": "ok",
     "timestamp": 1734471199310,
     "user": {
      "displayName": "Jacqueline Gunther",
      "userId": "09898809932311330039"
     },
     "user_tz": 300
    },
    "id": "m5iet3S2haM5",
    "outputId": "c300ebab-1a42-468f-ee7b-0b1a72283c9e"
   },
   "outputs": [
    {
     "data": {
      "application/vnd.google.colaboratory.intrinsic+json": {
       "type": "string"
      },
      "text/plain": [
       "'Hello World!'"
      ]
     },
     "execution_count": 16,
     "metadata": {},
     "output_type": "execute_result"
    }
   ],
   "source": [
    "W  # W is still unchanged"
   ]
  },
  {
   "cell_type": "code",
   "execution_count": null,
   "metadata": {
    "colab": {
     "base_uri": "https://localhost:8080/"
    },
    "executionInfo": {
     "elapsed": 11,
     "status": "ok",
     "timestamp": 1734471199310,
     "user": {
      "displayName": "Jacqueline Gunther",
      "userId": "09898809932311330039"
     },
     "user_tz": 300
    },
    "id": "Ggc25aYKzVLh",
    "outputId": "d7f9e3c6-ccc9-465b-e021-e74f8bd99030"
   },
   "outputs": [
    {
     "data": {
      "text/plain": [
       "12"
      ]
     },
     "execution_count": 17,
     "metadata": {},
     "output_type": "execute_result"
    }
   ],
   "source": [
    "len(W) # find the length of W; give the number of characters"
   ]
  },
  {
   "cell_type": "code",
   "execution_count": null,
   "metadata": {
    "colab": {
     "base_uri": "https://localhost:8080/",
     "height": 35
    },
    "executionInfo": {
     "elapsed": 11,
     "status": "ok",
     "timestamp": 1734471199310,
     "user": {
      "displayName": "Jacqueline Gunther",
      "userId": "09898809932311330039"
     },
     "user_tz": 300
    },
    "id": "IqK-2-Y1hbhY",
    "outputId": "e3fcf27d-0e89-4889-dda2-66c78b30322c"
   },
   "outputs": [
    {
     "data": {
      "application/vnd.google.colaboratory.intrinsic+json": {
       "type": "string"
      },
      "text/plain": [
       "'Hello Mars!'"
      ]
     },
     "execution_count": 18,
     "metadata": {},
     "output_type": "execute_result"
    }
   ],
   "source": [
    "M = W.replace('World!', 'Mars!') # replace the word\n",
    "M                                # M now contains Mars because its a new expression."
   ]
  },
  {
   "cell_type": "code",
   "execution_count": null,
   "metadata": {
    "colab": {
     "base_uri": "https://localhost:8080/"
    },
    "executionInfo": {
     "elapsed": 10,
     "status": "ok",
     "timestamp": 1734471199310,
     "user": {
      "displayName": "Jacqueline Gunther",
      "userId": "09898809932311330039"
     },
     "user_tz": 300
    },
    "id": "QjnuEWehhgIB",
    "outputId": "40a95173-48a2-4310-c706-e43a247c5008"
   },
   "outputs": [
    {
     "data": {
      "text/plain": [
       "['apple', 'orange', 'banana', 'peach', 'plum']"
      ]
     },
     "execution_count": 19,
     "metadata": {},
     "output_type": "execute_result"
    }
   ],
   "source": [
    "## Splitting texts with a delimiter\n",
    "## A delimiter is something that separates text like a space or a comma\n",
    "\n",
    "fruits = 'apple,orange,banana,peach,plum'\n",
    "fruits.split(',') # this will split fruits based on a comma"
   ]
  },
  {
   "cell_type": "code",
   "execution_count": null,
   "metadata": {
    "colab": {
     "base_uri": "https://localhost:8080/"
    },
    "executionInfo": {
     "elapsed": 9,
     "status": "ok",
     "timestamp": 1734471199310,
     "user": {
      "displayName": "Jacqueline Gunther",
      "userId": "09898809932311330039"
     },
     "user_tz": 300
    },
    "id": "t2Rh69MbA6Ni",
    "outputId": "f33584b6-e01d-45ba-eca2-bbcb934ffb0b"
   },
   "outputs": [
    {
     "name": "stdout",
     "output_type": "stream",
     "text": [
      "HELLO WORLD!\n",
      "hello world!\n",
      "False\n",
      "True\n",
      "apple,orange,banana,peach,plum\n",
      "['apple', 'orange', 'banana', 'peach', 'plum']\n"
     ]
    }
   ],
   "source": [
    "print(W.upper()) # all uppercase\n",
    "print(W.lower()) # all lowercase\n",
    "print(W.isalpha()) # checks if all characters are alphabets; comes back as false\n",
    "                   # because of the space and exclamation point.\n",
    "print('apple'.isalpha()) # comes back as true; only letters\n",
    "white_space = 'apple,orange,banana,peach,plum        '\n",
    "print(white_space.rstrip()) # removes white space at the end\n",
    "print(white_space.rstrip().split(',')) # removes white space then splits"
   ]
  },
  {
   "cell_type": "code",
   "execution_count": null,
   "metadata": {
    "colab": {
     "base_uri": "https://localhost:8080/"
    },
    "executionInfo": {
     "elapsed": 9,
     "status": "ok",
     "timestamp": 1734471199310,
     "user": {
      "displayName": "Jacqueline Gunther",
      "userId": "09898809932311330039"
     },
     "user_tz": 300
    },
    "id": "b8qiEE50BGce",
    "outputId": "86d85457-a1e4-4834-b13e-fc14df2a5cf8"
   },
   "outputs": [
    {
     "name": "stdout",
     "output_type": "stream",
     "text": [
      "potato, carrot, and onion\n",
      "3.14\n"
     ]
    }
   ],
   "source": [
    "# formatting expressions\n",
    "print('{}, carrot, and {}'.format('potato', 'onion')) # The words can be placed in the\n",
    "# curly braces in the order that they appear in the format function.\n",
    "\n",
    "print('{:.2f}'.format(3.14159265))  # Can work for numbers too."
   ]
  },
  {
   "cell_type": "code",
   "execution_count": null,
   "metadata": {
    "colab": {
     "base_uri": "https://localhost:8080/"
    },
    "collapsed": true,
    "executionInfo": {
     "elapsed": 8,
     "status": "ok",
     "timestamp": 1734471199310,
     "user": {
      "displayName": "Jacqueline Gunther",
      "userId": "09898809932311330039"
     },
     "user_tz": 300
    },
    "id": "2VXlrJ3OHh1v",
    "jupyter": {
     "outputs_hidden": true
    },
    "outputId": "41bd93ec-269c-47e4-9caa-7224e8244f90"
   },
   "outputs": [
    {
     "data": {
      "text/plain": [
       "['__add__',\n",
       " '__class__',\n",
       " '__contains__',\n",
       " '__delattr__',\n",
       " '__dir__',\n",
       " '__doc__',\n",
       " '__eq__',\n",
       " '__format__',\n",
       " '__ge__',\n",
       " '__getattribute__',\n",
       " '__getitem__',\n",
       " '__getnewargs__',\n",
       " '__gt__',\n",
       " '__hash__',\n",
       " '__init__',\n",
       " '__init_subclass__',\n",
       " '__iter__',\n",
       " '__le__',\n",
       " '__len__',\n",
       " '__lt__',\n",
       " '__mod__',\n",
       " '__mul__',\n",
       " '__ne__',\n",
       " '__new__',\n",
       " '__reduce__',\n",
       " '__reduce_ex__',\n",
       " '__repr__',\n",
       " '__rmod__',\n",
       " '__rmul__',\n",
       " '__setattr__',\n",
       " '__sizeof__',\n",
       " '__str__',\n",
       " '__subclasshook__',\n",
       " 'capitalize',\n",
       " 'casefold',\n",
       " 'center',\n",
       " 'count',\n",
       " 'encode',\n",
       " 'endswith',\n",
       " 'expandtabs',\n",
       " 'find',\n",
       " 'format',\n",
       " 'format_map',\n",
       " 'index',\n",
       " 'isalnum',\n",
       " 'isalpha',\n",
       " 'isascii',\n",
       " 'isdecimal',\n",
       " 'isdigit',\n",
       " 'isidentifier',\n",
       " 'islower',\n",
       " 'isnumeric',\n",
       " 'isprintable',\n",
       " 'isspace',\n",
       " 'istitle',\n",
       " 'isupper',\n",
       " 'join',\n",
       " 'ljust',\n",
       " 'lower',\n",
       " 'lstrip',\n",
       " 'maketrans',\n",
       " 'partition',\n",
       " 'removeprefix',\n",
       " 'removesuffix',\n",
       " 'replace',\n",
       " 'rfind',\n",
       " 'rindex',\n",
       " 'rjust',\n",
       " 'rpartition',\n",
       " 'rsplit',\n",
       " 'rstrip',\n",
       " 'split',\n",
       " 'splitlines',\n",
       " 'startswith',\n",
       " 'strip',\n",
       " 'swapcase',\n",
       " 'title',\n",
       " 'translate',\n",
       " 'upper',\n",
       " 'zfill']"
      ]
     },
     "execution_count": 22,
     "metadata": {},
     "output_type": "execute_result"
    }
   ],
   "source": [
    "# You can see all the attributes you can use on an object.\n",
    "# W is our string \"Hello World!\"\n",
    "dir(W)"
   ]
  },
  {
   "cell_type": "code",
   "execution_count": null,
   "metadata": {
    "colab": {
     "base_uri": "https://localhost:8080/"
    },
    "executionInfo": {
     "elapsed": 7,
     "status": "ok",
     "timestamp": 1734471199310,
     "user": {
      "displayName": "Jacqueline Gunther",
      "userId": "09898809932311330039"
     },
     "user_tz": 300
    },
    "id": "V7l4W_j2KK09",
    "outputId": "97392ea8-4f43-4c12-9db3-226a1c3ab0c2"
   },
   "outputs": [
    {
     "name": "stdout",
     "output_type": "stream",
     "text": [
      "Help on built-in function replace:\n",
      "\n",
      "replace(old, new, count=-1, /) method of builtins.str instance\n",
      "    Return a copy with all occurrences of substring old replaced by new.\n",
      "    \n",
      "      count\n",
      "        Maximum number of occurrences to replace.\n",
      "        -1 (the default value) means replace all occurrences.\n",
      "    \n",
      "    If the optional argument count is given, only the first count occurrences are\n",
      "    replaced.\n",
      "\n"
     ]
    }
   ],
   "source": [
    "help(W.replace) # You can use the function help to give more details."
   ]
  },
  {
   "cell_type": "markdown",
   "metadata": {
    "id": "52P9f02iTKTa"
   },
   "source": [
    "### Other Ways to Code Strings"
   ]
  },
  {
   "cell_type": "code",
   "execution_count": null,
   "metadata": {
    "colab": {
     "base_uri": "https://localhost:8080/"
    },
    "executionInfo": {
     "elapsed": 255,
     "status": "ok",
     "timestamp": 1734471199559,
     "user": {
      "displayName": "Jacqueline Gunther",
      "userId": "09898809932311330039"
     },
     "user_tz": 300
    },
    "id": "bZ0G0e5sNMvX",
    "outputId": "62df1989-8784-4e17-dc04-e231af7f3694"
   },
   "outputs": [
    {
     "name": "stdout",
     "output_type": "stream",
     "text": [
      "Hello Venus!\n",
      "How are you?\n",
      "Hello Jupiter!\tHow are you?\n"
     ]
    }
   ],
   "source": [
    "# Special characters\n",
    "\n",
    "V = \"Hello Venus!\\nHow are you?\" #\\n means new line and will print the rest on the next line\n",
    "print(V)\n",
    "J = \"Hello Jupiter!\\tHow are you?\" #\\t means tab\n",
    "print(J)"
   ]
  },
  {
   "cell_type": "code",
   "execution_count": null,
   "metadata": {
    "colab": {
     "base_uri": "https://localhost:8080/"
    },
    "executionInfo": {
     "elapsed": 13,
     "status": "ok",
     "timestamp": 1734471199560,
     "user": {
      "displayName": "Jacqueline Gunther",
      "userId": "09898809932311330039"
     },
     "user_tz": 300
    },
    "id": "LmhricngRy_l",
    "outputId": "4757a66d-6982-4477-d35e-dcd42b18e6b2"
   },
   "outputs": [
    {
     "name": "stdout",
     "output_type": "stream",
     "text": [
      "He said, \"Hello\". \n",
      "She said, \"Hello\".\n",
      "I'm Jack.\n"
     ]
    }
   ],
   "source": [
    "### You can use single or double quotes, but be consistent.  You can also print the single or double quotes by using triple quotes\n",
    "\n",
    "quote = \"\"\"He said, \"Hello\". \"\"\" # This is the best method, but there is also:\n",
    "print(quote)\n",
    "quote2 = 'She said, \"Hello\".' # Use single quotes at the ends and double quotes for the quote.\n",
    "print(quote2)\n",
    "quote3 = \"I'm Jack.\"          # Or vice versa\n",
    "print(quote3)"
   ]
  },
  {
   "cell_type": "markdown",
   "metadata": {
    "id": "2Nl6qyoQTPw3"
   },
   "source": [
    "### Unicode Strings\n",
    "#### Unicode: an international encoding standard for use with different languages and scripts, by which each letter, digit, or symbol is assigned a unique numeric value that applies across different platforms and programs."
   ]
  },
  {
   "cell_type": "code",
   "execution_count": null,
   "metadata": {
    "colab": {
     "base_uri": "https://localhost:8080/"
    },
    "executionInfo": {
     "elapsed": 12,
     "status": "ok",
     "timestamp": 1734471199560,
     "user": {
      "displayName": "Jacqueline Gunther",
      "userId": "09898809932311330039"
     },
     "user_tz": 300
    },
    "id": "FYBL2_i_TQ-M",
    "outputId": "20e58fee-293b-47f3-db1a-edfc188391de"
   },
   "outputs": [
    {
     "name": "stdout",
     "output_type": "stream",
     "text": [
      "Äpple\n"
     ]
    }
   ],
   "source": [
    "print('\\xc4pple')"
   ]
  },
  {
   "cell_type": "code",
   "execution_count": null,
   "metadata": {
    "colab": {
     "base_uri": "https://localhost:8080/"
    },
    "executionInfo": {
     "elapsed": 11,
     "status": "ok",
     "timestamp": 1734471199560,
     "user": {
      "displayName": "Jacqueline Gunther",
      "userId": "09898809932311330039"
     },
     "user_tz": 300
    },
    "id": "7RbEdPKxcLlQ",
    "outputId": "04f405d8-d053-44cf-8a33-515e2f7c1f17"
   },
   "outputs": [
    {
     "name": "stdout",
     "output_type": "stream",
     "text": [
      "🤣\n"
     ]
    }
   ],
   "source": [
    "# Emojis have unicodes\n",
    "print(\"\\U0001F923\")"
   ]
  },
  {
   "cell_type": "markdown",
   "metadata": {
    "id": "S2LX5Lt0dvxw"
   },
   "source": [
    "### Pattern Matching"
   ]
  },
  {
   "cell_type": "code",
   "execution_count": null,
   "metadata": {
    "colab": {
     "base_uri": "https://localhost:8080/",
     "height": 35
    },
    "executionInfo": {
     "elapsed": 11,
     "status": "ok",
     "timestamp": 1734471199560,
     "user": {
      "displayName": "Jacqueline Gunther",
      "userId": "09898809932311330039"
     },
     "user_tz": 300
    },
    "id": "bS2VOceNcZAb",
    "outputId": "4cda1ccc-94ef-4ef3-ca72-650c4d92ff33"
   },
   "outputs": [
    {
     "data": {
      "application/vnd.google.colaboratory.intrinsic+json": {
       "type": "string"
      },
      "text/plain": [
       "'Cookies'"
      ]
     },
     "execution_count": 28,
     "metadata": {},
     "output_type": "execute_result"
    }
   ],
   "source": [
    "import re # Regular Expressions Library\n",
    "pattern = 'Cookies'\n",
    "sequence = 'Cookies are delicious.'\n",
    "re.match(pattern, sequence).group()\n"
   ]
  },
  {
   "cell_type": "markdown",
   "metadata": {
    "id": "cnF6m9gtitA_"
   },
   "source": [
    "## Lists\n",
    "Lists have no fixed size and are mutable, able to modify in place."
   ]
  },
  {
   "cell_type": "code",
   "execution_count": null,
   "metadata": {
    "colab": {
     "base_uri": "https://localhost:8080/"
    },
    "executionInfo": {
     "elapsed": 10,
     "status": "ok",
     "timestamp": 1734471199560,
     "user": {
      "displayName": "Jacqueline Gunther",
      "userId": "09898809932311330039"
     },
     "user_tz": 300
    },
    "id": "w5yaRE8Ki0hx",
    "outputId": "6c56d115-df13-4fce-f2f4-d85cd8c5c0cc"
   },
   "outputs": [
    {
     "data": {
      "text/plain": [
       "3"
      ]
     },
     "execution_count": 29,
     "metadata": {},
     "output_type": "execute_result"
    }
   ],
   "source": [
    "L = [314, 'apple', 3.14]\n",
    "len(L) # find the length of L"
   ]
  },
  {
   "cell_type": "code",
   "execution_count": null,
   "metadata": {
    "colab": {
     "base_uri": "https://localhost:8080/"
    },
    "executionInfo": {
     "elapsed": 9,
     "status": "ok",
     "timestamp": 1734471199560,
     "user": {
      "displayName": "Jacqueline Gunther",
      "userId": "09898809932311330039"
     },
     "user_tz": 300
    },
    "id": "5Wc5DSA6zNag",
    "outputId": "32c7befe-410b-4670-9372-b1f8b16a5620"
   },
   "outputs": [
    {
     "name": "stdout",
     "output_type": "stream",
     "text": [
      "[314, 'apple']\n",
      "[314, 'apple', 3.14, 'orange', 2.343, 8]\n",
      "[314, 'apple', 3.14, 314, 'apple', 3.14]\n",
      "[314, 'apple', 3.14]\n"
     ]
    }
   ],
   "source": [
    "print(L[:-1])                   # gives everything in list except the last item\n",
    "print(L + ['orange', 2.343, 8]) # addes items to the list\n",
    "print(L*2)                      # doubles the list\n",
    "print(L)                        # L still hasn't changed"
   ]
  },
  {
   "cell_type": "code",
   "execution_count": null,
   "metadata": {
    "colab": {
     "base_uri": "https://localhost:8080/"
    },
    "executionInfo": {
     "elapsed": 9,
     "status": "ok",
     "timestamp": 1734471199560,
     "user": {
      "displayName": "Jacqueline Gunther",
      "userId": "09898809932311330039"
     },
     "user_tz": 300
    },
    "id": "8Fm96n5uz2D8",
    "outputId": "e749da80-dab2-4e3f-833c-4b4e681bbf71"
   },
   "outputs": [
    {
     "data": {
      "text/plain": [
       "[314, 'apple', 3.14, 'orange']"
      ]
     },
     "execution_count": 31,
     "metadata": {},
     "output_type": "execute_result"
    }
   ],
   "source": [
    "L.append('orange') # add an item to the end of the list\n",
    "L                  # L has now changed"
   ]
  },
  {
   "cell_type": "code",
   "execution_count": null,
   "metadata": {
    "colab": {
     "base_uri": "https://localhost:8080/"
    },
    "executionInfo": {
     "elapsed": 9,
     "status": "ok",
     "timestamp": 1734471199560,
     "user": {
      "displayName": "Jacqueline Gunther",
      "userId": "09898809932311330039"
     },
     "user_tz": 300
    },
    "id": "CzC67KGvQbA6",
    "outputId": "8d37a186-cd8e-4e84-946c-ea9410abaea0"
   },
   "outputs": [
    {
     "data": {
      "text/plain": [
       "[314, 'apple', 'orange']"
      ]
     },
     "execution_count": 32,
     "metadata": {},
     "output_type": "execute_result"
    }
   ],
   "source": [
    "L.pop(2)  # removed the third element\n",
    "L         # L has changed again"
   ]
  },
  {
   "cell_type": "code",
   "execution_count": null,
   "metadata": {
    "colab": {
     "base_uri": "https://localhost:8080/"
    },
    "executionInfo": {
     "elapsed": 8,
     "status": "ok",
     "timestamp": 1734471199560,
     "user": {
      "displayName": "Jacqueline Gunther",
      "userId": "09898809932311330039"
     },
     "user_tz": 300
    },
    "id": "02JSCQdGQnhY",
    "outputId": "292857c1-05f8-4ed5-9a94-e5af65e00d83"
   },
   "outputs": [
    {
     "name": "stdout",
     "output_type": "stream",
     "text": [
      "['a', 'b', 'c', 'd', 'e']\n",
      "['e', 'd', 'c', 'b', 'a']\n"
     ]
    }
   ],
   "source": [
    "alphabet = ['b','c','a','d','e']\n",
    "alphabet.sort()       # puts the letters in alphabetical order\n",
    "print(alphabet)\n",
    "alphabet.reverse()    # reverses the list\n",
    "print(alphabet)"
   ]
  },
  {
   "cell_type": "code",
   "execution_count": null,
   "metadata": {
    "colab": {
     "base_uri": "https://localhost:8080/"
    },
    "executionInfo": {
     "elapsed": 8,
     "status": "ok",
     "timestamp": 1734471199560,
     "user": {
      "displayName": "Jacqueline Gunther",
      "userId": "09898809932311330039"
     },
     "user_tz": 300
    },
    "id": "02xB-WvjRt8x",
    "outputId": "ed4bfad4-054e-4b50-a3d1-17ee62ba4b11"
   },
   "outputs": [
    {
     "name": "stdout",
     "output_type": "stream",
     "text": [
      "[314, 'apple', 'orange']\n"
     ]
    }
   ],
   "source": [
    "print(L)\n",
    "# L[99]       # This will give an error\n",
    "# L[99] = 1   # This will also give an error"
   ]
  },
  {
   "cell_type": "code",
   "execution_count": null,
   "metadata": {
    "colab": {
     "base_uri": "https://localhost:8080/"
    },
    "executionInfo": {
     "elapsed": 7,
     "status": "ok",
     "timestamp": 1734471199560,
     "user": {
      "displayName": "Jacqueline Gunther",
      "userId": "09898809932311330039"
     },
     "user_tz": 300
    },
    "id": "1TiFU_pU8tZM",
    "outputId": "f213c0da-3c68-47f3-f0c6-bd668e22951e"
   },
   "outputs": [
    {
     "data": {
      "text/plain": [
       "[[1, 2, 3], [4, 5, 6], [7, 8, 9]]"
      ]
     },
     "execution_count": 36,
     "metadata": {},
     "output_type": "execute_result"
    }
   ],
   "source": [
    "## Nesting Lists\n",
    "\n",
    "M = [[1,2,3],\n",
    "     [4,5,6],\n",
    "     [7,8,9]]\n",
    "M"
   ]
  },
  {
   "cell_type": "code",
   "execution_count": null,
   "metadata": {
    "colab": {
     "base_uri": "https://localhost:8080/"
    },
    "executionInfo": {
     "elapsed": 7,
     "status": "ok",
     "timestamp": 1734471199560,
     "user": {
      "displayName": "Jacqueline Gunther",
      "userId": "09898809932311330039"
     },
     "user_tz": 300
    },
    "id": "cE0iVXPsYy5a",
    "outputId": "8661c122-f50b-4703-e41b-7e399649d5af"
   },
   "outputs": [
    {
     "name": "stdout",
     "output_type": "stream",
     "text": [
      "[4, 5, 6]\n",
      "6\n"
     ]
    }
   ],
   "source": [
    "print(M[1]) # Get row 2\n",
    "print(M[1][2]) # Get row 2, then get item 3"
   ]
  },
  {
   "cell_type": "code",
   "execution_count": null,
   "metadata": {
    "colab": {
     "base_uri": "https://localhost:8080/"
    },
    "executionInfo": {
     "elapsed": 7,
     "status": "ok",
     "timestamp": 1734471199560,
     "user": {
      "displayName": "Jacqueline Gunther",
      "userId": "09898809932311330039"
     },
     "user_tz": 300
    },
    "id": "hsnDg0MdZBha",
    "outputId": "f4b3a491-b448-42b4-8677-9d3b92ae113b"
   },
   "outputs": [
    {
     "data": {
      "text/plain": [
       "[2, 5, 8]"
      ]
     },
     "execution_count": 38,
     "metadata": {},
     "output_type": "execute_result"
    }
   ],
   "source": [
    "## List comprehension expression\n",
    "col2 = [row[1] for row in M] # get a list of items in column 2\n",
    "col2\n",
    "\n",
    "# This requires a for loop which we will go over as well.\n",
    "# Briefly for each row in M, the 2nd item is taken and put into a new list."
   ]
  },
  {
   "cell_type": "code",
   "execution_count": null,
   "metadata": {
    "colab": {
     "base_uri": "https://localhost:8080/"
    },
    "executionInfo": {
     "elapsed": 7,
     "status": "ok",
     "timestamp": 1734471199560,
     "user": {
      "displayName": "Jacqueline Gunther",
      "userId": "09898809932311330039"
     },
     "user_tz": 300
    },
    "id": "f2Pe3_LBZXPz",
    "outputId": "d006a719-d24e-4fed-e497-30c5f7ca60f2"
   },
   "outputs": [
    {
     "data": {
      "text/plain": [
       "[[1, 2, 3], [4, 5, 6], [7, 8, 9]]"
      ]
     },
     "execution_count": 39,
     "metadata": {},
     "output_type": "execute_result"
    }
   ],
   "source": [
    "M # M is unchanged"
   ]
  },
  {
   "cell_type": "code",
   "execution_count": null,
   "metadata": {
    "colab": {
     "base_uri": "https://localhost:8080/"
    },
    "executionInfo": {
     "elapsed": 6,
     "status": "ok",
     "timestamp": 1734471199560,
     "user": {
      "displayName": "Jacqueline Gunther",
      "userId": "09898809932311330039"
     },
     "user_tz": 300
    },
    "id": "_jiRdEThZY1R",
    "outputId": "b05d246d-cf5d-486c-a428-955f593a49e6"
   },
   "outputs": [
    {
     "name": "stdout",
     "output_type": "stream",
     "text": [
      "[4, 7, 10]\n",
      "[2, 8]\n"
     ]
    }
   ],
   "source": [
    "print([row[1]+2 for row in M]) # add 2 to each item in column 2\n",
    "print([row[1] for row in M if row[1]%2 == 0]) # Only get even numbers in 2nd column\n",
    "# This latter example requires a for loop and an if statment which will be\n",
    "# described below."
   ]
  },
  {
   "cell_type": "code",
   "execution_count": null,
   "metadata": {
    "colab": {
     "base_uri": "https://localhost:8080/"
    },
    "executionInfo": {
     "elapsed": 294,
     "status": "ok",
     "timestamp": 1734471199848,
     "user": {
      "displayName": "Jacqueline Gunther",
      "userId": "09898809932311330039"
     },
     "user_tz": 300
    },
    "id": "c-lBx05kapby",
    "outputId": "bd9392be-0e4a-4f02-b465-8c83c013bf39"
   },
   "outputs": [
    {
     "data": {
      "text/plain": [
       "[1, 5, 9]"
      ]
     },
     "execution_count": 41,
     "metadata": {},
     "output_type": "execute_result"
    }
   ],
   "source": [
    "diag = [M[i][i] for i in [0,1,2]] # get the diagonal\n",
    "diag"
   ]
  },
  {
   "cell_type": "code",
   "execution_count": null,
   "metadata": {
    "colab": {
     "base_uri": "https://localhost:8080/"
    },
    "executionInfo": {
     "elapsed": 3,
     "status": "ok",
     "timestamp": 1734471199849,
     "user": {
      "displayName": "Jacqueline Gunther",
      "userId": "09898809932311330039"
     },
     "user_tz": 300
    },
    "id": "6fTCnLkTa1DS",
    "outputId": "4d0b7e85-473d-49c6-80b8-83606832892a"
   },
   "outputs": [
    {
     "data": {
      "text/plain": [
       "[0, 1, 2, 3, 4]"
      ]
     },
     "execution_count": 42,
     "metadata": {},
     "output_type": "execute_result"
    }
   ],
   "source": [
    "## Creating lists of numbers using range\n",
    "list(range(5))     # This creates a list of 0-4; python starts at 0 and ends at\n",
    "                   # 5-1 or n-1"
   ]
  },
  {
   "cell_type": "code",
   "execution_count": null,
   "metadata": {
    "colab": {
     "base_uri": "https://localhost:8080/"
    },
    "executionInfo": {
     "elapsed": 2,
     "status": "ok",
     "timestamp": 1734471199849,
     "user": {
      "displayName": "Jacqueline Gunther",
      "userId": "09898809932311330039"
     },
     "user_tz": 300
    },
    "id": "z49qT43Ra4iQ",
    "outputId": "784a0379-da35-4dbc-cb4c-37db94808513"
   },
   "outputs": [
    {
     "name": "stdout",
     "output_type": "stream",
     "text": [
      "[2, 3, 4, 5]\n",
      "[-4, -2, 0, 2, 4]\n"
     ]
    }
   ],
   "source": [
    "print(list(range(2,6)))     # Give a list of numbers starting at 2 and ending at 6-1 or 5\n",
    "print(list(range(-4,5,2)))  # Gives a list of numbers starting at -4 to 5-1 = 4 in intervals of 2"
   ]
  },
  {
   "cell_type": "code",
   "execution_count": null,
   "metadata": {
    "colab": {
     "base_uri": "https://localhost:8080/"
    },
    "executionInfo": {
     "elapsed": 2,
     "status": "ok",
     "timestamp": 1734471199849,
     "user": {
      "displayName": "Jacqueline Gunther",
      "userId": "09898809932311330039"
     },
     "user_tz": 300
    },
    "id": "14dAXEmN-Ogi",
    "outputId": "e1085232-1173-42ce-fdaa-3755cc3a5225"
   },
   "outputs": [
    {
     "data": {
      "text/plain": [
       "[[0, 0], [1, 1], [4, 8], [9, 27]]"
      ]
     },
     "execution_count": 44,
     "metadata": {},
     "output_type": "execute_result"
    }
   ],
   "source": [
    "[[x**2, x**3] for x in range(4)]"
   ]
  },
  {
   "cell_type": "code",
   "execution_count": null,
   "metadata": {
    "colab": {
     "base_uri": "https://localhost:8080/"
    },
    "executionInfo": {
     "elapsed": 146,
     "status": "ok",
     "timestamp": 1734471199993,
     "user": {
      "displayName": "Jacqueline Gunther",
      "userId": "09898809932311330039"
     },
     "user_tz": 300
    },
    "id": "2vZ61J6R_R1U",
    "outputId": "0959c95f-7cbb-41f9-cd53-d56ed26496b8"
   },
   "outputs": [
    {
     "data": {
      "text/plain": [
       "[[0.0, 0, 0], [1.0, 2, 4], [2.0, 4, 16]]"
      ]
     },
     "execution_count": 45,
     "metadata": {},
     "output_type": "execute_result"
    }
   ],
   "source": [
    "[[x/2,x,x**2] for x in range(-4,5,2) if x >= 0]"
   ]
  },
  {
   "cell_type": "code",
   "execution_count": null,
   "metadata": {
    "colab": {
     "base_uri": "https://localhost:8080/"
    },
    "executionInfo": {
     "elapsed": 7,
     "status": "ok",
     "timestamp": 1734471199993,
     "user": {
      "displayName": "Jacqueline Gunther",
      "userId": "09898809932311330039"
     },
     "user_tz": 300
    },
    "id": "44ibkglz_lBz",
    "outputId": "da90cad7-273b-4032-e242-8a176c660dab"
   },
   "outputs": [
    {
     "data": {
      "text/plain": [
       "6"
      ]
     },
     "execution_count": 46,
     "metadata": {},
     "output_type": "execute_result"
    }
   ],
   "source": [
    "## Generators\n",
    "J = (sum(row) for row in M) # This is a generator expression\n",
    "next(J)                     # Next starts the first iteration\n",
    "                            # The answer is 6 since the first row of M gets summed."
   ]
  },
  {
   "cell_type": "code",
   "execution_count": null,
   "metadata": {
    "colab": {
     "base_uri": "https://localhost:8080/"
    },
    "executionInfo": {
     "elapsed": 6,
     "status": "ok",
     "timestamp": 1734471199993,
     "user": {
      "displayName": "Jacqueline Gunther",
      "userId": "09898809932311330039"
     },
     "user_tz": 300
    },
    "id": "8vWsx281DhHU",
    "outputId": "4a010026-045b-4639-b744-0c944c42d33a"
   },
   "outputs": [
    {
     "name": "stdout",
     "output_type": "stream",
     "text": [
      "15\n",
      "24\n"
     ]
    }
   ],
   "source": [
    "print(next(J))    # The answer is 15, the sum of the second row.\n",
    "print(next(J))    # The answer is 24, the sum of the third row.\n",
    "# print(next(J))  # Having another will produce an error since there are no more rows."
   ]
  },
  {
   "cell_type": "code",
   "execution_count": null,
   "metadata": {
    "colab": {
     "base_uri": "https://localhost:8080/"
    },
    "executionInfo": {
     "elapsed": 6,
     "status": "ok",
     "timestamp": 1734471199993,
     "user": {
      "displayName": "Jacqueline Gunther",
      "userId": "09898809932311330039"
     },
     "user_tz": 300
    },
    "id": "EPQwzoUrEuOA",
    "outputId": "d21611eb-16a3-42dc-d2a5-0cb804ae1435"
   },
   "outputs": [
    {
     "data": {
      "text/plain": [
       "[6, 15, 24]"
      ]
     },
     "execution_count": 48,
     "metadata": {},
     "output_type": "execute_result"
    }
   ],
   "source": [
    "## Map\n",
    "# Mapping if very similar where it does a function for each item in a list.\n",
    "\n",
    "list(map(sum,M))"
   ]
  },
  {
   "cell_type": "code",
   "execution_count": null,
   "metadata": {
    "colab": {
     "base_uri": "https://localhost:8080/"
    },
    "executionInfo": {
     "elapsed": 6,
     "status": "ok",
     "timestamp": 1734471199993,
     "user": {
      "displayName": "Jacqueline Gunther",
      "userId": "09898809932311330039"
     },
     "user_tz": 300
    },
    "id": "1AWr0c8jGwUQ",
    "outputId": "9b5e1a62-573b-4f7a-8cf3-9a3e6cc99709"
   },
   "outputs": [
    {
     "data": {
      "text/plain": [
       "{6, 15, 24}"
      ]
     },
     "execution_count": 49,
     "metadata": {},
     "output_type": "execute_result"
    }
   ],
   "source": [
    "## Create a set\n",
    "{sum(row) for row in M}  #The answer is created as a set with curly brackets\n",
    "                         #"
   ]
  },
  {
   "cell_type": "code",
   "execution_count": null,
   "metadata": {
    "colab": {
     "base_uri": "https://localhost:8080/"
    },
    "executionInfo": {
     "elapsed": 6,
     "status": "ok",
     "timestamp": 1734471199994,
     "user": {
      "displayName": "Jacqueline Gunther",
      "userId": "09898809932311330039"
     },
     "user_tz": 300
    },
    "id": "3qHlPDSCHyyx",
    "outputId": "9d6c1474-49f2-46c8-81f9-e3f9b08daf25"
   },
   "outputs": [
    {
     "data": {
      "text/plain": [
       "{0: 6, 1: 15, 2: 24}"
      ]
     },
     "execution_count": 50,
     "metadata": {},
     "output_type": "execute_result"
    }
   ],
   "source": [
    "{i : sum(M[i]) for i in range(3)} # Create a dictionary using iteration"
   ]
  },
  {
   "cell_type": "code",
   "execution_count": null,
   "metadata": {
    "colab": {
     "base_uri": "https://localhost:8080/"
    },
    "executionInfo": {
     "elapsed": 6,
     "status": "ok",
     "timestamp": 1734471199994,
     "user": {
      "displayName": "Jacqueline Gunther",
      "userId": "09898809932311330039"
     },
     "user_tz": 300
    },
    "id": "IT-aUpNOJ8YE",
    "outputId": "f01a014a-7537-4a29-9357-ac53825bc6c7"
   },
   "outputs": [
    {
     "name": "stdout",
     "output_type": "stream",
     "text": [
      "[6, 15, 24]\n",
      "{24, 6, 15}\n",
      "{0: 6, 1: 15, 2: 24}\n",
      "<generator object <genexpr> at 0x7935f02e97e0>\n"
     ]
    }
   ],
   "source": [
    "# Lists, sets, dictionaries, and generators can be built with comprehensions\n",
    "print([sum(row) for row in M])              # List\n",
    "print({sum(row) for row in M})              # Set\n",
    "print({i : sum(M[i]) for i in range(3)})    # Dictionary\n",
    "print((sum(row) for row in M))              # Generator"
   ]
  },
  {
   "cell_type": "markdown",
   "metadata": {
    "id": "qc28cSUHLvsA"
   },
   "source": [
    "## Dictionary\n",
    "These are mappings that consist of keys and values.  Also, these are mutable.\n",
    "\n",
    "For example:\n",
    "\n",
    "key: value\n",
    "\n",
    "OR\n",
    "\n",
    "key: [value1, value2, value3]"
   ]
  },
  {
   "cell_type": "code",
   "execution_count": null,
   "metadata": {
    "colab": {
     "base_uri": "https://localhost:8080/"
    },
    "executionInfo": {
     "elapsed": 6,
     "status": "ok",
     "timestamp": 1734471199994,
     "user": {
      "displayName": "Jacqueline Gunther",
      "userId": "09898809932311330039"
     },
     "user_tz": 300
    },
    "id": "1m_HUmJqLxSh",
    "outputId": "1ea87ae0-c622-4ec4-ede0-38029644a6bf"
   },
   "outputs": [
    {
     "name": "stdout",
     "output_type": "stream",
     "text": [
      "apple\n",
      "4\n",
      "red\n"
     ]
    }
   ],
   "source": [
    "D = {'fruit': 'apple', 'quantity': 4, 'color': 'red'}\n",
    "print(D['fruit'])\n",
    "print(D['quantity'])\n",
    "print(D['color'])"
   ]
  },
  {
   "cell_type": "code",
   "execution_count": null,
   "metadata": {
    "colab": {
     "base_uri": "https://localhost:8080/"
    },
    "executionInfo": {
     "elapsed": 6,
     "status": "ok",
     "timestamp": 1734471199994,
     "user": {
      "displayName": "Jacqueline Gunther",
      "userId": "09898809932311330039"
     },
     "user_tz": 300
    },
    "id": "kaEIVtzKM7Jb",
    "outputId": "ee92ca09-b57c-4acb-c74d-7c7f5d22098f"
   },
   "outputs": [
    {
     "data": {
      "text/plain": [
       "{'fruit': 'apple', 'quantity': 5, 'color': 'red'}"
      ]
     },
     "execution_count": 53,
     "metadata": {},
     "output_type": "execute_result"
    }
   ],
   "source": [
    "D['quantity'] += 1 # add 1 to the quantity\n",
    "D"
   ]
  },
  {
   "cell_type": "code",
   "execution_count": null,
   "metadata": {
    "colab": {
     "base_uri": "https://localhost:8080/"
    },
    "executionInfo": {
     "elapsed": 5,
     "status": "ok",
     "timestamp": 1734471199994,
     "user": {
      "displayName": "Jacqueline Gunther",
      "userId": "09898809932311330039"
     },
     "user_tz": 300
    },
    "id": "UqErKbyVNHud",
    "outputId": "7dc91a1d-4f7b-4cad-ed05-10174532a346"
   },
   "outputs": [
    {
     "data": {
      "text/plain": [
       "{'vegetable': 'carrot', 'quantity': 1, 'color': 'orange'}"
      ]
     },
     "execution_count": 54,
     "metadata": {},
     "output_type": "execute_result"
    }
   ],
   "source": [
    "## Unlike lists, you can add to a dictionary\n",
    "DD = {} # Empty dictionary\n",
    "DD['vegetable'] = 'carrot'  #\n",
    "DD['quantity'] = 1\n",
    "DD['color'] = 'orange'\n",
    "DD"
   ]
  },
  {
   "cell_type": "code",
   "execution_count": null,
   "metadata": {
    "id": "uTJqSlYORFr0"
   },
   "outputs": [],
   "source": [
    "## This example produces an error, but demonstrates that you cannot add to a\n",
    "## a list using indexing.\n",
    "\n",
    "# LL = ['apple', 'orange', 'banana', 'peach', 'plum']\n",
    "# LL[5] = 'pear'"
   ]
  },
  {
   "cell_type": "code",
   "execution_count": null,
   "metadata": {
    "colab": {
     "base_uri": "https://localhost:8080/"
    },
    "executionInfo": {
     "elapsed": 3,
     "status": "ok",
     "timestamp": 1734471199994,
     "user": {
      "displayName": "Jacqueline Gunther",
      "userId": "09898809932311330039"
     },
     "user_tz": 300
    },
    "id": "CNB9tP0WSVkv",
    "outputId": "d9c4a68e-d201-46e7-938a-d5f32d3d44f6"
   },
   "outputs": [
    {
     "name": "stdout",
     "output_type": "stream",
     "text": [
      "{'vegetable': 'carrot', 'quantity': 1, 'color': 'orange'}\n",
      "{'vegetable': 'carrot', 'quantity': 1, 'color': 'orange'}\n",
      "{'vegetable': 'carrot', 'quantity': 1, 'color': 'orange'}\n"
     ]
    }
   ],
   "source": [
    "## Other ways to make a dictionary\n",
    "## Occasionally it will not come back in the same order you type it.\n",
    "## But this does not matter, because dictionaries don't care about order.\n",
    "\n",
    "veggies1 = dict(vegetable = 'carrot', quantity = 1, color = 'orange')               # Using keywords\n",
    "veggies2 = dict(zip(['vegetable', 'quantity', 'color'], ['carrot', 1, 'orange']))   # Using zip function\n",
    "veggies3 = dict([('vegetable', 'carrot'), ('quantity', 1), ('color', 'orange')])    # Other formatting\n",
    "\n",
    "print(veggies1)\n",
    "print(veggies2)\n",
    "print(veggies3)"
   ]
  },
  {
   "cell_type": "code",
   "execution_count": null,
   "metadata": {
    "colab": {
     "base_uri": "https://localhost:8080/"
    },
    "executionInfo": {
     "elapsed": 124,
     "status": "ok",
     "timestamp": 1734471200115,
     "user": {
      "displayName": "Jacqueline Gunther",
      "userId": "09898809932311330039"
     },
     "user_tz": 300
    },
    "id": "HyCqgxZ5SlAL",
    "outputId": "9c72e805-1cc0-4d29-ddb7-fbb52902ee91"
   },
   "outputs": [
    {
     "data": {
      "text/plain": [
       "{'name': {'cake': ['chocolate', 'vanilla'],\n",
       "  'ice cream': ['mint', 'cookie dough']},\n",
       " 'price': {'cake': 5, 'ice cream': 4},\n",
       " 'quantity': {'cake': 1, 'ice cream': 2}}"
      ]
     },
     "execution_count": 57,
     "metadata": {},
     "output_type": "execute_result"
    }
   ],
   "source": [
    "## Nesting Dictionaries\n",
    "dessert = {'name':{'cake':['chocolate','vanilla'],'ice cream':['mint','cookie dough']},\n",
    "           'price':{'cake':5,'ice cream':4},\n",
    "           'quantity':{'cake':1,'ice cream':2}}\n",
    "dessert\n"
   ]
  },
  {
   "cell_type": "code",
   "execution_count": null,
   "metadata": {
    "colab": {
     "base_uri": "https://localhost:8080/"
    },
    "executionInfo": {
     "elapsed": 3,
     "status": "ok",
     "timestamp": 1734471200115,
     "user": {
      "displayName": "Jacqueline Gunther",
      "userId": "09898809932311330039"
     },
     "user_tz": 300
    },
    "id": "GyYdP8BBsybz",
    "outputId": "7d12988e-b0db-401d-91b8-9a209109e16f"
   },
   "outputs": [
    {
     "name": "stdout",
     "output_type": "stream",
     "text": [
      "{'cake': ['chocolate', 'vanilla'], 'ice cream': ['mint', 'cookie dough']}\n",
      "['chocolate', 'vanilla']\n",
      "5\n",
      "2\n",
      "mint\n"
     ]
    }
   ],
   "source": [
    "print(dessert['name'])                  # name of desserts and flavors\n",
    "print(dessert['name']['cake'])          # flavors available for cake\n",
    "print(dessert['price']['cake'])         # price of cake\n",
    "print(dessert['quantity']['ice cream']) # how much ice cream\n",
    "print(dessert['name']['ice cream'][0]) # first flavor of ice cream"
   ]
  },
  {
   "cell_type": "code",
   "execution_count": null,
   "metadata": {
    "colab": {
     "base_uri": "https://localhost:8080/"
    },
    "executionInfo": {
     "elapsed": 2,
     "status": "ok",
     "timestamp": 1734471200115,
     "user": {
      "displayName": "Jacqueline Gunther",
      "userId": "09898809932311330039"
     },
     "user_tz": 300
    },
    "id": "rnxEg6sbs51A",
    "outputId": "a4caad3e-e864-4406-fda5-e23e7885d697"
   },
   "outputs": [
    {
     "data": {
      "text/plain": [
       "['chocolate', 'vanilla', 'birthday']"
      ]
     },
     "execution_count": 59,
     "metadata": {},
     "output_type": "execute_result"
    }
   ],
   "source": [
    "dessert['name']['cake'].append('birthday')  # can add/append a list\n",
    "dessert['name']['cake']"
   ]
  },
  {
   "cell_type": "code",
   "execution_count": null,
   "metadata": {
    "colab": {
     "base_uri": "https://localhost:8080/"
    },
    "executionInfo": {
     "elapsed": 165,
     "status": "ok",
     "timestamp": 1734471200278,
     "user": {
      "displayName": "Jacqueline Gunther",
      "userId": "09898809932311330039"
     },
     "user_tz": 300
    },
    "id": "5XEXOQrwQn6U",
    "outputId": "a1f57e36-1164-4a34-8c1d-a0a4e29be1ce"
   },
   "outputs": [
    {
     "name": "stdout",
     "output_type": "stream",
     "text": [
      "0\n"
     ]
    }
   ],
   "source": [
    "dessert = 0       # Object's space is reclaimed by 0\n",
    "print(dessert)"
   ]
  },
  {
   "cell_type": "code",
   "execution_count": null,
   "metadata": {
    "id": "aYfODoZwQ-MO"
   },
   "outputs": [],
   "source": [
    "DDD = {'A':1, 'B':2, 'C':3}"
   ]
  },
  {
   "cell_type": "code",
   "execution_count": null,
   "metadata": {
    "colab": {
     "base_uri": "https://localhost:8080/"
    },
    "executionInfo": {
     "elapsed": 7,
     "status": "ok",
     "timestamp": 1734471200278,
     "user": {
      "displayName": "Jacqueline Gunther",
      "userId": "09898809932311330039"
     },
     "user_tz": 300
    },
    "id": "qYwVaDV2Rcuu",
    "outputId": "1c2f63e8-bfdb-4da3-b52f-753931086c14"
   },
   "outputs": [
    {
     "data": {
      "text/plain": [
       "{'A': 1, 'B': 2, 'C': 3, 'J': 100}"
      ]
     },
     "execution_count": 62,
     "metadata": {},
     "output_type": "execute_result"
    }
   ],
   "source": [
    "DDD['J'] = 100\n",
    "DDD"
   ]
  },
  {
   "cell_type": "code",
   "execution_count": null,
   "metadata": {
    "collapsed": true,
    "id": "d1rxYicvRkNO",
    "jupyter": {
     "outputs_hidden": true
    }
   },
   "outputs": [],
   "source": [
    "# DDD['K']      # this will give an error since there is no key called K"
   ]
  },
  {
   "cell_type": "code",
   "execution_count": null,
   "metadata": {
    "colab": {
     "base_uri": "https://localhost:8080/"
    },
    "executionInfo": {
     "elapsed": 6,
     "status": "ok",
     "timestamp": 1734471200278,
     "user": {
      "displayName": "Jacqueline Gunther",
      "userId": "09898809932311330039"
     },
     "user_tz": 300
    },
    "id": "DZct9GqVRpfJ",
    "outputId": "1ebb1ab8-d1d2-45fa-efaf-4eed9a2de725"
   },
   "outputs": [
    {
     "name": "stdout",
     "output_type": "stream",
     "text": [
      "False\n",
      "missing\n"
     ]
    }
   ],
   "source": [
    "## We can check first if the key exists instead of creating an error\n",
    "\n",
    "print('K' in DDD)  # checks if K is in DDD and prints True or False. In this case False\n",
    "\n",
    "if not 'K' in DDD: # Use an if statement asking if K is in DDD like above.  This\n",
    "  print('missing') # is false but since there is a 'not' this turns the statement\n",
    "                   # true and alows the code to contine to the next line and\n",
    "                   # print the word missing.  More on if statements later.\n"
   ]
  },
  {
   "cell_type": "code",
   "execution_count": null,
   "metadata": {
    "colab": {
     "base_uri": "https://localhost:8080/"
    },
    "executionInfo": {
     "elapsed": 5,
     "status": "ok",
     "timestamp": 1734471200278,
     "user": {
      "displayName": "Jacqueline Gunther",
      "userId": "09898809932311330039"
     },
     "user_tz": 300
    },
    "id": "NcAvlu7LR6EK",
    "outputId": "91983cb6-5de8-4113-859b-b8c2a574d786"
   },
   "outputs": [
    {
     "data": {
      "text/plain": [
       "0"
      ]
     },
     "execution_count": 65,
     "metadata": {},
     "output_type": "execute_result"
    }
   ],
   "source": [
    "DDD.get('X',0)   # Find the value for when the key is X.  If no X, return 0.\n",
    "# Same as this\n",
    "# DDD['X'] if 'X' in DDD else 0"
   ]
  },
  {
   "cell_type": "code",
   "execution_count": null,
   "metadata": {
    "colab": {
     "base_uri": "https://localhost:8080/"
    },
    "executionInfo": {
     "elapsed": 4,
     "status": "ok",
     "timestamp": 1734471200278,
     "user": {
      "displayName": "Jacqueline Gunther",
      "userId": "09898809932311330039"
     },
     "user_tz": 300
    },
    "id": "8BlGElT8UXkg",
    "outputId": "e11cc76d-28dc-4e3b-fff8-91b94bfc6c70"
   },
   "outputs": [
    {
     "data": {
      "text/plain": [
       "['a', 'c', 'b']"
      ]
     },
     "execution_count": 66,
     "metadata": {},
     "output_type": "execute_result"
    }
   ],
   "source": [
    "F = {'a':1, 'c':2, 'b':3}\n",
    "F_keys = list(F.keys())   # .keys gives you the keys of the dictionary\n",
    "                          # You need list to change it to a list.\n",
    "F_keys"
   ]
  },
  {
   "cell_type": "code",
   "execution_count": null,
   "metadata": {
    "colab": {
     "base_uri": "https://localhost:8080/"
    },
    "executionInfo": {
     "elapsed": 140,
     "status": "ok",
     "timestamp": 1734471200415,
     "user": {
      "displayName": "Jacqueline Gunther",
      "userId": "09898809932311330039"
     },
     "user_tz": 300
    },
    "id": "lzmcJ0xtXQp2",
    "outputId": "fc4432c3-f59e-4c71-bbf4-72c1c1d1a11e"
   },
   "outputs": [
    {
     "data": {
      "text/plain": [
       "['a', 'b', 'c']"
      ]
     },
     "execution_count": 67,
     "metadata": {},
     "output_type": "execute_result"
    }
   ],
   "source": [
    "F_keys.sort() # sort in order\n",
    "F_keys"
   ]
  },
  {
   "cell_type": "code",
   "execution_count": null,
   "metadata": {
    "colab": {
     "base_uri": "https://localhost:8080/"
    },
    "executionInfo": {
     "elapsed": 4,
     "status": "ok",
     "timestamp": 1734471200415,
     "user": {
      "displayName": "Jacqueline Gunther",
      "userId": "09898809932311330039"
     },
     "user_tz": 300
    },
    "id": "Dh0IhUtcXiB8",
    "outputId": "fe5847b8-db60-43af-ad8b-ebb2b9fab200"
   },
   "outputs": [
    {
     "data": {
      "text/plain": [
       "['a', 'b', 'c']"
      ]
     },
     "execution_count": 68,
     "metadata": {},
     "output_type": "execute_result"
    }
   ],
   "source": [
    "sorted(F)"
   ]
  },
  {
   "cell_type": "code",
   "execution_count": null,
   "metadata": {
    "colab": {
     "base_uri": "https://localhost:8080/"
    },
    "executionInfo": {
     "elapsed": 3,
     "status": "ok",
     "timestamp": 1734471200415,
     "user": {
      "displayName": "Jacqueline Gunther",
      "userId": "09898809932311330039"
     },
     "user_tz": 300
    },
    "id": "hM1rARhj5Om1",
    "outputId": "cae4bf4a-d294-4999-8974-730c993d12a3"
   },
   "outputs": [
    {
     "name": "stdout",
     "output_type": "stream",
     "text": [
      "a => 1\n",
      "b => 3\n",
      "c => 2\n"
     ]
    }
   ],
   "source": [
    "## Another way to display\n",
    "for key in sorted(F):\n",
    "  print(key, '=>', F[key])"
   ]
  },
  {
   "cell_type": "code",
   "execution_count": null,
   "metadata": {
    "colab": {
     "base_uri": "https://localhost:8080/"
    },
    "executionInfo": {
     "elapsed": 2,
     "status": "ok",
     "timestamp": 1734471200415,
     "user": {
      "displayName": "Jacqueline Gunther",
      "userId": "09898809932311330039"
     },
     "user_tz": 300
    },
    "id": "S9yW2HZp5qJH",
    "outputId": "6af56f43-3e7f-4f04-f0f9-467a189f7f51"
   },
   "outputs": [
    {
     "name": "stdout",
     "output_type": "stream",
     "text": [
      "1\n",
      "2\n",
      "3\n",
      "4\n",
      "5\n"
     ]
    }
   ],
   "source": [
    "## Tangent about for loops\n",
    "# for loops are for iterating a process.\n",
    "# The example below iterates the print function\n",
    "# based on what i is.  In the first iteration i = 1\n",
    "# then i = 2, so on an so forth until i = 5.  Once\n",
    "# i = 5 is complete then the for loop terminates.\n",
    "for i in [1,2,3,4,5]:\n",
    "  print(i)"
   ]
  },
  {
   "cell_type": "code",
   "execution_count": null,
   "metadata": {
    "colab": {
     "base_uri": "https://localhost:8080/"
    },
    "executionInfo": {
     "elapsed": 173,
     "status": "ok",
     "timestamp": 1734471200587,
     "user": {
      "displayName": "Jacqueline Gunther",
      "userId": "09898809932311330039"
     },
     "user_tz": 300
    },
    "id": "SWMYpafJ5wS2",
    "outputId": "6aa72048-d3e7-4d82-83fd-1ade3707b9b3"
   },
   "outputs": [
    {
     "name": "stdout",
     "output_type": "stream",
     "text": [
      "3\n",
      "2\n",
      "1\n"
     ]
    }
   ],
   "source": [
    "## Tangent about while loops\n",
    "# while loops are like for loops in the sense that it iterates\n",
    "# but will keep going unless a certain condition is met.\n",
    "# In the example below, the loop will only run when x is greater than 0.\n",
    "# However, within in the loop, x=x-1 is making x smaller by 1 at each iteration.\n",
    "# Eventually x will equal 0, and the condition will not be true and the loop\n",
    "# will stop.\n",
    "\n",
    "x = 3\n",
    "while x > 0:\n",
    "  print(x)\n",
    "  x = x-1\n",
    "\n",
    "# Note: avoid using while loops unless very necessary.  While loops can run forever\n",
    "# and will require to hard stop your code.  For example, if I deleted x=x-1,\n",
    "# the code will keep going forever, since the condition will always be true (x=3),\n",
    "# no matter how many iterations take place."
   ]
  },
  {
   "cell_type": "code",
   "execution_count": null,
   "metadata": {
    "colab": {
     "base_uri": "https://localhost:8080/"
    },
    "executionInfo": {
     "elapsed": 3,
     "status": "ok",
     "timestamp": 1734471200587,
     "user": {
      "displayName": "Jacqueline Gunther",
      "userId": "09898809932311330039"
     },
     "user_tz": 300
    },
    "id": "wIMHmhG87BbA",
    "outputId": "a70ae96a-417e-4dbe-c08d-c443524a3c88"
   },
   "outputs": [
    {
     "data": {
      "text/plain": [
       "[1, 4, 9, 16, 25]"
      ]
     },
     "execution_count": 72,
     "metadata": {},
     "output_type": "execute_result"
    }
   ],
   "source": [
    "## These loops can be used on objects that are iterable like lists.\n",
    "\n",
    "square = [y**2 for y in [1,2,3,4,5]]\n",
    "square"
   ]
  },
  {
   "cell_type": "code",
   "execution_count": null,
   "metadata": {
    "colab": {
     "base_uri": "https://localhost:8080/"
    },
    "executionInfo": {
     "elapsed": 188,
     "status": "ok",
     "timestamp": 1734471200773,
     "user": {
      "displayName": "Jacqueline Gunther",
      "userId": "09898809932311330039"
     },
     "user_tz": 300
    },
    "id": "FP3W8au1_A57",
    "outputId": "0b9d5a6a-d09a-45f4-b5b1-e9326be9fbd5"
   },
   "outputs": [
    {
     "data": {
      "text/plain": [
       "[1, 4, 9, 16, 25]"
      ]
     },
     "execution_count": 73,
     "metadata": {},
     "output_type": "execute_result"
    }
   ],
   "source": [
    "square = []           # To make the loop in this format you need to initiate the list.\n",
    "for y in [1,2,3,4,5]:\n",
    "  square.append(y**2)\n",
    "square                # Same result as above."
   ]
  },
  {
   "cell_type": "code",
   "execution_count": null,
   "metadata": {
    "id": "it4fXKuM_C9w"
   },
   "outputs": [],
   "source": []
  },
  {
   "cell_type": "markdown",
   "metadata": {
    "id": "dunEm87sTVwT"
   },
   "source": []
  },
  {
   "cell_type": "markdown",
   "metadata": {
    "id": "eXiuHRLzTYIr"
   },
   "source": [
    "## Tuples\n",
    "Tupes are lists that cannot be changed.\n",
    "\n",
    "They are sequences like lists.\n",
    "\n",
    "But immutable like strings."
   ]
  },
  {
   "cell_type": "code",
   "execution_count": null,
   "metadata": {
    "colab": {
     "base_uri": "https://localhost:8080/"
    },
    "executionInfo": {
     "elapsed": 4,
     "status": "ok",
     "timestamp": 1734471200773,
     "user": {
      "displayName": "Jacqueline Gunther",
      "userId": "09898809932311330039"
     },
     "user_tz": 300
    },
    "id": "bDSteh77TZl5",
    "outputId": "2686c2f4-795c-430e-fb31-d695de5dcb70"
   },
   "outputs": [
    {
     "data": {
      "text/plain": [
       "(1, 2, 3, 4)"
      ]
     },
     "execution_count": 74,
     "metadata": {},
     "output_type": "execute_result"
    }
   ],
   "source": [
    "T = (1,2,3,4)\n",
    "T"
   ]
  },
  {
   "cell_type": "code",
   "execution_count": null,
   "metadata": {
    "colab": {
     "base_uri": "https://localhost:8080/"
    },
    "executionInfo": {
     "elapsed": 4,
     "status": "ok",
     "timestamp": 1734471200774,
     "user": {
      "displayName": "Jacqueline Gunther",
      "userId": "09898809932311330039"
     },
     "user_tz": 300
    },
    "id": "99LT2-8yTvZs",
    "outputId": "ca50fa5b-208e-48b7-d8c9-ecca80f9f9cc"
   },
   "outputs": [
    {
     "name": "stdout",
     "output_type": "stream",
     "text": [
      "(1, 2, 3, 4, 5, 6)\n",
      "1\n"
     ]
    }
   ],
   "source": [
    "print(T + (5,6))   # Concat\n",
    "print(T[0])        # Index"
   ]
  },
  {
   "cell_type": "code",
   "execution_count": null,
   "metadata": {
    "colab": {
     "base_uri": "https://localhost:8080/"
    },
    "executionInfo": {
     "elapsed": 4,
     "status": "ok",
     "timestamp": 1734471200774,
     "user": {
      "displayName": "Jacqueline Gunther",
      "userId": "09898809932311330039"
     },
     "user_tz": 300
    },
    "id": "dSw01NdfT3Lr",
    "outputId": "6464fa51-e058-4e41-febf-451b518c1e03"
   },
   "outputs": [
    {
     "name": "stdout",
     "output_type": "stream",
     "text": [
      "2\n",
      "1\n"
     ]
    }
   ],
   "source": [
    "# Tuple-specific Methods\n",
    "T2 = (3, 5, 8, 1)\n",
    "print(T2.index(8))  # The number 8 appears at position 2\n",
    "print(T2.count(8))  # 8 appears once in the tuple"
   ]
  },
  {
   "cell_type": "code",
   "execution_count": null,
   "metadata": {
    "id": "FBxFnXj7UTBQ"
   },
   "outputs": [],
   "source": [
    "## Tuples are immutable\n",
    "# T2[0] = 2\n",
    "# T2.append(4)\n",
    "# This would produce an error because you cannot change the tuple."
   ]
  },
  {
   "cell_type": "code",
   "execution_count": null,
   "metadata": {
    "colab": {
     "base_uri": "https://localhost:8080/"
    },
    "executionInfo": {
     "elapsed": 3,
     "status": "ok",
     "timestamp": 1734471200774,
     "user": {
      "displayName": "Jacqueline Gunther",
      "userId": "09898809932311330039"
     },
     "user_tz": 300
    },
    "id": "r3jI8zg8V5vi",
    "outputId": "624915bd-706e-4460-9076-35a54898aec3"
   },
   "outputs": [
    {
     "data": {
      "text/plain": [
       "(2, 5, 8, 1)"
      ]
     },
     "execution_count": 78,
     "metadata": {},
     "output_type": "execute_result"
    }
   ],
   "source": [
    "T2 = (2,)+T2[1:]  # This works becasue it is technically creating a new tuple,\n",
    "                  # even if the name is the same.  T2 is being overwritten here.\n",
    "T2"
   ]
  },
  {
   "cell_type": "code",
   "execution_count": null,
   "metadata": {
    "colab": {
     "base_uri": "https://localhost:8080/"
    },
    "executionInfo": {
     "elapsed": 278,
     "status": "ok",
     "timestamp": 1734471201050,
     "user": {
      "displayName": "Jacqueline Gunther",
      "userId": "09898809932311330039"
     },
     "user_tz": 300
    },
    "id": "4guPvX6XWFJL",
    "outputId": "ad5f6ec9-fbf1-4be9-bd2d-b1ef5c30440c"
   },
   "outputs": [
    {
     "data": {
      "text/plain": [
       "('apple', 4, [12, 13, 14])"
      ]
     },
     "execution_count": 79,
     "metadata": {},
     "output_type": "execute_result"
    }
   ],
   "source": [
    "T3 = 'apple', 4, [12, 13, 14]  #Sometimes tuples do not need parenthesis\n",
    "T3"
   ]
  },
  {
   "cell_type": "code",
   "execution_count": null,
   "metadata": {
    "colab": {
     "base_uri": "https://localhost:8080/"
    },
    "executionInfo": {
     "elapsed": 4,
     "status": "ok",
     "timestamp": 1734471201050,
     "user": {
      "displayName": "Jacqueline Gunther",
      "userId": "09898809932311330039"
     },
     "user_tz": 300
    },
    "id": "WysFtyYjW_Ke",
    "outputId": "3f704095-4dfd-4f06-d1cf-5678a1983b1f"
   },
   "outputs": [
    {
     "name": "stdout",
     "output_type": "stream",
     "text": [
      "4\n",
      "13\n"
     ]
    }
   ],
   "source": [
    "print(T3[1])\n",
    "print(T3[2][1])"
   ]
  },
  {
   "cell_type": "markdown",
   "metadata": {
    "id": "3as8jz2HX32q"
   },
   "source": [
    "## Files\n",
    "\n",
    "Python can create, open, write, overwrite, and save files.\n"
   ]
  },
  {
   "cell_type": "code",
   "execution_count": null,
   "metadata": {
    "id": "pa7PtnGJX5CC"
   },
   "outputs": [],
   "source": [
    "f = open('say_hello.txt','w')  # Create a new file. 'w' means you can write in it.\n",
    "f.write('Hello World!')        # Write in the file.\n",
    "f.close()                      # Close the file.  This is very important!\n",
    "\n",
    "# The file gets created in you current working directory.  For this example, the\n",
    "# file should be in the file list of this colab."
   ]
  },
  {
   "cell_type": "code",
   "execution_count": null,
   "metadata": {
    "colab": {
     "base_uri": "https://localhost:8080/",
     "height": 35
    },
    "executionInfo": {
     "elapsed": 3,
     "status": "ok",
     "timestamp": 1734471201050,
     "user": {
      "displayName": "Jacqueline Gunther",
      "userId": "09898809932311330039"
     },
     "user_tz": 300
    },
    "id": "TArd41F7Y7Fm",
    "outputId": "69c1f876-b382-4860-a711-8d8305693c7c"
   },
   "outputs": [
    {
     "data": {
      "application/vnd.google.colaboratory.intrinsic+json": {
       "type": "string"
      },
      "text/plain": [
       "'Hello World!'"
      ]
     },
     "execution_count": 82,
     "metadata": {},
     "output_type": "execute_result"
    }
   ],
   "source": [
    "# Read the file\n",
    "f = open('say_hello.txt','r')  # Open the file. 'r' means you read the file\n",
    "out = f.read()                 # Get the texts.\n",
    "f.close()                      # Close the file.\n",
    "out\n"
   ]
  },
  {
   "cell_type": "code",
   "execution_count": null,
   "metadata": {
    "colab": {
     "base_uri": "https://localhost:8080/"
    },
    "executionInfo": {
     "elapsed": 6,
     "status": "ok",
     "timestamp": 1734471201154,
     "user": {
      "displayName": "Jacqueline Gunther",
      "userId": "09898809932311330039"
     },
     "user_tz": 300
    },
    "id": "6T09skL0ZUox",
    "outputId": "7c03c768-3075-4f19-a51b-c967922cdc30"
   },
   "outputs": [
    {
     "data": {
      "text/plain": [
       "['Hello', 'World!']"
      ]
     },
     "execution_count": 83,
     "metadata": {},
     "output_type": "execute_result"
    }
   ],
   "source": [
    "out.split() # split the words"
   ]
  },
  {
   "cell_type": "code",
   "execution_count": null,
   "metadata": {
    "id": "ixozatgX7k5Q"
   },
   "outputs": [],
   "source": [
    "f = open('say_hello.txt','a')  # Create a new file. 'a' means you can append it.\n",
    "f.write('\\nHello Mars!')       # Write new line.\n",
    "f.close()                      # Close the file.  This is very important!\n"
   ]
  },
  {
   "cell_type": "code",
   "execution_count": null,
   "metadata": {
    "colab": {
     "base_uri": "https://localhost:8080/"
    },
    "executionInfo": {
     "elapsed": 5,
     "status": "ok",
     "timestamp": 1734471201154,
     "user": {
      "displayName": "Jacqueline Gunther",
      "userId": "09898809932311330039"
     },
     "user_tz": 300
    },
    "id": "Jorktex1Z6zN",
    "outputId": "01cbdf40-1d1d-42ca-ad08-f5833f9a08cc"
   },
   "outputs": [
    {
     "name": "stdout",
     "output_type": "stream",
     "text": [
      "Hello World!\n",
      "\n",
      "Hello Mars!\n"
     ]
    }
   ],
   "source": [
    "for line in open('say_hello.txt'):  # prints line by line\n",
    "  print(line)"
   ]
  },
  {
   "cell_type": "markdown",
   "metadata": {
    "id": "ALO4mUGtrLds"
   },
   "source": [
    "## Sets"
   ]
  },
  {
   "cell_type": "code",
   "execution_count": null,
   "metadata": {
    "colab": {
     "base_uri": "https://localhost:8080/"
    },
    "executionInfo": {
     "elapsed": 4,
     "status": "ok",
     "timestamp": 1734471201154,
     "user": {
      "displayName": "Jacqueline Gunther",
      "userId": "09898809932311330039"
     },
     "user_tz": 300
    },
    "id": "Y9xqKAWJrNtT",
    "outputId": "7f2b0910-a92f-490b-e7e3-49b9c675b3fb"
   },
   "outputs": [
    {
     "data": {
      "text/plain": [
       "({'a', 'e', 'n', 'p', 't', 'u'}, {'n', 't', 'u'})"
      ]
     },
     "execution_count": 86,
     "metadata": {},
     "output_type": "execute_result"
    }
   ],
   "source": [
    "P = set('peanut')   # Make a set from a sequence\n",
    "N = {'n','u','t'}   # Make a set out from each character\n",
    "\n",
    "P,N"
   ]
  },
  {
   "cell_type": "code",
   "execution_count": null,
   "metadata": {
    "colab": {
     "base_uri": "https://localhost:8080/"
    },
    "executionInfo": {
     "elapsed": 3,
     "status": "ok",
     "timestamp": 1734471201154,
     "user": {
      "displayName": "Jacqueline Gunther",
      "userId": "09898809932311330039"
     },
     "user_tz": 300
    },
    "id": "p4moQUHsrmpx",
    "outputId": "39e87d03-267e-4864-c59d-a35dfcd46bdf"
   },
   "outputs": [
    {
     "name": "stdout",
     "output_type": "stream",
     "text": [
      "{'n', 'u', 't'}\n",
      "{'e', 'p', 'n', 'a', 't', 'u'}\n",
      "{'p', 'a', 'e'}\n"
     ]
    }
   ],
   "source": [
    "print(P&N) # Intersection\n",
    "print(P|N) # Union\n",
    "print(P-N) # Difference"
   ]
  },
  {
   "cell_type": "code",
   "execution_count": null,
   "metadata": {
    "colab": {
     "base_uri": "https://localhost:8080/"
    },
    "executionInfo": {
     "elapsed": 3,
     "status": "ok",
     "timestamp": 1734471201154,
     "user": {
      "displayName": "Jacqueline Gunther",
      "userId": "09898809932311330039"
     },
     "user_tz": 300
    },
    "id": "OuI4eZ20rwXg",
    "outputId": "9cbd3c60-5107-4d70-d55a-6c6a3238dcef"
   },
   "outputs": [
    {
     "data": {
      "text/plain": [
       "[1, 2, 3]"
      ]
     },
     "execution_count": 88,
     "metadata": {},
     "output_type": "execute_result"
    }
   ],
   "source": [
    "list(set([1,2,3,1,2,3])) # remove duplicates"
   ]
  },
  {
   "cell_type": "code",
   "execution_count": null,
   "metadata": {
    "colab": {
     "base_uri": "https://localhost:8080/"
    },
    "executionInfo": {
     "elapsed": 2,
     "status": "ok",
     "timestamp": 1734471201154,
     "user": {
      "displayName": "Jacqueline Gunther",
      "userId": "09898809932311330039"
     },
     "user_tz": 300
    },
    "id": "U7iCwuhosXxf",
    "outputId": "e4202217-f616-4b6c-de6c-bd3fc9adee43"
   },
   "outputs": [
    {
     "data": {
      "text/plain": [
       "True"
      ]
     },
     "execution_count": 89,
     "metadata": {},
     "output_type": "execute_result"
    }
   ],
   "source": [
    "set('apple') == set('pleap') # order doesn't matter"
   ]
  },
  {
   "cell_type": "markdown",
   "metadata": {
    "id": "o57fcZWxtDf2"
   },
   "source": [
    "## Boolean"
   ]
  },
  {
   "cell_type": "code",
   "execution_count": null,
   "metadata": {
    "colab": {
     "base_uri": "https://localhost:8080/"
    },
    "executionInfo": {
     "elapsed": 148,
     "status": "ok",
     "timestamp": 1734471201301,
     "user": {
      "displayName": "Jacqueline Gunther",
      "userId": "09898809932311330039"
     },
     "user_tz": 300
    },
    "id": "7hlHeptCtFdu",
    "outputId": "0a23bb46-2f14-4582-d7f0-d7f5da163378"
   },
   "outputs": [
    {
     "name": "stdout",
     "output_type": "stream",
     "text": [
      "False\n",
      "True\n",
      "False\n",
      "True\n"
     ]
    }
   ],
   "source": [
    "print(1>2)\n",
    "print(1<2)\n",
    "print(1==2)\n",
    "print(1!=2)"
   ]
  },
  {
   "cell_type": "code",
   "execution_count": null,
   "metadata": {
    "colab": {
     "base_uri": "https://localhost:8080/"
    },
    "executionInfo": {
     "elapsed": 2,
     "status": "ok",
     "timestamp": 1734471201301,
     "user": {
      "displayName": "Jacqueline Gunther",
      "userId": "09898809932311330039"
     },
     "user_tz": 300
    },
    "id": "aH0Ag0HbtPZ3",
    "outputId": "2f53125d-6fbc-46f9-b465-2c16d38f8437"
   },
   "outputs": [
    {
     "name": "stdout",
     "output_type": "stream",
     "text": [
      "True\n",
      "False\n",
      "False\n",
      "True\n",
      "True\n",
      "False\n",
      "False\n",
      "True\n"
     ]
    }
   ],
   "source": [
    "print(True and True)\n",
    "print(True and False)\n",
    "print(False and False)\n",
    "print(True or True)\n",
    "print(True or False)\n",
    "print(False or False)\n",
    "print(not True)\n",
    "print(not False)"
   ]
  },
  {
   "cell_type": "markdown",
   "metadata": {
    "id": "tFDnNZPah4LC"
   },
   "source": [
    "## Find the type\n",
    "\n",
    "type() tells you what type of object the varible is."
   ]
  },
  {
   "cell_type": "code",
   "execution_count": null,
   "metadata": {
    "colab": {
     "base_uri": "https://localhost:8080/"
    },
    "executionInfo": {
     "elapsed": 149,
     "status": "ok",
     "timestamp": 1734471201449,
     "user": {
      "displayName": "Jacqueline Gunther",
      "userId": "09898809932311330039"
     },
     "user_tz": 300
    },
    "id": "ERXpomK0h7hG",
    "outputId": "f7992955-659e-485e-e48a-96603b946d9b"
   },
   "outputs": [
    {
     "name": "stdout",
     "output_type": "stream",
     "text": [
      "<class 'list'>\n",
      "<class 'dict'>\n",
      "<class 'int'>\n",
      "<class 'float'>\n",
      "<class 'str'>\n"
     ]
    }
   ],
   "source": [
    "print(type(L))\n",
    "print(type(D))\n",
    "print(type(2))\n",
    "print(type(2.0))\n",
    "print(type('2'))"
   ]
  },
  {
   "cell_type": "markdown",
   "metadata": {
    "id": "NN-2IeMQhsGE"
   },
   "source": [
    "## User Defined Clases"
   ]
  },
  {
   "cell_type": "code",
   "execution_count": null,
   "metadata": {
    "id": "fX5c8jU9hvK8"
   },
   "outputs": [],
   "source": [
    "class fruits:                               # Name of the class\n",
    "  def __init__(self, name, color, price):   # Initialize: self (the variable); name, color, and price are the attributes of self\n",
    "    self.name = name                        # Name of fruit\n",
    "    self.color = color                      # Color of fruit\n",
    "    self.price = price                      # Price of fruit"
   ]
  },
  {
   "cell_type": "code",
   "execution_count": null,
   "metadata": {
    "id": "c0TDB_SUiTjL"
   },
   "outputs": [],
   "source": [
    "apple = fruits('apple', 'red', 1)\n",
    "orange = fruits('orange', 'orange', 2)\n",
    "banana = fruits('banana', 'yellow', 3)\n"
   ]
  },
  {
   "cell_type": "code",
   "execution_count": null,
   "metadata": {
    "colab": {
     "base_uri": "https://localhost:8080/"
    },
    "executionInfo": {
     "elapsed": 205,
     "status": "ok",
     "timestamp": 1734471399634,
     "user": {
      "displayName": "Jacqueline Gunther",
      "userId": "09898809932311330039"
     },
     "user_tz": 300
    },
    "id": "PCf5dSc5iWsW",
    "outputId": "61e2a656-34b5-4ed3-efb2-a76bb594d116"
   },
   "outputs": [
    {
     "name": "stdout",
     "output_type": "stream",
     "text": [
      "red\n",
      "orange\n",
      "3\n"
     ]
    }
   ],
   "source": [
    "print(apple.color)\n",
    "print(orange.name)\n",
    "print(banana.price)"
   ]
  },
  {
   "cell_type": "markdown",
   "metadata": {
    "id": "EYbsvrQLfBbB"
   },
   "source": [
    "## Assignment and Deletion\n",
    "Reference: Chapter 11 of Lutz, Mark. *Learning Python*, 6th Edition, O'Reilly, 2025"
   ]
  },
  {
   "cell_type": "code",
   "execution_count": null,
   "metadata": {
    "colab": {
     "base_uri": "https://localhost:8080/"
    },
    "executionInfo": {
     "elapsed": 13,
     "status": "ok",
     "timestamp": 1742306650734,
     "user": {
      "displayName": "Jacqueline Gunther",
      "userId": "09898809932311330039"
     },
     "user_tz": 240
    },
    "id": "pkzRxb3_fBHQ",
    "outputId": "41293f33-ba0d-41c0-c96a-f3fa6301f3ea"
   },
   "outputs": [
    {
     "name": "stdout",
     "output_type": "stream",
     "text": [
      "2\n",
      "Hello\n"
     ]
    }
   ],
   "source": [
    "# Multiple variables can be assigned on one line.\n",
    "a,b = 2, 'Hello'\n",
    "print(a)\n",
    "print(b)"
   ]
  },
  {
   "cell_type": "code",
   "execution_count": null,
   "metadata": {
    "colab": {
     "base_uri": "https://localhost:8080/"
    },
    "executionInfo": {
     "elapsed": 10,
     "status": "ok",
     "timestamp": 1742309443845,
     "user": {
      "displayName": "Jacqueline Gunther",
      "userId": "09898809932311330039"
     },
     "user_tz": 240
    },
    "id": "6173T2bZqzq_",
    "outputId": "3232eaa6-b5c2-423d-ad88-19a9234c8e4d"
   },
   "outputs": [
    {
     "name": "stdout",
     "output_type": "stream",
     "text": [
      "1\n",
      "2\n",
      "c\n",
      "a\n",
      "t\n",
      "<class 'str'>\n",
      "a\n",
      "['p', 'p', 'l', 'e']\n",
      "python\n",
      "python\n"
     ]
    }
   ],
   "source": [
    "# Other assignment types\n",
    "[first, second] = [1, 2]\n",
    "print(first)\n",
    "print(second)\n",
    "\n",
    "x,y,z, = 'cat'    # Must have same number on each side\n",
    "print(x)\n",
    "print(y)\n",
    "print(z)\n",
    "\n",
    "f,  *g = 'apple'  # the * allows you to grab the rest of the object\n",
    "print(f)\n",
    "print(g)\n",
    "\n",
    "snake = reptile = 'python'  # Assigne the same thing to two variable names\n",
    "print(snake)\n",
    "print(reptile)"
   ]
  },
  {
   "cell_type": "code",
   "execution_count": null,
   "metadata": {
    "colab": {
     "base_uri": "https://localhost:8080/"
    },
    "executionInfo": {
     "elapsed": 14,
     "status": "ok",
     "timestamp": 1742309663672,
     "user": {
      "displayName": "Jacqueline Gunther",
      "userId": "09898809932311330039"
     },
     "user_tz": 240
    },
    "id": "zUsn_528vzcl",
    "outputId": "27786cdd-d5c9-483b-fd6f-5909a2ae1c9d"
   },
   "outputs": [
    {
     "name": "stdout",
     "output_type": "stream",
     "text": [
      "a\n",
      "['p', 'p', 'l']\n",
      "e\n"
     ]
    }
   ],
   "source": [
    "A,  *B, C = 'apple'  # the * allows you to grab the rest of the object that is not designated.\n",
    "print(A)\n",
    "print(B)   # Not that the starred item is in a list. This is true for single items as well.\n",
    "print(C)"
   ]
  },
  {
   "cell_type": "code",
   "execution_count": null,
   "metadata": {
    "colab": {
     "base_uri": "https://localhost:8080/",
     "height": 176
    },
    "executionInfo": {
     "elapsed": 64,
     "status": "error",
     "timestamp": 1742306651692,
     "user": {
      "displayName": "Jacqueline Gunther",
      "userId": "09898809932311330039"
     },
     "user_tz": 240
    },
    "id": "xMq2NjNgfRS_",
    "outputId": "3a37a874-0d58-4f90-b444-a08de7dbcc33"
   },
   "outputs": [
    {
     "ename": "NameError",
     "evalue": "name 'a' is not defined",
     "output_type": "error",
     "traceback": [
      "\u001b[0;31m---------------------------------------------------------------------------\u001b[0m",
      "\u001b[0;31mNameError\u001b[0m                                 Traceback (most recent call last)",
      "\u001b[0;32m<ipython-input-3-39833b9f700c>\u001b[0m in \u001b[0;36m<cell line: 0>\u001b[0;34m()\u001b[0m\n\u001b[1;32m      1\u001b[0m \u001b[0;32mdel\u001b[0m \u001b[0ma\u001b[0m\u001b[0;34m\u001b[0m\u001b[0;34m\u001b[0m\u001b[0m\n\u001b[1;32m      2\u001b[0m \u001b[0;34m\u001b[0m\u001b[0m\n\u001b[0;32m----> 3\u001b[0;31m \u001b[0mprint\u001b[0m\u001b[0;34m(\u001b[0m\u001b[0ma\u001b[0m\u001b[0;34m)\u001b[0m  \u001b[0;31m# this should yield an error\u001b[0m\u001b[0;34m\u001b[0m\u001b[0;34m\u001b[0m\u001b[0m\n\u001b[0m",
      "\u001b[0;31mNameError\u001b[0m: name 'a' is not defined"
     ]
    }
   ],
   "source": [
    "del a\n",
    "\n",
    "print(a)  # this should yield an error"
   ]
  },
  {
   "cell_type": "code",
   "execution_count": null,
   "metadata": {
    "id": "R0BqfNtRka2A"
   },
   "outputs": [],
   "source": []
  }
 ],
 "metadata": {
  "colab": {
   "authorship_tag": "ABX9TyOfyvVV3oIgTguvrsLeklsm",
   "provenance": []
  },
  "kernelspec": {
   "display_name": "Python 3 (ipykernel)",
   "language": "python",
   "name": "python3"
  },
  "language_info": {
   "codemirror_mode": {
    "name": "ipython",
    "version": 3
   },
   "file_extension": ".py",
   "mimetype": "text/x-python",
   "name": "python",
   "nbconvert_exporter": "python",
   "pygments_lexer": "ipython3",
   "version": "3.10.15"
  }
 },
 "nbformat": 4,
 "nbformat_minor": 4
}
