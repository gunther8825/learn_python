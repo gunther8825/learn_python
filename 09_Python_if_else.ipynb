{
 "cells": [
  {
   "cell_type": "markdown",
   "metadata": {
    "id": "Vntqk6bniQ7b"
   },
   "source": [
    "To start, click File --> Save Notebook As...\n",
    "\n",
    "Then you can have your own copy you can modify.\n"
   ]
  },
  {
   "cell_type": "markdown",
   "metadata": {
    "id": "o7VZOCcSRakC"
   },
   "source": [
    "Reference:\n",
    "\n",
    "Chapter 10: Introducing Python Statements of Lutz, Mark. *Learning Python*, 6th Edition, O'Reilly, 2025"
   ]
  },
  {
   "cell_type": "markdown",
   "metadata": {
    "id": "Y0sF2CBPR7E1"
   },
   "source": [
    "# if/elif/else Statements"
   ]
  },
  {
   "cell_type": "code",
   "execution_count": null,
   "metadata": {
    "colab": {
     "base_uri": "https://localhost:8080/"
    },
    "executionInfo": {
     "elapsed": 13,
     "status": "ok",
     "timestamp": 1741899379163,
     "user": {
      "displayName": "Jacqueline Gunther",
      "userId": "09898809932311330039"
     },
     "user_tz": 240
    },
    "id": "YO5bFN8YRyHp",
    "outputId": "b924b754-6200-4e33-9f4d-ec36a1fdc017"
   },
   "outputs": [
    {
     "name": "stdout",
     "output_type": "stream",
     "text": [
      "This is true\n"
     ]
    }
   ],
   "source": [
    "# if statements run as long as the statement is true\n",
    "\n",
    "if True:\n",
    "  print(\"This is true\")     # This will always print\n",
    "\n",
    "if False:\n",
    "  print(\"This is false\")    # This will never print"
   ]
  },
  {
   "cell_type": "code",
   "execution_count": null,
   "metadata": {
    "colab": {
     "base_uri": "https://localhost:8080/"
    },
    "executionInfo": {
     "elapsed": 40,
     "status": "ok",
     "timestamp": 1741899531428,
     "user": {
      "displayName": "Jacqueline Gunther",
      "userId": "09898809932311330039"
     },
     "user_tz": 240
    },
    "id": "RWTLq69ES72t",
    "outputId": "c3f2965a-5523-4453-d1cd-fb84d72ac608"
   },
   "outputs": [
    {
     "name": "stdout",
     "output_type": "stream",
     "text": [
      "This is true\n",
      "100 is less than 200\n",
      "Hello is in the text\n"
     ]
    }
   ],
   "source": [
    "# The if statement can be formatted in many different ways depending on what you need.\n",
    "\n",
    "if 2+2 == 4:\n",
    "  print(\"This is true\")           # The next line of an if statement MUST be indented.\n",
    "\n",
    "if 100<200:\n",
    "  print(\"100 is less than 200\")\n",
    "\n",
    "txt = \"Hello World!\"\n",
    "if \"Hello\" in txt:\n",
    "  print(\"Hello is in the text\")\n",
    "\n",
    "# As long as the statement is true the next step will execute."
   ]
  },
  {
   "cell_type": "code",
   "execution_count": null,
   "metadata": {
    "colab": {
     "base_uri": "https://localhost:8080/"
    },
    "executionInfo": {
     "elapsed": 10,
     "status": "ok",
     "timestamp": 1741958125314,
     "user": {
      "displayName": "Jacqueline Gunther",
      "userId": "09898809932311330039"
     },
     "user_tz": 240
    },
    "id": "O1RlAKJ2yVLT",
    "outputId": "5ef1ba8e-e62e-4840-a5dd-ea59a1f03b80"
   },
   "outputs": [
    {
     "name": "stdout",
     "output_type": "stream",
     "text": [
      "Success!\n"
     ]
    }
   ],
   "source": [
    "# What if you want to do somethin different if the statement is false?\n",
    "\n",
    "if False:\n",
    "  print(\"This does not execute.\")\n",
    "else:\n",
    "  print(\"Success!\")\n",
    "\n",
    "# You can use an if/else format.  If the first part is false, then it will do the line under the else statement"
   ]
  },
  {
   "cell_type": "code",
   "execution_count": null,
   "metadata": {
    "colab": {
     "base_uri": "https://localhost:8080/"
    },
    "executionInfo": {
     "elapsed": 8,
     "status": "ok",
     "timestamp": 1741958196564,
     "user": {
      "displayName": "Jacqueline Gunther",
      "userId": "09898809932311330039"
     },
     "user_tz": 240
    },
    "id": "q6Vb083jy5vv",
    "outputId": "810bac5a-7d02-4861-b87c-903d7fdc7dd4"
   },
   "outputs": [
    {
     "name": "stdout",
     "output_type": "stream",
     "text": [
      "2\n"
     ]
    }
   ],
   "source": [
    "# Other examples\n",
    "n = 1\n",
    "\n",
    "if n == 10:   # This line is false therefore it does not print 10\n",
    "  print(n)\n",
    "else:         # the code goes to this line\n",
    "  n = n+1     # 1 is added to n and assigned to the variablen\n",
    "  print(n)    # n is printed and should be 2 (if n started as 1)"
   ]
  },
  {
   "cell_type": "code",
   "execution_count": null,
   "metadata": {
    "colab": {
     "base_uri": "https://localhost:8080/"
    },
    "executionInfo": {
     "elapsed": 4,
     "status": "ok",
     "timestamp": 1741958480488,
     "user": {
      "displayName": "Jacqueline Gunther",
      "userId": "09898809932311330039"
     },
     "user_tz": 240
    },
    "id": "7uqHV6iyzgy5",
    "outputId": "dc63420b-fe48-4991-ef22-e21a1e9fe99f"
   },
   "outputs": [
    {
     "name": "stdout",
     "output_type": "stream",
     "text": [
      "Make lemonade!\n",
      "Make fruit salad!\n",
      "Make fruit salad!\n"
     ]
    }
   ],
   "source": [
    "# Another example: I will set this up as a function so we can try multiple\n",
    "# inputs (functions are covered in part 10)\n",
    "\n",
    "def use_fruit(fruit):\n",
    "\n",
    "  if fruit == \"lemon\":\n",
    "    print(\"Make lemonade!\")\n",
    "  else:\n",
    "    print(\"Make fruit salad!\")\n",
    "\n",
    "use_fruit(\"lemon\")          # \"lemon\" becomes the input of use_fruit(fruit), then it goes throught the if else statement.\n",
    "use_fruit(\"watermelon\")     # \"watermelon\" does not equal \"lemon\" so the else statement is activated.\n",
    "use_fruit(\"grapes\")         # Same with \"grapes\""
   ]
  },
  {
   "cell_type": "code",
   "execution_count": null,
   "metadata": {
    "colab": {
     "base_uri": "https://localhost:8080/"
    },
    "executionInfo": {
     "elapsed": 19,
     "status": "ok",
     "timestamp": 1741958729345,
     "user": {
      "displayName": "Jacqueline Gunther",
      "userId": "09898809932311330039"
     },
     "user_tz": 240
    },
    "id": "WeoopYrf0wa4",
    "outputId": "1a38ca3e-097e-4081-cddf-61ceca91d8de"
   },
   "outputs": [
    {
     "name": "stdout",
     "output_type": "stream",
     "text": [
      "Less than 5\n"
     ]
    }
   ],
   "source": [
    "# What if we have multiple pathways we want to go down.  We can use elif\n",
    "\n",
    "n = 3\n",
    "\n",
    "if n > 5:                     # n is less than 5 so this is false, it will not execute\n",
    "  print(\"Greater than 5\")\n",
    "elif n < 5:                   # n is less than 5 so this is true and will print \"Less than 5\"\n",
    "  print(\"Less than 5\")\n",
    "else:                         # This part will NOT be evaluated, because the above elif statement is true.\n",
    "  print(\"Equal to 5\")\n",
    "\n",
    "# Try changing n around to see the different reponses you will get."
   ]
  },
  {
   "cell_type": "code",
   "execution_count": null,
   "metadata": {
    "colab": {
     "base_uri": "https://localhost:8080/"
    },
    "executionInfo": {
     "elapsed": 7,
     "status": "ok",
     "timestamp": 1741958998492,
     "user": {
      "displayName": "Jacqueline Gunther",
      "userId": "09898809932311330039"
     },
     "user_tz": 240
    },
    "id": "QRSSL5J00V2C",
    "outputId": "2e9572b6-f329-4956-c526-d4e5d9e77094"
   },
   "outputs": [
    {
     "name": "stdout",
     "output_type": "stream",
     "text": [
      "Make lemonade!\n",
      "Make guacamole!\n",
      "Make apple pie!\n",
      "Make fruit salad!\n"
     ]
    }
   ],
   "source": [
    "# You can use as many ifel statements that you want.\n",
    "\n",
    "# Another example: I will set this up also as a function so we can try multiple\n",
    "# inputs (functions are covered below)\n",
    "\n",
    "def use_more_fruit(fruit):\n",
    "\n",
    "  if fruit == \"lemon\":\n",
    "    print(\"Make lemonade!\")\n",
    "  elif fruit == \"apple\":\n",
    "    print(\"Make apple pie!\")\n",
    "  elif fruit == \"orange\":\n",
    "    print(\"Make orange juice\")\n",
    "  elif fruit == \"avocado\":\n",
    "    print(\"Make guacamole!\")\n",
    "  else:\n",
    "    print(\"Make fruit salad!\")\n",
    "\n",
    "use_more_fruit(\"lemon\")\n",
    "use_more_fruit(\"avocado\")\n",
    "use_more_fruit(\"apple\")\n",
    "use_more_fruit(\"watermelon\")"
   ]
  },
  {
   "cell_type": "code",
   "execution_count": null,
   "metadata": {
    "colab": {
     "base_uri": "https://localhost:8080/"
    },
    "executionInfo": {
     "elapsed": 2,
     "status": "ok",
     "timestamp": 1741959421857,
     "user": {
      "displayName": "Jacqueline Gunther",
      "userId": "09898809932311330039"
     },
     "user_tz": 240
    },
    "id": "KnpnERNY3G5z",
    "outputId": "cae40fe6-a0ef-48d9-c541-7e452e7cbdda"
   },
   "outputs": [
    {
     "name": "stdout",
     "output_type": "stream",
     "text": [
      "7\n"
     ]
    }
   ],
   "source": [
    "# Make sure it is indented properly, otherwise errors may occur or cause unexpected results\n",
    "\n",
    "x = 2\n",
    "\n",
    "if x==2:\n",
    "  x = x+2\n",
    "else:\n",
    "  x = 3\n",
    "x = x+3     # this is not in the if/else statement and will always be implemented; this line should be indented in order to go under the else statement portion.\n",
    "print(x)    # since x = 2, the if statement is true, so it adds 2, given x = 4.  But since x=x+3 is not in the else statement it adds 3 more given an answer of 7.\n"
   ]
  },
  {
   "cell_type": "code",
   "execution_count": null,
   "metadata": {
    "id": "h_KmfWVS4SP4"
   },
   "outputs": [],
   "source": [
    "## Remember the colon!!\n",
    "# The if/elif/else statements all need colons.  This is a common mistake"
   ]
  },
  {
   "cell_type": "code",
   "execution_count": null,
   "metadata": {
    "colab": {
     "base_uri": "https://localhost:8080/"
    },
    "executionInfo": {
     "elapsed": 42,
     "status": "ok",
     "timestamp": 1741959729123,
     "user": {
      "displayName": "Jacqueline Gunther",
      "userId": "09898809932311330039"
     },
     "user_tz": 240
    },
    "id": "6bQDA92k4yD9",
    "outputId": "828ffc22-fcc6-42a5-b1f0-689a8283d711"
   },
   "outputs": [
    {
     "name": "stdout",
     "output_type": "stream",
     "text": [
      "This will print\n"
     ]
    }
   ],
   "source": [
    "# Also keep in mind that only the first True statement will execute the rest will\n",
    "# be ignored.  So the order of your statements may be important.\n",
    "if True:\n",
    "  print(\"This will print\")\n",
    "elif True:\n",
    "  print(\"This will not print\")\n",
    "elif True:\n",
    "  print(\"This will also not print\")\n",
    "elif True:\n",
    "  print(\"This will also not print\")\n",
    "else:\n",
    "  print(\"This will not not print\")\n"
   ]
  },
  {
   "cell_type": "code",
   "execution_count": null,
   "metadata": {
    "colab": {
     "base_uri": "https://localhost:8080/"
    },
    "executionInfo": {
     "elapsed": 4,
     "status": "ok",
     "timestamp": 1741976011366,
     "user": {
      "displayName": "Jacqueline Gunther",
      "userId": "09898809932311330039"
     },
     "user_tz": 240
    },
    "id": "WU2xgzEb2ua6",
    "outputId": "4df07790-8fb4-45bc-8c48-a34385d1dc97"
   },
   "outputs": [
    {
     "name": "stdout",
     "output_type": "stream",
     "text": [
      "y is between 5 and 20\n"
     ]
    }
   ],
   "source": [
    "## Also you can nest if/esle statements\n",
    "\n",
    "y = 10\n",
    "\n",
    "if y >5:\n",
    "  if y <20:\n",
    "    print(\"y is between 5 and 20\")\n",
    "  else:\n",
    "    print(\"y is greater than 20\")\n",
    "else:\n",
    "  print(\"y is less than 5\")\n",
    "\n",
    "\n",
    "# Here if y is greater than 5 it will go into the nested if/else statement.\n",
    "# Notice that the nested if/else statement is indented another level. this is\n",
    "# necessary to the flow of the code.  If y = 2, then it would skip over the nested\n",
    "# if/else statment and print \"y is less than 5\".  Try using different numbers to\n",
    "# see the results."
   ]
  },
  {
   "cell_type": "code",
   "execution_count": null,
   "metadata": {
    "colab": {
     "base_uri": "https://localhost:8080/"
    },
    "executionInfo": {
     "elapsed": 38,
     "status": "ok",
     "timestamp": 1741976883798,
     "user": {
      "displayName": "Jacqueline Gunther",
      "userId": "09898809932311330039"
     },
     "user_tz": 240
    },
    "id": "7TcPN8We5xjs",
    "outputId": "c9d39210-8965-413c-8568-1f5bd488c994"
   },
   "outputs": [
    {
     "name": "stdout",
     "output_type": "stream",
     "text": [
      "-2\n",
      "12\n"
     ]
    }
   ],
   "source": [
    "#using and and or\n",
    "\n",
    "u = 5\n",
    "v = 7\n",
    "\n",
    "if (u == 5) and (v == 6):   # both statements must be true to execute the next statement.\n",
    "    print(u + v)\n",
    "else:                       # since v does not equal 6, the else statement will execute and give -2\n",
    "    print(u - v)\n",
    "\n",
    "\n",
    "if (u == 5) or (v == 6):   # only one statement needs to be true to execute the next statement.\n",
    "    print(u + v)           # since at least u == 5 the numbers are added to 12\n",
    "else:\n",
    "    print(u - v)"
   ]
  },
  {
   "cell_type": "code",
   "execution_count": null,
   "metadata": {
    "colab": {
     "base_uri": "https://localhost:8080/"
    },
    "executionInfo": {
     "elapsed": 3,
     "status": "ok",
     "timestamp": 1741976491112,
     "user": {
      "displayName": "Jacqueline Gunther",
      "userId": "09898809932311330039"
     },
     "user_tz": 240
    },
    "id": "PVJABe8u4Z8I",
    "outputId": "4472c3b3-26e9-4fbc-8d43-5cb1c2d0c0ab"
   },
   "outputs": [
    {
     "data": {
      "text/plain": [
       "4"
      ]
     },
     "execution_count": 8,
     "metadata": {},
     "output_type": "execute_result"
    }
   ],
   "source": [
    "# Another syntax\n",
    "# Sometimes to safe room the if statment can be written like this:\n",
    "# This format must have both if and else in the line of code\n",
    "\n",
    "x = 2\n",
    "y = x+2 if x >0 else x  # if x is greater than 0 do: y= x+2 else y=x\n",
    "y"
   ]
  },
  {
   "cell_type": "markdown",
   "metadata": {
    "id": "B4v46uM-1maI"
   },
   "source": [
    "## True and False Revisited"
   ]
  },
  {
   "cell_type": "code",
   "execution_count": 10,
   "metadata": {
    "colab": {
     "base_uri": "https://localhost:8080/"
    },
    "executionInfo": {
     "elapsed": 9,
     "status": "ok",
     "timestamp": 1742395703009,
     "user": {
      "displayName": "Jacqueline Gunther",
      "userId": "09898809932311330039"
     },
     "user_tz": 240
    },
    "id": "C9pYCIIp1mFN",
    "outputId": "6a0f8bfd-5bfa-4673-e24e-1196f3b707cd"
   },
   "outputs": [
    {
     "name": "stdout",
     "output_type": "stream",
     "text": [
      "At least one is true\n"
     ]
    }
   ],
   "source": [
    "# X and Y are boolean values\n",
    "X = True\n",
    "Y = False\n",
    "\n",
    "if X or Y:                        # Only one needs to be True for the statement to be True\n",
    "  print(\"At least one is true\")\n",
    "else:\n",
    "  print(\"Both are false\")\n",
    "\n",
    "# Other syntax\n",
    "if X | Y:                         # Same as above\n",
    "  print(\"At least one is true\")\n",
    "else:\n",
    "  print(\"Both are false\")"
   ]
  },
  {
   "cell_type": "code",
   "execution_count": 11,
   "metadata": {
    "colab": {
     "base_uri": "https://localhost:8080/"
    },
    "executionInfo": {
     "elapsed": 4,
     "status": "ok",
     "timestamp": 1742395912591,
     "user": {
      "displayName": "Jacqueline Gunther",
      "userId": "09898809932311330039"
     },
     "user_tz": 240
    },
    "id": "K8IXN3eW4JI7",
    "outputId": "b0304bae-448c-4535-81d7-b128f4d52492"
   },
   "outputs": [
    {
     "name": "stdout",
     "output_type": "stream",
     "text": [
      "One is false.\n"
     ]
    }
   ],
   "source": [
    "X = True\n",
    "Y = False\n",
    "\n",
    "if X and Y:                     # Both needs to be True for the statement to be True\n",
    "  print(\"Both are true.\")\n",
    "else:\n",
    "  print(\"One is false.\")\n",
    "\n",
    "# Other syntax\n",
    "if X & Y:                       # Same as above\n",
    "  print(\"Both are true.\")\n",
    "else:\n",
    "  print(\"One is false.\")"
   ]
  },
  {
   "cell_type": "code",
   "execution_count": 12,
   "metadata": {
    "colab": {
     "base_uri": "https://localhost:8080/"
    },
    "executionInfo": {
     "elapsed": 5,
     "status": "ok",
     "timestamp": 1742395990341,
     "user": {
      "displayName": "Jacqueline Gunther",
      "userId": "09898809932311330039"
     },
     "user_tz": 240
    },
    "id": "TsIL7KJU5Fjy",
    "outputId": "10956982-4b5a-4b39-b19f-8e805cb5b815"
   },
   "outputs": [
    {
     "name": "stdout",
     "output_type": "stream",
     "text": [
      "X is true\n",
      "Y is false\n"
     ]
    }
   ],
   "source": [
    "X = True\n",
    "Y = False\n",
    "\n",
    "if not X:               # Not X is not True so it is false, so it goes to the else statement.\n",
    "  print(\"X is false\")\n",
    "else:\n",
    "  print(\"X is true\")\n",
    "\n",
    "if not Y:               # Not Y is not False so it is true, so it goes to the if statement.\n",
    "  print(\"Y is false\")\n",
    "else:\n",
    "  print(\"Y is true\")"
   ]
  },
  {
   "cell_type": "code",
   "execution_count": 23,
   "metadata": {
    "colab": {
     "base_uri": "https://localhost:8080/"
    },
    "executionInfo": {
     "elapsed": 41,
     "status": "ok",
     "timestamp": 1742397890772,
     "user": {
      "displayName": "Jacqueline Gunther",
      "userId": "09898809932311330039"
     },
     "user_tz": 240
    },
    "id": "GMsNaY_PAOJ_",
    "outputId": "2b3282bc-e3b9-4a26-e9db-9c1dd1d35ce8"
   },
   "outputs": [
    {
     "name": "stdout",
     "output_type": "stream",
     "text": [
      "Some are true\n"
     ]
    }
   ],
   "source": [
    "X = True\n",
    "Y = False\n",
    "Z = True\n",
    "A = False\n",
    "\n",
    "if (X or Y) and (Z or A):  # You can also combine statements.\n",
    "  print(\"Some are true\")\n"
   ]
  },
  {
   "cell_type": "code",
   "execution_count": 19,
   "metadata": {
    "colab": {
     "base_uri": "https://localhost:8080/"
    },
    "executionInfo": {
     "elapsed": 52,
     "status": "ok",
     "timestamp": 1742397173358,
     "user": {
      "displayName": "Jacqueline Gunther",
      "userId": "09898809932311330039"
     },
     "user_tz": 240
    },
    "id": "egqsowZo2qzZ",
    "outputId": "38ee0d41-4f02-42bb-e400-bffe2667318d"
   },
   "outputs": [
    {
     "data": {
      "text/plain": [
       "(3, 4)"
      ]
     },
     "execution_count": 19,
     "metadata": {},
     "output_type": "execute_result"
    }
   ],
   "source": [
    "# A strange case\n",
    "# Everything I show doesn't need to be used by you, but if you come across this\n",
    "# in code you find, you will understand what it means.\n",
    "\n",
    "4 and 3, 3 and 4  # This checks if it is true.  FYI anything that is not 0, empty, or None is True\n",
    "                  # Since 2 and 3 are not 0 both are true.  So it is True, True.\n",
    "                  # When it is true it prints the second entry so it gives (3,4)"
   ]
  },
  {
   "cell_type": "code",
   "execution_count": 16,
   "metadata": {
    "colab": {
     "base_uri": "https://localhost:8080/"
    },
    "executionInfo": {
     "elapsed": 9,
     "status": "ok",
     "timestamp": 1742397116711,
     "user": {
      "displayName": "Jacqueline Gunther",
      "userId": "09898809932311330039"
     },
     "user_tz": 240
    },
    "id": "EnPguAyQ8_3K",
    "outputId": "a444fc8e-c47d-4605-9e4e-232d166f0a40"
   },
   "outputs": [
    {
     "data": {
      "text/plain": [
       "[]"
      ]
     },
     "execution_count": 16,
     "metadata": {},
     "output_type": "execute_result"
    }
   ],
   "source": [
    "[] and {} # The first entry is false, so it stops and prints the empty list"
   ]
  },
  {
   "cell_type": "code",
   "execution_count": 20,
   "metadata": {
    "colab": {
     "base_uri": "https://localhost:8080/"
    },
    "executionInfo": {
     "elapsed": 4,
     "status": "ok",
     "timestamp": 1742397181898,
     "user": {
      "displayName": "Jacqueline Gunther",
      "userId": "09898809932311330039"
     },
     "user_tz": 240
    },
    "id": "CxL1s_7O9iMC",
    "outputId": "af172a09-e938-487e-bf00-2515eb483881"
   },
   "outputs": [
    {
     "data": {
      "text/plain": [
       "[]"
      ]
     },
     "execution_count": 20,
     "metadata": {},
     "output_type": "execute_result"
    }
   ],
   "source": [
    "4 and []  # Same but the second entry is false."
   ]
  },
  {
   "cell_type": "code",
   "execution_count": 22,
   "metadata": {
    "colab": {
     "base_uri": "https://localhost:8080/"
    },
    "executionInfo": {
     "elapsed": 3,
     "status": "ok",
     "timestamp": 1742397212339,
     "user": {
      "displayName": "Jacqueline Gunther",
      "userId": "09898809932311330039"
     },
     "user_tz": 240
    },
    "id": "Pwg-fg179q-U",
    "outputId": "391baf1c-2e64-4751-952c-340f2fd06e1b"
   },
   "outputs": [
    {
     "name": "stdout",
     "output_type": "stream",
     "text": [
      "4 3\n",
      "{}\n",
      "4\n"
     ]
    }
   ],
   "source": [
    "print(4 or 3, 3 or 4)  # Returns the left.  Returns first true.\n",
    "print([] or {})        # checks the first, which is false.  then checks the right which is also false, so the right is printed.\n",
    "print(4 or [])         # 4 is true."
   ]
  },
  {
   "cell_type": "markdown",
   "metadata": {
    "id": "pQva7HDrSHSJ"
   },
   "source": [
    "# Match Case"
   ]
  },
  {
   "cell_type": "code",
   "execution_count": null,
   "metadata": {
    "colab": {
     "base_uri": "https://localhost:8080/"
    },
    "executionInfo": {
     "elapsed": 8,
     "status": "ok",
     "timestamp": 1742306227867,
     "user": {
      "displayName": "Jacqueline Gunther",
      "userId": "09898809932311330039"
     },
     "user_tz": 240
    },
    "id": "SGhEPLxKiIJg",
    "outputId": "f2f8428d-421b-4e8d-a080-257d3fa35f0b"
   },
   "outputs": [
    {
     "name": "stdout",
     "output_type": "stream",
     "text": [
      "It is 10!\n"
     ]
    }
   ],
   "source": [
    "# Match Case is very similar to if/else with some different syntax\n",
    "\n",
    "x = 10\n",
    "\n",
    "match x:                    # This tells the code to look at x\n",
    "  case 10:                  # If x is 10 the next part of the code executes.\n",
    "    print(\"It is 10!\")\n",
    "  case _:                   # If it is anything else it will execut this code.\n",
    "    print(\"It is not 10!\")"
   ]
  },
  {
   "cell_type": "code",
   "execution_count": null,
   "metadata": {
    "colab": {
     "base_uri": "https://localhost:8080/"
    },
    "executionInfo": {
     "elapsed": 3,
     "status": "ok",
     "timestamp": 1742328606430,
     "user": {
      "displayName": "Jacqueline Gunther",
      "userId": "09898809932311330039"
     },
     "user_tz": 240
    },
    "id": "eV4nikdbibbv",
    "outputId": "feaf6422-64bd-4549-9dbe-42ee30e428d9"
   },
   "outputs": [
    {
     "name": "stdout",
     "output_type": "stream",
     "text": [
      "Weekday\n"
     ]
    }
   ],
   "source": [
    "day = 'Monday'\n",
    "\n",
    "match day:\n",
    "    case \"Monday\" | \"Tuesday\" | \"Wednesday\" | \"Thursday\" | \"Friday\":  # the \"|\" symbol means OR  (For AND you can use &)\n",
    "        print(\"Weekday\")\n",
    "    case \"Saturday\" | \"Sunday\":\n",
    "        print(\"Weekend\")\n",
    "    case _:\n",
    "        print(\"Invalid day\")\n"
   ]
  },
  {
   "cell_type": "markdown",
   "metadata": {
    "id": "zCZDFjXmzC49"
   },
   "source": [
    "### Example from Lutz, Mark, Learning Python 6th Edition 2025\n",
    "\n",
    "https://learning-python.com/about-lp6e.html\n",
    "\n",
    "Code: https://learning-python.com/cgi/showcode.py?name=LP6E/Chapter12/matchdemo.py"
   ]
  },
  {
   "cell_type": "code",
   "execution_count": 8,
   "metadata": {
    "colab": {
     "base_uri": "https://localhost:8080/"
    },
    "executionInfo": {
     "elapsed": 10,
     "status": "ok",
     "timestamp": 1742394575656,
     "user": {
      "displayName": "Jacqueline Gunther",
      "userId": "09898809932311330039"
     },
     "user_tz": 240
    },
    "id": "5yT_ihE_39_i",
    "outputId": "dfbfb1ac-b00a-4759-b96f-6515da312730"
   },
   "outputs": [
    {
     "name": "stdout",
     "output_type": "stream",
     "text": [
      "list [2, 3]\n"
     ]
    }
   ],
   "source": [
    "# state = 1 or\n",
    "#   [1, 2, 3] or [0, 2, 3] or (1, 2, 3) or (0, 2, 3) or\n",
    "#   dict(a=1, b=2, c=3) or dict(a=0, b=2, c=3) or other\n",
    "\n",
    "state = [0, 2, 3]\n",
    "\n",
    "match state:\n",
    "    case 1 | 2 | 3 as what:              # Match integer literals, what = 1\n",
    "        print('or', what)\n",
    "\n",
    "    case [1, 2, what]:                   # Match sequence (1), what = 3\n",
    "        print('list', what)\n",
    "    case [0, *what]:                     # Match sequence (0), what = [2, 3]\n",
    "        print('list', what)\n",
    "\n",
    "    case {'a': 1, 'b': 2, 'c': what}:    # Match mapping, what = 3\n",
    "        print('dict', what)\n",
    "    case {'a': 0, **what}:               # Match mapping, what = {'b': 2, 'c': 3}\n",
    "        print('dict', what)\n",
    "\n",
    "    case (1, 2, what):                   # Match sequence: same as [1, 2, what]\n",
    "        print('tuple', what)\n",
    "    case (0, *what):                     # Match sequence: same as [0, *what]\n",
    "        print('tuple', what)\n",
    "\n",
    "    case _ as what:                      # Match all other, what = other\n",
    "        print('other', what)"
   ]
  },
  {
   "cell_type": "markdown",
   "metadata": {
    "id": "IZkllOFpefw0"
   },
   "source": [
    "## Walrus operator\n",
    "\n",
    "There is another operator you may come across called the walrus operator, which shortens the code you need to write."
   ]
  },
  {
   "cell_type": "code",
   "execution_count": null,
   "metadata": {
    "colab": {
     "base_uri": "https://localhost:8080/"
    },
    "executionInfo": {
     "elapsed": 8,
     "status": "ok",
     "timestamp": 1742573649091,
     "user": {
      "displayName": "Jacqueline Gunther",
      "userId": "09898809932311330039"
     },
     "user_tz": 240
    },
    "id": "Z4Pa0xsfao9D",
    "outputId": "2246cf91-5e1a-4c07-e8b1-21f2278c1ad2"
   },
   "outputs": [
    {
     "name": "stdout",
     "output_type": "stream",
     "text": [
      "5\n"
     ]
    }
   ],
   "source": [
    "# example\n",
    "if (x := 5) > 3:\n",
    "    print(x)"
   ]
  },
  {
   "cell_type": "code",
   "execution_count": 2,
   "metadata": {
    "colab": {
     "base_uri": "https://localhost:8080/"
    },
    "executionInfo": {
     "elapsed": 6,
     "status": "ok",
     "timestamp": 1742573948135,
     "user": {
      "displayName": "Jacqueline Gunther",
      "userId": "09898809932311330039"
     },
     "user_tz": 240
    },
    "id": "ZeMn51DRgBgh",
    "outputId": "805c074e-5c85-474f-ab54-e865d95e3991"
   },
   "outputs": [
    {
     "data": {
      "text/plain": [
       "[('python', 6), ('programming', 11)]"
      ]
     },
     "execution_count": 2,
     "metadata": {},
     "output_type": "execute_result"
    }
   ],
   "source": [
    "# Another example\n",
    "words = [\"hello\", \"world\", \"python\", \"programming\"]\n",
    "\n",
    "[(x, length) for x in words if (length := len(x)) > 5]"
   ]
  }
 ],
 "metadata": {
  "colab": {
   "authorship_tag": "ABX9TyPBBMQQDX6z4lTiHNfKAdSj",
   "provenance": []
  },
  "kernelspec": {
   "display_name": "Python 3 (ipykernel)",
   "language": "python",
   "name": "python3"
  },
  "language_info": {
   "codemirror_mode": {
    "name": "ipython",
    "version": 3
   },
   "file_extension": ".py",
   "mimetype": "text/x-python",
   "name": "python",
   "nbconvert_exporter": "python",
   "pygments_lexer": "ipython3",
   "version": "3.10.15"
  }
 },
 "nbformat": 4,
 "nbformat_minor": 4
}
