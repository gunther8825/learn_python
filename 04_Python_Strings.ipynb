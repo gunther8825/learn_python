{
 "cells": [
  {
   "cell_type": "markdown",
   "metadata": {
    "id": "Vntqk6bniQ7b"
   },
   "source": [
    "To start, click File --> Save Notebook As...\n",
    "\n",
    "Then you can have your own copy you can modify.\n"
   ]
  },
  {
   "cell_type": "markdown",
   "metadata": {
    "id": "uvBzSO4niSUo"
   },
   "source": [
    "# Strings\n",
    "Adapted from Chapter 7 of Lutz, Mark. *Learning Python*, 6th Edition, O'Reilly, 2025"
   ]
  },
  {
   "cell_type": "code",
   "execution_count": null,
   "metadata": {
    "id": "9Ve0vVxWqS39"
   },
   "outputs": [],
   "source": [
    "s = '' # empty string"
   ]
  },
  {
   "cell_type": "markdown",
   "metadata": {
    "id": "ewHC7p-WxUHT"
   },
   "source": [
    "## Single and Double Quotes for Strings"
   ]
  },
  {
   "cell_type": "code",
   "execution_count": null,
   "metadata": {
    "colab": {
     "base_uri": "https://localhost:8080/"
    },
    "executionInfo": {
     "elapsed": 10,
     "status": "ok",
     "timestamp": 1738175149473,
     "user": {
      "displayName": "Gunther",
      "userId": "09898809932311330039"
     },
     "user_tz": 300
    },
    "id": "20JfV7mmVhB4",
    "outputId": "6cbd4eb0-681d-4069-a540-6fd701db032e"
   },
   "outputs": [
    {
     "name": "stdout",
     "output_type": "stream",
     "text": [
      "hello world\n"
     ]
    }
   ],
   "source": [
    "## Single and double quotes are basically the same\n",
    "a = 'hello'\n",
    "b = \"world\"  # but if you start with double end with double.  Same for single.\n",
    "print(a, b)"
   ]
  },
  {
   "cell_type": "code",
   "execution_count": null,
   "metadata": {
    "colab": {
     "base_uri": "https://localhost:8080/"
    },
    "executionInfo": {
     "elapsed": 9,
     "status": "ok",
     "timestamp": 1738175149473,
     "user": {
      "displayName": "Gunther",
      "userId": "09898809932311330039"
     },
     "user_tz": 300
    },
    "id": "pwL6xmv4wdkp",
    "outputId": "ea124b51-d165-4fa8-9cfd-98814a14fe1a"
   },
   "outputs": [
    {
     "name": "stdout",
     "output_type": "stream",
     "text": [
      "hello 'world'\n",
      "hello \"world\"\n"
     ]
    }
   ],
   "source": [
    "c = \"hello 'world'\"  # you can still print single or double quote. But need the\n",
    "d = 'hello \"world\"'  # other to designate a string.\n",
    "print(c)\n",
    "print(d)"
   ]
  },
  {
   "cell_type": "code",
   "execution_count": null,
   "metadata": {
    "id": "D-2_4V41SEtA"
   },
   "outputs": [],
   "source": [
    "s = \"I'm a string.\" # Double quotes with apostrophe\n",
    "# If you want an apostrophe, you need to use double quotes on the outside."
   ]
  },
  {
   "cell_type": "code",
   "execution_count": null,
   "metadata": {
    "id": "GuqtLv6ew3Eo"
   },
   "outputs": [],
   "source": [
    "# It is recommended that you use single quotes consistently to designate\n",
    "# strings."
   ]
  },
  {
   "cell_type": "code",
   "execution_count": null,
   "metadata": {
    "colab": {
     "base_uri": "https://localhost:8080/"
    },
    "executionInfo": {
     "elapsed": 7,
     "status": "ok",
     "timestamp": 1738175149473,
     "user": {
      "displayName": "Gunther",
      "userId": "09898809932311330039"
     },
     "user_tz": 300
    },
    "id": "a8mFAl_exXyf",
    "outputId": "24aa47de-9929-476a-9724-55e5e3b43d95"
   },
   "outputs": [
    {
     "name": "stdout",
     "output_type": "stream",
     "text": [
      "Hamelet said, \"To be or not to be that is the question.\"\n",
      "Neil Armstrong once said, \"That's one small step for man...\"\n"
     ]
    }
   ],
   "source": [
    "## If you need to put a single or double quote in a string put a \\\n",
    "\n",
    "quote = \"Hamlet said, \\\"To be or not to be that is the question.\\\"\"\n",
    "print(quote)\n",
    "quote2 = 'Neil Armstrong once said, \"That\\'s one small step for man...\"'\n",
    "print(quote2)"
   ]
  },
  {
   "cell_type": "code",
   "execution_count": null,
   "metadata": {
    "colab": {
     "base_uri": "https://localhost:8080/"
    },
    "executionInfo": {
     "elapsed": 6,
     "status": "ok",
     "timestamp": 1738175149473,
     "user": {
      "displayName": "Gunther",
      "userId": "09898809932311330039"
     },
     "user_tz": 300
    },
    "id": "dsmyNGwBzIRo",
    "outputId": "70f98b9f-8a5c-4abe-dd9b-2009518fc62a"
   },
   "outputs": [
    {
     "name": "stdout",
     "output_type": "stream",
     "text": [
      "helloworld\n",
      "helloworld\n"
     ]
    }
   ],
   "source": [
    "# Concatenates\n",
    "greeting1 = \"hello\" 'world'    #assumes concatenation\n",
    "greeting2 = 'hello' + 'world'\n",
    "print(greeting1)\n",
    "print(greeting2)"
   ]
  },
  {
   "cell_type": "code",
   "execution_count": null,
   "metadata": {
    "colab": {
     "base_uri": "https://localhost:8080/"
    },
    "executionInfo": {
     "elapsed": 6,
     "status": "ok",
     "timestamp": 1738175149473,
     "user": {
      "displayName": "Gunther",
      "userId": "09898809932311330039"
     },
     "user_tz": 300
    },
    "id": "YJPd3WIcUwTu",
    "outputId": "b36052bc-9bfa-43a7-c27e-330104cbcc0c"
   },
   "outputs": [
    {
     "name": "stdout",
     "output_type": "stream",
     "text": [
      "Hello World!\n"
     ]
    }
   ],
   "source": [
    "string1 = \"Hello\"\n",
    "string2 = \"World!\"\n",
    "string3 = string1 + \" \" + string2\n",
    "print(string3)"
   ]
  },
  {
   "cell_type": "markdown",
   "metadata": {
    "id": "Y6NRuT_-xYWw"
   },
   "source": [
    "## Escape Sequences"
   ]
  },
  {
   "cell_type": "code",
   "execution_count": null,
   "metadata": {
    "colab": {
     "base_uri": "https://localhost:8080/"
    },
    "executionInfo": {
     "elapsed": 5,
     "status": "ok",
     "timestamp": 1738175149473,
     "user": {
      "displayName": "Gunther",
      "userId": "09898809932311330039"
     },
     "user_tz": 300
    },
    "id": "B3hf6l1ySNWP",
    "outputId": "bbe25a90-0367-4c92-dc43-88f6f00208c1"
   },
   "outputs": [
    {
     "name": "stdout",
     "output_type": "stream",
     "text": [
      "first line\n",
      "second line\ta tab\n"
     ]
    }
   ],
   "source": [
    "escape_s = 'first line\\nsecond line\\ta tab'\n",
    "# \\n is a newline\n",
    "# \\t is a tab\n",
    "print(escape_s)"
   ]
  },
  {
   "cell_type": "code",
   "execution_count": null,
   "metadata": {
    "colab": {
     "base_uri": "https://localhost:8080/"
    },
    "executionInfo": {
     "elapsed": 4,
     "status": "ok",
     "timestamp": 1738175149473,
     "user": {
      "displayName": "Gunther",
      "userId": "09898809932311330039"
     },
     "user_tz": 300
    },
    "id": "2yDSkrhjdmjh",
    "outputId": "71bdd69a-a8c6-400f-a50a-2fc00453c004"
   },
   "outputs": [
    {
     "name": "stdout",
     "output_type": "stream",
     "text": [
      "If I need a \\, this is how I write it.\n"
     ]
    }
   ],
   "source": [
    "print('If I need a \\\\, this is how I write it.')"
   ]
  },
  {
   "cell_type": "markdown",
   "metadata": {
    "id": "nruGJSIAXst5"
   },
   "source": [
    "### Other Escape sequences\n",
    "\n",
    "From: https://docs.python.org/3/reference/lexical_analysis.html\n",
    "\n",
    "![escape_sequence.PNG](data:image/png;base64,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)"
   ]
  },
  {
   "cell_type": "markdown",
   "metadata": {
    "id": "-kpbmEft9Lto"
   },
   "source": [
    "## Raw Strings"
   ]
  },
  {
   "cell_type": "code",
   "execution_count": null,
   "metadata": {
    "colab": {
     "base_uri": "https://localhost:8080/"
    },
    "executionInfo": {
     "elapsed": 4,
     "status": "ok",
     "timestamp": 1738175149473,
     "user": {
      "displayName": "Gunther",
      "userId": "09898809932311330039"
     },
     "user_tz": 300
    },
    "id": "aDKHaStbUqJ1",
    "outputId": "719dbe34-5a1c-48b0-ba41-c3bf9f05e4e8"
   },
   "outputs": [
    {
     "name": "stdout",
     "output_type": "stream",
     "text": [
      "\\this_project\\data.csv\n"
     ]
    }
   ],
   "source": [
    "raw_string = r'\\this_project\\data.csv' # prevents \\t from being a tab as well\n",
    "                                       # any other escape sequences\n",
    "print(raw_string)"
   ]
  },
  {
   "cell_type": "code",
   "execution_count": null,
   "metadata": {
    "colab": {
     "base_uri": "https://localhost:8080/"
    },
    "executionInfo": {
     "elapsed": 3,
     "status": "ok",
     "timestamp": 1738175149473,
     "user": {
      "displayName": "Gunther",
      "userId": "09898809932311330039"
     },
     "user_tz": 300
    },
    "id": "DLDk22dxVQ-v",
    "outputId": "a5e36509-2af2-45d0-f1ec-bd4a726d0ccd"
   },
   "outputs": [
    {
     "name": "stdout",
     "output_type": "stream",
     "text": [
      "\\this_project\\data.csv\n"
     ]
    }
   ],
   "source": [
    "other_string = '\\\\this_project\\\\data.csv'  # You can also avoid errors by putting double backslash.\n",
    "print(other_string)"
   ]
  },
  {
   "cell_type": "code",
   "execution_count": null,
   "metadata": {
    "id": "zQeUInPB9Wlt"
   },
   "outputs": [],
   "source": [
    "## This is to help out inthe case of\n",
    "# myfile = open('..\\new\\text_data.txt',w)\n",
    "# if this is run then the output would create a new line at \\n and a tab at \\t.\n",
    "# Instead use:\n",
    "# myfile = open(r'..\\new\\text_data.txt','w')\n",
    "# This will skip the escape sequences."
   ]
  },
  {
   "cell_type": "markdown",
   "metadata": {
    "id": "K5faBEQC9JCO"
   },
   "source": [
    "## Triple quote"
   ]
  },
  {
   "cell_type": "code",
   "execution_count": null,
   "metadata": {
    "colab": {
     "base_uri": "https://localhost:8080/"
    },
    "executionInfo": {
     "elapsed": 209,
     "status": "ok",
     "timestamp": 1738175149680,
     "user": {
      "displayName": "Gunther",
      "userId": "09898809932311330039"
     },
     "user_tz": 300
    },
    "id": "gGfEmiT6UeaI",
    "outputId": "5cfc86ec-d26b-4137-deed-228b80ac0cbf"
   },
   "outputs": [
    {
     "name": "stdout",
     "output_type": "stream",
     "text": [
      "\n",
      "This is a block quote\n",
      "with multiple lines.\n",
      "\n"
     ]
    }
   ],
   "source": [
    "triple_quote = \"\"\"\n",
    "This is a block quote\n",
    "with multiple lines.\n",
    "\"\"\"\n",
    "print(triple_quote)"
   ]
  },
  {
   "cell_type": "code",
   "execution_count": null,
   "metadata": {
    "colab": {
     "base_uri": "https://localhost:8080/",
     "height": 35
    },
    "executionInfo": {
     "elapsed": 6,
     "status": "ok",
     "timestamp": 1738175149680,
     "user": {
      "displayName": "Gunther",
      "userId": "09898809932311330039"
     },
     "user_tz": 300
    },
    "id": "tcM2lMpw_VgV",
    "outputId": "6b87a2bd-5f31-46ac-d007-83d1b81dfa45"
   },
   "outputs": [
    {
     "data": {
      "application/vnd.google.colaboratory.intrinsic+json": {
       "type": "string"
      },
      "text/plain": [
       "'\\nThis is a block quote\\nwith multiple lines.\\n'"
      ]
     },
     "execution_count": 15,
     "metadata": {},
     "output_type": "execute_result"
    }
   ],
   "source": [
    "triple_quote  ## When you don't print.  You can see the new line escape sequence."
   ]
  },
  {
   "cell_type": "code",
   "execution_count": null,
   "metadata": {
    "colab": {
     "base_uri": "https://localhost:8080/"
    },
    "executionInfo": {
     "elapsed": 6,
     "status": "ok",
     "timestamp": 1738175149681,
     "user": {
      "displayName": "Gunther",
      "userId": "09898809932311330039"
     },
     "user_tz": 300
    },
    "id": "LjL9UF4J_WX7",
    "outputId": "543f0bf1-6ec1-460c-c8f3-e127fda1c815"
   },
   "outputs": [
    {
     "name": "stdout",
     "output_type": "stream",
     "text": [
      "\n",
      "This is a block quote  # This will be added to the quote.  This will not be a comment.\n",
      "with multiple lines.\n",
      "\n"
     ]
    }
   ],
   "source": [
    "triple_quote_bad = \"\"\"\n",
    "This is a block quote  # This will be added to the quote.  This will not be a comment.\n",
    "with multiple lines.\n",
    "\"\"\"\n",
    "\n",
    "print(triple_quote_bad)"
   ]
  },
  {
   "cell_type": "markdown",
   "metadata": {
    "id": "arzYWn2TCQll"
   },
   "source": [
    "## String in Action"
   ]
  },
  {
   "cell_type": "markdown",
   "metadata": {
    "id": "GCycWsjGCZHD"
   },
   "source": [
    "### Basic Operations"
   ]
  },
  {
   "cell_type": "code",
   "execution_count": null,
   "metadata": {
    "colab": {
     "base_uri": "https://localhost:8080/"
    },
    "executionInfo": {
     "elapsed": 5,
     "status": "ok",
     "timestamp": 1738175149681,
     "user": {
      "displayName": "Gunther",
      "userId": "09898809932311330039"
     },
     "user_tz": 300
    },
    "id": "aqpl1Qz2_w_R",
    "outputId": "bf13f3d7-dbff-480d-f739-132500e10d45"
   },
   "outputs": [
    {
     "name": "stdout",
     "output_type": "stream",
     "text": [
      "5\n",
      "abcdef\n",
      "Hello!Hello!Hello!\n"
     ]
    }
   ],
   "source": [
    "print(len('abcde'))\n",
    "print('abc'+'def')\n",
    "print('Hello!'*3)"
   ]
  },
  {
   "cell_type": "code",
   "execution_count": null,
   "metadata": {
    "colab": {
     "base_uri": "https://localhost:8080/"
    },
    "executionInfo": {
     "elapsed": 4,
     "status": "ok",
     "timestamp": 1738175149681,
     "user": {
      "displayName": "Gunther",
      "userId": "09898809932311330039"
     },
     "user_tz": 300
    },
    "id": "8M2gjdKcCwDi",
    "outputId": "067bf757-ae9a-4fd6-b06c-aca2b1523603"
   },
   "outputs": [
    {
     "name": "stdout",
     "output_type": "stream",
     "text": [
      "--------------------------------------------------------------------------------\n"
     ]
    }
   ],
   "source": [
    "print('-'*80)"
   ]
  },
  {
   "cell_type": "code",
   "execution_count": null,
   "metadata": {
    "id": "j-zAjABMDBK0"
   },
   "outputs": [],
   "source": [
    "# 'abc' + 9  #This does not work\n",
    "# This is trying to concate a string with an int, which will not work."
   ]
  },
  {
   "cell_type": "code",
   "execution_count": null,
   "metadata": {
    "colab": {
     "base_uri": "https://localhost:8080/"
    },
    "executionInfo": {
     "elapsed": 5,
     "status": "ok",
     "timestamp": 1738175149682,
     "user": {
      "displayName": "Gunther",
      "userId": "09898809932311330039"
     },
     "user_tz": 300
    },
    "id": "ZvmACIiJDQRE",
    "outputId": "289e901e-47a5-4c17-c76d-cec96a764d34"
   },
   "outputs": [
    {
     "name": "stdout",
     "output_type": "stream",
     "text": [
      "a b c d e f g h i j k l m n o p q r s t u v w x y z "
     ]
    }
   ],
   "source": [
    "alphabet = 'abcdefghijklmnopqrstuvwxyz'\n",
    "\n",
    "for letter in alphabet:     # For loop\n",
    "    print(letter, end=' ')  # end = ' ' prevents a new line between letters.\n"
   ]
  },
  {
   "cell_type": "code",
   "execution_count": null,
   "metadata": {
    "colab": {
     "base_uri": "https://localhost:8080/"
    },
    "executionInfo": {
     "elapsed": 107,
     "status": "ok",
     "timestamp": 1738175149785,
     "user": {
      "displayName": "Gunther",
      "userId": "09898809932311330039"
     },
     "user_tz": 300
    },
    "id": "LxIL8wEeELi7",
    "outputId": "efd1a780-28e6-4813-fef1-fa45a1b3ab96"
   },
   "outputs": [
    {
     "name": "stdout",
     "output_type": "stream",
     "text": [
      "True\n",
      "True\n",
      "False\n"
     ]
    }
   ],
   "source": [
    "s = \"Hello World!\"\n",
    "print('H'in s)\n",
    "print('World' in s)\n",
    "print('world' in s)  # It is case sensitive."
   ]
  },
  {
   "cell_type": "code",
   "execution_count": null,
   "metadata": {
    "colab": {
     "base_uri": "https://localhost:8080/"
    },
    "executionInfo": {
     "elapsed": 6,
     "status": "ok",
     "timestamp": 1738175149785,
     "user": {
      "displayName": "Gunther",
      "userId": "09898809932311330039"
     },
     "user_tz": 300
    },
    "id": "ezE3FhNVFSNT",
    "outputId": "c41d2712-25fa-4056-e6db-cc8aa5bb8a3c"
   },
   "outputs": [
    {
     "name": "stdout",
     "output_type": "stream",
     "text": [
      "H\n",
      "e\n",
      "!\n",
      "d\n",
      "Hello\n",
      "World!\n",
      "Hello\n",
      "Hello World!\n"
     ]
    }
   ],
   "source": [
    "## Indexing\n",
    "print(s[0])   # The first letter\n",
    "print(s[1])   # The second letter\n",
    "print(s[-1])  # The last letter\n",
    "print(s[-2])  # The second to last letter\n",
    "print(s[0:5]) # The first to fifth letter\n",
    "print(s[6:])  # Prints from position 6 to the end.\n",
    "print(s[:5])  # Prints from the beginning to the fifth letter.\n",
    "print(s[:])   # Prints from the beginning to the end."
   ]
  },
  {
   "cell_type": "code",
   "execution_count": null,
   "metadata": {
    "colab": {
     "base_uri": "https://localhost:8080/"
    },
    "executionInfo": {
     "elapsed": 5,
     "status": "ok",
     "timestamp": 1738175149785,
     "user": {
      "displayName": "Gunther",
      "userId": "09898809932311330039"
     },
     "user_tz": 300
    },
    "id": "1q6x6wuGUFDc",
    "outputId": "2315855f-5a0d-41d3-f82b-59d3db24fac9"
   },
   "outputs": [
    {
     "name": "stdout",
     "output_type": "stream",
     "text": [
      "Hlo\n",
      "HlWl\n",
      "!dlroW\n",
      "!dlroW olleH\n"
     ]
    }
   ],
   "source": [
    "print(s[0:5:2])  # goes from 0 to position 4 in steps of 2\n",
    "print(s[::3])    # prints every third letter\n",
    "print(s[12:5:-1]) # Reverse order\n",
    "print(s[::-1])"
   ]
  },
  {
   "cell_type": "code",
   "execution_count": null,
   "metadata": {
    "colab": {
     "base_uri": "https://localhost:8080/",
     "height": 35
    },
    "executionInfo": {
     "elapsed": 3,
     "status": "ok",
     "timestamp": 1738175149785,
     "user": {
      "displayName": "Gunther",
      "userId": "09898809932311330039"
     },
     "user_tz": 300
    },
    "id": "2OT4_-AnFUIx",
    "outputId": "d5844388-b02c-4e61-8def-d3b6c1e2c0af"
   },
   "outputs": [
    {
     "data": {
      "application/vnd.google.colaboratory.intrinsic+json": {
       "type": "string"
      },
      "text/plain": [
       "'01234'"
      ]
     },
     "execution_count": 24,
     "metadata": {},
     "output_type": "execute_result"
    }
   ],
   "source": [
    "##\n",
    "n = '012345'\n",
    "n[0:5]  # The first number (0) is inclusive and the second (5) is non-inclusive."
   ]
  },
  {
   "cell_type": "markdown",
   "metadata": {
    "id": "RgCCrQ30X50c"
   },
   "source": [
    "## String Conversion Tools"
   ]
  },
  {
   "cell_type": "markdown",
   "metadata": {
    "id": "82bsNYPE_Ixr"
   },
   "source": [
    "### Basics"
   ]
  },
  {
   "cell_type": "code",
   "execution_count": null,
   "metadata": {
    "id": "eseeCFd4IfV_"
   },
   "outputs": [],
   "source": [
    "# 1+'5'  # This will not works because it is a int plus a string"
   ]
  },
  {
   "cell_type": "code",
   "execution_count": null,
   "metadata": {
    "colab": {
     "base_uri": "https://localhost:8080/"
    },
    "executionInfo": {
     "elapsed": 96,
     "status": "ok",
     "timestamp": 1738252859417,
     "user": {
      "displayName": "Gunther",
      "userId": "09898809932311330039"
     },
     "user_tz": 300
    },
    "id": "lgETMFKSIqSo",
    "outputId": "07dde60f-f7fa-4fa2-a040-161add9c55e1"
   },
   "outputs": [
    {
     "data": {
      "text/plain": [
       "6"
      ]
     },
     "execution_count": 4,
     "metadata": {},
     "output_type": "execute_result"
    }
   ],
   "source": [
    "1 + int('5')  # This works because the string '5' is converted to an integer"
   ]
  },
  {
   "cell_type": "code",
   "execution_count": null,
   "metadata": {
    "colab": {
     "base_uri": "https://localhost:8080/",
     "height": 35
    },
    "executionInfo": {
     "elapsed": 92,
     "status": "ok",
     "timestamp": 1738252906046,
     "user": {
      "displayName": "Gunther",
      "userId": "09898809932311330039"
     },
     "user_tz": 300
    },
    "id": "d8aPUX1W8Py7",
    "outputId": "51825486-c1c3-4b65-b136-7ad19340fef3"
   },
   "outputs": [
    {
     "data": {
      "application/vnd.google.colaboratory.intrinsic+json": {
       "type": "string"
      },
      "text/plain": [
       "'15'"
      ]
     },
     "execution_count": 6,
     "metadata": {},
     "output_type": "execute_result"
    }
   ],
   "source": [
    "str(1) + '5'  # This generates a string '15' because 1 is converted to a string\n",
    "              # then it concatenates '1' and '5' to '15'"
   ]
  },
  {
   "cell_type": "code",
   "execution_count": null,
   "metadata": {
    "colab": {
     "base_uri": "https://localhost:8080/"
    },
    "executionInfo": {
     "elapsed": 68,
     "status": "ok",
     "timestamp": 1738253040819,
     "user": {
      "displayName": "Gunther",
      "userId": "09898809932311330039"
     },
     "user_tz": 300
    },
    "id": "mtsPUVwg8lAo",
    "outputId": "cbe382e6-fd5a-4312-d1ef-fca9d77e45e6"
   },
   "outputs": [
    {
     "name": "stdout",
     "output_type": "stream",
     "text": [
      "<class 'int'>\n",
      "<class 'str'>\n"
     ]
    }
   ],
   "source": [
    "print(type(1 + int('5') ))\n",
    "print(type(str(1) + '5' ))"
   ]
  },
  {
   "cell_type": "code",
   "execution_count": null,
   "metadata": {
    "colab": {
     "base_uri": "https://localhost:8080/"
    },
    "executionInfo": {
     "elapsed": 77,
     "status": "ok",
     "timestamp": 1738253132600,
     "user": {
      "displayName": "Gunther",
      "userId": "09898809932311330039"
     },
     "user_tz": 300
    },
    "id": "K2ZFIE189HwN",
    "outputId": "c4ad9698-b2c0-416e-df12-ffc39f40e586"
   },
   "outputs": [
    {
     "data": {
      "text/plain": [
       "6.5"
      ]
     },
     "execution_count": 9,
     "metadata": {},
     "output_type": "execute_result"
    }
   ],
   "source": [
    "## This also works for converting to floats\n",
    "float('4.2')+2.3"
   ]
  },
  {
   "cell_type": "code",
   "execution_count": null,
   "metadata": {
    "colab": {
     "base_uri": "https://localhost:8080/"
    },
    "executionInfo": {
     "elapsed": 73,
     "status": "ok",
     "timestamp": 1738253199369,
     "user": {
      "displayName": "Gunther",
      "userId": "09898809932311330039"
     },
     "user_tz": 300
    },
    "id": "3V9teyss9cyQ",
    "outputId": "6789dcf8-46e1-46da-a23c-3d285066729b"
   },
   "outputs": [
    {
     "data": {
      "text/plain": [
       "5"
      ]
     },
     "execution_count": 10,
     "metadata": {},
     "output_type": "execute_result"
    }
   ],
   "source": [
    "## Remember there is an eval function for strings\n",
    "eval('2 + 3')"
   ]
  },
  {
   "cell_type": "markdown",
   "metadata": {
    "id": "QnrmlVQA_LAC"
   },
   "source": [
    "### String Comparisons"
   ]
  },
  {
   "cell_type": "code",
   "execution_count": null,
   "metadata": {
    "colab": {
     "base_uri": "https://localhost:8080/"
    },
    "executionInfo": {
     "elapsed": 74,
     "status": "ok",
     "timestamp": 1738253711386,
     "user": {
      "displayName": "Gunther",
      "userId": "09898809932311330039"
     },
     "user_tz": 300
    },
    "id": "CDbE1kVC9udY",
    "outputId": "0e766d78-4cbb-4273-c481-6c1e695e8dac"
   },
   "outputs": [
    {
     "name": "stdout",
     "output_type": "stream",
     "text": [
      "True\n",
      "False\n",
      "True\n"
     ]
    }
   ],
   "source": [
    "print('apple' == 'apple')\n",
    "print('apple' == 'Apple')  # Capital is seen as a different character.\n",
    "print('apple' != 'Apple')"
   ]
  },
  {
   "cell_type": "markdown",
   "metadata": {
    "id": "-zks1CMCApvO"
   },
   "source": [
    "## Changing Strings"
   ]
  },
  {
   "cell_type": "code",
   "execution_count": null,
   "metadata": {
    "id": "EUZ9kiRM_huR"
   },
   "outputs": [],
   "source": [
    "## Strings are immutable\n",
    "\n",
    "s = 'string'\n",
    "# s[0] = 'z'  # This will not work, becuase strings are immutable."
   ]
  },
  {
   "cell_type": "code",
   "execution_count": null,
   "metadata": {
    "colab": {
     "base_uri": "https://localhost:8080/"
    },
    "executionInfo": {
     "elapsed": 2,
     "status": "ok",
     "timestamp": 1738254295268,
     "user": {
      "displayName": "Gunther",
      "userId": "09898809932311330039"
     },
     "user_tz": 300
    },
    "id": "_mlQum72BDUm",
    "outputId": "934b2118-42a6-4712-9f72-fe4f3b0dcec7"
   },
   "outputs": [
    {
     "name": "stdout",
     "output_type": "stream",
     "text": [
      "stringy cheese!\n",
      "stripes!\n"
     ]
    }
   ],
   "source": [
    "# You can add or take away\n",
    "s = 'string'\n",
    "s = s+'y cheese!'\n",
    "print(s)\n",
    "\n",
    "s = s[:4] +'pes'+s[-1]\n",
    "print(s)"
   ]
  },
  {
   "cell_type": "code",
   "execution_count": null,
   "metadata": {
    "colab": {
     "base_uri": "https://localhost:8080/"
    },
    "executionInfo": {
     "elapsed": 53,
     "status": "ok",
     "timestamp": 1738254330160,
     "user": {
      "displayName": "Gunther",
      "userId": "09898809932311330039"
     },
     "user_tz": 300
    },
    "id": "Cv_tB6SaBdXy",
    "outputId": "a0f6afcc-544a-45fd-c9aa-dedd44724a19"
   },
   "outputs": [
    {
     "name": "stdout",
     "output_type": "stream",
     "text": [
      "sponges!\n"
     ]
    }
   ],
   "source": [
    "## replace\n",
    "s = 'stripes!'\n",
    "s = s.replace('tripe','ponge')\n",
    "print(s)"
   ]
  },
  {
   "cell_type": "code",
   "execution_count": null,
   "metadata": {
    "colab": {
     "base_uri": "https://localhost:8080/"
    },
    "executionInfo": {
     "elapsed": 130,
     "status": "ok",
     "timestamp": 1738619739298,
     "user": {
      "displayName": "Gunther",
      "userId": "09898809932311330039"
     },
     "user_tz": 300
    },
    "id": "r--6k2Crrgi2",
    "outputId": "9cdec424-9502-4540-aaf1-9a066aadf464"
   },
   "outputs": [
    {
     "name": "stdout",
     "output_type": "stream",
     "text": [
      "---$$$---$$$---$$$---\n",
      "---$$$---$$$---&---\n"
     ]
    }
   ],
   "source": [
    "pattern = '---&---&---&---'\n",
    "print(pattern.replace('&','$$$'))  # replaces all instances.\n",
    "print(pattern.replace('&','$$$',2))# replaces first two instances."
   ]
  },
  {
   "cell_type": "code",
   "execution_count": null,
   "metadata": {
    "colab": {
     "base_uri": "https://localhost:8080/"
    },
    "executionInfo": {
     "elapsed": 95,
     "status": "ok",
     "timestamp": 1738619739819,
     "user": {
      "displayName": "Gunther",
      "userId": "09898809932311330039"
     },
     "user_tz": 300
    },
    "id": "s_DmEzjQzyHE",
    "outputId": "dc683e88-3e7f-4895-d29a-4d7392363de8"
   },
   "outputs": [
    {
     "name": "stdout",
     "output_type": "stream",
     "text": [
      "---&---&---&---\n",
      "---$$$---$$$---$$$---\n"
     ]
    }
   ],
   "source": [
    "print(pattern)  # note the object has not changed.  It only changes if you redefine it.\n",
    "# for example\n",
    "pattern = pattern.replace('&','$$$')\n",
    "print(pattern)"
   ]
  },
  {
   "cell_type": "code",
   "execution_count": null,
   "metadata": {
    "colab": {
     "base_uri": "https://localhost:8080/"
    },
    "executionInfo": {
     "elapsed": 174,
     "status": "ok",
     "timestamp": 1738619750346,
     "user": {
      "displayName": "Gunther",
      "userId": "09898809932311330039"
     },
     "user_tz": 300
    },
    "id": "UfbKtY-8smCb",
    "outputId": "2d694f07-a4e4-4e8e-c18c-c29dc2c9937e"
   },
   "outputs": [
    {
     "name": "stdout",
     "output_type": "stream",
     "text": [
      "---$$$---&---&---\n"
     ]
    }
   ],
   "source": [
    "## find location and replace\n",
    "pattern2  = '---&---&---&---'\n",
    "loc = pattern2.find('&')  # finds the position. For example, position 3 for the first &.\n",
    "pattern2 = pattern2[:loc]+'$$$'+pattern2[loc+1:]\n",
    "print(pattern2)\n",
    "\n",
    "##\n",
    "# pattern2  = '---&---&---&---'\n",
    "# print(pattern2.replace('&','$$$',1)) #This does the same thing."
   ]
  },
  {
   "cell_type": "code",
   "execution_count": null,
   "metadata": {
    "colab": {
     "base_uri": "https://localhost:8080/"
    },
    "executionInfo": {
     "elapsed": 93,
     "status": "ok",
     "timestamp": 1738619752444,
     "user": {
      "displayName": "Gunther",
      "userId": "09898809932311330039"
     },
     "user_tz": 300
    },
    "id": "V9x-MPArzT0O",
    "outputId": "f7336762-d27a-49e9-f119-101dd2bbbf54"
   },
   "outputs": [
    {
     "name": "stdout",
     "output_type": "stream",
     "text": [
      "I like bananas and pie.\n"
     ]
    }
   ],
   "source": [
    "## replace multiple items\n",
    "\n",
    "food = 'I like apples and cake.'\n",
    "food = food.replace('apples','bananas').replace('cake','pie')\n",
    "\n",
    "print(food)"
   ]
  },
  {
   "cell_type": "code",
   "execution_count": null,
   "metadata": {
    "colab": {
     "base_uri": "https://localhost:8080/"
    },
    "executionInfo": {
     "elapsed": 147,
     "status": "ok",
     "timestamp": 1738703869584,
     "user": {
      "displayName": "Gunther",
      "userId": "09898809932311330039"
     },
     "user_tz": 300
    },
    "id": "D9GwFha20hk_",
    "outputId": "50daca87-ee00-4888-d86f-889b7c59e228"
   },
   "outputs": [
    {
     "name": "stdout",
     "output_type": "stream",
     "text": [
      "Hello Mars!\n"
     ]
    }
   ],
   "source": [
    "## Convert to a list to manipulate eaisier\n",
    "\n",
    "greeting = 'Hello World!'\n",
    "greeting_list = list(greeting)\n",
    "greeting_list[6:] = 'Mars!'\n",
    "greeting = ''.join(greeting_list) #joins the items in the list with no space.\n",
    "print(greeting)"
   ]
  },
  {
   "cell_type": "code",
   "execution_count": null,
   "metadata": {
    "colab": {
     "base_uri": "https://localhost:8080/",
     "height": 35
    },
    "executionInfo": {
     "elapsed": 117,
     "status": "ok",
     "timestamp": 1738704056818,
     "user": {
      "displayName": "Gunther",
      "userId": "09898809932311330039"
     },
     "user_tz": 300
    },
    "id": "iPs7Bu0k1ecY",
    "outputId": "34d5609d-1545-4e4f-c97c-4754b3f5378e"
   },
   "outputs": [
    {
     "data": {
      "application/vnd.google.colaboratory.intrinsic+json": {
       "type": "string"
      },
      "text/plain": [
       "'How*cough*are*cough*you*cough*doing?'"
      ]
     },
     "execution_count": 5,
     "metadata": {},
     "output_type": "execute_result"
    }
   ],
   "source": [
    "'*cough*'.join(['How','are','you','doing?'])  # The sentence is joined by what is in the quotes."
   ]
  },
  {
   "cell_type": "markdown",
   "metadata": {
    "id": "fX1Roi5sC8RT"
   },
   "source": [
    "## String Methods"
   ]
  },
  {
   "cell_type": "markdown",
   "metadata": {
    "id": "lfbTQZtVo1_o"
   },
   "source": [
    "### Object Method\n",
    "\n",
    "object.method(argument)\n"
   ]
  },
  {
   "cell_type": "code",
   "execution_count": null,
   "metadata": {
    "colab": {
     "base_uri": "https://localhost:8080/"
    },
    "executionInfo": {
     "elapsed": 139,
     "status": "ok",
     "timestamp": 1738616923870,
     "user": {
      "displayName": "Gunther",
      "userId": "09898809932311330039"
     },
     "user_tz": 300
    },
    "id": "F8zo1OpfB0Bi",
    "outputId": "48fd9af3-260e-4824-e3cc-b12df1396c9a"
   },
   "outputs": [
    {
     "data": {
      "text/plain": [
       "1"
      ]
     },
     "execution_count": 1,
     "metadata": {},
     "output_type": "execute_result"
    }
   ],
   "source": [
    "## Example\n",
    "string = 'hello'  # This is the object\n",
    "string.find('ell')   # .find is the method, 'ell' is the argument\n",
    "# The code outputs 1 to state that 'ell' begins at position 1"
   ]
  },
  {
   "cell_type": "markdown",
   "metadata": {
    "id": "IOBX6RKHpYp2"
   },
   "source": [
    "### String methods"
   ]
  },
  {
   "cell_type": "code",
   "execution_count": null,
   "metadata": {
    "colab": {
     "base_uri": "https://localhost:8080/"
    },
    "executionInfo": {
     "elapsed": 152,
     "status": "ok",
     "timestamp": 1738617118258,
     "user": {
      "displayName": "Gunther",
      "userId": "09898809932311330039"
     },
     "user_tz": 300
    },
    "id": "15hBmjxrpMMv",
    "outputId": "9a974ca4-eb77-402b-f451-c37ff255c785"
   },
   "outputs": [
    {
     "data": {
      "text/plain": [
       "['__add__',\n",
       " '__class__',\n",
       " '__contains__',\n",
       " '__delattr__',\n",
       " '__dir__',\n",
       " '__doc__',\n",
       " '__eq__',\n",
       " '__format__',\n",
       " '__ge__',\n",
       " '__getattribute__',\n",
       " '__getitem__',\n",
       " '__getnewargs__',\n",
       " '__getstate__',\n",
       " '__gt__',\n",
       " '__hash__',\n",
       " '__init__',\n",
       " '__init_subclass__',\n",
       " '__iter__',\n",
       " '__le__',\n",
       " '__len__',\n",
       " '__lt__',\n",
       " '__mod__',\n",
       " '__mul__',\n",
       " '__ne__',\n",
       " '__new__',\n",
       " '__reduce__',\n",
       " '__reduce_ex__',\n",
       " '__repr__',\n",
       " '__rmod__',\n",
       " '__rmul__',\n",
       " '__setattr__',\n",
       " '__sizeof__',\n",
       " '__str__',\n",
       " '__subclasshook__',\n",
       " 'capitalize',\n",
       " 'casefold',\n",
       " 'center',\n",
       " 'count',\n",
       " 'encode',\n",
       " 'endswith',\n",
       " 'expandtabs',\n",
       " 'find',\n",
       " 'format',\n",
       " 'format_map',\n",
       " 'index',\n",
       " 'isalnum',\n",
       " 'isalpha',\n",
       " 'isascii',\n",
       " 'isdecimal',\n",
       " 'isdigit',\n",
       " 'isidentifier',\n",
       " 'islower',\n",
       " 'isnumeric',\n",
       " 'isprintable',\n",
       " 'isspace',\n",
       " 'istitle',\n",
       " 'isupper',\n",
       " 'join',\n",
       " 'ljust',\n",
       " 'lower',\n",
       " 'lstrip',\n",
       " 'maketrans',\n",
       " 'partition',\n",
       " 'removeprefix',\n",
       " 'removesuffix',\n",
       " 'replace',\n",
       " 'rfind',\n",
       " 'rindex',\n",
       " 'rjust',\n",
       " 'rpartition',\n",
       " 'rsplit',\n",
       " 'rstrip',\n",
       " 'split',\n",
       " 'splitlines',\n",
       " 'startswith',\n",
       " 'strip',\n",
       " 'swapcase',\n",
       " 'title',\n",
       " 'translate',\n",
       " 'upper',\n",
       " 'zfill']"
      ]
     },
     "execution_count": 8,
     "metadata": {},
     "output_type": "execute_result"
    }
   ],
   "source": [
    "dir(string)\n",
    "## This gives a list of different methods.  We will demonstrate a few."
   ]
  },
  {
   "cell_type": "code",
   "execution_count": null,
   "metadata": {
    "colab": {
     "base_uri": "https://localhost:8080/",
     "height": 35
    },
    "executionInfo": {
     "elapsed": 228,
     "status": "ok",
     "timestamp": 1738617144576,
     "user": {
      "displayName": "Gunther",
      "userId": "09898809932311330039"
     },
     "user_tz": 300
    },
    "id": "T_StFF1vpy20",
    "outputId": "d46881b8-2262-4a4a-81e0-7b8d24c2bf2f"
   },
   "outputs": [
    {
     "data": {
      "application/vnd.google.colaboratory.intrinsic+json": {
       "type": "string"
      },
      "text/plain": [
       "'Hello'"
      ]
     },
     "execution_count": 10,
     "metadata": {},
     "output_type": "execute_result"
    }
   ],
   "source": [
    "string.capitalize()"
   ]
  },
  {
   "cell_type": "code",
   "execution_count": null,
   "metadata": {
    "colab": {
     "base_uri": "https://localhost:8080/"
    },
    "executionInfo": {
     "elapsed": 226,
     "status": "ok",
     "timestamp": 1738617165113,
     "user": {
      "displayName": "Gunther",
      "userId": "09898809932311330039"
     },
     "user_tz": 300
    },
    "id": "f-Za9Y9VqDX-",
    "outputId": "073d2eb3-4664-43a1-f724-0d1d0dc9e3eb"
   },
   "outputs": [
    {
     "data": {
      "text/plain": [
       "['apple', ' banana', ' orange']"
      ]
     },
     "execution_count": 11,
     "metadata": {},
     "output_type": "execute_result"
    }
   ],
   "source": [
    "string_list = \"apple, banana, orange\"\n",
    "string_list.split(',')                  #creates a list after splitting by comma"
   ]
  },
  {
   "cell_type": "code",
   "execution_count": null,
   "metadata": {
    "colab": {
     "base_uri": "https://localhost:8080/"
    },
    "executionInfo": {
     "elapsed": 135,
     "status": "ok",
     "timestamp": 1738704392493,
     "user": {
      "displayName": "Gunther",
      "userId": "09898809932311330039"
     },
     "user_tz": 300
    },
    "id": "3apKfvjg2UQu",
    "outputId": "ddf8414b-7e89-4f58-84df-6942d93f0e61"
   },
   "outputs": [
    {
     "data": {
      "text/plain": [
       "['potato', 'carrot', 'beans']"
      ]
     },
     "execution_count": 13,
     "metadata": {},
     "output_type": "execute_result"
    }
   ],
   "source": [
    "veggies = 'potato carrot          beans'\n",
    "veggies = veggies.split()  # without anything, the default is white space.\n",
    "veggies"
   ]
  },
  {
   "cell_type": "code",
   "execution_count": null,
   "metadata": {
    "colab": {
     "base_uri": "https://localhost:8080/"
    },
    "executionInfo": {
     "elapsed": 164,
     "status": "ok",
     "timestamp": 1738704348860,
     "user": {
      "displayName": "Gunther",
      "userId": "09898809932311330039"
     },
     "user_tz": 300
    },
    "id": "QjKK70y52r4P",
    "outputId": "46ee2011-bbf9-4906-d729-023d3c480208"
   },
   "outputs": [
    {
     "data": {
      "text/plain": [
       "['aaa', 'bbb', 'ccc']"
      ]
     },
     "execution_count": 10,
     "metadata": {},
     "output_type": "execute_result"
    }
   ],
   "source": [
    "line = 'aaa bbb     ccc'\n",
    "cols = line.split()\n",
    "cols"
   ]
  },
  {
   "cell_type": "code",
   "execution_count": null,
   "metadata": {
    "colab": {
     "base_uri": "https://localhost:8080/"
    },
    "executionInfo": {
     "elapsed": 176,
     "status": "ok",
     "timestamp": 1738704675238,
     "user": {
      "displayName": "Gunther",
      "userId": "09898809932311330039"
     },
     "user_tz": 300
    },
    "id": "6FY6rtCz3i7V",
    "outputId": "0733856c-051f-4173-c3c4-126b489e00e2"
   },
   "outputs": [
    {
     "name": "stdout",
     "output_type": "stream",
     "text": [
      "How*cough*are*cough*you*cough*doing?\n",
      "How are you doing?\n"
     ]
    }
   ],
   "source": [
    "Cough = '*cough*'.join(['How','are','you','doing?'])  # The sentence is joined by what is in the quotes.\n",
    "print(Cough)\n",
    "print(' '.join(Cough.split('*cough*')))  #split using delimeter *cought* (which removes *cough*) and join back together with a space in between."
   ]
  },
  {
   "cell_type": "code",
   "execution_count": null,
   "metadata": {
    "colab": {
     "base_uri": "https://localhost:8080/"
    },
    "executionInfo": {
     "elapsed": 203,
     "status": "ok",
     "timestamp": 1738703729970,
     "user": {
      "displayName": "Gunther",
      "userId": "09898809932311330039"
     },
     "user_tz": 300
    },
    "id": "EwDZ6Du_qJPH",
    "outputId": "8237af50-f77b-46a1-963c-2cd87b6b1cfc"
   },
   "outputs": [
    {
     "data": {
      "text/plain": [
       "False"
      ]
     },
     "execution_count": 1,
     "metadata": {},
     "output_type": "execute_result"
    }
   ],
   "source": [
    "yell = 'HELLO'\n",
    "yell.islower()  # does not contain lower case letters"
   ]
  },
  {
   "cell_type": "code",
   "execution_count": null,
   "metadata": {
    "colab": {
     "base_uri": "https://localhost:8080/"
    },
    "executionInfo": {
     "elapsed": 2,
     "status": "ok",
     "timestamp": 1738703730229,
     "user": {
      "displayName": "Gunther",
      "userId": "09898809932311330039"
     },
     "user_tz": 300
    },
    "id": "EyHt--boqWed",
    "outputId": "83bf98f1-013b-415f-966a-fe089aee1030"
   },
   "outputs": [
    {
     "data": {
      "text/plain": [
       "True"
      ]
     },
     "execution_count": 2,
     "metadata": {},
     "output_type": "execute_result"
    }
   ],
   "source": [
    "yell.isupper()  # but does contain ALL upper case letters."
   ]
  },
  {
   "cell_type": "markdown",
   "metadata": {
    "id": "7Lx1rQPd6ARQ"
   },
   "source": [
    "## String Formatting\n",
    "3 different ways\n",
    "\n",
    "Each way is briefly shown, but more advance methods are available for each string formatting technique."
   ]
  },
  {
   "cell_type": "markdown",
   "metadata": {
    "id": "r-ck44BL8KSg"
   },
   "source": [
    "### String-Formatting Expression"
   ]
  },
  {
   "cell_type": "code",
   "execution_count": null,
   "metadata": {
    "colab": {
     "base_uri": "https://localhost:8080/",
     "height": 35
    },
    "executionInfo": {
     "elapsed": 130,
     "status": "ok",
     "timestamp": 1738705882652,
     "user": {
      "displayName": "Gunther",
      "userId": "09898809932311330039"
     },
     "user_tz": 300
    },
    "id": "AcA22mgVqlnM",
    "outputId": "7f0fd994-5a00-4ed2-ad10-6f9d7c1d1355"
   },
   "outputs": [
    {
     "data": {
      "application/vnd.google.colaboratory.intrinsic+json": {
       "type": "string"
      },
      "text/plain": [
       "'There are 9 members of the fellowship of the ring'"
      ]
     },
     "execution_count": 21,
     "metadata": {},
     "output_type": "execute_result"
    }
   ],
   "source": [
    "'There are %d members of the fellowship of the %s' % (9, 'ring')\n",
    "# d for Decimal\n",
    "# s for String\n",
    "# i for integer\n",
    "# f for float\n",
    "# e for float with exponent"
   ]
  },
  {
   "cell_type": "markdown",
   "metadata": {
    "id": "KcXYaJ668SCm"
   },
   "source": [
    "### String-Formatting Method"
   ]
  },
  {
   "cell_type": "code",
   "execution_count": null,
   "metadata": {
    "colab": {
     "base_uri": "https://localhost:8080/",
     "height": 35
    },
    "executionInfo": {
     "elapsed": 85,
     "status": "ok",
     "timestamp": 1738963772401,
     "user": {
      "displayName": "Gunther",
      "userId": "09898809932311330039"
     },
     "user_tz": 300
    },
    "id": "7qvIXzdLT0ez",
    "outputId": "1acc5bfd-7a71-4d3a-d889-82bfd6ab0912"
   },
   "outputs": [
    {
     "data": {
      "application/vnd.google.colaboratory.intrinsic+json": {
       "type": "string"
      },
      "text/plain": [
       "'Luke I am your father.'"
      ]
     },
     "execution_count": 11,
     "metadata": {},
     "output_type": "execute_result"
    }
   ],
   "source": [
    "quote = '{}, I am your {}.'                               # Relative position\n",
    "quote.format('Luke', 'father')"
   ]
  },
  {
   "cell_type": "code",
   "execution_count": null,
   "metadata": {
    "colab": {
     "base_uri": "https://localhost:8080/",
     "height": 35
    },
    "executionInfo": {
     "elapsed": 69,
     "status": "ok",
     "timestamp": 1738963843201,
     "user": {
      "displayName": "Gunther",
      "userId": "09898809932311330039"
     },
     "user_tz": 300
    },
    "id": "WCmnQfywT5jj",
    "outputId": "06522f61-4821-46c2-c70f-48bf75246c8d"
   },
   "outputs": [
    {
     "data": {
      "application/vnd.google.colaboratory.intrinsic+json": {
       "type": "string"
      },
      "text/plain": [
       "'Luke, I am your father.'"
      ]
     },
     "execution_count": 12,
     "metadata": {},
     "output_type": "execute_result"
    }
   ],
   "source": [
    "quote = '%s, I am your %s.'                               # Relative position\n",
    "quote % ('Luke', 'father')"
   ]
  },
  {
   "cell_type": "code",
   "execution_count": null,
   "metadata": {
    "colab": {
     "base_uri": "https://localhost:8080/",
     "height": 35
    },
    "executionInfo": {
     "elapsed": 70,
     "status": "ok",
     "timestamp": 1738964137264,
     "user": {
      "displayName": "Gunther",
      "userId": "09898809932311330039"
     },
     "user_tz": 300
    },
    "id": "SKGANLYPUmtW",
    "outputId": "ab836a3c-78ab-472a-c651-cb195373367e"
   },
   "outputs": [
    {
     "data": {
      "application/vnd.google.colaboratory.intrinsic+json": {
       "type": "string"
      },
      "text/plain": [
       "'Luke, I am your father.'"
      ]
     },
     "execution_count": 18,
     "metadata": {},
     "output_type": "execute_result"
    }
   ],
   "source": [
    "quote = '{1[Name]}, I am your {0[family]}.'        #0 and 1 is the position in the format command                             # Relative position\n",
    "quote.format({'family':'father'}, {'Name':'Luke'}) #The inputs are dictionaries."
   ]
  },
  {
   "cell_type": "code",
   "execution_count": null,
   "metadata": {
    "colab": {
     "base_uri": "https://localhost:8080/",
     "height": 35
    },
    "executionInfo": {
     "elapsed": 276,
     "status": "ok",
     "timestamp": 1739481133970,
     "user": {
      "displayName": "Gunther",
      "userId": "09898809932311330039"
     },
     "user_tz": 300
    },
    "id": "kLX-vj7QVKfX",
    "outputId": "4382f6dd-04ef-4f25-d8f0-23ea43868dfc"
   },
   "outputs": [
    {
     "data": {
      "application/vnd.google.colaboratory.intrinsic+json": {
       "type": "string"
      },
      "text/plain": [
       "'Luke, I am your father.'"
      ]
     },
     "execution_count": 1,
     "metadata": {},
     "output_type": "execute_result"
    }
   ],
   "source": [
    "quote_list = ['Luke', 'father']\n",
    "quote = '{0[0]}, I am your {0[1]}.'\n",
    "quote.format(quote_list)"
   ]
  },
  {
   "cell_type": "markdown",
   "metadata": {
    "id": "odhBrTWBM7bp"
   },
   "source": [
    "### F-string formatting\n",
    "The latest iteration of string formatting."
   ]
  },
  {
   "cell_type": "code",
   "execution_count": null,
   "metadata": {
    "colab": {
     "base_uri": "https://localhost:8080/",
     "height": 35
    },
    "executionInfo": {
     "elapsed": 159,
     "status": "ok",
     "timestamp": 1739481999831,
     "user": {
      "displayName": "Gunther",
      "userId": "09898809932311330039"
     },
     "user_tz": 300
    },
    "id": "CyCGB2dPWviq",
    "outputId": "b79a6d24-74ff-4070-a36e-2cf2efe6065e"
   },
   "outputs": [
    {
     "data": {
      "application/vnd.google.colaboratory.intrinsic+json": {
       "type": "string"
      },
      "text/plain": [
       "'We are going to need a bigger boat.'"
      ]
     },
     "execution_count": 2,
     "metadata": {},
     "output_type": "execute_result"
    }
   ],
   "source": [
    "verb = 'need'\n",
    "noun = 'boat'\n",
    "\n",
    "f'We are going to {verb} a bigger {noun}.'"
   ]
  },
  {
   "cell_type": "code",
   "execution_count": null,
   "metadata": {
    "colab": {
     "base_uri": "https://localhost:8080/",
     "height": 35
    },
    "executionInfo": {
     "elapsed": 151,
     "status": "ok",
     "timestamp": 1739482198849,
     "user": {
      "displayName": "Gunther",
      "userId": "09898809932311330039"
     },
     "user_tz": 300
    },
    "id": "Zavbrud7NOiU",
    "outputId": "5b12ac49-7c95-413d-f02b-1971e720223f"
   },
   "outputs": [
    {
     "data": {
      "application/vnd.google.colaboratory.intrinsic+json": {
       "type": "string"
      },
      "text/plain": [
       "'We are going to need a bigger BOAT.'"
      ]
     },
     "execution_count": 7,
     "metadata": {},
     "output_type": "execute_result"
    }
   ],
   "source": [
    "f'We are going to {verb} a bigger {noun.upper()}.'"
   ]
  },
  {
   "cell_type": "code",
   "execution_count": null,
   "metadata": {
    "id": "d0LDi-yzOGiT"
   },
   "outputs": [],
   "source": []
  }
 ],
 "metadata": {
  "colab": {
   "authorship_tag": "ABX9TyO/iLw91ZjVtdH51dhMMxhL",
   "provenance": []
  },
  "kernelspec": {
   "display_name": "Python 3 (ipykernel)",
   "language": "python",
   "name": "python3"
  },
  "language_info": {
   "codemirror_mode": {
    "name": "ipython",
    "version": 3
   },
   "file_extension": ".py",
   "mimetype": "text/x-python",
   "name": "python",
   "nbconvert_exporter": "python",
   "pygments_lexer": "ipython3",
   "version": "3.10.15"
  }
 },
 "nbformat": 4,
 "nbformat_minor": 4
}
