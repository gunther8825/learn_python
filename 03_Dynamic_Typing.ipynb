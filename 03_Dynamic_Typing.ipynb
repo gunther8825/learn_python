{
 "cells": [
  {
   "cell_type": "markdown",
   "metadata": {
    "id": "Vntqk6bniQ7b"
   },
   "source": [
    "To start, click File --> Save Notebook As...\n",
    "\n",
    "Then you can have your own copy you can modify.\n"
   ]
  },
  {
   "cell_type": "markdown",
   "metadata": {
    "id": "uvBzSO4niSUo"
   },
   "source": [
    "# Dynamic Typing\n",
    "Adapted from Chapter 6 of Lutz, Mark. *Learning Python*, 6th Edition, O'Reilly, 2025"
   ]
  },
  {
   "cell_type": "markdown",
   "metadata": {
    "id": "pocV_eZpja24"
   },
   "source": [
    "## Variables"
   ]
  },
  {
   "cell_type": "code",
   "execution_count": 1,
   "metadata": {
    "executionInfo": {
     "elapsed": 154,
     "status": "ok",
     "timestamp": 1736803310088,
     "user": {
      "displayName": "Gunther",
      "userId": "09898809932311330039"
     },
     "user_tz": 300
    },
    "id": "v-IN55KyipEs"
   },
   "outputs": [],
   "source": [
    "## Dynamic typing is the process of creating variables and allocating\n",
    "## memory for that informtion."
   ]
  },
  {
   "cell_type": "code",
   "execution_count": 2,
   "metadata": {
    "executionInfo": {
     "elapsed": 139,
     "status": "ok",
     "timestamp": 1736803320181,
     "user": {
      "displayName": "Gunther",
      "userId": "09898809932311330039"
     },
     "user_tz": 300
    },
    "id": "WAD7FE5iiz8i"
   },
   "outputs": [],
   "source": [
    "# Simple Example\n",
    "a = 5\n",
    "a\n",
    "# a now points to the number 5"
   ]
  },
  {
   "cell_type": "code",
   "execution_count": 6,
   "metadata": {
    "colab": {
     "base_uri": "https://localhost:8080/"
    },
    "executionInfo": {
     "elapsed": 165,
     "status": "ok",
     "timestamp": 1736803399643,
     "user": {
      "displayName": "Gunther",
      "userId": "09898809932311330039"
     },
     "user_tz": 300
    },
    "id": "nfUBf1SgjJSs",
    "outputId": "c79c9e71-67d2-4033-b342-cd1b3022a407"
   },
   "outputs": [
    {
     "name": "stdout",
     "output_type": "stream",
     "text": [
      "3\n"
     ]
    }
   ],
   "source": [
    "a = 5\n",
    "a = 3     # a is overwritten with the number 3, so it points to 3 instead of 5\n",
    "print(a)"
   ]
  },
  {
   "cell_type": "code",
   "execution_count": 5,
   "metadata": {
    "colab": {
     "base_uri": "https://localhost:8080/"
    },
    "executionInfo": {
     "elapsed": 226,
     "status": "ok",
     "timestamp": 1736803371356,
     "user": {
      "displayName": "Gunther",
      "userId": "09898809932311330039"
     },
     "user_tz": 300
    },
    "id": "g820aETCi4BO",
    "outputId": "ed720700-fa32-4b8e-a979-62f9996737fd"
   },
   "outputs": [
    {
     "name": "stdout",
     "output_type": "stream",
     "text": [
      "5\n",
      "5\n"
     ]
    }
   ],
   "source": [
    "a = 5\n",
    "b = a\n",
    "print(a)\n",
    "print(b)\n",
    "\n",
    "# a and b now point to 5"
   ]
  },
  {
   "cell_type": "code",
   "execution_count": 8,
   "metadata": {
    "colab": {
     "base_uri": "https://localhost:8080/"
    },
    "executionInfo": {
     "elapsed": 123,
     "status": "ok",
     "timestamp": 1736803527277,
     "user": {
      "displayName": "Gunther",
      "userId": "09898809932311330039"
     },
     "user_tz": 300
    },
    "id": "QZ5eljR-i-ZN",
    "outputId": "aec236b4-595b-43e8-ee05-9115a132c0b6"
   },
   "outputs": [
    {
     "name": "stdout",
     "output_type": "stream",
     "text": [
      "Hello\n",
      "5\n"
     ]
    }
   ],
   "source": [
    "a = 5\n",
    "b = a\n",
    "a = 'Hello'\n",
    "print(a)\n",
    "print(b)\n",
    "\n",
    "# Like before, 'a' gets reallocated, but 'b' remains the same.  It still points to 5."
   ]
  },
  {
   "cell_type": "code",
   "execution_count": 10,
   "metadata": {
    "colab": {
     "base_uri": "https://localhost:8080/"
    },
    "executionInfo": {
     "elapsed": 241,
     "status": "ok",
     "timestamp": 1736803606787,
     "user": {
      "displayName": "Gunther",
      "userId": "09898809932311330039"
     },
     "user_tz": 300
    },
    "id": "30rB9zZcjT79",
    "outputId": "ca29d27e-2179-42a1-9065-3ffe03ff4f34"
   },
   "outputs": [
    {
     "name": "stdout",
     "output_type": "stream",
     "text": [
      "[1, 2, 3]\n",
      "[1, 2, 3]\n"
     ]
    }
   ],
   "source": [
    "N = [1,2,3]\n",
    "M = N\n",
    "print(N)\n",
    "print(M)"
   ]
  },
  {
   "cell_type": "code",
   "execution_count": 11,
   "metadata": {
    "colab": {
     "base_uri": "https://localhost:8080/"
    },
    "executionInfo": {
     "elapsed": 223,
     "status": "ok",
     "timestamp": 1736803627060,
     "user": {
      "displayName": "Gunther",
      "userId": "09898809932311330039"
     },
     "user_tz": 300
    },
    "id": "XRojXTySj7bq",
    "outputId": "2539516c-0a72-4f36-9e78-08939314c8c5"
   },
   "outputs": [
    {
     "name": "stdout",
     "output_type": "stream",
     "text": [
      "[4, 5, 6]\n",
      "[1, 2, 3]\n"
     ]
    }
   ],
   "source": [
    "N = [1,2,3]\n",
    "M = N\n",
    "N = [4,5,6]\n",
    "print(N)\n",
    "print(M)\n",
    "# Like before 'N' get reallocated, but 'M' remains the same.  It still points to [1,2,3]."
   ]
  },
  {
   "cell_type": "markdown",
   "metadata": {
    "id": "PM5PeAq1kkCK"
   },
   "source": [
    "### Very important!!!"
   ]
  },
  {
   "cell_type": "code",
   "execution_count": 12,
   "metadata": {
    "colab": {
     "base_uri": "https://localhost:8080/"
    },
    "executionInfo": {
     "elapsed": 125,
     "status": "ok",
     "timestamp": 1736803698148,
     "user": {
      "displayName": "Gunther",
      "userId": "09898809932311330039"
     },
     "user_tz": 300
    },
    "id": "grfc1ZkokC7J",
    "outputId": "e8820fa9-5091-4cab-97d3-17909cf3b905"
   },
   "outputs": [
    {
     "name": "stdout",
     "output_type": "stream",
     "text": [
      "[234, 2, 3]\n",
      "[234, 2, 3]\n"
     ]
    }
   ],
   "source": [
    "N = [1,2,3]\n",
    "M = N\n",
    "N[0] = 234\n",
    "print(N)\n",
    "print(M)\n",
    "\n",
    "# Both now get changed!  Even though only N[0] was called.\n",
    "# Both still point to the same list.  So when one list is changed, it changed\n",
    "# for both variables."
   ]
  },
  {
   "cell_type": "code",
   "execution_count": 13,
   "metadata": {
    "colab": {
     "base_uri": "https://localhost:8080/"
    },
    "executionInfo": {
     "elapsed": 210,
     "status": "ok",
     "timestamp": 1736803850139,
     "user": {
      "displayName": "Gunther",
      "userId": "09898809932311330039"
     },
     "user_tz": 300
    },
    "id": "DGaANajNkUTE",
    "outputId": "35b4f7b6-1100-4255-a04d-dd838947c483"
   },
   "outputs": [
    {
     "name": "stdout",
     "output_type": "stream",
     "text": [
      "[234, 2, 3]\n",
      "[1, 2, 3]\n"
     ]
    }
   ],
   "source": [
    "## To designate a differnt list (or dictionary) to change use copy\n",
    "N = [1,2,3]\n",
    "M = N.copy()  # or M = N[:]\n",
    "N[0] = 234\n",
    "print(N)\n",
    "print(M)"
   ]
  },
  {
   "cell_type": "markdown",
   "metadata": {
    "id": "-sr4kEkQlWHx"
   },
   "source": [
    "### Checking if it points to the same object."
   ]
  },
  {
   "cell_type": "code",
   "execution_count": 14,
   "metadata": {
    "colab": {
     "base_uri": "https://localhost:8080/"
    },
    "executionInfo": {
     "elapsed": 153,
     "status": "ok",
     "timestamp": 1736804011604,
     "user": {
      "displayName": "Gunther",
      "userId": "09898809932311330039"
     },
     "user_tz": 300
    },
    "id": "H94xluuSk5Y0",
    "outputId": "151b06c6-3ce8-448e-d1cc-0ba5fd09c0c9"
   },
   "outputs": [
    {
     "name": "stdout",
     "output_type": "stream",
     "text": [
      "True\n",
      "True\n"
     ]
    }
   ],
   "source": [
    "N = [1,2,3]\n",
    "M = N\n",
    "print(N == M)  # the literal values are the same\n",
    "print(N is M)  # they point to the same object"
   ]
  },
  {
   "cell_type": "code",
   "execution_count": 15,
   "metadata": {
    "colab": {
     "base_uri": "https://localhost:8080/"
    },
    "executionInfo": {
     "elapsed": 117,
     "status": "ok",
     "timestamp": 1736804021867,
     "user": {
      "displayName": "Gunther",
      "userId": "09898809932311330039"
     },
     "user_tz": 300
    },
    "id": "vOx3CytBlg0X",
    "outputId": "63ff82f4-f9e7-4815-889c-235119e63032"
   },
   "outputs": [
    {
     "name": "stdout",
     "output_type": "stream",
     "text": [
      "True\n",
      "False\n"
     ]
    }
   ],
   "source": [
    "N = [1,2,3]\n",
    "M = [1,2,3]\n",
    "print(N == M) # The literal values are the same\n",
    "print(N is M) # They are not pointing to the same object. Answer: False"
   ]
  },
  {
   "cell_type": "code",
   "execution_count": 16,
   "metadata": {
    "colab": {
     "base_uri": "https://localhost:8080/"
    },
    "executionInfo": {
     "elapsed": 296,
     "status": "ok",
     "timestamp": 1736804153115,
     "user": {
      "displayName": "Gunther",
      "userId": "09898809932311330039"
     },
     "user_tz": 300
    },
    "id": "7XWVF3LsljVR",
    "outputId": "d0fddbf1-faee-4c7c-fedf-c1e7cb1998ac"
   },
   "outputs": [
    {
     "name": "stdout",
     "output_type": "stream",
     "text": [
      "True\n",
      "True\n"
     ]
    }
   ],
   "source": [
    "X = 7\n",
    "Y = 7\n",
    "print(X == Y)\n",
    "print(X is Y)\n",
    "# It says it references the same object because sometimes\n",
    "# integers and strings get cahced."
   ]
  }
 ],
 "metadata": {
  "colab": {
   "authorship_tag": "ABX9TyPtoXLwVioepjpzR9o1yoFT",
   "provenance": [],
   "toc_visible": true
  },
  "kernelspec": {
   "display_name": "Python 3 (ipykernel)",
   "language": "python",
   "name": "python3"
  },
  "language_info": {
   "codemirror_mode": {
    "name": "ipython",
    "version": 3
   },
   "file_extension": ".py",
   "mimetype": "text/x-python",
   "name": "python",
   "nbconvert_exporter": "python",
   "pygments_lexer": "ipython3",
   "version": "3.10.15"
  }
 },
 "nbformat": 4,
 "nbformat_minor": 4
}
