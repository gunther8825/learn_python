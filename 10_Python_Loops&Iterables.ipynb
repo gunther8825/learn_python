{
 "cells": [
  {
   "cell_type": "markdown",
   "metadata": {
    "id": "Vntqk6bniQ7b"
   },
   "source": [
    "To start, click File --> Save Notebook As...\n",
    "\n",
    "Then you can have your own copy you can modify.\n"
   ]
  },
  {
   "cell_type": "markdown",
   "metadata": {
    "id": "o7VZOCcSRakC"
   },
   "source": [
    "Reference:\n",
    "\n",
    "Chapters 13-14 Lutz, Mark. *Learning Python*, 6th Edition, O'Reilly, 2025"
   ]
  },
  {
   "cell_type": "markdown",
   "metadata": {
    "id": "pQva7HDrSHSJ"
   },
   "source": [
    "# While Loops"
   ]
  },
  {
   "cell_type": "code",
   "execution_count": null,
   "metadata": {
    "id": "08u8FlUZwdKs"
   },
   "outputs": [],
   "source": [
    "## DO NOT RUN THIS!\n",
    "## while loops will keep runing as long as the statement is true.\n",
    "## The example below is called an infinite loop.  It will keep runing because\n",
    "## there is nothing that changes the statement so it will always be true.\n",
    "## If you accidently create an infinite loop, press control+c or click the stop button.\n",
    "\n",
    "# while True:\n",
    "#   print(\"Control+C\")"
   ]
  },
  {
   "cell_type": "code",
   "execution_count": null,
   "metadata": {
    "colab": {
     "base_uri": "https://localhost:8080/"
    },
    "executionInfo": {
     "elapsed": 5,
     "status": "ok",
     "timestamp": 1742399740006,
     "user": {
      "displayName": "Jacqueline Gunther",
      "userId": "09898809932311330039"
     },
     "user_tz": 240
    },
    "id": "hNzrtpRCCmR0",
    "outputId": "6272e874-fc25-44d9-bb35-1bc9a96a332c"
   },
   "outputs": [
    {
     "name": "stdout",
     "output_type": "stream",
     "text": [
      "0\n",
      "1\n",
      "2\n",
      "3\n",
      "4\n",
      "x now equals 5\n"
     ]
    }
   ],
   "source": [
    "x = 0\n",
    "while x < 5:    # This will only run if x is less than 5, but x changes in the loop\n",
    "  print(x)      # Everything in the loop must be indented.\n",
    "  x += 1        # shorthand code for x = x+1, which adds 1 to x every iteration after printing it.\n",
    "\n",
    "print('x now equals '+str(x))  # This part is outside the loop.  The while loop stopped because x = 5, which makes x<5 False."
   ]
  },
  {
   "cell_type": "code",
   "execution_count": null,
   "metadata": {
    "id": "lF0nLrjSCmsE"
   },
   "outputs": [],
   "source": [
    "while False:                # The loop won't run becasue the statement is false.\n",
    "  print(\"This won't run\")\n",
    "else:                       # However, you have the option to add an else statement for when the loop stops.\n",
    "  print(\"This will run\")"
   ]
  },
  {
   "cell_type": "code",
   "execution_count": null,
   "metadata": {
    "colab": {
     "base_uri": "https://localhost:8080/"
    },
    "executionInfo": {
     "elapsed": 5,
     "status": "ok",
     "timestamp": 1742400053351,
     "user": {
      "displayName": "Jacqueline Gunther",
      "userId": "09898809932311330039"
     },
     "user_tz": 240
    },
    "id": "8R7ccAkcCnC1",
    "outputId": "7ce05d68-81c6-472a-d299-2bec813ceefc"
   },
   "outputs": [
    {
     "name": "stdout",
     "output_type": "stream",
     "text": [
      "0\n",
      "1\n",
      "2\n",
      "3\n",
      "4\n",
      "x now equals 5\n"
     ]
    }
   ],
   "source": [
    "## We can recode the example as:\n",
    "x = 0\n",
    "while x < 5:    # This will only run if x is less than 5, but x changes in the loop\n",
    "  print(x)      # Everything in the loop must be indented.\n",
    "  x += 1        # shorthand code for x = x+1, which adds 1 to x every iteration after printing it.\n",
    "else:\n",
    "  print('x now equals '+str(x))  # This part is now inside the else statement.  The while loop stopped because x = 5, which makes x<5 False and went to the else statement."
   ]
  },
  {
   "cell_type": "code",
   "execution_count": null,
   "metadata": {
    "colab": {
     "base_uri": "https://localhost:8080/"
    },
    "executionInfo": {
     "elapsed": 3,
     "status": "ok",
     "timestamp": 1742413575610,
     "user": {
      "displayName": "Jacqueline Gunther",
      "userId": "09898809932311330039"
     },
     "user_tz": 240
    },
    "id": "Or_k6-QKI4HQ",
    "outputId": "e963f3f4-e14d-4d46-beba-9f5654201cbf"
   },
   "outputs": [
    {
     "name": "stdout",
     "output_type": "stream",
     "text": [
      "Count is: 0\n",
      "Count is: 1\n",
      "Count is: 3\n",
      "Count is: 4\n"
     ]
    }
   ],
   "source": [
    "# Using pass statement\n",
    "\n",
    "count = 0\n",
    "\n",
    "while count < 5:\n",
    "    if count == 2:\n",
    "        # Do nothing when count is 2\n",
    "        pass\n",
    "    else:\n",
    "        print(\"Count is:\", count)\n",
    "    count += 1"
   ]
  },
  {
   "cell_type": "code",
   "execution_count": null,
   "metadata": {
    "colab": {
     "base_uri": "https://localhost:8080/"
    },
    "executionInfo": {
     "elapsed": 40,
     "status": "ok",
     "timestamp": 1742413612701,
     "user": {
      "displayName": "Jacqueline Gunther",
      "userId": "09898809932311330039"
     },
     "user_tz": 240
    },
    "id": "SDG6h2h3I391",
    "outputId": "7accfed7-ad55-4207-f36d-d3113635381e"
   },
   "outputs": [
    {
     "name": "stdout",
     "output_type": "stream",
     "text": [
      "Count is: 0\n",
      "Count is: 1\n",
      "Count is: 3\n",
      "Count is: 4\n"
     ]
    }
   ],
   "source": [
    "# Using ...\n",
    "\n",
    "count = 0\n",
    "\n",
    "while count < 5:\n",
    "    if count == 2:\n",
    "        # Do nothing when count is 2\n",
    "        ... # Does the same thing as pass\n",
    "    else:\n",
    "        print(\"Count is:\", count)\n",
    "    count += 1"
   ]
  },
  {
   "cell_type": "code",
   "execution_count": null,
   "metadata": {
    "colab": {
     "base_uri": "https://localhost:8080/"
    },
    "executionInfo": {
     "elapsed": 9,
     "status": "ok",
     "timestamp": 1742413821324,
     "user": {
      "displayName": "Jacqueline Gunther",
      "userId": "09898809932311330039"
     },
     "user_tz": 240
    },
    "id": "00Qi7S9WI30j",
    "outputId": "a70a21d0-9953-4a49-c68a-b9ae8f6cfe74"
   },
   "outputs": [
    {
     "name": "stdout",
     "output_type": "stream",
     "text": [
      "Count is: 1\n",
      "Count is: 2\n",
      "Count is: 4\n",
      "Count is: 5\n"
     ]
    }
   ],
   "source": [
    "# continue: skips to the top of the loop\n",
    "# Use this sparingly.\n",
    "count = 0\n",
    "\n",
    "while count < 5:\n",
    "    count += 1\n",
    "    if count == 3:\n",
    "        # Skip the rest of the loop when count is 3\n",
    "        continue\n",
    "    print(\"Count is:\", count)   # This is skipped when count == 3."
   ]
  },
  {
   "cell_type": "code",
   "execution_count": null,
   "metadata": {
    "colab": {
     "base_uri": "https://localhost:8080/"
    },
    "executionInfo": {
     "elapsed": 5,
     "status": "ok",
     "timestamp": 1742414224320,
     "user": {
      "displayName": "Jacqueline Gunther",
      "userId": "09898809932311330039"
     },
     "user_tz": 240
    },
    "id": "YMo1fAYdI3r7",
    "outputId": "4ba4052a-dda1-4d01-f207-d767f03854ec"
   },
   "outputs": [
    {
     "name": "stdout",
     "output_type": "stream",
     "text": [
      "1\n",
      "2\n",
      "3\n",
      "4\n",
      "5\n"
     ]
    }
   ],
   "source": [
    "# break\n",
    "x = 0\n",
    "while True:  # Normally this would be an infinite loop however, the break will stop the loop.\n",
    "  x += 1     # Add 1 to x for each iteration.\n",
    "  print(x)\n",
    "  if x == 5:\n",
    "    break   # The break stops the loop from running."
   ]
  },
  {
   "cell_type": "code",
   "execution_count": null,
   "metadata": {
    "id": "OlpC10D7-7nN"
   },
   "outputs": [],
   "source": [
    "# pass, ..., continue, and break work for for loops too."
   ]
  },
  {
   "cell_type": "markdown",
   "metadata": {
    "id": "2H8VUQhSI0SL"
   },
   "source": [
    "## Interactive Loops"
   ]
  },
  {
   "cell_type": "code",
   "execution_count": null,
   "metadata": {
    "colab": {
     "base_uri": "https://localhost:8080/"
    },
    "executionInfo": {
     "elapsed": 343826,
     "status": "ok",
     "timestamp": 1742243264626,
     "user": {
      "displayName": "Jacqueline Gunther",
      "userId": "09898809932311330039"
     },
     "user_tz": 240
    },
    "id": "IO8GoMZ_SLBX",
    "outputId": "96064e1c-9e09-4a44-b9bb-78726df40fb7"
   },
   "outputs": [
    {
     "name": "stdout",
     "output_type": "stream",
     "text": [
      "Enter text:Hello!\n",
      "Received: Hello!\n",
      "Enter text:How are you?\n",
      "Received: How are you?\n",
      "Enter text:stop\n"
     ]
    }
   ],
   "source": [
    "## Interactive Loops\n",
    "\n",
    "while True:\n",
    "  answer = input('Enter text:')     # Input will pause the code and wait for the user to input text.\n",
    "  if answer == 'stop':              # This loop will go on forever unlessthe user types stop.\n",
    "    break                           # This \"breaks\" the loopand will stop the code\n",
    "  print(f'Received: {answer}')      # This is NOT in the if statement and will execute as long as the answer doesn't equal 'stop'."
   ]
  },
  {
   "cell_type": "code",
   "execution_count": null,
   "metadata": {
    "colab": {
     "base_uri": "https://localhost:8080/"
    },
    "executionInfo": {
     "elapsed": 10340,
     "status": "ok",
     "timestamp": 1742244265352,
     "user": {
      "displayName": "Jacqueline Gunther",
      "userId": "09898809932311330039"
     },
     "user_tz": 240
    },
    "id": "gSXy8Gos1-h0",
    "outputId": "0468b5b1-a308-4d5d-a5e7-e0d09e2e80fc"
   },
   "outputs": [
    {
     "name": "stdout",
     "output_type": "stream",
     "text": [
      "Enter number:5\n",
      "Multiplied by 5= 25\n",
      "Enter number:3\n",
      "Multiplied by 5= 15\n",
      "Enter number:10\n",
      "Multiplied by 5= 50\n",
      "Enter number:stop\n"
     ]
    }
   ],
   "source": [
    "## Another example\n",
    "\n",
    "while True:\n",
    "  answer = input('Enter number:')\n",
    "  if answer == 'stop':\n",
    "    break\n",
    "  multiply = int(answer) * 5              # You have to change it to an integer or it won't be able to do math operations.\n",
    "  print(f'Multiplied by 5= {multiply}')"
   ]
  },
  {
   "cell_type": "code",
   "execution_count": null,
   "metadata": {
    "colab": {
     "base_uri": "https://localhost:8080/"
    },
    "executionInfo": {
     "elapsed": 5819,
     "status": "ok",
     "timestamp": 1742244680910,
     "user": {
      "displayName": "Jacqueline Gunther",
      "userId": "09898809932311330039"
     },
     "user_tz": 240
    },
    "id": "4HAcIjtq2qah",
    "outputId": "85fb4bc0-db73-42b1-f726-470708d468f7"
   },
   "outputs": [
    {
     "name": "stdout",
     "output_type": "stream",
     "text": [
      "Enter number:hello\n",
      "hello is not a number\n",
      "Enter number:5\n",
      "Multiplied by 5= 25\n",
      "Enter number:stop\n"
     ]
    }
   ],
   "source": [
    "## Add error warnings so that the code can continue to execute.\n",
    "# The problem with the code above, if you enter something that is not a number\n",
    "# you will get the answer you expect. Therefore with the use of elif, you can\n",
    "# tell the user it is not a digit.\n",
    "\n",
    "while True:\n",
    "  answer = input('Enter number:')\n",
    "  if answer == 'stop':\n",
    "    break\n",
    "  elif not answer.isdigit():\n",
    "    print(f'{answer} is not a number')   # This will print and the loop will continute so the user has another try to put in a number.\n",
    "  else:\n",
    "    multiply = int(answer) * 5\n",
    "    print(f'Multiplied by 5= {multiply}')"
   ]
  },
  {
   "cell_type": "code",
   "execution_count": null,
   "metadata": {
    "colab": {
     "base_uri": "https://localhost:8080/"
    },
    "executionInfo": {
     "elapsed": 6410,
     "status": "ok",
     "timestamp": 1742244691499,
     "user": {
      "displayName": "Jacqueline Gunther",
      "userId": "09898809932311330039"
     },
     "user_tz": 240
    },
    "id": "FV0k_LvS3evF",
    "outputId": "4ba33766-78cb-4128-bc70-f0eefa934b53"
   },
   "outputs": [
    {
     "name": "stdout",
     "output_type": "stream",
     "text": [
      "Enter number:hello\n",
      "hello is not a number\n",
      "Enter number:5\n",
      "Multiplied by 5= 25\n",
      "Enter number:stop\n"
     ]
    }
   ],
   "source": [
    "## This works the same way but with a try statement.\n",
    "while True:\n",
    "  answer = input('Enter number:')\n",
    "  if answer == 'stop':\n",
    "    break\n",
    "  try:                                        # The code trys this code\n",
    "    multiply = int(answer) * 5\n",
    "    print(f'Multiplied by 5= {multiply}')\n",
    "  except:                                     # If there is an error, this code will execute.\n",
    "    print(f'{answer} is not a number')"
   ]
  },
  {
   "cell_type": "code",
   "execution_count": null,
   "metadata": {
    "id": "W1n9zNZLusW6"
   },
   "outputs": [],
   "source": [
    "# Try to avoid using while loops and use for loops instead. Sometimes this can't\n",
    "# be avoided, but infinite loops should be"
   ]
  },
  {
   "cell_type": "markdown",
   "metadata": {
    "id": "wenV3zNPSMO6"
   },
   "source": [
    "# For Loops\n",
    "\n",
    "For Loops are iterative loops that have a set number of iterations, unlike while loops."
   ]
  },
  {
   "cell_type": "code",
   "execution_count": null,
   "metadata": {
    "colab": {
     "base_uri": "https://localhost:8080/"
    },
    "executionInfo": {
     "elapsed": 3,
     "status": "ok",
     "timestamp": 1742417324018,
     "user": {
      "displayName": "Jacqueline Gunther",
      "userId": "09898809932311330039"
     },
     "user_tz": 240
    },
    "id": "oNX6wyVWSNSi",
    "outputId": "5257623b-14e0-448e-c999-1082148c0ff1"
   },
   "outputs": [
    {
     "name": "stdout",
     "output_type": "stream",
     "text": [
      "1\n",
      "3\n",
      "3\n",
      "8\n",
      "5\n"
     ]
    }
   ],
   "source": [
    "x = [1,3,3,8,5] # a list\n",
    "\n",
    "for i in x:     # for i (an iteration counter, doesn't need to be i) iteration through the list x\n",
    "  print(i)      # print i"
   ]
  },
  {
   "cell_type": "code",
   "execution_count": null,
   "metadata": {
    "colab": {
     "base_uri": "https://localhost:8080/"
    },
    "executionInfo": {
     "elapsed": 5,
     "status": "ok",
     "timestamp": 1742416797705,
     "user": {
      "displayName": "Jacqueline Gunther",
      "userId": "09898809932311330039"
     },
     "user_tz": 240
    },
    "id": "fh1ZhbghH7UN",
    "outputId": "ea63eab2-f4a4-421c-aba9-2f4f7cb76d50"
   },
   "outputs": [
    {
     "name": "stdout",
     "output_type": "stream",
     "text": [
      "I ate a(n) apple\n",
      "I ate a(n) cherry\n",
      "I ate a(n) orange\n",
      "I ate a(n) banana\n",
      "I ate a(n) pear\n",
      "I ate a(n) watermelon\n"
     ]
    }
   ],
   "source": [
    "fruits = ['apple','cherry','orange','banana','pear','watermelon']\n",
    "for fruit in fruits:            # There are six fruits in the list.  The for loop pulls each one (in order) and renames it fruit for one iterations\n",
    "  print('I ate a(n) '+fruit)    # Prints the statement with the current fruit."
   ]
  },
  {
   "cell_type": "code",
   "execution_count": null,
   "metadata": {
    "colab": {
     "base_uri": "https://localhost:8080/"
    },
    "executionInfo": {
     "elapsed": 9,
     "status": "ok",
     "timestamp": 1742480946701,
     "user": {
      "displayName": "Jacqueline Gunther",
      "userId": "09898809932311330039"
     },
     "user_tz": 240
    },
    "id": "LNPv5ns17GU-",
    "outputId": "068c7ff4-37f5-4dd7-903e-f8d9bc18eeb2"
   },
   "outputs": [
    {
     "name": "stdout",
     "output_type": "stream",
     "text": [
      "1\n",
      "3\n",
      "6\n",
      "10\n",
      "The final answer is: 10\n"
     ]
    }
   ],
   "source": [
    "sum_num = 0                            # Must create add_num before putting it into the loop becuase it is called within the loop.\n",
    "for num in [1,2,3,4]:\n",
    "  sum_num = sum_num + num              # Add the next number\n",
    "  print(sum_num)                       # This is in the loop and executes each iteration\n",
    "print('The final answer is:',sum_num)  # This is not in the loop and is executed last\n",
    "\n",
    "# a quicker way to do this is:\n",
    "# print(sum([1,2,3,4]))"
   ]
  },
  {
   "cell_type": "code",
   "execution_count": null,
   "metadata": {
    "colab": {
     "base_uri": "https://localhost:8080/"
    },
    "executionInfo": {
     "elapsed": 9,
     "status": "ok",
     "timestamp": 1742481257294,
     "user": {
      "displayName": "Jacqueline Gunther",
      "userId": "09898809932311330039"
     },
     "user_tz": 240
    },
    "id": "aVm51VBK9omS",
    "outputId": "6e18de79-f0e2-4793-85e6-4c61e7d8f29d"
   },
   "outputs": [
    {
     "name": "stdout",
     "output_type": "stream",
     "text": [
      "1 2 3\n",
      "3 4 7\n",
      "5 6 11\n"
     ]
    }
   ],
   "source": [
    "matrix = [[1,2],\n",
    "          [3,4],\n",
    "          [5,6]]\n",
    "\n",
    "for a,b in matrix:  # You can unpack a list by having two variables.\n",
    "  print(a,b,a+b)"
   ]
  },
  {
   "cell_type": "code",
   "execution_count": null,
   "metadata": {
    "colab": {
     "base_uri": "https://localhost:8080/"
    },
    "executionInfo": {
     "elapsed": 10,
     "status": "ok",
     "timestamp": 1742481365790,
     "user": {
      "displayName": "Jacqueline Gunther",
      "userId": "09898809932311330039"
     },
     "user_tz": 240
    },
    "id": "Tr-rmIvk-LZi",
    "outputId": "0d4a4b8c-00bd-4b2f-ea68-ff088a386a20"
   },
   "outputs": [
    {
     "name": "stdout",
     "output_type": "stream",
     "text": [
      "First Name: Luke\n",
      "Last Name: Skywalker\n",
      "Hometown: Tatooine\n"
     ]
    }
   ],
   "source": [
    "# For loops work for dictionaries as well.\n",
    "\n",
    "D  = {'First Name':'Luke','Last Name':'Skywalker','Hometown':'Tatooine'}\n",
    "for key in D:\n",
    "  print(key+\": \"+D[key])"
   ]
  },
  {
   "cell_type": "code",
   "execution_count": null,
   "metadata": {
    "colab": {
     "base_uri": "https://localhost:8080/"
    },
    "executionInfo": {
     "elapsed": 4,
     "status": "ok",
     "timestamp": 1742482393405,
     "user": {
      "displayName": "Jacqueline Gunther",
      "userId": "09898809932311330039"
     },
     "user_tz": 240
    },
    "id": "PiZaL1c6-05o",
    "outputId": "f9f62141-937c-4e12-fccf-2d0b5417d9a2"
   },
   "outputs": [
    {
     "name": "stdout",
     "output_type": "stream",
     "text": [
      "1 a\n",
      "1 b\n",
      "1 c\n",
      "2 a\n",
      "2 b\n",
      "2 c\n",
      "3 a\n",
      "3 b\n",
      "3 c\n"
     ]
    }
   ],
   "source": [
    "## Nested for loops\n",
    "x = [1,2,3]\n",
    "y = ['a','b','c']\n",
    "\n",
    "for i in x:\n",
    "  for j in y:\n",
    "    print(i,j)\n",
    "\n",
    "# Nested for loops can be useful, but try to find another way of solving the\n",
    "# problem. The nested for loops can run really slowly depending on your\n",
    "# application."
   ]
  },
  {
   "cell_type": "code",
   "execution_count": null,
   "metadata": {
    "colab": {
     "base_uri": "https://localhost:8080/"
    },
    "executionInfo": {
     "elapsed": 7,
     "status": "ok",
     "timestamp": 1742482581336,
     "user": {
      "displayName": "Jacqueline Gunther",
      "userId": "09898809932311330039"
     },
     "user_tz": 240
    },
    "id": "QNNeVfN_BAqA",
    "outputId": "968c11f6-d3aa-41c3-ef53-21f859185800"
   },
   "outputs": [
    {
     "name": "stdout",
     "output_type": "stream",
     "text": [
      "Equal 1 1\n",
      "Not equal 1 3\n",
      "Not equal 1 4\n",
      "Not equal 2 1\n",
      "Not equal 2 3\n",
      "Not equal 2 4\n",
      "Not equal 3 1\n",
      "Equal 3 3\n",
      "Not equal 3 4\n"
     ]
    }
   ],
   "source": [
    "## Nested for loops with if statement\n",
    "x = [1,2,3]\n",
    "y = [1,3,4]\n",
    "\n",
    "for i in x:\n",
    "  for j in y:\n",
    "    if i == j:\n",
    "      print('Equal',i,j)\n",
    "    else:\n",
    "      print('Not equal',i,j)"
   ]
  },
  {
   "cell_type": "markdown",
   "metadata": {
    "id": "2WxlJM7sEVwi"
   },
   "source": [
    "## For loop helpers\n",
    "\n",
    "\n",
    "*   range\n",
    "*   zip\n",
    "*   enumerate\n",
    "\n",
    "\n",
    "\n",
    "\n",
    "\n"
   ]
  },
  {
   "cell_type": "markdown",
   "metadata": {
    "id": "hjMotr0qU1kQ"
   },
   "source": [
    "### range"
   ]
  },
  {
   "cell_type": "code",
   "execution_count": null,
   "metadata": {
    "colab": {
     "base_uri": "https://localhost:8080/"
    },
    "executionInfo": {
     "elapsed": 11,
     "status": "ok",
     "timestamp": 1742417201188,
     "user": {
      "displayName": "Jacqueline Gunther",
      "userId": "09898809932311330039"
     },
     "user_tz": 240
    },
    "id": "Ki3fOvCVIl-u",
    "outputId": "3e9d490b-0588-4d19-ed74-10cd0da80e4e"
   },
   "outputs": [
    {
     "name": "stdout",
     "output_type": "stream",
     "text": [
      "0\n",
      "1\n",
      "2\n",
      "3\n",
      "4\n"
     ]
    }
   ],
   "source": [
    "# you can designate a range of numbers for the for loop\n",
    "for i in range(5):  # range goes from 0 to n-1, where n is the number you entered.\n",
    "  print(i)"
   ]
  },
  {
   "cell_type": "code",
   "execution_count": null,
   "metadata": {
    "colab": {
     "base_uri": "https://localhost:8080/"
    },
    "executionInfo": {
     "elapsed": 4,
     "status": "ok",
     "timestamp": 1742493694009,
     "user": {
      "displayName": "Jacqueline Gunther",
      "userId": "09898809932311330039"
     },
     "user_tz": 240
    },
    "id": "MLUzruQotuox",
    "outputId": "6be5b881-d8b1-43de-d881-ae5356950289"
   },
   "outputs": [
    {
     "name": "stdout",
     "output_type": "stream",
     "text": [
      "range(0, 5)\n",
      "[0, 1, 2, 3, 4]\n"
     ]
    }
   ],
   "source": [
    "# range helps with iterations, it is its own object type.\n",
    "print(range(5))\n",
    "print(list(range(5)))  # you need to put it in a list() to make a list."
   ]
  },
  {
   "cell_type": "code",
   "execution_count": null,
   "metadata": {
    "colab": {
     "base_uri": "https://localhost:8080/"
    },
    "executionInfo": {
     "elapsed": 12,
     "status": "ok",
     "timestamp": 1742417252874,
     "user": {
      "displayName": "Jacqueline Gunther",
      "userId": "09898809932311330039"
     },
     "user_tz": 240
    },
    "id": "CMTjjXnkKIfP",
    "outputId": "bdcc7e29-105d-4fae-8e64-2bed5f23ba99"
   },
   "outputs": [
    {
     "name": "stdout",
     "output_type": "stream",
     "text": [
      "2\n",
      "3\n",
      "4\n"
     ]
    }
   ],
   "source": [
    "for i in range(2,5): # you can choose a start number\n",
    "  print(i)"
   ]
  },
  {
   "cell_type": "code",
   "execution_count": null,
   "metadata": {
    "colab": {
     "base_uri": "https://localhost:8080/"
    },
    "executionInfo": {
     "elapsed": 40,
     "status": "ok",
     "timestamp": 1742417301859,
     "user": {
      "displayName": "Jacqueline Gunther",
      "userId": "09898809932311330039"
     },
     "user_tz": 240
    },
    "id": "3T_vGOqrKVGs",
    "outputId": "5959182c-1b74-4e53-b0b0-f58c6f1a1c30"
   },
   "outputs": [
    {
     "name": "stdout",
     "output_type": "stream",
     "text": [
      "2\n",
      "4\n",
      "6\n",
      "8\n"
     ]
    }
   ],
   "source": [
    "for i in range(2,10,2):  # the third number is the steps, so this will only print even numbers 2 to 8. The range goes up to 9 (n-1), but that is not a 2 multiplier\n",
    "  print(i)"
   ]
  },
  {
   "cell_type": "code",
   "execution_count": null,
   "metadata": {
    "colab": {
     "base_uri": "https://localhost:8080/"
    },
    "executionInfo": {
     "elapsed": 9,
     "status": "ok",
     "timestamp": 1742417533788,
     "user": {
      "displayName": "Jacqueline Gunther",
      "userId": "09898809932311330039"
     },
     "user_tz": 240
    },
    "id": "fhVbtqcCKeCy",
    "outputId": "e0967dae-70bf-4609-c824-56ba1944e992"
   },
   "outputs": [
    {
     "name": "stdout",
     "output_type": "stream",
     "text": [
      "[0, 9, 18, 27, 36]\n"
     ]
    }
   ],
   "source": [
    "# you can create lists with specific ranges\n",
    "num_list = []           # you must define the list first even if its empty.\n",
    "for i in range(0,37,9):\n",
    "  num_list.append(i)    # append adds to the list.\n",
    "print(num_list)         # This is not in the loop. It is not indented.\n",
    "\n",
    "# a quicker way to make a list.\n",
    "# list(range(0,37,9))"
   ]
  },
  {
   "cell_type": "code",
   "execution_count": null,
   "metadata": {
    "colab": {
     "base_uri": "https://localhost:8080/"
    },
    "executionInfo": {
     "elapsed": 38,
     "status": "ok",
     "timestamp": 1742494123296,
     "user": {
      "displayName": "Jacqueline Gunther",
      "userId": "09898809932311330039"
     },
     "user_tz": 240
    },
    "id": "NjufGBy0DW6w",
    "outputId": "016f3177-1ba7-44d6-c16c-db5292dca98f"
   },
   "outputs": [
    {
     "name": "stdout",
     "output_type": "stream",
     "text": [
      "candy bar\n",
      "rubber band\n",
      "paper clip\n",
      "candy bar\n",
      "rubber band\n",
      "paper clip\n"
     ]
    }
   ],
   "source": [
    "# try not to use range in a for loop though.  It is simple enough to grab the items from the input\n",
    "items = ['candy bar','rubber band','paper clip']\n",
    "for item in items:\n",
    "  print(item)\n",
    "\n",
    "# The above is better than:\n",
    "for i in range(len(items)):\n",
    "  print(items[i])"
   ]
  },
  {
   "cell_type": "code",
   "execution_count": null,
   "metadata": {
    "colab": {
     "base_uri": "https://localhost:8080/"
    },
    "executionInfo": {
     "elapsed": 6,
     "status": "ok",
     "timestamp": 1742494988187,
     "user": {
      "displayName": "Jacqueline Gunther",
      "userId": "09898809932311330039"
     },
     "user_tz": 240
    },
    "id": "TeD4UDl_unsR",
    "outputId": "767255d8-b24a-430f-e0ca-b6d7d31342b7"
   },
   "outputs": [
    {
     "name": "stdout",
     "output_type": "stream",
     "text": [
      "[10, 20, 30, 40, 50]\n"
     ]
    }
   ],
   "source": [
    "# one case range is needed in a for loop\n",
    "num = [1,2,3,4,5,]\n",
    "for i in range(len(num)):\n",
    "  num[i]=num[i]*10          # you can reassign elements of a list by calling a specific element directly.\n",
    "\n",
    "print(num)"
   ]
  },
  {
   "cell_type": "code",
   "execution_count": null,
   "metadata": {
    "colab": {
     "base_uri": "https://localhost:8080/"
    },
    "executionInfo": {
     "elapsed": 3,
     "status": "ok",
     "timestamp": 1742495393652,
     "user": {
      "displayName": "Jacqueline Gunther",
      "userId": "09898809932311330039"
     },
     "user_tz": 240
    },
    "id": "HMNf5-0rzlGU",
    "outputId": "60bc0838-1205-443e-8439-00c219cab9e8"
   },
   "outputs": [
    {
     "name": "stdout",
     "output_type": "stream",
     "text": [
      "[10, 20, 30, 40, 50]\n"
     ]
    }
   ],
   "source": [
    "# a more compact code\n",
    "num = [1,2,3,4,5,]\n",
    "num = [n*10 for n in num]\n",
    "print(num)"
   ]
  },
  {
   "cell_type": "code",
   "execution_count": null,
   "metadata": {
    "colab": {
     "base_uri": "https://localhost:8080/"
    },
    "executionInfo": {
     "elapsed": 27,
     "status": "ok",
     "timestamp": 1742495141399,
     "user": {
      "displayName": "Jacqueline Gunther",
      "userId": "09898809932311330039"
     },
     "user_tz": 240
    },
    "id": "uHx7QfnEzMfR",
    "outputId": "4f55c0e0-31d8-42f3-d0d0-76f36ba331aa"
   },
   "outputs": [
    {
     "name": "stdout",
     "output_type": "stream",
     "text": [
      "[1, 2, 3, 4, 5]\n"
     ]
    }
   ],
   "source": [
    "# this does not work, because you are not changing num only n each iteration\n",
    "num = [1,2,3,4,5,]\n",
    "for n in num:\n",
    "  n=n*10          # you can reassign elements of a list by calling a specific element directly.\n",
    "\n",
    "print(num)"
   ]
  },
  {
   "cell_type": "markdown",
   "metadata": {
    "id": "M78nCBYDU5AE"
   },
   "source": [
    "### zip"
   ]
  },
  {
   "cell_type": "code",
   "execution_count": null,
   "metadata": {
    "colab": {
     "base_uri": "https://localhost:8080/"
    },
    "executionInfo": {
     "elapsed": 5,
     "status": "ok",
     "timestamp": 1742504106103,
     "user": {
      "displayName": "Jacqueline Gunther",
      "userId": "09898809932311330039"
     },
     "user_tz": 240
    },
    "id": "RftScxRuy3c9",
    "outputId": "981b6c7f-6843-4f07-815b-686d3499230b"
   },
   "outputs": [
    {
     "name": "stdout",
     "output_type": "stream",
     "text": [
      "<zip object at 0x7b0f1ec87140>\n",
      "[(1, 5), (2, 6), (3, 7), (4, 8)]\n"
     ]
    }
   ],
   "source": [
    "num1 = [1,2,3,4]\n",
    "num2 = [5,6,7,8]\n",
    "print(zip(num1,num2))  # this becomes a zip object\n",
    "print(list(zip(num1,num2)))   # this turns the zip object into a list"
   ]
  },
  {
   "cell_type": "code",
   "execution_count": null,
   "metadata": {
    "colab": {
     "base_uri": "https://localhost:8080/"
    },
    "executionInfo": {
     "elapsed": 4,
     "status": "ok",
     "timestamp": 1742504160842,
     "user": {
      "displayName": "Jacqueline Gunther",
      "userId": "09898809932311330039"
     },
     "user_tz": 240
    },
    "id": "ZBS7fk5FVdYA",
    "outputId": "e0be186a-8298-481a-d8fb-1df18833bf7b"
   },
   "outputs": [
    {
     "name": "stdout",
     "output_type": "stream",
     "text": [
      "6\n",
      "8\n",
      "10\n",
      "12\n"
     ]
    }
   ],
   "source": [
    "# Using zip in for loop\n",
    "num1 = [1,2,3,4]\n",
    "num2 = [5,6,7,8]\n",
    "for a,b in zip(num1,num2):  # extracts from the lists in parallel.\n",
    "  print(a+b)"
   ]
  },
  {
   "cell_type": "code",
   "execution_count": null,
   "metadata": {
    "colab": {
     "base_uri": "https://localhost:8080/"
    },
    "executionInfo": {
     "elapsed": 4,
     "status": "ok",
     "timestamp": 1742569721449,
     "user": {
      "displayName": "Jacqueline Gunther",
      "userId": "09898809932311330039"
     },
     "user_tz": 240
    },
    "id": "vXq2ZciHV1dl",
    "outputId": "ec4eb9a1-ea24-470f-ed76-39acad840cf8"
   },
   "outputs": [
    {
     "data": {
      "text/plain": [
       "[(1, 4, 7), (2, 5, 8), (3, 6, 9)]"
      ]
     },
     "execution_count": 2,
     "metadata": {},
     "output_type": "execute_result"
    }
   ],
   "source": [
    "# Zip is not limited to 2 items\n",
    "M1 = [1,2,3]\n",
    "M2 = [4,5,6]\n",
    "M3 = [7,8,9]\n",
    "\n",
    "list(zip(M1,M2,M3))"
   ]
  },
  {
   "cell_type": "code",
   "execution_count": null,
   "metadata": {
    "colab": {
     "base_uri": "https://localhost:8080/"
    },
    "executionInfo": {
     "elapsed": 7,
     "status": "ok",
     "timestamp": 1742569812942,
     "user": {
      "displayName": "Jacqueline Gunther",
      "userId": "09898809932311330039"
     },
     "user_tz": 240
    },
    "id": "L246NAgLP84K",
    "outputId": "430a1ccc-2f6a-4c08-e6c5-5fca6ad6b95b"
   },
   "outputs": [
    {
     "data": {
      "text/plain": [
       "[(1, 'a'), (2, 'b'), (3, 'c')]"
      ]
     },
     "execution_count": 4,
     "metadata": {},
     "output_type": "execute_result"
    }
   ],
   "source": [
    "# you can zip two things of unequal length, but it will stop at the shortest length\n",
    "N1 = [1,2,3,4,5]\n",
    "N2 = ['a','b','c']\n",
    "list(zip(N1,N2))\n",
    "# only up to 3 is used from N1"
   ]
  },
  {
   "cell_type": "code",
   "execution_count": null,
   "metadata": {
    "colab": {
     "base_uri": "https://localhost:8080/"
    },
    "executionInfo": {
     "elapsed": 43,
     "status": "ok",
     "timestamp": 1742571384092,
     "user": {
      "displayName": "Jacqueline Gunther",
      "userId": "09898809932311330039"
     },
     "user_tz": 240
    },
    "id": "ZfViHNZwQPFn",
    "outputId": "1ced8348-ac96-470e-a2ac-0110e2dd949b"
   },
   "outputs": [
    {
     "name": "stdout",
     "output_type": "stream",
     "text": [
      "{'fruit': 'apple', 'color': 'red', 'amount': 5}\n"
     ]
    }
   ],
   "source": [
    "# zip makes it easier to make dictionaries\n",
    "keys = ['fruit','color','amount']\n",
    "vals = ['apple','red',5]\n",
    "\n",
    "D  = {}  # create an empty dictionary\n",
    "\n",
    "for (k,v) in zip(keys,vals):\n",
    "  D[k] = v\n",
    "\n",
    "print(D)"
   ]
  },
  {
   "cell_type": "code",
   "execution_count": null,
   "metadata": {
    "colab": {
     "base_uri": "https://localhost:8080/"
    },
    "executionInfo": {
     "elapsed": 41,
     "status": "ok",
     "timestamp": 1742572016222,
     "user": {
      "displayName": "Jacqueline Gunther",
      "userId": "09898809932311330039"
     },
     "user_tz": 240
    },
    "id": "krlHlKqOWSyk",
    "outputId": "63ff3c8a-6940-45d7-c234-98b4c58239a8"
   },
   "outputs": [
    {
     "data": {
      "text/plain": [
       "{'fruit': 'apple', 'color': 'red', 'amount': 5}"
      ]
     },
     "execution_count": 6,
     "metadata": {},
     "output_type": "execute_result"
    }
   ],
   "source": [
    "# a more compact way\n",
    "{k:v for (k,v) in zip(keys,vals)}"
   ]
  },
  {
   "cell_type": "markdown",
   "metadata": {
    "id": "eJZkobOuYvwi"
   },
   "source": [
    "### enumerate"
   ]
  },
  {
   "cell_type": "code",
   "execution_count": null,
   "metadata": {
    "colab": {
     "base_uri": "https://localhost:8080/"
    },
    "executionInfo": {
     "elapsed": 11,
     "status": "ok",
     "timestamp": 1742572362062,
     "user": {
      "displayName": "Jacqueline Gunther",
      "userId": "09898809932311330039"
     },
     "user_tz": 240
    },
    "id": "IJ1kozdBYtHO",
    "outputId": "5e251192-3857-462b-e539-54946245936b"
   },
   "outputs": [
    {
     "name": "stdout",
     "output_type": "stream",
     "text": [
      "0 a\n",
      "1 p\n",
      "2 p\n",
      "3 l\n",
      "4 e\n"
     ]
    }
   ],
   "source": [
    "fruit = 'apple'\n",
    "for (i,letter) in enumerate(fruit):     # i is the location and letter is the letter in the string\n",
    "  print(i,letter)"
   ]
  },
  {
   "cell_type": "code",
   "execution_count": null,
   "metadata": {
    "colab": {
     "base_uri": "https://localhost:8080/"
    },
    "executionInfo": {
     "elapsed": 10,
     "status": "ok",
     "timestamp": 1742572418654,
     "user": {
      "displayName": "Jacqueline Gunther",
      "userId": "09898809932311330039"
     },
     "user_tz": 240
    },
    "id": "KDFkYqnOaBj5",
    "outputId": "cfd2920e-c9fc-44c2-9a7c-9a3e153bce2d"
   },
   "outputs": [
    {
     "name": "stdout",
     "output_type": "stream",
     "text": [
      "<enumerate object at 0x79b9b55dac00>\n",
      "(0, 'a')\n",
      "(1, 'p')\n"
     ]
    }
   ],
   "source": [
    "# enumerate is iteratible\n",
    "E = enumerate(fruit)\n",
    "print(E)\n",
    "print(next(E))\n",
    "print(next(E))\n"
   ]
  },
  {
   "cell_type": "code",
   "execution_count": null,
   "metadata": {
    "colab": {
     "base_uri": "https://localhost:8080/"
    },
    "executionInfo": {
     "elapsed": 12,
     "status": "ok",
     "timestamp": 1742572523416,
     "user": {
      "displayName": "Jacqueline Gunther",
      "userId": "09898809932311330039"
     },
     "user_tz": 240
    },
    "id": "dyfWB7YmaMC3",
    "outputId": "c2cacbd3-9a7c-49e3-acd5-76535023664c"
   },
   "outputs": [
    {
     "name": "stdout",
     "output_type": "stream",
     "text": [
      "0 6\n",
      "1 8\n",
      "2 10\n",
      "3 12\n"
     ]
    }
   ],
   "source": [
    "# A convoluted example\n",
    "num1 = [1,2,3,4]\n",
    "num2 = [5,6,7,8]\n",
    "for (i,n1) in enumerate(num1):  # extracts from the lists in parallel.\n",
    "  print(i,n1+num2[i])           # it will add the same spot in num1 and num2 like before"
   ]
  },
  {
   "cell_type": "markdown",
   "metadata": {
    "id": "1_TBURGsAFma"
   },
   "source": [
    "### Putting it together"
   ]
  },
  {
   "cell_type": "code",
   "execution_count": null,
   "metadata": {
    "colab": {
     "base_uri": "https://localhost:8080/"
    },
    "executionInfo": {
     "elapsed": 150,
     "status": "ok",
     "timestamp": 1742934728503,
     "user": {
      "displayName": "Jacqueline Gunther",
      "userId": "09898809932311330039"
     },
     "user_tz": 240
    },
    "id": "6nDyJhP8AI0s",
    "outputId": "75fb7ac0-c7b7-4395-c5bd-dd579b07eddd"
   },
   "outputs": [
    {
     "name": "stdout",
     "output_type": "stream",
     "text": [
      "(0, (1, 'a'))\n",
      "(1, (2, 'b'))\n",
      "(2, (3, 'c'))\n",
      "(3, (4, 'd'))\n"
     ]
    }
   ],
   "source": [
    "for ii in enumerate(zip(range(1,5),['a','b','c','d'])): print(ii)"
   ]
  },
  {
   "cell_type": "markdown",
   "metadata": {
    "id": "9nAMFhcvAiuB"
   },
   "source": [
    "# map and filter"
   ]
  },
  {
   "cell_type": "code",
   "execution_count": null,
   "metadata": {
    "colab": {
     "base_uri": "https://localhost:8080/"
    },
    "executionInfo": {
     "elapsed": 9,
     "status": "ok",
     "timestamp": 1742935452760,
     "user": {
      "displayName": "Jacqueline Gunther",
      "userId": "09898809932311330039"
     },
     "user_tz": 240
    },
    "id": "Gd2e_SAIAURF",
    "outputId": "a50575eb-fbf8-41fb-cd1d-51256740af72"
   },
   "outputs": [
    {
     "name": "stdout",
     "output_type": "stream",
     "text": [
      "4\n",
      "<map object at 0x7ba259e4ffd0>\n",
      "[4, 9, 25, 87]\n",
      "[4, 9, 25, 87]\n"
     ]
    }
   ],
   "source": [
    "## map can \"map\" functions onto other objects in an iterative manner\n",
    "\n",
    "# Finding the max\n",
    "L = [1,2,3,4]\n",
    "max_L = max(L)\n",
    "print(max_L)\n",
    "\n",
    "M = [[1,2,4,1],\n",
    "     [5,9,4,3],\n",
    "     [25,10,4,9],\n",
    "     [20,36,49,87]]\n",
    "\n",
    "max_M = map(max,M)  # map takes the function and then the object the function is acted on.\n",
    "print(max_M)        # this is just a map function.\n",
    "print(list(max_M))  # It needs to be made into a list to see results\n",
    "\n",
    "\n",
    "# otherwise a for loop is needed\n",
    "max_M = []\n",
    "for i in M:\n",
    "  max_M.append(max(i))\n",
    "print(max_M)"
   ]
  },
  {
   "cell_type": "markdown",
   "metadata": {
    "id": "9v_xogijTNyn"
   },
   "source": [
    "# List Comprehensions\n",
    "\n",
    "We saw this before, but let's go into more detail.  This can run faster than your standard for loop."
   ]
  },
  {
   "cell_type": "code",
   "execution_count": null,
   "metadata": {
    "colab": {
     "base_uri": "https://localhost:8080/"
    },
    "executionInfo": {
     "elapsed": 5,
     "status": "ok",
     "timestamp": 1743091206481,
     "user": {
      "displayName": "Jacqueline Gunther",
      "userId": "09898809932311330039"
     },
     "user_tz": 240
    },
    "id": "QyXp-Zh-DEO7",
    "outputId": "badc9adb-e9b5-47c2-f5e2-1dd028516408"
   },
   "outputs": [
    {
     "data": {
      "text/plain": [
       "[1, 4, 9, 16, 25]"
      ]
     },
     "execution_count": 4,
     "metadata": {},
     "output_type": "execute_result"
    }
   ],
   "source": [
    "# Example\n",
    "num = [1,2,3,4,5]\n",
    "square = [x**2 for x in num]  # Its almost a backwards for loop.  The result you want is first, and then what you want to iterate over.  It is all contained in brackets.\n",
    "square\n",
    "\n",
    "## for loop format\n",
    "# square = []\n",
    "# for x in num:\n",
    "#   square.append(x**2)"
   ]
  },
  {
   "cell_type": "code",
   "execution_count": 15,
   "metadata": {
    "colab": {
     "base_uri": "https://localhost:8080/"
    },
    "executionInfo": {
     "elapsed": 6,
     "status": "ok",
     "timestamp": 1743185843344,
     "user": {
      "displayName": "Jacqueline Gunther",
      "userId": "09898809932311330039"
     },
     "user_tz": 240
    },
    "id": "QC-E5f6WU8yM",
    "outputId": "19c5496d-ac5c-47f3-bb34-9875c78bbbec"
   },
   "outputs": [
    {
     "data": {
      "text/plain": [
       "['Hello World!\\n', \"What's up Mars!\\n\", 'Hi Venus!\\n']"
      ]
     },
     "execution_count": 15,
     "metadata": {},
     "output_type": "execute_result"
    }
   ],
   "source": [
    "# This works really well when using files.\n",
    "# First lets create a file.\n",
    "with open(\"hello.txt\", \"w\") as file:\n",
    "    file.write(\"Hello World!\\n\")\n",
    "    file.write(\"What's up Mars!\\n\")\n",
    "    file.write(\"Hi Venus!\\n\")\n",
    "# With this there will now be a file in your current working directory.\n",
    "# Now lets read it and put it in a list.\n",
    "[line for line in open('hello.txt')]\n",
    "# Note: this notation will automatically close the file, like using the with open() as file: format."
   ]
  },
  {
   "cell_type": "code",
   "execution_count": 16,
   "metadata": {
    "colab": {
     "base_uri": "https://localhost:8080/"
    },
    "executionInfo": {
     "elapsed": 4,
     "status": "ok",
     "timestamp": 1743185843828,
     "user": {
      "displayName": "Jacqueline Gunther",
      "userId": "09898809932311330039"
     },
     "user_tz": 240
    },
    "id": "NccZ4vy16yEw",
    "outputId": "a2e658e1-8b9c-41e8-833b-784c20497d03"
   },
   "outputs": [
    {
     "data": {
      "text/plain": [
       "['Hello World!', \"What's up Mars!\", 'Hi Venus!']"
      ]
     },
     "execution_count": 16,
     "metadata": {},
     "output_type": "execute_result"
    }
   ],
   "source": [
    "# There are new line symbols.  We can get rid of these as we load them.\n",
    "[line.strip() for line in open('hello.txt')]"
   ]
  },
  {
   "cell_type": "code",
   "execution_count": 17,
   "metadata": {
    "colab": {
     "base_uri": "https://localhost:8080/"
    },
    "executionInfo": {
     "elapsed": 14,
     "status": "ok",
     "timestamp": 1743185844913,
     "user": {
      "displayName": "Jacqueline Gunther",
      "userId": "09898809932311330039"
     },
     "user_tz": 240
    },
    "id": "r9EGRhKy7XA1",
    "outputId": "b5a58278-a860-4fd3-ede4-56fc5a849a4a"
   },
   "outputs": [
    {
     "data": {
      "text/plain": [
       "[['HELLO', 'WORLD?'], [\"WHAT'S\", 'UP', 'MARS?'], ['HI', 'VENUS?']]"
      ]
     },
     "execution_count": 17,
     "metadata": {},
     "output_type": "execute_result"
    }
   ],
   "source": [
    "# We can add to the commands to further change the output.\n",
    "[line.strip().upper().replace('!','?').split() for line in open('hello.txt')]\n",
    "# strip gets rid of the new line\n",
    "# upper makes everything capitalized\n",
    "# replace changes any '!' character to a '?' character\n",
    "# and split, makes a list of the string by splitting it where there is a space.\n",
    "# Instead of writing a line of code for each of these operations you can chain them like above."
   ]
  },
  {
   "cell_type": "code",
   "execution_count": 18,
   "metadata": {
    "colab": {
     "base_uri": "https://localhost:8080/"
    },
    "executionInfo": {
     "elapsed": 14,
     "status": "ok",
     "timestamp": 1743185848228,
     "user": {
      "displayName": "Jacqueline Gunther",
      "userId": "09898809932311330039"
     },
     "user_tz": 240
    },
    "id": "nWLPeV-z7hF3",
    "outputId": "d6a576ce-46fe-4d77-a2f2-a0f19265bd92"
   },
   "outputs": [
    {
     "data": {
      "text/plain": [
       "['Hello World!', 'Hi Venus!']"
      ]
     },
     "execution_count": 18,
     "metadata": {},
     "output_type": "execute_result"
    }
   ],
   "source": [
    "# This has an added if statement that will only load lines that begin with the letter H.\n",
    "[line.strip() for line in open('hello.txt') if line.startswith('H')]"
   ]
  },
  {
   "cell_type": "code",
   "execution_count": 27,
   "metadata": {
    "colab": {
     "base_uri": "https://localhost:8080/"
    },
    "executionInfo": {
     "elapsed": 21,
     "status": "ok",
     "timestamp": 1743187564347,
     "user": {
      "displayName": "Jacqueline Gunther",
      "userId": "09898809932311330039"
     },
     "user_tz": 240
    },
    "id": "g_7A1p8NEmpJ",
    "outputId": "07c91d99-cd72-49fb-bd65-6f52702a7f3a"
   },
   "outputs": [
    {
     "data": {
      "text/plain": [
       "['Hello World!\\n', \"What's up Mars!\\n\", 'Hi Venus!\\n']"
      ]
     },
     "execution_count": 27,
     "metadata": {},
     "output_type": "execute_result"
    }
   ],
   "source": [
    "# An even shorter code\n",
    "list(open('hello.txt'))"
   ]
  },
  {
   "cell_type": "markdown",
   "metadata": {
    "id": "2dFHL5fQ_F-t"
   },
   "source": [
    "## Nested List Comprehension"
   ]
  },
  {
   "cell_type": "code",
   "execution_count": 23,
   "metadata": {
    "colab": {
     "base_uri": "https://localhost:8080/"
    },
    "executionInfo": {
     "elapsed": 3,
     "status": "ok",
     "timestamp": 1743186194087,
     "user": {
      "displayName": "Jacqueline Gunther",
      "userId": "09898809932311330039"
     },
     "user_tz": 240
    },
    "id": "CIOW3l0F9ckH",
    "outputId": "11c885b7-34b1-4b76-c96d-215fa5c96862"
   },
   "outputs": [
    {
     "data": {
      "text/plain": [
       "['aa',\n",
       " 'at',\n",
       " 'ag',\n",
       " 'ac',\n",
       " 'ta',\n",
       " 'tt',\n",
       " 'tg',\n",
       " 'tc',\n",
       " 'ga',\n",
       " 'gt',\n",
       " 'gg',\n",
       " 'gc',\n",
       " 'ca',\n",
       " 'ct',\n",
       " 'cg',\n",
       " 'cc']"
      ]
     },
     "execution_count": 23,
     "metadata": {},
     "output_type": "execute_result"
    }
   ],
   "source": [
    "[nucl1+nucl2 for nucl1 in 'atgc' for nucl2 in 'atgc']"
   ]
  },
  {
   "cell_type": "markdown",
   "metadata": {
    "id": "bA3L3EjOIi2S"
   },
   "source": [
    "## Other tricks"
   ]
  },
  {
   "cell_type": "code",
   "execution_count": 28,
   "metadata": {
    "colab": {
     "base_uri": "https://localhost:8080/"
    },
    "executionInfo": {
     "elapsed": 43,
     "status": "ok",
     "timestamp": 1743188563432,
     "user": {
      "displayName": "Jacqueline Gunther",
      "userId": "09898809932311330039"
     },
     "user_tz": 240
    },
    "id": "6CQJIxSD_TkS",
    "outputId": "6327678c-0323-4144-da42-1ae2a4381974"
   },
   "outputs": [
    {
     "data": {
      "text/plain": [
       "['Hello World!\\n', 'Hi Venus!\\n', \"What's up Mars!\\n\"]"
      ]
     },
     "execution_count": 28,
     "metadata": {},
     "output_type": "execute_result"
    }
   ],
   "source": [
    "sorted(open('hello.txt')) # Puts in alphabetical (or numeric) order."
   ]
  },
  {
   "cell_type": "code",
   "execution_count": 29,
   "metadata": {
    "colab": {
     "base_uri": "https://localhost:8080/"
    },
    "executionInfo": {
     "elapsed": 6,
     "status": "ok",
     "timestamp": 1743188615998,
     "user": {
      "displayName": "Jacqueline Gunther",
      "userId": "09898809932311330039"
     },
     "user_tz": 240
    },
    "id": "azRcp0e7Iou_",
    "outputId": "b668657e-8dd8-4e5e-ce20-fe228ebc4974"
   },
   "outputs": [
    {
     "data": {
      "text/plain": [
       "45"
      ]
     },
     "execution_count": 29,
     "metadata": {},
     "output_type": "execute_result"
    }
   ],
   "source": [
    "sum(range(10))"
   ]
  },
  {
   "cell_type": "code",
   "execution_count": 30,
   "metadata": {
    "colab": {
     "base_uri": "https://localhost:8080/",
     "height": 35
    },
    "executionInfo": {
     "elapsed": 6,
     "status": "ok",
     "timestamp": 1743188637863,
     "user": {
      "displayName": "Jacqueline Gunther",
      "userId": "09898809932311330039"
     },
     "user_tz": 240
    },
    "id": "Oss0opFYI2Lp",
    "outputId": "cf7023ff-6f7b-4b71-d64a-1d69d33db1d0"
   },
   "outputs": [
    {
     "data": {
      "application/vnd.google.colaboratory.intrinsic+json": {
       "type": "string"
      },
      "text/plain": [
       "\"What's up Mars!\\n\""
      ]
     },
     "execution_count": 30,
     "metadata": {},
     "output_type": "execute_result"
    }
   ],
   "source": [
    "max(open('hello.txt')) # return longest line"
   ]
  },
  {
   "cell_type": "code",
   "execution_count": 31,
   "metadata": {
    "colab": {
     "base_uri": "https://localhost:8080/"
    },
    "executionInfo": {
     "elapsed": 13,
     "status": "ok",
     "timestamp": 1743188657323,
     "user": {
      "displayName": "Jacqueline Gunther",
      "userId": "09898809932311330039"
     },
     "user_tz": 240
    },
    "id": "QAymLk_VI7hP",
    "outputId": "9f0beee3-de76-40c0-f523-2d841a1f1fd6"
   },
   "outputs": [
    {
     "data": {
      "text/plain": [
       "True"
      ]
     },
     "execution_count": 31,
     "metadata": {},
     "output_type": "execute_result"
    }
   ],
   "source": [
    "all(open('hello.txt')) # All lines are not empty"
   ]
  },
  {
   "cell_type": "code",
   "execution_count": null,
   "metadata": {
    "id": "BjRftnvIJARe"
   },
   "outputs": [],
   "source": []
  }
 ],
 "metadata": {
  "colab": {
   "authorship_tag": "ABX9TyPAw6v/RcjXTKrjXHVjKARN",
   "provenance": []
  },
  "kernelspec": {
   "display_name": "Python 3 (ipykernel)",
   "language": "python",
   "name": "python3"
  },
  "language_info": {
   "codemirror_mode": {
    "name": "ipython",
    "version": 3
   },
   "file_extension": ".py",
   "mimetype": "text/x-python",
   "name": "python",
   "nbconvert_exporter": "python",
   "pygments_lexer": "ipython3",
   "version": "3.10.15"
  }
 },
 "nbformat": 4,
 "nbformat_minor": 4
}
