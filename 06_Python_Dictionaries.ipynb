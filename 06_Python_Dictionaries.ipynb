{
 "cells": [
  {
   "cell_type": "markdown",
   "metadata": {
    "id": "Vntqk6bniQ7b"
   },
   "source": [
    "To start, click File --> Save Notebook As...\n",
    "\n",
    "Then you can have your own copy you can modify.\n"
   ]
  },
  {
   "cell_type": "markdown",
   "metadata": {
    "id": "o7VZOCcSRakC"
   },
   "source": [
    "Adapted from Chapter 8: Lists and Dictionaries of Lutz, Mark. *Learning Python*, 6th Edition, O'Reilly, 2025"
   ]
  },
  {
   "cell_type": "markdown",
   "metadata": {
    "id": "uvBzSO4niSUo"
   },
   "source": [
    "# Dictionaries\n"
   ]
  },
  {
   "cell_type": "code",
   "execution_count": null,
   "metadata": {
    "colab": {
     "base_uri": "https://localhost:8080/"
    },
    "executionInfo": {
     "elapsed": 58,
     "status": "ok",
     "timestamp": 1740169283603,
     "user": {
      "displayName": "Gunther",
      "userId": "09898809932311330039"
     },
     "user_tz": 300
    },
    "id": "mugOyscbEvbM",
    "outputId": "3f987c99-b297-4b17-9b6c-1076c287ea80"
   },
   "outputs": [
    {
     "data": {
      "text/plain": [
       "['clear',\n",
       " 'copy',\n",
       " 'fromkeys',\n",
       " 'get',\n",
       " 'items',\n",
       " 'keys',\n",
       " 'pop',\n",
       " 'popitem',\n",
       " 'setdefault',\n",
       " 'update',\n",
       " 'values']"
      ]
     },
     "execution_count": 2,
     "metadata": {},
     "output_type": "execute_result"
    }
   ],
   "source": [
    "dir(dict)[-11:]  # list of functions for dictionaries."
   ]
  },
  {
   "cell_type": "code",
   "execution_count": null,
   "metadata": {
    "id": "FBJmBvN3K3mM"
   },
   "outputs": [],
   "source": [
    "D0 = {} # Empty Dictionary"
   ]
  },
  {
   "cell_type": "code",
   "execution_count": null,
   "metadata": {
    "colab": {
     "base_uri": "https://localhost:8080/"
    },
    "executionInfo": {
     "elapsed": 5,
     "status": "ok",
     "timestamp": 1740169413673,
     "user": {
      "displayName": "Gunther",
      "userId": "09898809932311330039"
     },
     "user_tz": 300
    },
    "id": "Jvb-A-DqLGKU",
    "outputId": "d7ac7166-e307-4dee-8d33-a8a36758ec68"
   },
   "outputs": [
    {
     "name": "stdout",
     "output_type": "stream",
     "text": [
      "dict_keys(['insect', 'quantity', 'color'])\n",
      "dict_values(['butterfly', 4, 'blue'])\n",
      "dict_items([('insect', 'butterfly'), ('quantity', 4), ('color', 'blue')])\n",
      "butterfly\n",
      "4\n",
      "blue\n"
     ]
    }
   ],
   "source": [
    "D1 = {'insect': 'butterfly', 'quantity': 4, 'color': 'blue'}  # A dictionary\n",
    "\n",
    "print(D1.keys())    # Extract the keys of the dictionary\n",
    "print(D1.values())  # Extract only the values\n",
    "print(D1.items())   # Extract all items\n",
    "\n",
    "print(D1['insect'])    # Get the insect\n",
    "print(D1['quantity'])  # Get the quantity\n",
    "print(D1['color'])     # Get the color"
   ]
  },
  {
   "cell_type": "code",
   "execution_count": null,
   "metadata": {
    "colab": {
     "base_uri": "https://localhost:8080/"
    },
    "executionInfo": {
     "elapsed": 5,
     "status": "ok",
     "timestamp": 1740169535664,
     "user": {
      "displayName": "Gunther",
      "userId": "09898809932311330039"
     },
     "user_tz": 300
    },
    "id": "WCFpEeYHLLuu",
    "outputId": "a109b80b-98d4-401f-9371-25f69284830b"
   },
   "outputs": [
    {
     "name": "stdout",
     "output_type": "stream",
     "text": [
      "['apple', 'orange']\n",
      "[3, 5]\n",
      "['red', 'orange']\n",
      "apple\n",
      "3\n",
      "red\n"
     ]
    }
   ],
   "source": [
    "# Dictionary with muliple items per key\n",
    "D2 = {'fruit':['apple','orange'],'quantity':[3,5],'color':['red','orange']}\n",
    "print(D2['fruit'])\n",
    "print(D2['quantity'])\n",
    "print(D2['color'])\n",
    "\n",
    "print(D2['fruit'][0])     # Get the first item\n",
    "print(D2['quantity'][0])  # Get the quantity of the first item\n",
    "print(D2['color'][0])     # Color of first item"
   ]
  },
  {
   "cell_type": "code",
   "execution_count": null,
   "metadata": {
    "colab": {
     "base_uri": "https://localhost:8080/"
    },
    "executionInfo": {
     "elapsed": 8,
     "status": "ok",
     "timestamp": 1740169698798,
     "user": {
      "displayName": "Gunther",
      "userId": "09898809932311330039"
     },
     "user_tz": 300
    },
    "id": "aDElXhFNL5sV",
    "outputId": "aed907e3-cbf0-4d4a-fd2e-0a093a4e6877"
   },
   "outputs": [
    {
     "name": "stdout",
     "output_type": "stream",
     "text": [
      "Luke\n",
      "Tatooine\n"
     ]
    }
   ],
   "source": [
    "# Dictionary inside a dictionary\n",
    "\n",
    "D3 = {'character':{'name':'Luke', 'hometown': 'Tatooine'}}\n",
    "print(D3['character']['name'])\n",
    "print(D3['character']['hometown'])"
   ]
  },
  {
   "cell_type": "code",
   "execution_count": null,
   "metadata": {
    "colab": {
     "base_uri": "https://localhost:8080/"
    },
    "executionInfo": {
     "elapsed": 4,
     "status": "ok",
     "timestamp": 1740169755961,
     "user": {
      "displayName": "Gunther",
      "userId": "09898809932311330039"
     },
     "user_tz": 300
    },
    "id": "eMUw2SLLMj6_",
    "outputId": "e8779d2d-8ec2-436c-b117-c4910e141674"
   },
   "outputs": [
    {
     "name": "stdout",
     "output_type": "stream",
     "text": [
      "Luke\n",
      "Tatooine\n"
     ]
    }
   ],
   "source": [
    "# Other way to designate a dictionary\n",
    "\n",
    "D4 = dict(name='Luke', hometown='Tatooine')\n",
    "print(D4['name'])\n",
    "print(D4['hometown'])"
   ]
  },
  {
   "cell_type": "code",
   "execution_count": null,
   "metadata": {
    "colab": {
     "base_uri": "https://localhost:8080/"
    },
    "executionInfo": {
     "elapsed": 6,
     "status": "ok",
     "timestamp": 1740169947072,
     "user": {
      "displayName": "Gunther",
      "userId": "09898809932311330039"
     },
     "user_tz": 300
    },
    "id": "FhF1IbtnMzy7",
    "outputId": "36b10247-5543-4de2-a4d2-2e704bc716d5"
   },
   "outputs": [
    {
     "name": "stdout",
     "output_type": "stream",
     "text": [
      "Luke\n",
      "Tatooine\n"
     ]
    }
   ],
   "source": [
    "# Zipped dictionary\n",
    "D5 = dict(zip(['name','hometown'],['Luke','Tatooine']))\n",
    "print(D5['name'])\n",
    "print(D5['hometown'])"
   ]
  },
  {
   "cell_type": "code",
   "execution_count": null,
   "metadata": {
    "colab": {
     "base_uri": "https://localhost:8080/"
    },
    "executionInfo": {
     "elapsed": 9,
     "status": "ok",
     "timestamp": 1740170036025,
     "user": {
      "displayName": "Gunther",
      "userId": "09898809932311330039"
     },
     "user_tz": 300
    },
    "id": "ypzhSVilNidP",
    "outputId": "f74a68b4-3026-466a-a57d-9b1396f0937e"
   },
   "outputs": [
    {
     "name": "stdout",
     "output_type": "stream",
     "text": [
      "Luke\n",
      "Tatooine\n"
     ]
    }
   ],
   "source": [
    "# Another format\n",
    "D6 = dict([('name','Luke'),('hometown','Tatooine')])\n",
    "print(D6['name'])\n",
    "print(D6['hometown'])"
   ]
  },
  {
   "cell_type": "code",
   "execution_count": null,
   "metadata": {
    "colab": {
     "base_uri": "https://localhost:8080/"
    },
    "executionInfo": {
     "elapsed": 9,
     "status": "ok",
     "timestamp": 1740174575266,
     "user": {
      "displayName": "Gunther",
      "userId": "09898809932311330039"
     },
     "user_tz": 300
    },
    "id": "S5Up0pIIfH49",
    "outputId": "04025326-d243-4dce-d4d3-d3c214576a60"
   },
   "outputs": [
    {
     "name": "stdout",
     "output_type": "stream",
     "text": [
      "Luke\n",
      "Tatooine\n"
     ]
    }
   ],
   "source": [
    "# Yet another format\n",
    "D7 = {}\n",
    "D7['name'] = 'Luke'\n",
    "D7['hometown'] = 'Tatooine'\n",
    "print(D7['name'])\n",
    "print(D7['hometown'])"
   ]
  },
  {
   "cell_type": "code",
   "execution_count": null,
   "metadata": {
    "colab": {
     "base_uri": "https://localhost:8080/"
    },
    "executionInfo": {
     "elapsed": 4,
     "status": "ok",
     "timestamp": 1740174687460,
     "user": {
      "displayName": "Gunther",
      "userId": "09898809932311330039"
     },
     "user_tz": 300
    },
    "id": "5q2uYPGFfbY4",
    "outputId": "2dfe6281-8540-4a22-a192-a177635cb73e"
   },
   "outputs": [
    {
     "data": {
      "text/plain": [
       "{'name': 'unknown', 'hometown': 'unknown'}"
      ]
     },
     "execution_count": 34,
     "metadata": {},
     "output_type": "execute_result"
    }
   ],
   "source": [
    "# Yet another format\n",
    "value = 'unkown'\n",
    "dict.fromkeys(['name','hometown'],value)"
   ]
  },
  {
   "cell_type": "code",
   "execution_count": null,
   "metadata": {
    "colab": {
     "base_uri": "https://localhost:8080/"
    },
    "executionInfo": {
     "elapsed": 8,
     "status": "ok",
     "timestamp": 1740170106554,
     "user": {
      "displayName": "Gunther",
      "userId": "09898809932311330039"
     },
     "user_tz": 300
    },
    "id": "nDujntd0N4LF",
    "outputId": "86600511-1a72-4270-a3f6-06e6744ed48b"
   },
   "outputs": [
    {
     "name": "stdout",
     "output_type": "stream",
     "text": [
      "True\n",
      "True\n",
      "True\n",
      "fruit\n",
      "quantity\n",
      "color\n"
     ]
    }
   ],
   "source": [
    "\n",
    "\n",
    "# Check the Dictionary\n",
    "D2 = {'fruit':['apple','orange'],'quantity':[3,5],'color':['red','orange']}\n",
    "print('fruit' in D2)\n",
    "print('quantity' in D2)\n",
    "print('color' in D2)\n",
    "\n",
    "for key in D2:\n",
    "  print(key)"
   ]
  },
  {
   "cell_type": "code",
   "execution_count": null,
   "metadata": {
    "colab": {
     "base_uri": "https://localhost:8080/"
    },
    "executionInfo": {
     "elapsed": 44,
     "status": "ok",
     "timestamp": 1740172818952,
     "user": {
      "displayName": "Gunther",
      "userId": "09898809932311330039"
     },
     "user_tz": 300
    },
    "id": "UbOpsUeAYOfi",
    "outputId": "6bee0369-395d-49b3-b21c-6a0108531046"
   },
   "outputs": [
    {
     "name": "stdout",
     "output_type": "stream",
     "text": [
      "{'fruit': ['apple', 'orange'], 'quantity': [3, 5], 'color': ['red', 'orange'], 'shape': ['round', 'round']}\n"
     ]
    }
   ],
   "source": [
    "D_fruit = {'fruit':['apple','orange'],'quantity':[3,5],'color':['red','orange']}\n",
    "qual = {'shape':['round','round']}\n",
    "\n",
    "D_fruit.update(qual)  # add more keys to dictionary\n",
    "print(D_fruit)"
   ]
  },
  {
   "cell_type": "code",
   "execution_count": null,
   "metadata": {
    "colab": {
     "base_uri": "https://localhost:8080/"
    },
    "executionInfo": {
     "elapsed": 5,
     "status": "ok",
     "timestamp": 1740174176990,
     "user": {
      "displayName": "Gunther",
      "userId": "09898809932311330039"
     },
     "user_tz": 300
    },
    "id": "XgSzt8jJdPyH",
    "outputId": "0037f4a3-7e2c-4109-e82c-a73bf6dd5fc4"
   },
   "outputs": [
    {
     "data": {
      "text/plain": [
       "['potato', 'celery', 'carrot', 'spinach']"
      ]
     },
     "execution_count": 28,
     "metadata": {},
     "output_type": "execute_result"
    }
   ],
   "source": [
    "# Turn keys into list\n",
    "D_veggies = {'potato':1,'celery':2,'carrot':3,'spinach':4}\n",
    "list(D_veggies.keys())"
   ]
  },
  {
   "cell_type": "code",
   "execution_count": null,
   "metadata": {
    "colab": {
     "base_uri": "https://localhost:8080/"
    },
    "executionInfo": {
     "elapsed": 4,
     "status": "ok",
     "timestamp": 1740434009341,
     "user": {
      "displayName": "Gunther",
      "userId": "09898809932311330039"
     },
     "user_tz": 300
    },
    "id": "Ou4w6EmsdssB",
    "outputId": "c7b40074-605f-401f-c4b2-f313935b5ae4"
   },
   "outputs": [
    {
     "name": "stdout",
     "output_type": "stream",
     "text": [
      "{'celery': 2, 'carrot': 3, 'spinach': 4}\n",
      "{'celery': 2, 'carrot': 3}\n"
     ]
    }
   ],
   "source": [
    "# Pop\n",
    "D_veggies = {'potato':1,'celery':2,'carrot':3,'spinach':4}\n",
    "D_veggies.pop('potato')\n",
    "print(D_veggies)\n",
    "D_veggies.popitem()\n",
    "print(D_veggies)"
   ]
  },
  {
   "cell_type": "code",
   "execution_count": null,
   "metadata": {
    "colab": {
     "base_uri": "https://localhost:8080/"
    },
    "executionInfo": {
     "elapsed": 40,
     "status": "ok",
     "timestamp": 1740432650534,
     "user": {
      "displayName": "Gunther",
      "userId": "09898809932311330039"
     },
     "user_tz": 300
    },
    "id": "VZJj8PCRdx92",
    "outputId": "a844e83c-c6f4-4e28-ad19-5e5e6569e2a7"
   },
   "outputs": [
    {
     "data": {
      "text/plain": [
       "3"
      ]
     },
     "execution_count": 1,
     "metadata": {},
     "output_type": "execute_result"
    }
   ],
   "source": [
    "# Get\n",
    "D_veggies = {'potato':1,'celery':2,'carrot':3,'spinach':4}\n",
    "D_veggies.get('carrot')"
   ]
  },
  {
   "cell_type": "code",
   "execution_count": null,
   "metadata": {
    "colab": {
     "base_uri": "https://localhost:8080/"
    },
    "executionInfo": {
     "elapsed": 3,
     "status": "ok",
     "timestamp": 1740432791066,
     "user": {
      "displayName": "Gunther",
      "userId": "09898809932311330039"
     },
     "user_tz": 300
    },
    "id": "KN5UK3p6eEHr",
    "outputId": "abb874a9-a627-4a16-8e18-5ce356f389be"
   },
   "outputs": [
    {
     "data": {
      "text/plain": [
       "{'a': 7, 'b': 1, 'c': 2}"
      ]
     },
     "execution_count": 4,
     "metadata": {},
     "output_type": "execute_result"
    }
   ],
   "source": [
    "## Dictionary unpacking\n",
    "D = dict(a=7, c=2)\n",
    "{'a': 99, 'b':1, **D}  # The rightmost value is taken if there are two keys.\n",
    "# dict(a=99, b=1) | D  # Same thing, but different syntax.  This is a way to combine dictionaries"
   ]
  },
  {
   "cell_type": "code",
   "execution_count": null,
   "metadata": {
    "colab": {
     "base_uri": "https://localhost:8080/"
    },
    "executionInfo": {
     "elapsed": 4,
     "status": "ok",
     "timestamp": 1740494412893,
     "user": {
      "displayName": "Gunther",
      "userId": "09898809932311330039"
     },
     "user_tz": 300
    },
    "id": "vnZ5T6HP63K9",
    "outputId": "bad5e120-939d-46d5-acbf-7db1bcde3fea"
   },
   "outputs": [
    {
     "name": "stdout",
     "output_type": "stream",
     "text": [
      "{0: 1, 1: 2, 2: 4, 3: 8, 4: 16, 5: 32, 6: 64, 7: 128, 8: 256, 9: 512, 10: 1024}\n"
     ]
    }
   ],
   "source": [
    "# Yet another way\n",
    "\n",
    "power_of_two = {x: 2 ** x for x in range(11)}\n",
    "print(power_of_two)"
   ]
  },
  {
   "cell_type": "code",
   "execution_count": null,
   "metadata": {
    "colab": {
     "base_uri": "https://localhost:8080/"
    },
    "executionInfo": {
     "elapsed": 5,
     "status": "ok",
     "timestamp": 1740495972071,
     "user": {
      "displayName": "Gunther",
      "userId": "09898809932311330039"
     },
     "user_tz": 300
    },
    "id": "pmpU4WUjnbp6",
    "outputId": "c3330aa1-0f2b-4a7a-eb9b-b41208e588e3"
   },
   "outputs": [
    {
     "name": "stdout",
     "output_type": "stream",
     "text": [
      "{1: [1, 2, 3], 2: [40, 50, 60], 3: [700, 800, 900]}\n",
      "[1, 2, 3]\n",
      "0\n"
     ]
    }
   ],
   "source": [
    "## Dealing with non-existant values\n",
    "\n",
    "matrix = {1:[1,2,3],2:[40,50,60],3:[700,800,900]}\n",
    "print(matrix)\n",
    "\n",
    "print(matrix.get(1,0))  # if key 1 exist, print item in key 1, if not, print 0\n",
    "print(matrix.get(4,0))  # There is no 4 so 0 is returned."
   ]
  },
  {
   "cell_type": "code",
   "execution_count": null,
   "metadata": {
    "colab": {
     "base_uri": "https://localhost:8080/"
    },
    "executionInfo": {
     "elapsed": 5,
     "status": "ok",
     "timestamp": 1740496051504,
     "user": {
      "displayName": "Gunther",
      "userId": "09898809932311330039"
     },
     "user_tz": 300
    },
    "id": "rQ4dMWBEoSHu",
    "outputId": "50130a65-83fc-47e5-ee8c-2b4f06c9e827"
   },
   "outputs": [
    {
     "name": "stdout",
     "output_type": "stream",
     "text": [
      "{1: [1, 2, 3], 2: [40, 50, 60], 3: [700, 800, 900]}\n",
      "[40, 50, 60]\n"
     ]
    }
   ],
   "source": [
    "## Dealing with non-existant values\n",
    "\n",
    "matrix = {1:[1,2,3],2:[40,50,60],3:[700,800,900]}\n",
    "print(matrix)\n",
    "\n",
    "if 1 in matrix:     # Same as cell above but with an if/else statement\n",
    "  print(matrix[2])\n",
    "else:\n",
    "  print(0)"
   ]
  },
  {
   "cell_type": "code",
   "execution_count": null,
   "metadata": {
    "colab": {
     "base_uri": "https://localhost:8080/"
    },
    "executionInfo": {
     "elapsed": 6,
     "status": "ok",
     "timestamp": 1740496278227,
     "user": {
      "displayName": "Gunther",
      "userId": "09898809932311330039"
     },
     "user_tz": 300
    },
    "id": "H8xsESfophzk",
    "outputId": "c750ccd8-beb4-42b5-97f2-47eeb33f08b6"
   },
   "outputs": [
    {
     "name": "stdout",
     "output_type": "stream",
     "text": [
      "{1: [1, 2, 3], 2: [40, 50, 60], 3: [700, 800, 900]}\n",
      "0\n"
     ]
    }
   ],
   "source": [
    "## Dealing with non-existant values\n",
    "\n",
    "matrix = {1:[1,2,3],2:[40,50,60],3:[700,800,900]}\n",
    "print(matrix)\n",
    "\n",
    "try:               # Same as cell above but with a try/except statement\n",
    "  print(matrix[4]) # There is no 4\n",
    "except KeyError:\n",
    "  print(0)"
   ]
  },
  {
   "cell_type": "code",
   "execution_count": null,
   "metadata": {
    "colab": {
     "base_uri": "https://localhost:8080/"
    },
    "executionInfo": {
     "elapsed": 42,
     "status": "ok",
     "timestamp": 1740502799604,
     "user": {
      "displayName": "Gunther",
      "userId": "09898809932311330039"
     },
     "user_tz": 300
    },
    "id": "JeSujGuNDMSG",
    "outputId": "25dfd16a-4e0b-4999-e2eb-c203b61d4541"
   },
   "outputs": [
    {
     "name": "stdout",
     "output_type": "stream",
     "text": [
      "5000\n",
      "{('New York', 'January'): 5000, ('Los Angeles', 'January'): 7000}\n"
     ]
    }
   ],
   "source": [
    "# Using tuples as keys\n",
    "sales = {(\"New York\", \"January\"): 5000, (\"Los Angeles\", \"January\"): 7000}\n",
    "print(sales[(\"New York\", \"January\")])  # Output: 5000\n",
    "print(sales)"
   ]
  },
  {
   "cell_type": "code",
   "execution_count": null,
   "metadata": {
    "id": "43slMLHmpvky"
   },
   "outputs": [],
   "source": [
    "# However, I would not use dictionaries to handle datasets, especially large\n",
    "# or tabular data. You should use a pandas dataframe. We will learn about this\n",
    "# later."
   ]
  }
 ],
 "metadata": {
  "colab": {
   "authorship_tag": "ABX9TyOlHYMoi0gcKyifsh04vmH5",
   "provenance": []
  },
  "kernelspec": {
   "display_name": "Python 3 (ipykernel)",
   "language": "python",
   "name": "python3"
  },
  "language_info": {
   "codemirror_mode": {
    "name": "ipython",
    "version": 3
   },
   "file_extension": ".py",
   "mimetype": "text/x-python",
   "name": "python",
   "nbconvert_exporter": "python",
   "pygments_lexer": "ipython3",
   "version": "3.10.15"
  }
 },
 "nbformat": 4,
 "nbformat_minor": 4
}
