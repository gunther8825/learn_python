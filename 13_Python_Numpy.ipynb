{
 "cells": [
  {
   "cell_type": "markdown",
   "metadata": {
    "id": "Vntqk6bniQ7b"
   },
   "source": [
    "To start, click File --> Save Notebook As...\n",
    "\n",
    "Then you can have your own copy you can modify.\n"
   ]
  },
  {
   "cell_type": "markdown",
   "metadata": {
    "id": "o7VZOCcSRakC"
   },
   "source": [
    "Reference:\n",
    "\n",
    "Part II: \"Introduction To NumPy\", VanderPlas, Jake. *Python Data Science Handbook*, 2nd Edition, O'Reilly, 2022\n",
    "\n",
    "You can find the book and code from the book here: https://github.com/jakevdp/PythonDataScienceHandbook"
   ]
  },
  {
   "cell_type": "markdown",
   "metadata": {
    "id": "OrfuHfMZBBD2"
   },
   "source": [
    "# Import Numpy into Python"
   ]
  },
  {
   "cell_type": "code",
   "execution_count": 1,
   "metadata": {
    "executionInfo": {
     "elapsed": 8,
     "status": "ok",
     "timestamp": 1748464918686,
     "user": {
      "displayName": "Jacqueline Gunther",
      "userId": "09898809932311330039"
     },
     "user_tz": 240
    },
    "id": "0OqumyM8BLBT"
   },
   "outputs": [],
   "source": [
    "## If you don't have numpy on your computer run this code:\n",
    "\n",
    "# !pip install numpy"
   ]
  },
  {
   "cell_type": "code",
   "execution_count": 2,
   "metadata": {
    "executionInfo": {
     "elapsed": 1,
     "status": "ok",
     "timestamp": 1748464918691,
     "user": {
      "displayName": "Jacqueline Gunther",
      "userId": "09898809932311330039"
     },
     "user_tz": 240
    },
    "id": "aBHJonAwAmtj"
   },
   "outputs": [],
   "source": [
    "import numpy as np # Instead of typing numpy for each time you need something\n",
    "                   # from the numpy library, import it as np, so you only need\n",
    "                   # to type np."
   ]
  },
  {
   "cell_type": "code",
   "execution_count": 3,
   "metadata": {
    "colab": {
     "base_uri": "https://localhost:8080/",
     "height": 35
    },
    "executionInfo": {
     "elapsed": 17,
     "status": "ok",
     "timestamp": 1748464918724,
     "user": {
      "displayName": "Jacqueline Gunther",
      "userId": "09898809932311330039"
     },
     "user_tz": 240
    },
    "id": "FRJG08dzBJJG",
    "outputId": "b79b7d24-3f7d-4ad9-f7ef-9959e8a333da"
   },
   "outputs": [
    {
     "data": {
      "application/vnd.google.colaboratory.intrinsic+json": {
       "type": "string"
      },
      "text/plain": [
       "'2.0.2'"
      ]
     },
     "execution_count": 3,
     "metadata": {},
     "output_type": "execute_result"
    }
   ],
   "source": [
    "np.__version__  # Find the version of numpy."
   ]
  },
  {
   "cell_type": "markdown",
   "metadata": {
    "id": "bC21V3StFcGK"
   },
   "source": [
    "You can go to the numpy website: https://numpy.org/"
   ]
  },
  {
   "cell_type": "code",
   "execution_count": 4,
   "metadata": {
    "executionInfo": {
     "elapsed": 14,
     "status": "ok",
     "timestamp": 1748464918753,
     "user": {
      "displayName": "Jacqueline Gunther",
      "userId": "09898809932311330039"
     },
     "user_tz": 240
    },
    "id": "o-PFOAaJFF7S"
   },
   "outputs": [],
   "source": [
    "# dir(np) # Get all functions under numpy"
   ]
  },
  {
   "cell_type": "code",
   "execution_count": 5,
   "metadata": {
    "colab": {
     "base_uri": "https://localhost:8080/"
    },
    "executionInfo": {
     "elapsed": 7,
     "status": "ok",
     "timestamp": 1748464918776,
     "user": {
      "displayName": "Jacqueline Gunther",
      "userId": "09898809932311330039"
     },
     "user_tz": 240
    },
    "id": "yRKYMjhtFK4e",
    "outputId": "4a3648f8-3e5c-40dd-d75b-b339b8c45a4c"
   },
   "outputs": [
    {
     "name": "stdout",
     "output_type": "stream",
     "text": [
      "[1 2 3 4 5]\n",
      "<class 'numpy.ndarray'>\n"
     ]
    }
   ],
   "source": [
    "# Making an array\n",
    "\n",
    "arr = np.array([1,2,3,4,5])  # These MUST have the same data type, unlike python list.\n",
    "print(arr)\n",
    "print(type(arr))             # This is not a list class, it is a Numpy array"
   ]
  },
  {
   "cell_type": "code",
   "execution_count": 6,
   "metadata": {
    "colab": {
     "base_uri": "https://localhost:8080/"
    },
    "executionInfo": {
     "elapsed": 16,
     "status": "ok",
     "timestamp": 1748464918793,
     "user": {
      "displayName": "Jacqueline Gunther",
      "userId": "09898809932311330039"
     },
     "user_tz": 240
    },
    "id": "yIP29AiiGeR8",
    "outputId": "387c1215-7c3d-4d10-d34e-e06385ecf453"
   },
   "outputs": [
    {
     "data": {
      "text/plain": [
       "array([[1, 2],\n",
       "       [2, 4]])"
      ]
     },
     "execution_count": 6,
     "metadata": {},
     "output_type": "execute_result"
    }
   ],
   "source": [
    "np.array([[1,2],[2,4]])  # 2D array"
   ]
  },
  {
   "cell_type": "code",
   "execution_count": 7,
   "metadata": {
    "colab": {
     "base_uri": "https://localhost:8080/"
    },
    "executionInfo": {
     "elapsed": 6,
     "status": "ok",
     "timestamp": 1748464918800,
     "user": {
      "displayName": "Jacqueline Gunther",
      "userId": "09898809932311330039"
     },
     "user_tz": 240
    },
    "id": "sTXm9f-8Hj8j",
    "outputId": "312f9115-3c86-4068-9cba-35e352c6355b"
   },
   "outputs": [
    {
     "data": {
      "text/plain": [
       "array([1., 2., 3.], dtype=float32)"
      ]
     },
     "execution_count": 7,
     "metadata": {},
     "output_type": "execute_result"
    }
   ],
   "source": [
    "np.array([1,2,3], dtype='float32')  # you can pick the type in which the array in defined."
   ]
  },
  {
   "cell_type": "code",
   "execution_count": 8,
   "metadata": {
    "executionInfo": {
     "elapsed": 2,
     "status": "ok",
     "timestamp": 1748464918817,
     "user": {
      "displayName": "Jacqueline Gunther",
      "userId": "09898809932311330039"
     },
     "user_tz": 240
    },
    "id": "dCZxJwVEIMdH"
   },
   "outputs": [],
   "source": [
    "np.array?"
   ]
  },
  {
   "cell_type": "code",
   "execution_count": 9,
   "metadata": {
    "colab": {
     "base_uri": "https://localhost:8080/"
    },
    "executionInfo": {
     "elapsed": 8,
     "status": "ok",
     "timestamp": 1748464918853,
     "user": {
      "displayName": "Jacqueline Gunther",
      "userId": "09898809932311330039"
     },
     "user_tz": 240
    },
    "id": "53hW1XXyIWNV",
    "outputId": "3d283810-d1be-426f-a628-04246108fd09"
   },
   "outputs": [
    {
     "data": {
      "text/plain": [
       "array([[10, 11, 12],\n",
       "       [12, 13, 14],\n",
       "       [14, 15, 16]])"
      ]
     },
     "execution_count": 9,
     "metadata": {},
     "output_type": "execute_result"
    }
   ],
   "source": [
    "np.array([range(i, i + 3) for i in [10, 12, 14]])"
   ]
  },
  {
   "cell_type": "code",
   "execution_count": 10,
   "metadata": {
    "colab": {
     "base_uri": "https://localhost:8080/"
    },
    "executionInfo": {
     "elapsed": 12,
     "status": "ok",
     "timestamp": 1748464918916,
     "user": {
      "displayName": "Jacqueline Gunther",
      "userId": "09898809932311330039"
     },
     "user_tz": 240
    },
    "id": "VrNBWD6OIkQR",
    "outputId": "fab91c0b-4f8c-46db-869c-a56b158a937a"
   },
   "outputs": [
    {
     "data": {
      "text/plain": [
       "array([0, 0, 0, 0, 0])"
      ]
     },
     "execution_count": 10,
     "metadata": {},
     "output_type": "execute_result"
    }
   ],
   "source": [
    "# You can create arrays of 0s using this:\n",
    "np.zeros(5, dtype=int) #5 zeros designated as integers"
   ]
  },
  {
   "cell_type": "code",
   "execution_count": 11,
   "metadata": {
    "colab": {
     "base_uri": "https://localhost:8080/"
    },
    "executionInfo": {
     "elapsed": 27,
     "status": "ok",
     "timestamp": 1748464918944,
     "user": {
      "displayName": "Jacqueline Gunther",
      "userId": "09898809932311330039"
     },
     "user_tz": 240
    },
    "id": "7joU1wOzyyD_",
    "outputId": "a5ee0115-fdfb-47eb-f618-c153d02ceaaf"
   },
   "outputs": [
    {
     "data": {
      "text/plain": [
       "array([[1., 1., 1., 1.],\n",
       "       [1., 1., 1., 1.],\n",
       "       [1., 1., 1., 1.]])"
      ]
     },
     "execution_count": 11,
     "metadata": {},
     "output_type": "execute_result"
    }
   ],
   "source": [
    "np.ones((3,4), dtype=float) # 3 rows and 4 columns of type float"
   ]
  },
  {
   "cell_type": "code",
   "execution_count": 12,
   "metadata": {
    "colab": {
     "base_uri": "https://localhost:8080/"
    },
    "executionInfo": {
     "elapsed": 6,
     "status": "ok",
     "timestamp": 1748464918951,
     "user": {
      "displayName": "Jacqueline Gunther",
      "userId": "09898809932311330039"
     },
     "user_tz": 240
    },
    "id": "uIGrPksTKc22",
    "outputId": "75ac97f7-4012-4e5f-dd8c-57e06cc1bd1d"
   },
   "outputs": [
    {
     "data": {
      "text/plain": [
       "array([[3.14159265, 3.14159265, 3.14159265, 3.14159265, 3.14159265],\n",
       "       [3.14159265, 3.14159265, 3.14159265, 3.14159265, 3.14159265],\n",
       "       [3.14159265, 3.14159265, 3.14159265, 3.14159265, 3.14159265],\n",
       "       [3.14159265, 3.14159265, 3.14159265, 3.14159265, 3.14159265]])"
      ]
     },
     "execution_count": 12,
     "metadata": {},
     "output_type": "execute_result"
    }
   ],
   "source": [
    "np.full((4,5), np.pi) # 4 rows and 4 columns of pi which can be called using np.pi"
   ]
  },
  {
   "cell_type": "code",
   "execution_count": 13,
   "metadata": {
    "colab": {
     "base_uri": "https://localhost:8080/"
    },
    "executionInfo": {
     "elapsed": 7,
     "status": "ok",
     "timestamp": 1748464918959,
     "user": {
      "displayName": "Jacqueline Gunther",
      "userId": "09898809932311330039"
     },
     "user_tz": 240
    },
    "id": "zu4vdAGiKrOx",
    "outputId": "4a7cebdf-f376-4abe-e901-4fb16407158a"
   },
   "outputs": [
    {
     "data": {
      "text/plain": [
       "array([ 3,  6,  9, 12])"
      ]
     },
     "execution_count": 13,
     "metadata": {},
     "output_type": "execute_result"
    }
   ],
   "source": [
    "np.arange(3,15,3) # a range of numbers 3 to 15 (15 not included) but every third number"
   ]
  },
  {
   "cell_type": "code",
   "execution_count": 14,
   "metadata": {
    "colab": {
     "base_uri": "https://localhost:8080/"
    },
    "executionInfo": {
     "elapsed": 5,
     "status": "ok",
     "timestamp": 1748464918965,
     "user": {
      "displayName": "Jacqueline Gunther",
      "userId": "09898809932311330039"
     },
     "user_tz": 240
    },
    "id": "5KVPHv5nK5Qz",
    "outputId": "6eabf228-6d82-4af9-c384-c37fd7faa5b3"
   },
   "outputs": [
    {
     "name": "stdout",
     "output_type": "stream",
     "text": [
      "[0.  0.5 1.  1.5 2. ]\n",
      "[0.   0.25 0.5  0.75 1.   1.25 1.5  1.75 2.  ]\n"
     ]
    }
   ],
   "source": [
    "print(np.linspace(0,2,5)) # Numbers between 0 to 2, the 5 designates how many elements are in the array.\n",
    "print(np.linspace(0,2,9))"
   ]
  },
  {
   "cell_type": "code",
   "execution_count": 15,
   "metadata": {
    "colab": {
     "base_uri": "https://localhost:8080/"
    },
    "executionInfo": {
     "elapsed": 21,
     "status": "ok",
     "timestamp": 1748464918987,
     "user": {
      "displayName": "Jacqueline Gunther",
      "userId": "09898809932311330039"
     },
     "user_tz": 240
    },
    "id": "O9DX8kSuLsKm",
    "outputId": "fb47b6f3-15bf-408e-a9d1-ebada17971bb"
   },
   "outputs": [
    {
     "data": {
      "text/plain": [
       "array([[0.27834026, 0.56450938, 0.21636466, 0.08761401],\n",
       "       [0.27708575, 0.48608616, 0.20772353, 0.49020515],\n",
       "       [0.01361106, 0.76867988, 0.20564582, 0.14883304],\n",
       "       [0.77002819, 0.45450266, 0.92926583, 0.60247256]])"
      ]
     },
     "execution_count": 15,
     "metadata": {},
     "output_type": "execute_result"
    }
   ],
   "source": [
    "np.random.random((4,4)) # 4 rows and 4 columns of random numbers"
   ]
  },
  {
   "cell_type": "code",
   "execution_count": 16,
   "metadata": {
    "colab": {
     "base_uri": "https://localhost:8080/"
    },
    "executionInfo": {
     "elapsed": 31,
     "status": "ok",
     "timestamp": 1748464919019,
     "user": {
      "displayName": "Jacqueline Gunther",
      "userId": "09898809932311330039"
     },
     "user_tz": 240
    },
    "id": "_8mO7mJCM1PL",
    "outputId": "e33fe578-7b4a-4651-9be4-a5ee59e4f078"
   },
   "outputs": [
    {
     "data": {
      "text/plain": [
       "array([[-0.4064671 ,  0.04810654, -0.02737045, -0.95373503],\n",
       "       [-0.01175943,  0.34288371,  1.7619224 ,  2.15859758],\n",
       "       [ 0.67638779,  0.55775055, -2.95095402,  0.95829411],\n",
       "       [ 0.06968218,  0.41643647, -0.8269929 , -1.25217212]])"
      ]
     },
     "execution_count": 16,
     "metadata": {},
     "output_type": "execute_result"
    }
   ],
   "source": [
    "np.random.normal(0,1,(4,4)) # Random numbers from a normal distribution with a mean of 0 and a standard deviation of 1 for a 4x4 matrix."
   ]
  },
  {
   "cell_type": "code",
   "execution_count": 17,
   "metadata": {
    "colab": {
     "base_uri": "https://localhost:8080/"
    },
    "executionInfo": {
     "elapsed": 4,
     "status": "ok",
     "timestamp": 1748464919024,
     "user": {
      "displayName": "Jacqueline Gunther",
      "userId": "09898809932311330039"
     },
     "user_tz": 240
    },
    "id": "WHueOueoN3J8",
    "outputId": "096ccdb1-1c63-43c1-9a7f-a5ef0e8131a3"
   },
   "outputs": [
    {
     "data": {
      "text/plain": [
       "array([[ 8, 61,  5, 70],\n",
       "       [79, 67, 36, 54],\n",
       "       [13, 48, 51, 16],\n",
       "       [52, 74, 14, 46]])"
      ]
     },
     "execution_count": 17,
     "metadata": {},
     "output_type": "execute_result"
    }
   ],
   "source": [
    "np.random.randint(1,100,(4,4)) # Random integers between 1 and 100 for a 4x4 matrix."
   ]
  },
  {
   "cell_type": "code",
   "execution_count": 18,
   "metadata": {
    "colab": {
     "base_uri": "https://localhost:8080/"
    },
    "executionInfo": {
     "elapsed": 5,
     "status": "ok",
     "timestamp": 1748464919030,
     "user": {
      "displayName": "Jacqueline Gunther",
      "userId": "09898809932311330039"
     },
     "user_tz": 240
    },
    "id": "hm0oOXUPOBXN",
    "outputId": "82bb9b86-17b7-426b-8ea3-7b10b66186c7"
   },
   "outputs": [
    {
     "data": {
      "text/plain": [
       "array([[1., 0., 0., 0.],\n",
       "       [0., 1., 0., 0.],\n",
       "       [0., 0., 1., 0.],\n",
       "       [0., 0., 0., 1.]])"
      ]
     },
     "execution_count": 18,
     "metadata": {},
     "output_type": "execute_result"
    }
   ],
   "source": [
    "np.eye(4) # Identity Matrix"
   ]
  },
  {
   "cell_type": "code",
   "execution_count": 19,
   "metadata": {
    "colab": {
     "base_uri": "https://localhost:8080/"
    },
    "executionInfo": {
     "elapsed": 6,
     "status": "ok",
     "timestamp": 1748464919057,
     "user": {
      "displayName": "Jacqueline Gunther",
      "userId": "09898809932311330039"
     },
     "user_tz": 240
    },
    "id": "lIpGJvFGO48n",
    "outputId": "8def8115-56af-4a2d-9bbb-349196a592b9"
   },
   "outputs": [
    {
     "data": {
      "text/plain": [
       "array([1., 1., 1., 1.])"
      ]
     },
     "execution_count": 19,
     "metadata": {},
     "output_type": "execute_result"
    }
   ],
   "source": [
    "np.empty(4)"
   ]
  },
  {
   "cell_type": "markdown",
   "metadata": {
    "id": "eKnZZYU0Rl5j"
   },
   "source": [
    "# Data types in Numpy\n",
    "\n",
    "![image.png](data:image/png;base64,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)"
   ]
  },
  {
   "cell_type": "markdown",
   "metadata": {
    "id": "md2jRP-6ivTl"
   },
   "source": [
    "# Numpy Array Attributes"
   ]
  },
  {
   "cell_type": "code",
   "execution_count": 20,
   "metadata": {
    "colab": {
     "base_uri": "https://localhost:8080/"
    },
    "executionInfo": {
     "elapsed": 5,
     "status": "ok",
     "timestamp": 1748464919091,
     "user": {
      "displayName": "Jacqueline Gunther",
      "userId": "09898809932311330039"
     },
     "user_tz": 240
    },
    "id": "OWYVVCFkPB1R",
    "outputId": "295376b9-e5c3-464d-a63c-801bf829a22f"
   },
   "outputs": [
    {
     "name": "stdout",
     "output_type": "stream",
     "text": [
      "[51 92 14 71 60]\n",
      "\n",
      "\n",
      "[[20 82 86 74 74]\n",
      " [87 99 23  2 21]\n",
      " [52  1 87 29 37]]\n",
      "\n",
      "\n",
      "[[[ 1 63]\n",
      "  [59 20]\n",
      "  [32 75]\n",
      "  [57 21]\n",
      "  [88 48]]\n",
      "\n",
      " [[90 58]\n",
      "  [41 91]\n",
      "  [59 79]\n",
      "  [14 61]\n",
      "  [61 46]]\n",
      "\n",
      " [[61 50]\n",
      "  [54 63]\n",
      "  [ 2 50]\n",
      "  [ 6 20]\n",
      "  [72 38]]]\n"
     ]
    }
   ],
   "source": [
    "seed = np.random.RandomState(42)  # This gives a seed, which will makes sure you get the same answer every time you run this block of code.\n",
    "X = seed.randint(100, size=5)          # 1D array\n",
    "Y = seed.randint(100, size=(3, 5))     # 2D matrix\n",
    "Z = seed.randint(100, size=(3, 5, 2))  # 3D matrix\n",
    "print(X)\n",
    "print('\\n')  # I added these for easier viewing\n",
    "print(Y)\n",
    "print('\\n')\n",
    "print(Z)"
   ]
  },
  {
   "cell_type": "code",
   "execution_count": 21,
   "metadata": {
    "colab": {
     "base_uri": "https://localhost:8080/"
    },
    "executionInfo": {
     "elapsed": 27,
     "status": "ok",
     "timestamp": 1748464919118,
     "user": {
      "displayName": "Jacqueline Gunther",
      "userId": "09898809932311330039"
     },
     "user_tz": 240
    },
    "id": "03x7G95LjOJ7",
    "outputId": "f3b21e4c-f50c-4d1f-c186-6e263efd645d"
   },
   "outputs": [
    {
     "name": "stdout",
     "output_type": "stream",
     "text": [
      "Number of dimensions: 3\n",
      "Number of dimensions: (3, 5, 2)\n",
      "Number of dimensions: 30\n",
      "Number of dimensions: int64\n"
     ]
    }
   ],
   "source": [
    "print(\"Number of dimensions: \" + str(Z.ndim))   # Number of Dimensions\n",
    "print(\"Number of dimensions: \" + str(Z.shape))  # Length of each dimension of matrix\n",
    "print(\"Number of dimensions: \" + str(Z.size))   # Number of elements in matrix\n",
    "print(\"Number of dimensions: \" + str(Z.dtype))  # Type of data in matrix"
   ]
  },
  {
   "cell_type": "code",
   "execution_count": 22,
   "metadata": {
    "colab": {
     "base_uri": "https://localhost:8080/"
    },
    "executionInfo": {
     "elapsed": 20,
     "status": "ok",
     "timestamp": 1748464919139,
     "user": {
      "displayName": "Jacqueline Gunther",
      "userId": "09898809932311330039"
     },
     "user_tz": 240
    },
    "id": "2Xqju8JgYCuu",
    "outputId": "23d71783-c3fc-4069-8f66-7cee09112c2c"
   },
   "outputs": [
    {
     "data": {
      "text/plain": [
       "(3, 5, 2)"
      ]
     },
     "execution_count": 22,
     "metadata": {},
     "output_type": "execute_result"
    }
   ],
   "source": [
    "Z.shape"
   ]
  },
  {
   "cell_type": "code",
   "execution_count": 23,
   "metadata": {
    "colab": {
     "base_uri": "https://localhost:8080/"
    },
    "executionInfo": {
     "elapsed": 15,
     "status": "ok",
     "timestamp": 1748464919173,
     "user": {
      "displayName": "Jacqueline Gunther",
      "userId": "09898809932311330039"
     },
     "user_tz": 240
    },
    "id": "820LFWEtYGaq",
    "outputId": "c9236593-7af2-4ace-cceb-10b9ce6fe733"
   },
   "outputs": [
    {
     "name": "stdout",
     "output_type": "stream",
     "text": [
      "[51 92 14 71 60]\n",
      "51\n",
      "92\n",
      "[14 71]\n",
      "60\n",
      "[51 14]\n",
      "[51 71]\n",
      "[92 71]\n",
      "[60 71 14 92 51]\n"
     ]
    }
   ],
   "source": [
    "# Indexing (It is similar to lists, but look at the difference for multidimensional array.)\n",
    "print(X)\n",
    "print(X[0])\n",
    "print(X[1])\n",
    "print(X[2:4])\n",
    "print(X[-1])\n",
    "print(X[0:4:2])\n",
    "print(X[::3]) # Every third item\n",
    "print(X[1::2]) # Every 2nd starting at the 1 position.\n",
    "print(X[::-1]) # Reverse the array"
   ]
  },
  {
   "cell_type": "code",
   "execution_count": 24,
   "metadata": {
    "colab": {
     "base_uri": "https://localhost:8080/"
    },
    "executionInfo": {
     "elapsed": 22,
     "status": "ok",
     "timestamp": 1748464919196,
     "user": {
      "displayName": "Jacqueline Gunther",
      "userId": "09898809932311330039"
     },
     "user_tz": 240
    },
    "id": "peyb51IlaLXh",
    "outputId": "e157b81a-764d-41fc-b96a-d31cbff59109"
   },
   "outputs": [
    {
     "name": "stdout",
     "output_type": "stream",
     "text": [
      "[[20 82 86 74 74]\n",
      " [87 99 23  2 21]\n",
      " [52  1 87 29 37]]\n",
      "\n",
      "\n",
      "[20 82 86 74 74]\n",
      "20\n",
      "2\n",
      "37\n",
      "[[82 86]\n",
      " [99 23]]\n",
      "[[20 82 86]\n",
      " [87 99 23]]\n",
      "[[37 29 87  1 52]\n",
      " [21  2 23 99 87]\n",
      " [74 74 86 82 20]]\n"
     ]
    }
   ],
   "source": [
    "# Indexing 2D arrays\n",
    "print(Y); print('\\n')\n",
    "print(Y[0])          # Prints first row (position 0)\n",
    "print(Y[0, 0])\n",
    "print(Y[1, 3])\n",
    "print(Y[-1, -1])\n",
    "print(Y[0:2, 1:3])\n",
    "print(Y[:2, :3])\n",
    "print(Y[::-1, ::-1]) # All columns and rows are reversed."
   ]
  },
  {
   "cell_type": "code",
   "execution_count": 25,
   "metadata": {
    "colab": {
     "base_uri": "https://localhost:8080/"
    },
    "executionInfo": {
     "elapsed": 24,
     "status": "ok",
     "timestamp": 1748464919221,
     "user": {
      "displayName": "Jacqueline Gunther",
      "userId": "09898809932311330039"
     },
     "user_tz": 240
    },
    "id": "KgJTPM0iab3b",
    "outputId": "23837851-cbc6-4d1f-e432-821698eed7db"
   },
   "outputs": [
    {
     "name": "stdout",
     "output_type": "stream",
     "text": [
      "[[[ 1 63]\n",
      "  [59 20]\n",
      "  [32 75]\n",
      "  [57 21]\n",
      "  [88 48]]\n",
      "\n",
      " [[90 58]\n",
      "  [41 91]\n",
      "  [59 79]\n",
      "  [14 61]\n",
      "  [61 46]]\n",
      "\n",
      " [[61 50]\n",
      "  [54 63]\n",
      "  [ 2 50]\n",
      "  [ 6 20]\n",
      "  [72 38]]]\n",
      "\n",
      "\n",
      "1\n",
      "91\n"
     ]
    }
   ],
   "source": [
    "# Indexing 3D arrays\n",
    "print(Z); print('\\n')\n",
    "print(Z[0, 0, 0])\n",
    "print(Z[1, 1, 1])\n"
   ]
  },
  {
   "cell_type": "code",
   "execution_count": 26,
   "metadata": {
    "colab": {
     "base_uri": "https://localhost:8080/"
    },
    "executionInfo": {
     "elapsed": 4,
     "status": "ok",
     "timestamp": 1748464919226,
     "user": {
      "displayName": "Jacqueline Gunther",
      "userId": "09898809932311330039"
     },
     "user_tz": 240
    },
    "id": "tdE0FW0yj0v0",
    "outputId": "ae0ee473-4e76-4592-cb3a-d911d075202f"
   },
   "outputs": [
    {
     "name": "stdout",
     "output_type": "stream",
     "text": [
      "[ 2 92 14 71 60]\n"
     ]
    }
   ],
   "source": [
    "# Be careful!!  If you reassign an element it will take on the type of the array.\n",
    "X[0] = 2.5\n",
    "print(X)    # 2.5 will be truncate to 2 because X is an int type array."
   ]
  },
  {
   "cell_type": "markdown",
   "metadata": {
    "id": "eR27nhDTsb3h"
   },
   "source": [
    "## Subarrays"
   ]
  },
  {
   "cell_type": "code",
   "execution_count": 27,
   "metadata": {
    "colab": {
     "base_uri": "https://localhost:8080/"
    },
    "executionInfo": {
     "elapsed": 16,
     "status": "ok",
     "timestamp": 1748464919243,
     "user": {
      "displayName": "Jacqueline Gunther",
      "userId": "09898809932311330039"
     },
     "user_tz": 240
    },
    "id": "HKJYybTxnDuA",
    "outputId": "b227b74f-4a46-4a26-a7ff-fb523e9697cb"
   },
   "outputs": [
    {
     "name": "stdout",
     "output_type": "stream",
     "text": [
      "[[ 1  2  3  4]\n",
      " [ 5  6  7  8]\n",
      " [ 9 10 11 12]\n",
      " [13 14 15 16]]\n"
     ]
    }
   ],
   "source": [
    "num = [[1,2,3,4],     # This is a list\n",
    "    [5,6,7,8],\n",
    "    [9,10,11,12],\n",
    "    [13,14,15,16]]\n",
    "M = np.array(num)     # Create an array\n",
    "print(M)"
   ]
  },
  {
   "cell_type": "code",
   "execution_count": 28,
   "metadata": {
    "colab": {
     "base_uri": "https://localhost:8080/"
    },
    "executionInfo": {
     "elapsed": 7,
     "status": "ok",
     "timestamp": 1748464919251,
     "user": {
      "displayName": "Jacqueline Gunther",
      "userId": "09898809932311330039"
     },
     "user_tz": 240
    },
    "id": "3lymoBxktBxm",
    "outputId": "97588514-8765-4d46-b0a1-a344028a1761"
   },
   "outputs": [
    {
     "data": {
      "text/plain": [
       "array([[ 1,  2,  3],\n",
       "       [ 5,  6,  7],\n",
       "       [ 9, 10, 11]])"
      ]
     },
     "execution_count": 28,
     "metadata": {},
     "output_type": "execute_result"
    }
   ],
   "source": [
    "M_sub = M[:3,:3]\n",
    "M_sub"
   ]
  },
  {
   "cell_type": "code",
   "execution_count": 29,
   "metadata": {
    "colab": {
     "base_uri": "https://localhost:8080/"
    },
    "executionInfo": {
     "elapsed": 5,
     "status": "ok",
     "timestamp": 1748464919276,
     "user": {
      "displayName": "Jacqueline Gunther",
      "userId": "09898809932311330039"
     },
     "user_tz": 240
    },
    "id": "8qaISJfJtfBT",
    "outputId": "a25d526d-d567-4d69-e0e3-d5a28ab5a30b"
   },
   "outputs": [
    {
     "name": "stdout",
     "output_type": "stream",
     "text": [
      "[[999   2   3]\n",
      " [  5   6   7]\n",
      " [  9  10  11]]\n"
     ]
    }
   ],
   "source": [
    "M_sub[0,0]= 999\n",
    "print(M_sub)"
   ]
  },
  {
   "cell_type": "code",
   "execution_count": 30,
   "metadata": {
    "colab": {
     "base_uri": "https://localhost:8080/"
    },
    "executionInfo": {
     "elapsed": 23,
     "status": "ok",
     "timestamp": 1748464919300,
     "user": {
      "displayName": "Jacqueline Gunther",
      "userId": "09898809932311330039"
     },
     "user_tz": 240
    },
    "id": "4gSsE_sytt6G",
    "outputId": "90095c19-8179-469e-a664-b51e89f6c2b8"
   },
   "outputs": [
    {
     "name": "stdout",
     "output_type": "stream",
     "text": [
      "[[999   2   3   4]\n",
      " [  5   6   7   8]\n",
      " [  9  10  11  12]\n",
      " [ 13  14  15  16]]\n"
     ]
    }
   ],
   "source": [
    "print(M)    # The original matrix is also changed!!!"
   ]
  },
  {
   "cell_type": "code",
   "execution_count": 31,
   "metadata": {
    "colab": {
     "base_uri": "https://localhost:8080/"
    },
    "executionInfo": {
     "elapsed": 20,
     "status": "ok",
     "timestamp": 1748464919326,
     "user": {
      "displayName": "Jacqueline Gunther",
      "userId": "09898809932311330039"
     },
     "user_tz": 240
    },
    "id": "aXBKCe0StvU8",
    "outputId": "c7a39de5-5726-4f7c-e79f-5c0ab59ac78d"
   },
   "outputs": [
    {
     "data": {
      "text/plain": [
       "array([[999,   2,   3],\n",
       "       [  5,   6,   7],\n",
       "       [  9,  10,  11]])"
      ]
     },
     "execution_count": 31,
     "metadata": {},
     "output_type": "execute_result"
    }
   ],
   "source": [
    "M_sub2 = M[:3,:3].copy()  # You need to use copy (like a list).\n",
    "M_sub2"
   ]
  },
  {
   "cell_type": "code",
   "execution_count": 32,
   "metadata": {
    "colab": {
     "base_uri": "https://localhost:8080/"
    },
    "executionInfo": {
     "elapsed": 30,
     "status": "ok",
     "timestamp": 1748464919357,
     "user": {
      "displayName": "Jacqueline Gunther",
      "userId": "09898809932311330039"
     },
     "user_tz": 240
    },
    "id": "VhsGc5BDuEk6",
    "outputId": "3812de62-bbb5-43f6-a252-6602d59bf798"
   },
   "outputs": [
    {
     "name": "stdout",
     "output_type": "stream",
     "text": [
      "[[ 0  2  3]\n",
      " [ 5  6  7]\n",
      " [ 9 10 11]]\n"
     ]
    }
   ],
   "source": [
    "M_sub2[0,0]=0\n",
    "print(M_sub2)"
   ]
  },
  {
   "cell_type": "code",
   "execution_count": 33,
   "metadata": {
    "colab": {
     "base_uri": "https://localhost:8080/"
    },
    "executionInfo": {
     "elapsed": 5,
     "status": "ok",
     "timestamp": 1748464919364,
     "user": {
      "displayName": "Jacqueline Gunther",
      "userId": "09898809932311330039"
     },
     "user_tz": 240
    },
    "id": "IhIM9pkpuLOm",
    "outputId": "ab745222-253c-41fe-f737-7cfc586db230"
   },
   "outputs": [
    {
     "data": {
      "text/plain": [
       "array([[999,   2,   3,   4],\n",
       "       [  5,   6,   7,   8],\n",
       "       [  9,  10,  11,  12],\n",
       "       [ 13,  14,  15,  16]])"
      ]
     },
     "execution_count": 33,
     "metadata": {},
     "output_type": "execute_result"
    }
   ],
   "source": [
    "M   # The original matrix has not changed."
   ]
  },
  {
   "cell_type": "markdown",
   "metadata": {
    "id": "DQfsqF7IuWuU"
   },
   "source": [
    "## Reshaping of Arrays"
   ]
  },
  {
   "cell_type": "code",
   "execution_count": 34,
   "metadata": {
    "colab": {
     "base_uri": "https://localhost:8080/"
    },
    "executionInfo": {
     "elapsed": 4,
     "status": "ok",
     "timestamp": 1748464919380,
     "user": {
      "displayName": "Jacqueline Gunther",
      "userId": "09898809932311330039"
     },
     "user_tz": 240
    },
    "id": "UlPRqPaBuMsY",
    "outputId": "32ffb151-6506-4388-c89c-8e4aa52a9f9a"
   },
   "outputs": [
    {
     "name": "stdout",
     "output_type": "stream",
     "text": [
      "[1 2 3 4 5 6 7 8 9]\n"
     ]
    }
   ],
   "source": [
    "V = np.arange(1,10)\n",
    "print(V)"
   ]
  },
  {
   "cell_type": "code",
   "execution_count": 35,
   "metadata": {
    "colab": {
     "base_uri": "https://localhost:8080/"
    },
    "executionInfo": {
     "elapsed": 6,
     "status": "ok",
     "timestamp": 1748464919388,
     "user": {
      "displayName": "Jacqueline Gunther",
      "userId": "09898809932311330039"
     },
     "user_tz": 240
    },
    "id": "2f7IYRimu4f9",
    "outputId": "165360ed-0c15-43a1-b9ef-e996cec02385"
   },
   "outputs": [
    {
     "data": {
      "text/plain": [
       "array([[1, 2, 3],\n",
       "       [4, 5, 6],\n",
       "       [7, 8, 9]])"
      ]
     },
     "execution_count": 35,
     "metadata": {},
     "output_type": "execute_result"
    }
   ],
   "source": [
    "V.reshape(3,3)"
   ]
  },
  {
   "cell_type": "code",
   "execution_count": 36,
   "metadata": {
    "colab": {
     "base_uri": "https://localhost:8080/"
    },
    "executionInfo": {
     "elapsed": 38,
     "status": "ok",
     "timestamp": 1748464919427,
     "user": {
      "displayName": "Jacqueline Gunther",
      "userId": "09898809932311330039"
     },
     "user_tz": 240
    },
    "id": "0no0FrnuvrCM",
    "outputId": "740f4057-62e1-4af8-b360-453c82db1280"
   },
   "outputs": [
    {
     "name": "stdout",
     "output_type": "stream",
     "text": [
      "[1 2 3 4 5 6 7 8 9]\n"
     ]
    }
   ],
   "source": [
    "print(V)  # The reshape remains without reassigning."
   ]
  },
  {
   "cell_type": "code",
   "execution_count": 37,
   "metadata": {
    "colab": {
     "base_uri": "https://localhost:8080/"
    },
    "executionInfo": {
     "elapsed": 6,
     "status": "ok",
     "timestamp": 1748464919434,
     "user": {
      "displayName": "Jacqueline Gunther",
      "userId": "09898809932311330039"
     },
     "user_tz": 240
    },
    "id": "oDR4rBu2u7oS",
    "outputId": "7c67b081-3683-4f88-de28-8558aca73e7d"
   },
   "outputs": [
    {
     "name": "stdout",
     "output_type": "stream",
     "text": [
      "[[1 2 3]\n",
      " [4 5 6]\n",
      " [7 8 9]]\n"
     ]
    }
   ],
   "source": [
    "# Can create matrix in one line.\n",
    "V = np.arange(1,10).reshape(3,3)\n",
    "print(V)"
   ]
  },
  {
   "cell_type": "code",
   "execution_count": 38,
   "metadata": {
    "colab": {
     "base_uri": "https://localhost:8080/"
    },
    "executionInfo": {
     "elapsed": 5,
     "status": "ok",
     "timestamp": 1748464919440,
     "user": {
      "displayName": "Jacqueline Gunther",
      "userId": "09898809932311330039"
     },
     "user_tz": 240
    },
    "id": "tzc0Uax1u9_W",
    "outputId": "32ac1b78-d9b9-48c4-e204-83617ea4554e"
   },
   "outputs": [
    {
     "name": "stdout",
     "output_type": "stream",
     "text": [
      "[0 1 2]\n"
     ]
    },
    {
     "data": {
      "text/plain": [
       "array([[0],\n",
       "       [1],\n",
       "       [2]])"
      ]
     },
     "execution_count": 38,
     "metadata": {},
     "output_type": "execute_result"
    }
   ],
   "source": [
    "U = np.array([0,1,2])\n",
    "print(U)\n",
    "U.reshape((3,1))  # Turns array row into a column\n"
   ]
  },
  {
   "cell_type": "markdown",
   "metadata": {
    "id": "0RoXf12dQZON"
   },
   "source": [
    "## Concatenate Arrays"
   ]
  },
  {
   "cell_type": "code",
   "execution_count": 39,
   "metadata": {
    "colab": {
     "base_uri": "https://localhost:8080/"
    },
    "executionInfo": {
     "elapsed": 4,
     "status": "ok",
     "timestamp": 1748464919445,
     "user": {
      "displayName": "Jacqueline Gunther",
      "userId": "09898809932311330039"
     },
     "user_tz": 240
    },
    "id": "3dWkFU7eTLTC",
    "outputId": "9c732d03-4e74-4a92-b0bf-5a88aefc6d6b"
   },
   "outputs": [
    {
     "data": {
      "text/plain": [
       "array([1, 2, 3, 4, 5, 6])"
      ]
     },
     "execution_count": 39,
     "metadata": {},
     "output_type": "execute_result"
    }
   ],
   "source": [
    "a1 = np.array([1,2,3])\n",
    "a2 = np.array([4,5,6])\n",
    "np.concatenate([a1,a2])"
   ]
  },
  {
   "cell_type": "code",
   "execution_count": 40,
   "metadata": {
    "colab": {
     "base_uri": "https://localhost:8080/"
    },
    "executionInfo": {
     "elapsed": 19,
     "status": "ok",
     "timestamp": 1748464919465,
     "user": {
      "displayName": "Jacqueline Gunther",
      "userId": "09898809932311330039"
     },
     "user_tz": 240
    },
    "id": "jwRDj49RQoMu",
    "outputId": "078cab60-2b76-4798-93be-88d6194b5732"
   },
   "outputs": [
    {
     "data": {
      "text/plain": [
       "array([1, 2, 3, 4, 5, 6, 0, 0, 0])"
      ]
     },
     "execution_count": 40,
     "metadata": {},
     "output_type": "execute_result"
    }
   ],
   "source": [
    "a3 = np.array([0,0,0])\n",
    "np.concatenate([a1,a2,a3])  # Can concate more than one."
   ]
  },
  {
   "cell_type": "code",
   "execution_count": 41,
   "metadata": {
    "colab": {
     "base_uri": "https://localhost:8080/"
    },
    "executionInfo": {
     "elapsed": 24,
     "status": "ok",
     "timestamp": 1748464919490,
     "user": {
      "displayName": "Jacqueline Gunther",
      "userId": "09898809932311330039"
     },
     "user_tz": 240
    },
    "id": "7CpYREshQxbu",
    "outputId": "72d6a1e6-e007-4c5e-ffbe-52da3b525077"
   },
   "outputs": [
    {
     "data": {
      "text/plain": [
       "array([[1, 2, 3],\n",
       "       [4, 5, 6],\n",
       "       [1, 2, 3],\n",
       "       [4, 5, 6]])"
      ]
     },
     "execution_count": 41,
     "metadata": {},
     "output_type": "execute_result"
    }
   ],
   "source": [
    "a_2d = np.array([[1,2,3],\n",
    "                [4,5,6]])\n",
    "\n",
    "np.concatenate([a_2d,a_2d])"
   ]
  },
  {
   "cell_type": "code",
   "execution_count": 42,
   "metadata": {
    "colab": {
     "base_uri": "https://localhost:8080/"
    },
    "executionInfo": {
     "elapsed": 5,
     "status": "ok",
     "timestamp": 1748464919496,
     "user": {
      "displayName": "Jacqueline Gunther",
      "userId": "09898809932311330039"
     },
     "user_tz": 240
    },
    "id": "WG60vlVKRL9S",
    "outputId": "204ed109-0be5-4f83-da86-20c5fd8ad467"
   },
   "outputs": [
    {
     "data": {
      "text/plain": [
       "array([[1, 2, 3, 1, 2, 3],\n",
       "       [4, 5, 6, 4, 5, 6]])"
      ]
     },
     "execution_count": 42,
     "metadata": {},
     "output_type": "execute_result"
    }
   ],
   "source": [
    "a_2d = np.array([[1,2,3],\n",
    "                [4,5,6]])\n",
    "\n",
    "np.concatenate([a_2d,a_2d],axis=1)  # You can determine how the arrays are combined."
   ]
  },
  {
   "cell_type": "code",
   "execution_count": 43,
   "metadata": {
    "colab": {
     "base_uri": "https://localhost:8080/"
    },
    "executionInfo": {
     "elapsed": 7,
     "status": "ok",
     "timestamp": 1748464919504,
     "user": {
      "displayName": "Jacqueline Gunther",
      "userId": "09898809932311330039"
     },
     "user_tz": 240
    },
    "id": "KOHNC-EERWfn",
    "outputId": "c2fe090a-bd90-4d6d-ecaa-79bd7463cdc3"
   },
   "outputs": [
    {
     "data": {
      "text/plain": [
       "array([[1, 2, 3],\n",
       "       [1, 2, 3],\n",
       "       [4, 5, 6]])"
      ]
     },
     "execution_count": 43,
     "metadata": {},
     "output_type": "execute_result"
    }
   ],
   "source": [
    "# vertically stack\n",
    "np.vstack([a1,a_2d])"
   ]
  },
  {
   "cell_type": "code",
   "execution_count": 44,
   "metadata": {
    "colab": {
     "base_uri": "https://localhost:8080/"
    },
    "executionInfo": {
     "elapsed": 30,
     "status": "ok",
     "timestamp": 1748464919539,
     "user": {
      "displayName": "Jacqueline Gunther",
      "userId": "09898809932311330039"
     },
     "user_tz": 240
    },
    "id": "qef9jGPDaki0",
    "outputId": "9878dcb9-42ab-4bc8-a87f-4a0f67aa5fad"
   },
   "outputs": [
    {
     "data": {
      "text/plain": [
       "array([[1, 2, 3, 0],\n",
       "       [4, 5, 6, 0]])"
      ]
     },
     "execution_count": 44,
     "metadata": {},
     "output_type": "execute_result"
    }
   ],
   "source": [
    "# horizontal stack\n",
    "a4 = np.array([[0],\n",
    "               [0]])\n",
    "\n",
    "np.hstack([a_2d,a4])"
   ]
  },
  {
   "cell_type": "markdown",
   "metadata": {
    "id": "bgLfhVn2a4WR"
   },
   "source": [
    "## Splitting of Arrays"
   ]
  },
  {
   "cell_type": "code",
   "execution_count": 45,
   "metadata": {
    "colab": {
     "base_uri": "https://localhost:8080/"
    },
    "executionInfo": {
     "elapsed": 24,
     "status": "ok",
     "timestamp": 1748464919564,
     "user": {
      "displayName": "Jacqueline Gunther",
      "userId": "09898809932311330039"
     },
     "user_tz": 240
    },
    "id": "PRAsE66Ma1iW",
    "outputId": "4d401515-5cf9-493a-e40a-f072bf19d543"
   },
   "outputs": [
    {
     "name": "stdout",
     "output_type": "stream",
     "text": [
      "[1 2 3] [11 12 13] [21 22 23]\n",
      "[1 2] [ 3 11] [12 13 21 22 23]\n"
     ]
    }
   ],
   "source": [
    "V = [1,2,3,11,12,13,21,22,23]\n",
    "\n",
    "v1, v2, v3 = np.split(V,[3,6]) # Split at location 3 and 6\n",
    "print(v1,v2,v3)\n",
    "v1, v2, v3 = np.split(V,[2,4]) # Split at location 2 and 4\n",
    "print(v1,v2,v3)"
   ]
  },
  {
   "cell_type": "code",
   "execution_count": 46,
   "metadata": {
    "colab": {
     "base_uri": "https://localhost:8080/"
    },
    "executionInfo": {
     "elapsed": 7,
     "status": "ok",
     "timestamp": 1748464919572,
     "user": {
      "displayName": "Jacqueline Gunther",
      "userId": "09898809932311330039"
     },
     "user_tz": 240
    },
    "id": "7_PMuGLcba0W",
    "outputId": "fa80d2e6-3145-4305-dcf2-4ed31213a5fd"
   },
   "outputs": [
    {
     "name": "stdout",
     "output_type": "stream",
     "text": [
      "[[ 0  1  2  3  4  5]\n",
      " [ 6  7  8  9 10 11]\n",
      " [12 13 14 15 16 17]\n",
      " [18 19 20 21 22 23]\n",
      " [24 25 26 27 28 29]\n",
      " [30 31 32 33 34 35]]\n"
     ]
    }
   ],
   "source": [
    "MM = np.arange(36).reshape(6,6)\n",
    "print(MM)"
   ]
  },
  {
   "cell_type": "code",
   "execution_count": 47,
   "metadata": {
    "colab": {
     "base_uri": "https://localhost:8080/"
    },
    "executionInfo": {
     "elapsed": 5,
     "status": "ok",
     "timestamp": 1748464919579,
     "user": {
      "displayName": "Jacqueline Gunther",
      "userId": "09898809932311330039"
     },
     "user_tz": 240
    },
    "id": "evRKFsrLbwXK",
    "outputId": "de4f8989-0c9e-457b-8f0b-80883f014314"
   },
   "outputs": [
    {
     "name": "stdout",
     "output_type": "stream",
     "text": [
      "[[ 0  1  2  3  4  5]\n",
      " [ 6  7  8  9 10 11]\n",
      " [12 13 14 15 16 17]\n",
      " [18 19 20 21 22 23]]\n",
      "\n",
      "\n",
      "[[24 25 26 27 28 29]\n",
      " [30 31 32 33 34 35]]\n"
     ]
    }
   ],
   "source": [
    "top, bottom = np.vsplit(MM,[4]) # Split vertically at position 4\n",
    "print(top)\n",
    "print('\\n')  # Separator to view matrices better.\n",
    "print(bottom)"
   ]
  },
  {
   "cell_type": "code",
   "execution_count": 48,
   "metadata": {
    "colab": {
     "base_uri": "https://localhost:8080/"
    },
    "executionInfo": {
     "elapsed": 5,
     "status": "ok",
     "timestamp": 1748464919606,
     "user": {
      "displayName": "Jacqueline Gunther",
      "userId": "09898809932311330039"
     },
     "user_tz": 240
    },
    "id": "dDdVo0Mic37l",
    "outputId": "048b631d-fea3-466a-9ea5-d576bbace2eb"
   },
   "outputs": [
    {
     "name": "stdout",
     "output_type": "stream",
     "text": [
      "[[ 0  1]\n",
      " [ 6  7]\n",
      " [12 13]\n",
      " [18 19]\n",
      " [24 25]\n",
      " [30 31]]\n",
      "\n",
      "\n",
      "[[ 2  3  4  5]\n",
      " [ 8  9 10 11]\n",
      " [14 15 16 17]\n",
      " [20 21 22 23]\n",
      " [26 27 28 29]\n",
      " [32 33 34 35]]\n"
     ]
    }
   ],
   "source": [
    "left, right = np.hsplit(MM,[2]) # Split horizontally at position 2\n",
    "print(left)\n",
    "print('\\n')  # Separator to view matrices better.\n",
    "print(right)"
   ]
  },
  {
   "cell_type": "markdown",
   "metadata": {
    "id": "H8z6wcpqdfiW"
   },
   "source": [
    "# Computation on NumPy Arrays"
   ]
  },
  {
   "cell_type": "code",
   "execution_count": 49,
   "metadata": {
    "colab": {
     "base_uri": "https://localhost:8080/"
    },
    "executionInfo": {
     "elapsed": 5,
     "status": "ok",
     "timestamp": 1748464919612,
     "user": {
      "displayName": "Jacqueline Gunther",
      "userId": "09898809932311330039"
     },
     "user_tz": 240
    },
    "id": "2IsMNizGdXxn",
    "outputId": "fcf60f3e-25bc-48ab-a7b5-f6080a40044e"
   },
   "outputs": [
    {
     "name": "stdout",
     "output_type": "stream",
     "text": [
      "[3 4 5]\n",
      "[2 4 6]\n",
      "[0.5 1.  1.5]\n",
      "[0 1 1]\n",
      "[1 4 9]\n"
     ]
    }
   ],
   "source": [
    "# Can undergo simple operations\n",
    "num_arr = np.array([1,2,3])\n",
    "\n",
    "print(num_arr+2)\n",
    "print(num_arr*2)\n",
    "print(num_arr/2)\n",
    "print(num_arr//2)\n",
    "print(num_arr**2)"
   ]
  },
  {
   "cell_type": "code",
   "execution_count": 50,
   "metadata": {
    "colab": {
     "base_uri": "https://localhost:8080/"
    },
    "executionInfo": {
     "elapsed": 5,
     "status": "ok",
     "timestamp": 1748464919619,
     "user": {
      "displayName": "Jacqueline Gunther",
      "userId": "09898809932311330039"
     },
     "user_tz": 240
    },
    "id": "03cSgWguXUzs",
    "outputId": "5c03d3c1-59c7-49a3-f927-abb1d5443b9a"
   },
   "outputs": [
    {
     "name": "stdout",
     "output_type": "stream",
     "text": [
      "[1, 2, 3, 1, 2, 3]\n"
     ]
    }
   ],
   "source": [
    "# This is dfferent from lists\n",
    "print([1,2,3]*2)    # The doubles the length of the list\n",
    "# print([1,2,3]+2)  # This does not work"
   ]
  },
  {
   "cell_type": "code",
   "execution_count": 51,
   "metadata": {
    "colab": {
     "base_uri": "https://localhost:8080/"
    },
    "executionInfo": {
     "elapsed": 5,
     "status": "ok",
     "timestamp": 1748464919645,
     "user": {
      "displayName": "Jacqueline Gunther",
      "userId": "09898809932311330039"
     },
     "user_tz": 240
    },
    "id": "eUfiuBpbXhgB",
    "outputId": "3e8c0128-1468-43ae-c42e-d32f5b8757ab"
   },
   "outputs": [
    {
     "data": {
      "text/plain": [
       "array([ 8, 14, 22])"
      ]
     },
     "execution_count": 51,
     "metadata": {},
     "output_type": "execute_result"
    }
   ],
   "source": [
    "# You can create longer equations\n",
    "num_arr = np.array([1,2,3])\n",
    "\n",
    "num_arr**2 + num_arr*3+4"
   ]
  },
  {
   "cell_type": "code",
   "execution_count": 52,
   "metadata": {
    "colab": {
     "base_uri": "https://localhost:8080/"
    },
    "executionInfo": {
     "elapsed": 7,
     "status": "ok",
     "timestamp": 1748464919654,
     "user": {
      "displayName": "Jacqueline Gunther",
      "userId": "09898809932311330039"
     },
     "user_tz": 240
    },
    "id": "QVNNVSqWYOiV",
    "outputId": "e4095278-57ca-4a0f-bc55-270fde9e90ee"
   },
   "outputs": [
    {
     "name": "stdout",
     "output_type": "stream",
     "text": [
      "[3 4 5]\n",
      "[2 4 6]\n",
      "[0.5 1.  1.5]\n",
      "[0 1 1]\n",
      "[1 4 9]\n"
     ]
    }
   ],
   "source": [
    "# You can use built in numpy operations as well\n",
    "num_arr = np.array([1,2,3])\n",
    "\n",
    "print(np.add(num_arr,2))\n",
    "print(np.multiply(num_arr,2))\n",
    "print(np.divide(num_arr,2))\n",
    "print(np.floor_divide(num_arr,2))\n",
    "print(np.power(num_arr,2))"
   ]
  },
  {
   "cell_type": "code",
   "execution_count": 53,
   "metadata": {
    "colab": {
     "base_uri": "https://localhost:8080/"
    },
    "executionInfo": {
     "elapsed": 19,
     "status": "ok",
     "timestamp": 1748464919707,
     "user": {
      "displayName": "Jacqueline Gunther",
      "userId": "09898809932311330039"
     },
     "user_tz": 240
    },
    "id": "TnHlmIliY95D",
    "outputId": "5b7ec0b0-5ddb-4d27-dd68-6f3c2b678fd8"
   },
   "outputs": [
    {
     "name": "stdout",
     "output_type": "stream",
     "text": [
      "3.141592653589793\n",
      "2.718281828459045\n",
      "0.5772156649015329\n"
     ]
    }
   ],
   "source": [
    "# Constants: Numpy as different constants for easy use\n",
    "\n",
    "print(np.pi)\n",
    "print(np.e)\n",
    "print(np.euler_gamma)"
   ]
  },
  {
   "cell_type": "code",
   "execution_count": 54,
   "metadata": {
    "colab": {
     "base_uri": "https://localhost:8080/"
    },
    "executionInfo": {
     "elapsed": 10,
     "status": "ok",
     "timestamp": 1748464919720,
     "user": {
      "displayName": "Jacqueline Gunther",
      "userId": "09898809932311330039"
     },
     "user_tz": 240
    },
    "id": "vJk9s3kDZNjH",
    "outputId": "0dfef299-9365-4487-94f7-ca990ad2b72f"
   },
   "outputs": [
    {
     "name": "stdout",
     "output_type": "stream",
     "text": [
      "12.0\n",
      "1.0\n",
      "8\n",
      "[ 2.71828183  7.3890561  20.08553692]\n",
      "2.0\n",
      "6.643856189774724\n"
     ]
    }
   ],
   "source": [
    "# There are also other functoins that can be called.\n",
    "print(np.sqrt(144))\n",
    "print(np.sin(0.5*np.pi)) # and other trigonometric functions (cos, tan, arcsin, arccose, arctan, etc.)\n",
    "print(np.abs(-8))\n",
    "print(np.exp(np.array([1,2,3])))\n",
    "print(np.log10(100))\n",
    "print(np.log2(100))\n"
   ]
  },
  {
   "cell_type": "markdown",
   "metadata": {
    "id": "knp7po4wgj_W"
   },
   "source": [
    "There are many many more functions. Here is a list of them:\n",
    "\n",
    "\n",
    "https://numpy.org/doc/stable/reference/routines.math.html"
   ]
  },
  {
   "cell_type": "code",
   "execution_count": 55,
   "metadata": {
    "colab": {
     "base_uri": "https://localhost:8080/"
    },
    "executionInfo": {
     "elapsed": 6,
     "status": "ok",
     "timestamp": 1748464919727,
     "user": {
      "displayName": "Jacqueline Gunther",
      "userId": "09898809932311330039"
     },
     "user_tz": 240
    },
    "id": "2_M0Vl3faINA",
    "outputId": "d665d720-2325-4b30-b716-d764d4542b19"
   },
   "outputs": [
    {
     "name": "stdout",
     "output_type": "stream",
     "text": [
      "[ 0. 10. 20.]\n"
     ]
    }
   ],
   "source": [
    "num = np.arange(3)\n",
    "num2 = np.empty(3)\n",
    "np.multiply(num,10,out=num2)\n",
    "print(num2)"
   ]
  },
  {
   "cell_type": "code",
   "execution_count": 56,
   "metadata": {
    "colab": {
     "base_uri": "https://localhost:8080/"
    },
    "executionInfo": {
     "elapsed": 18,
     "status": "ok",
     "timestamp": 1748464919746,
     "user": {
      "displayName": "Jacqueline Gunther",
      "userId": "09898809932311330039"
     },
     "user_tz": 240
    },
    "id": "lJycrt2YhPC_",
    "outputId": "0a38ab42-2488-43d3-841f-0de21332f5a1"
   },
   "outputs": [
    {
     "name": "stdout",
     "output_type": "stream",
     "text": [
      "[10.  0. 11.  0. 12.  0.]\n"
     ]
    }
   ],
   "source": [
    "num = np.arange(3)\n",
    "num3 = np.zeros(6)\n",
    "np.add(num,10,out=num3[::2])  # Places answer every other location\n",
    "print(num3)"
   ]
  },
  {
   "cell_type": "code",
   "execution_count": 57,
   "metadata": {
    "colab": {
     "base_uri": "https://localhost:8080/"
    },
    "executionInfo": {
     "elapsed": 11,
     "status": "ok",
     "timestamp": 1748464919758,
     "user": {
      "displayName": "Jacqueline Gunther",
      "userId": "09898809932311330039"
     },
     "user_tz": 240
    },
    "id": "f60I_jPdiEzw",
    "outputId": "a150e223-0ff9-4bb2-f74a-a04ead96ad2a"
   },
   "outputs": [
    {
     "name": "stdout",
     "output_type": "stream",
     "text": [
      "55\n",
      "3628800\n"
     ]
    }
   ],
   "source": [
    "print(np.add.reduce(np.arange(1,11)))  # sums up all the numbers in an array\n",
    "# can be used with other functions to get a single answer.\n",
    "print(np.multiply.reduce(np.arange(1,11)))"
   ]
  },
  {
   "cell_type": "code",
   "execution_count": 58,
   "metadata": {
    "colab": {
     "base_uri": "https://localhost:8080/"
    },
    "executionInfo": {
     "elapsed": 5,
     "status": "ok",
     "timestamp": 1748464919764,
     "user": {
      "displayName": "Jacqueline Gunther",
      "userId": "09898809932311330039"
     },
     "user_tz": 240
    },
    "id": "orTnwA20kEuB",
    "outputId": "c38d9575-2c7b-4647-f38d-58bfb8fac056"
   },
   "outputs": [
    {
     "name": "stdout",
     "output_type": "stream",
     "text": [
      "[ 1  3  6 10 15 21 28 36 45 55]\n",
      "[      1       2       6      24     120     720    5040   40320  362880\n",
      " 3628800]\n"
     ]
    }
   ],
   "source": [
    "# to see each step use accumulate\n",
    "print(np.add.accumulate(np.arange(1,11)))\n",
    "print(np.multiply.accumulate(np.arange(1,11)))"
   ]
  },
  {
   "cell_type": "code",
   "execution_count": 59,
   "metadata": {
    "colab": {
     "base_uri": "https://localhost:8080/"
    },
    "executionInfo": {
     "elapsed": 5,
     "status": "ok",
     "timestamp": 1748464919770,
     "user": {
      "displayName": "Jacqueline Gunther",
      "userId": "09898809932311330039"
     },
     "user_tz": 240
    },
    "id": "2lWDdp6tkZBQ",
    "outputId": "0d4f1b00-73c5-4fce-d533-6d1dac4e0cff"
   },
   "outputs": [
    {
     "data": {
      "text/plain": [
       "array([[ 1,  2,  3],\n",
       "       [ 2,  4,  6],\n",
       "       [ 3,  6,  9],\n",
       "       [ 4,  8, 12]])"
      ]
     },
     "execution_count": 59,
     "metadata": {},
     "output_type": "execute_result"
    }
   ],
   "source": [
    "# Createing Outer Products\n",
    "mult1 = np.arange(1,5)\n",
    "mult2 = np.arange(1,4)\n",
    "np.multiply.outer(mult1,mult2)  # multiply each element of one array with each element of another array.  Can be used with sum, divide, ect."
   ]
  },
  {
   "cell_type": "markdown",
   "metadata": {
    "id": "R1D0ZOnibJ2V"
   },
   "source": [
    "# Aggregations"
   ]
  },
  {
   "cell_type": "code",
   "execution_count": 60,
   "metadata": {
    "executionInfo": {
     "elapsed": 1,
     "status": "ok",
     "timestamp": 1748464919772,
     "user": {
      "displayName": "Jacqueline Gunther",
      "userId": "09898809932311330039"
     },
     "user_tz": 240
    },
    "id": "o2W4saowZ91C"
   },
   "outputs": [],
   "source": [
    "# Create a seed and a random array\n",
    "\n",
    "rng = np.random.default_rng(seed=42) # creates a random number generator; it is seeded for reproducibility.\n",
    "\n",
    "values = rng.normal(loc = 0, scale = 1, size = 1000) # 1000 normally distributed numbers with a mean of 0 and standard deviation of 1\n"
   ]
  },
  {
   "cell_type": "code",
   "execution_count": 61,
   "metadata": {
    "colab": {
     "base_uri": "https://localhost:8080/"
    },
    "executionInfo": {
     "elapsed": 21,
     "status": "ok",
     "timestamp": 1748464919794,
     "user": {
      "displayName": "Jacqueline Gunther",
      "userId": "09898809932311330039"
     },
     "user_tz": 240
    },
    "id": "FvxLJ9M3bkSD",
    "outputId": "aedd7e18-7307-4ba6-a7e8-43d7d14aa1c9"
   },
   "outputs": [
    {
     "name": "stdout",
     "output_type": "stream",
     "text": [
      "-0.028891550995946837\n",
      "0.988722355396508\n",
      "-3.6484128252147836\n",
      "3.1788536793675353\n"
     ]
    }
   ],
   "source": [
    "print(values.mean()) # Close to 0\n",
    "print(values.std())  # Close to 1\n",
    "print(values.min())\n",
    "print(values.max())"
   ]
  },
  {
   "cell_type": "code",
   "execution_count": 62,
   "metadata": {
    "colab": {
     "base_uri": "https://localhost:8080/"
    },
    "executionInfo": {
     "elapsed": 6,
     "status": "ok",
     "timestamp": 1748464919801,
     "user": {
      "displayName": "Jacqueline Gunther",
      "userId": "09898809932311330039"
     },
     "user_tz": 240
    },
    "id": "CzjOqOCngobw",
    "outputId": "ef933f4b-e812-4863-a967-9eb393d9983a"
   },
   "outputs": [
    {
     "name": "stdout",
     "output_type": "stream",
     "text": [
      "[[2 6 4 4 7]\n",
      " [4 5 4 3 2]\n",
      " [8 1 3 7 2]]\n"
     ]
    }
   ],
   "source": [
    "# Multidimensional Aggregates\n",
    "\n",
    "mat = rng.integers(1,10,(3,5))\n",
    "print(mat)"
   ]
  },
  {
   "cell_type": "code",
   "execution_count": 63,
   "metadata": {
    "colab": {
     "base_uri": "https://localhost:8080/"
    },
    "executionInfo": {
     "elapsed": 21,
     "status": "ok",
     "timestamp": 1748464919831,
     "user": {
      "displayName": "Jacqueline Gunther",
      "userId": "09898809932311330039"
     },
     "user_tz": 240
    },
    "id": "tVC3_m6Aor3z",
    "outputId": "cebe2e49-6e65-47a2-dca2-a3fb655e400a"
   },
   "outputs": [
    {
     "name": "stdout",
     "output_type": "stream",
     "text": [
      "62\n",
      "1\n",
      "[2 1 3 3 2]\n",
      "[2 2 1]\n"
     ]
    }
   ],
   "source": [
    "print(mat.sum())\n",
    "print(mat.min())\n",
    "print(mat.min(axis = 0))  # Minimum for each column\n",
    "print(mat.min(axis = 1))  # minimu for each row"
   ]
  },
  {
   "cell_type": "markdown",
   "metadata": {
    "id": "W8x7xhsoUgSe"
   },
   "source": [
    "## Aggregation Functions"
   ]
  },
  {
   "cell_type": "code",
   "execution_count": 64,
   "metadata": {
    "colab": {
     "base_uri": "https://localhost:8080/"
    },
    "executionInfo": {
     "elapsed": 12,
     "status": "ok",
     "timestamp": 1748464919844,
     "user": {
      "displayName": "Jacqueline Gunther",
      "userId": "09898809932311330039"
     },
     "user_tz": 240
    },
    "id": "wlzo0mPNpBcr",
    "outputId": "be4bfcf3-b488-4104-ce5a-5cae459e996f"
   },
   "outputs": [
    {
     "name": "stdout",
     "output_type": "stream",
     "text": [
      "[[ 1  2  3  4  5]\n",
      " [ 6  7  8  9 10]]\n"
     ]
    }
   ],
   "source": [
    "M = np.array([[1,2,3,4,5],\n",
    "             [6,7,8,9,10]])\n",
    "print(M)"
   ]
  },
  {
   "cell_type": "code",
   "execution_count": 65,
   "metadata": {
    "colab": {
     "base_uri": "https://localhost:8080/"
    },
    "executionInfo": {
     "elapsed": 6,
     "status": "ok",
     "timestamp": 1748464919852,
     "user": {
      "displayName": "Jacqueline Gunther",
      "userId": "09898809932311330039"
     },
     "user_tz": 240
    },
    "id": "awBDQ_QnUrx3",
    "outputId": "68a70e99-19c2-4b23-9e0e-808550c4bba9"
   },
   "outputs": [
    {
     "name": "stdout",
     "output_type": "stream",
     "text": [
      "Sum of M is 55\n",
      "Product of M is 3628800\n",
      "Min of M is 1\n",
      "Max of M is 10\n",
      "Mean of M is 5.5\n",
      "Standard Deviation of M is 2.8722813232690143\n",
      "Variance of M is 8.25\n",
      "Argmin of M is 0\n",
      "Argmax of M is 9\n",
      "Median of M is 5.5\n",
      "Percentile of M is 3.25\n"
     ]
    }
   ],
   "source": [
    "print(\"Sum of M is \"+str(np.sum(M)))\n",
    "print(\"Product of M is \"+str(np.prod(M)))\n",
    "print(\"Min of M is \"+str(np.min(M)))\n",
    "print(\"Max of M is \"+str(np.max(M)))\n",
    "print(\"Mean of M is \"+str(np.mean(M)))\n",
    "print(\"Standard Deviation of M is \"+str(np.std(M)))\n",
    "print(\"Variance of M is \"+str(np.var(M)))\n",
    "print(\"Argmin of M is \"+str(np.argmin(M)))\n",
    "print(\"Argmax of M is \"+str(np.argmax(M)))\n",
    "print(\"Median of M is \"+str(np.median(M)))\n",
    "print(\"Percentile of M is \"+str(np.percentile(M,25)))"
   ]
  },
  {
   "cell_type": "code",
   "execution_count": 66,
   "metadata": {
    "colab": {
     "base_uri": "https://localhost:8080/"
    },
    "executionInfo": {
     "elapsed": 21,
     "status": "ok",
     "timestamp": 1748464919874,
     "user": {
      "displayName": "Jacqueline Gunther",
      "userId": "09898809932311330039"
     },
     "user_tz": 240
    },
    "id": "kpwvMSCoVUP_",
    "outputId": "64e3a4a1-c8c6-4650-8bdb-686c145f0f90"
   },
   "outputs": [
    {
     "name": "stdout",
     "output_type": "stream",
     "text": [
      "[[ 1.  2. nan  4.  5.]\n",
      " [ 6. nan  8. nan 10.]]\n",
      "nan\n",
      "36.0\n"
     ]
    }
   ],
   "source": [
    "# Each of the above also has nan versions that ignore nan entries when aggregations.\n",
    "\n",
    "m_nan = np.array([[1,2,np.nan,4,5],\n",
    "             [6,np.nan,8,np.nan,10]])\n",
    "print(m_nan)\n",
    "print(np.sum(m_nan))\n",
    "print(np.nansum(m_nan))"
   ]
  },
  {
   "cell_type": "code",
   "execution_count": 67,
   "metadata": {
    "colab": {
     "base_uri": "https://localhost:8080/"
    },
    "executionInfo": {
     "elapsed": 31,
     "status": "ok",
     "timestamp": 1748464919906,
     "user": {
      "displayName": "Jacqueline Gunther",
      "userId": "09898809932311330039"
     },
     "user_tz": 240
    },
    "id": "eMDZ9hmPV2tO",
    "outputId": "ba90a762-ae01-4f37-afd3-867dc0504d51"
   },
   "outputs": [
    {
     "name": "stdout",
     "output_type": "stream",
     "text": [
      "[False False  True False  True]\n",
      "True\n",
      "False\n"
     ]
    }
   ],
   "source": [
    "# Testing boolean\n",
    "B = np.array([False,False,True,False,True])\n",
    "print(B)\n",
    "print(np.any(B))  # any asks if any of the elements are True, which makes it True\n",
    "print(np.all(B))  # all asks if all the elements are True, in this case it is False"
   ]
  },
  {
   "cell_type": "markdown",
   "metadata": {
    "id": "mebBp2Jjp5xM"
   },
   "source": [
    "# Computations on Arays"
   ]
  },
  {
   "cell_type": "code",
   "execution_count": 68,
   "metadata": {
    "colab": {
     "base_uri": "https://localhost:8080/"
    },
    "executionInfo": {
     "elapsed": 5,
     "status": "ok",
     "timestamp": 1748464919912,
     "user": {
      "displayName": "Jacqueline Gunther",
      "userId": "09898809932311330039"
     },
     "user_tz": 240
    },
    "id": "u33ctOwGqRTl",
    "outputId": "16b5c693-d26f-4ed9-e559-d09e6fcc21f3"
   },
   "outputs": [
    {
     "data": {
      "text/plain": [
       "array([4, 6, 8])"
      ]
     },
     "execution_count": 68,
     "metadata": {},
     "output_type": "execute_result"
    }
   ],
   "source": [
    "n = np.array([1,2,3])\n",
    "m = np.array([3,4,5])\n",
    "n+m"
   ]
  },
  {
   "cell_type": "code",
   "execution_count": 69,
   "metadata": {
    "colab": {
     "base_uri": "https://localhost:8080/"
    },
    "executionInfo": {
     "elapsed": 22,
     "status": "ok",
     "timestamp": 1748464919941,
     "user": {
      "displayName": "Jacqueline Gunther",
      "userId": "09898809932311330039"
     },
     "user_tz": 240
    },
    "id": "shQ_P3myqfPP",
    "outputId": "eb8aa666-a36b-4efd-f524-6c9e7be7a617"
   },
   "outputs": [
    {
     "data": {
      "text/plain": [
       "array([11, 12, 13])"
      ]
     },
     "execution_count": 69,
     "metadata": {},
     "output_type": "execute_result"
    }
   ],
   "source": [
    "# but you can preform operations that don't have the same length\n",
    "n = np.array([1,2,3])\n",
    "n+10"
   ]
  },
  {
   "cell_type": "code",
   "execution_count": 70,
   "metadata": {
    "colab": {
     "base_uri": "https://localhost:8080/"
    },
    "executionInfo": {
     "elapsed": 4,
     "status": "ok",
     "timestamp": 1748464919946,
     "user": {
      "displayName": "Jacqueline Gunther",
      "userId": "09898809932311330039"
     },
     "user_tz": 240
    },
    "id": "1PyCRfndqmxT",
    "outputId": "b211ab11-65bc-455d-d2dd-5935b486acc4"
   },
   "outputs": [
    {
     "name": "stdout",
     "output_type": "stream",
     "text": [
      "[[1. 1. 1.]\n",
      " [1. 1. 1.]\n",
      " [1. 1. 1.]]\n",
      "\n",
      "\n",
      "[[4. 5. 6.]\n",
      " [4. 5. 6.]\n",
      " [4. 5. 6.]]\n",
      "\n",
      "\n",
      "[[2. 2. 2.]\n",
      " [2. 2. 2.]\n",
      " [2. 2. 2.]]\n"
     ]
    }
   ],
   "source": [
    "M = np.ones((3,3))\n",
    "print(M)\n",
    "print('\\n')\n",
    "print(M+m)  # you can still add them\n",
    "\n",
    "print('\\n')\n",
    "print(M+M)  # you can also add the matrix to itself"
   ]
  },
  {
   "cell_type": "code",
   "execution_count": 71,
   "metadata": {
    "colab": {
     "base_uri": "https://localhost:8080/"
    },
    "executionInfo": {
     "elapsed": 26,
     "status": "ok",
     "timestamp": 1748464919973,
     "user": {
      "displayName": "Jacqueline Gunther",
      "userId": "09898809932311330039"
     },
     "user_tz": 240
    },
    "id": "PScMH7ELrAJ2",
    "outputId": "831b71cb-e506-4ffe-8e77-e3ce9392f942"
   },
   "outputs": [
    {
     "data": {
      "text/plain": [
       "array([[10],\n",
       "       [20],\n",
       "       [30]])"
      ]
     },
     "execution_count": 71,
     "metadata": {},
     "output_type": "execute_result"
    }
   ],
   "source": [
    "# you can change the direction of the array\n",
    "q = np.array([10,20,30])[:,np.newaxis]\n",
    "q"
   ]
  },
  {
   "cell_type": "code",
   "execution_count": 72,
   "metadata": {
    "colab": {
     "base_uri": "https://localhost:8080/"
    },
    "executionInfo": {
     "elapsed": 3,
     "status": "ok",
     "timestamp": 1748464919977,
     "user": {
      "displayName": "Jacqueline Gunther",
      "userId": "09898809932311330039"
     },
     "user_tz": 240
    },
    "id": "wTEVGoU3s4b-",
    "outputId": "280c8109-19ed-4227-b111-8f82f70a3e65"
   },
   "outputs": [
    {
     "data": {
      "text/plain": [
       "array([[11, 12, 13],\n",
       "       [21, 22, 23],\n",
       "       [31, 32, 33]])"
      ]
     },
     "execution_count": 72,
     "metadata": {},
     "output_type": "execute_result"
    }
   ],
   "source": [
    "n+q"
   ]
  },
  {
   "cell_type": "code",
   "execution_count": 73,
   "metadata": {
    "colab": {
     "base_uri": "https://localhost:8080/"
    },
    "executionInfo": {
     "elapsed": 22,
     "status": "ok",
     "timestamp": 1748464920000,
     "user": {
      "displayName": "Jacqueline Gunther",
      "userId": "09898809932311330039"
     },
     "user_tz": 240
    },
    "id": "Lhu1ATget4xd",
    "outputId": "e22750bd-5b13-4c3a-b66d-07a0e43dbda3"
   },
   "outputs": [
    {
     "name": "stdout",
     "output_type": "stream",
     "text": [
      "(3, 3)\n",
      "(3,)\n",
      "(3, 1)\n"
     ]
    }
   ],
   "source": [
    "# Check the dimensions of the array\n",
    "print(M.shape)\n",
    "print(n.shape)\n",
    "print(q.shape)"
   ]
  },
  {
   "cell_type": "code",
   "execution_count": 74,
   "metadata": {
    "colab": {
     "base_uri": "https://localhost:8080/"
    },
    "executionInfo": {
     "elapsed": 4,
     "status": "ok",
     "timestamp": 1748464920035,
     "user": {
      "displayName": "Jacqueline Gunther",
      "userId": "09898809932311330039"
     },
     "user_tz": 240
    },
    "id": "NryWNlt1ucK4",
    "outputId": "41cd306e-8e01-4f55-8d3a-1156ee9a172c"
   },
   "outputs": [
    {
     "name": "stdout",
     "output_type": "stream",
     "text": [
      "[[1. 1.]\n",
      " [1. 1.]\n",
      " [1. 1.]]\n",
      "\n",
      "\n",
      "[1 2 3]\n",
      "\n",
      "\n",
      "[[2. 2.]\n",
      " [3. 3.]\n",
      " [4. 4.]]\n"
     ]
    }
   ],
   "source": [
    "N = np.ones((3,2))\n",
    "a = np.array([1,2,3])\n",
    "print(N)\n",
    "print('\\n')\n",
    "print(a)\n",
    "print('\\n')\n",
    "\n",
    "# print(N+a) # This will not work becuase of mismatch dimensions\n",
    "\n",
    "print(N+a[:,np.newaxis])  # this will print becuase a was transposed"
   ]
  },
  {
   "cell_type": "markdown",
   "metadata": {
    "id": "SCM34IKMHDBP"
   },
   "source": [
    "## Centering an array"
   ]
  },
  {
   "cell_type": "code",
   "execution_count": 75,
   "metadata": {
    "colab": {
     "base_uri": "https://localhost:8080/"
    },
    "executionInfo": {
     "elapsed": 20,
     "status": "ok",
     "timestamp": 1748464920056,
     "user": {
      "displayName": "Jacqueline Gunther",
      "userId": "09898809932311330039"
     },
     "user_tz": 240
    },
    "id": "Idw6DwZAGT3Y",
    "outputId": "1a42daa5-9089-4956-9a25-8bb1dafdc514"
   },
   "outputs": [
    {
     "name": "stdout",
     "output_type": "stream",
     "text": [
      "[[ 1  8  7  5  5]\n",
      " [ 9  1  7  3  1]\n",
      " [ 6 10  8  8  8]]\n"
     ]
    }
   ],
   "source": [
    "rng = np.random.default_rng(seed = 42)  # Choose seed so that random answer is always the same.\n",
    "\n",
    "Z = rng.integers(1,11,(3,5))    # random integers 1-10, 3x5 matrix\n",
    "print(Z)"
   ]
  },
  {
   "cell_type": "code",
   "execution_count": 76,
   "metadata": {
    "colab": {
     "base_uri": "https://localhost:8080/"
    },
    "executionInfo": {
     "elapsed": 29,
     "status": "ok",
     "timestamp": 1748464920087,
     "user": {
      "displayName": "Jacqueline Gunther",
      "userId": "09898809932311330039"
     },
     "user_tz": 240
    },
    "id": "WCXzlK7EHcAu",
    "outputId": "6ef3c6bf-5060-462c-fef5-22f7a86f16c5"
   },
   "outputs": [
    {
     "name": "stdout",
     "output_type": "stream",
     "text": [
      "[5.33333333 6.33333333 7.33333333 5.33333333 4.66666667]\n",
      "\n",
      "\n",
      "[[-4.33333333  1.66666667 -0.33333333 -0.33333333  0.33333333]\n",
      " [ 3.66666667 -5.33333333 -0.33333333 -2.33333333 -3.66666667]\n",
      " [ 0.66666667  3.66666667  0.66666667  2.66666667  3.33333333]]\n",
      "\n",
      "\n",
      "[ 2.96059473e-16  2.96059473e-16  2.96059473e-16  2.96059473e-16\n",
      " -2.96059473e-16]\n"
     ]
    }
   ],
   "source": [
    "mZ = Z.mean(0)\n",
    "print(mZ)\n",
    "centeredZ = Z-mZ\n",
    "print('\\n')\n",
    "print(centeredZ)\n",
    "print('\\n')\n",
    "print(centeredZ.mean(0))   # Very close to 0!"
   ]
  },
  {
   "cell_type": "markdown",
   "metadata": {
    "id": "0wkvw_2VIQo4"
   },
   "source": [
    "# Comparisons, Masks, and Boolean Logic"
   ]
  },
  {
   "cell_type": "code",
   "execution_count": 77,
   "metadata": {
    "colab": {
     "base_uri": "https://localhost:8080/"
    },
    "executionInfo": {
     "elapsed": 7,
     "status": "ok",
     "timestamp": 1748464920095,
     "user": {
      "displayName": "Jacqueline Gunther",
      "userId": "09898809932311330039"
     },
     "user_tz": 240
    },
    "id": "YhMZ7qscIPiW",
    "outputId": "c9097e40-3f89-49cc-9931-cf5d77a4894a"
   },
   "outputs": [
    {
     "data": {
      "text/plain": [
       "array([ True,  True,  True, False, False])"
      ]
     },
     "execution_count": 77,
     "metadata": {},
     "output_type": "execute_result"
    }
   ],
   "source": [
    "a = np.array([1,2,3,4,5])\n",
    "a<4\n",
    "# This returns an array of true or false. Where each value under 3 is true and\n",
    "# each value 3 and over is false."
   ]
  },
  {
   "cell_type": "code",
   "execution_count": 78,
   "metadata": {
    "colab": {
     "base_uri": "https://localhost:8080/"
    },
    "executionInfo": {
     "elapsed": 11,
     "status": "ok",
     "timestamp": 1748464920108,
     "user": {
      "displayName": "Jacqueline Gunther",
      "userId": "09898809932311330039"
     },
     "user_tz": 240
    },
    "id": "nOlVunBtZeXW",
    "outputId": "d5d1c829-ccb1-41a9-df75-c68f711f2c52"
   },
   "outputs": [
    {
     "data": {
      "text/plain": [
       "array([ True,  True,  True, False, False])"
      ]
     },
     "execution_count": 78,
     "metadata": {},
     "output_type": "execute_result"
    }
   ],
   "source": [
    "np.less(a,4)"
   ]
  },
  {
   "cell_type": "markdown",
   "metadata": {
    "id": "5lqTxQ80ZlC0"
   },
   "source": [
    "## Other boolean options\n",
    "\n",
    "*   np.equal          (==)\n",
    "*   np.not_equal      (!=)\n",
    "*   np.less           (<)\n",
    "*   np.less_equal     (<=)\n",
    "*   np.greater        (>)\n",
    "*   np.greater_equal  (>=)"
   ]
  },
  {
   "cell_type": "code",
   "execution_count": 79,
   "metadata": {
    "colab": {
     "base_uri": "https://localhost:8080/"
    },
    "executionInfo": {
     "elapsed": 44,
     "status": "ok",
     "timestamp": 1748464920154,
     "user": {
      "displayName": "Jacqueline Gunther",
      "userId": "09898809932311330039"
     },
     "user_tz": 240
    },
    "id": "X0s8PDfUHuLC",
    "outputId": "3645f42f-e823-46de-fb79-2a928d121a2d"
   },
   "outputs": [
    {
     "data": {
      "text/plain": [
       "array([1, 2, 3, 0, 0])"
      ]
     },
     "execution_count": 79,
     "metadata": {},
     "output_type": "execute_result"
    }
   ],
   "source": [
    "a*(a<4)  # If you multiply the boolean array with the orginal array.  All the false values beocme 0.\n",
    "         # Remember false is also designated as 0.  The other values will remain the same since True\n",
    "         # is the same as 1, so its just being multiplied by 1."
   ]
  },
  {
   "cell_type": "code",
   "execution_count": 80,
   "metadata": {
    "colab": {
     "base_uri": "https://localhost:8080/"
    },
    "executionInfo": {
     "elapsed": 33,
     "status": "ok",
     "timestamp": 1748464920188,
     "user": {
      "displayName": "Jacqueline Gunther",
      "userId": "09898809932311330039"
     },
     "user_tz": 240
    },
    "id": "8pJVJIf7WTmq",
    "outputId": "d5534dcc-4220-4827-d242-99a27987beed"
   },
   "outputs": [
    {
     "data": {
      "text/plain": [
       "array([1, 2, 3])"
      ]
     },
     "execution_count": 80,
     "metadata": {},
     "output_type": "execute_result"
    }
   ],
   "source": [
    "a[(a<4)]\n",
    "# Here the boolean array is placed with in the original array.  All the false\n",
    "# values are deleted and you are left with just the true values.  The boolean\n",
    "# array is called a mask."
   ]
  },
  {
   "cell_type": "code",
   "execution_count": 81,
   "metadata": {
    "colab": {
     "base_uri": "https://localhost:8080/"
    },
    "executionInfo": {
     "elapsed": 10,
     "status": "ok",
     "timestamp": 1748464920200,
     "user": {
      "displayName": "Jacqueline Gunther",
      "userId": "09898809932311330039"
     },
     "user_tz": 240
    },
    "id": "zCw19iUQWYJC",
    "outputId": "c19d8540-2198-4036-fbc0-30eb63dc8e14"
   },
   "outputs": [
    {
     "name": "stdout",
     "output_type": "stream",
     "text": [
      "[False False  True  True False  True]\n",
      "[25 12 75]\n"
     ]
    }
   ],
   "source": [
    "b = np.array([5,9,25,12,3,75])\n",
    "mask = (b>10)\n",
    "print(mask)\n",
    "print(b[mask])\n",
    "# Masks are easy ways to filter data that you want."
   ]
  },
  {
   "cell_type": "code",
   "execution_count": 82,
   "metadata": {
    "colab": {
     "base_uri": "https://localhost:8080/"
    },
    "executionInfo": {
     "elapsed": 8,
     "status": "ok",
     "timestamp": 1748464920210,
     "user": {
      "displayName": "Jacqueline Gunther",
      "userId": "09898809932311330039"
     },
     "user_tz": 240
    },
    "id": "HMC7fZ-tYZcC",
    "outputId": "c46b69e6-8992-47a2-eaef-ac6ecfbadeb8"
   },
   "outputs": [
    {
     "name": "stdout",
     "output_type": "stream",
     "text": [
      "[[ 1  8  7  5  5]\n",
      " [ 9  1  7  3  1]\n",
      " [ 6 10  8  8  8]]\n"
     ]
    }
   ],
   "source": [
    "rng = np.random.default_rng(seed = 42)  # Choose seed so that random answer is always the same.\n",
    "\n",
    "Z = rng.integers(1,11,(3,5))    # random integers 1-10, 3x5 matrix\n",
    "print(Z)"
   ]
  },
  {
   "cell_type": "code",
   "execution_count": 83,
   "metadata": {
    "colab": {
     "base_uri": "https://localhost:8080/"
    },
    "executionInfo": {
     "elapsed": 26,
     "status": "ok",
     "timestamp": 1748464920238,
     "user": {
      "displayName": "Jacqueline Gunther",
      "userId": "09898809932311330039"
     },
     "user_tz": 240
    },
    "id": "4uU-Cq1xYdHz",
    "outputId": "0496d43e-433b-4ecd-fd8e-85e978f4c67c"
   },
   "outputs": [
    {
     "name": "stdout",
     "output_type": "stream",
     "text": [
      "[[False  True  True False False]\n",
      " [ True False  True False False]\n",
      " [ True  True  True  True  True]]\n"
     ]
    }
   ],
   "source": [
    "fil_Z = Z>=6  # works with arrays as well\n",
    "print(fil_Z)"
   ]
  },
  {
   "cell_type": "code",
   "execution_count": 84,
   "metadata": {
    "colab": {
     "base_uri": "https://localhost:8080/"
    },
    "executionInfo": {
     "elapsed": 5,
     "status": "ok",
     "timestamp": 1748464920244,
     "user": {
      "displayName": "Jacqueline Gunther",
      "userId": "09898809932311330039"
     },
     "user_tz": 240
    },
    "id": "uX_AQk00aoUY",
    "outputId": "fc0a63bf-24bc-4674-ff6f-d5f02e6ccd47"
   },
   "outputs": [
    {
     "data": {
      "text/plain": [
       "9"
      ]
     },
     "execution_count": 84,
     "metadata": {},
     "output_type": "execute_result"
    }
   ],
   "source": [
    "np.count_nonzero(fil_Z)  # count how many non-zero entries in the matrix of fil_Z"
   ]
  },
  {
   "cell_type": "code",
   "execution_count": 85,
   "metadata": {
    "colab": {
     "base_uri": "https://localhost:8080/"
    },
    "executionInfo": {
     "elapsed": 6,
     "status": "ok",
     "timestamp": 1748464920251,
     "user": {
      "displayName": "Jacqueline Gunther",
      "userId": "09898809932311330039"
     },
     "user_tz": 240
    },
    "id": "xrgdOzxEa3n7",
    "outputId": "10630db4-13eb-4fa7-840f-78faf757cfd1"
   },
   "outputs": [
    {
     "name": "stdout",
     "output_type": "stream",
     "text": [
      "[ 8  7  9  7  6 10  8  8  8]\n",
      "[[ 0  8  7  0  0]\n",
      " [ 9  0  7  0  0]\n",
      " [ 6 10  8  8  8]]\n"
     ]
    }
   ],
   "source": [
    "print(Z[fil_Z])  # This will change the matrix into a linear array.\n",
    "print(Z*fil_Z)   # This wil make false values 0\n"
   ]
  },
  {
   "cell_type": "code",
   "execution_count": 86,
   "metadata": {
    "colab": {
     "base_uri": "https://localhost:8080/"
    },
    "executionInfo": {
     "elapsed": 29,
     "status": "ok",
     "timestamp": 1748464920283,
     "user": {
      "displayName": "Jacqueline Gunther",
      "userId": "09898809932311330039"
     },
     "user_tz": 240
    },
    "id": "T4W3hC-nbBKS",
    "outputId": "d6814ad9-d2f4-4dee-fecc-4d1cc45ef15e"
   },
   "outputs": [
    {
     "name": "stdout",
     "output_type": "stream",
     "text": [
      "[[ 1 99 99  5  5]\n",
      " [99  1 99  3  1]\n",
      " [99 99 99 99 99]]\n"
     ]
    }
   ],
   "source": [
    "Z[fil_Z]=99\n",
    "print(Z)\n",
    "# You can change all the values at once with the boolean array."
   ]
  },
  {
   "cell_type": "code",
   "execution_count": 87,
   "metadata": {
    "colab": {
     "base_uri": "https://localhost:8080/"
    },
    "executionInfo": {
     "elapsed": 9,
     "status": "ok",
     "timestamp": 1748464920293,
     "user": {
      "displayName": "Jacqueline Gunther",
      "userId": "09898809932311330039"
     },
     "user_tz": 240
    },
    "id": "1NLLonjtbr3j",
    "outputId": "232815f2-91fa-4872-9875-9e5a20a14d11"
   },
   "outputs": [
    {
     "name": "stdout",
     "output_type": "stream",
     "text": [
      "[[  1  99  99 500 500]\n",
      " [ 99   1  99   3   1]\n",
      " [ 99  99  99  99  99]]\n"
     ]
    }
   ],
   "source": [
    "Z[Z == 5] = 500\n",
    "print(Z)\n",
    "# you can put the boolean logic directly in the array and change only those values."
   ]
  },
  {
   "cell_type": "markdown",
   "metadata": {
    "id": "CbhOk8FhjMBV"
   },
   "source": [
    "## Counting values"
   ]
  },
  {
   "cell_type": "code",
   "execution_count": 88,
   "metadata": {
    "colab": {
     "base_uri": "https://localhost:8080/"
    },
    "executionInfo": {
     "elapsed": 45,
     "status": "ok",
     "timestamp": 1748464920339,
     "user": {
      "displayName": "Jacqueline Gunther",
      "userId": "09898809932311330039"
     },
     "user_tz": 240
    },
    "id": "Hxm2Bi1fcRqm",
    "outputId": "cf57ed1e-b8f9-4acd-86c1-7f98c41f7e06"
   },
   "outputs": [
    {
     "name": "stdout",
     "output_type": "stream",
     "text": [
      "[[ 1  8  7  5  5]\n",
      " [ 9  1  7  3  1]\n",
      " [ 6 10  8  8  8]]\n"
     ]
    }
   ],
   "source": [
    "# Let's start over\n",
    "rng = np.random.default_rng(seed = 42)  # Choose seed so that random answer is always the same.\n",
    "\n",
    "Z = rng.integers(1,11,(3,5))    # random integers 1-10, 3x5 matrix\n",
    "print(Z)"
   ]
  },
  {
   "cell_type": "code",
   "execution_count": 89,
   "metadata": {
    "colab": {
     "base_uri": "https://localhost:8080/"
    },
    "executionInfo": {
     "elapsed": 7,
     "status": "ok",
     "timestamp": 1748464920368,
     "user": {
      "displayName": "Jacqueline Gunther",
      "userId": "09898809932311330039"
     },
     "user_tz": 240
    },
    "id": "ZO9KchpPjZ5R",
    "outputId": "b57030d7-2c68-469b-d9f2-26ded5c2d4d5"
   },
   "outputs": [
    {
     "data": {
      "text/plain": [
       "array([3, 3, 0])"
      ]
     },
     "execution_count": 89,
     "metadata": {},
     "output_type": "execute_result"
    }
   ],
   "source": [
    "# We can count the number of values that are 5 and under for each ROW.\n",
    "np.sum(Z<=5,axis=1)"
   ]
  },
  {
   "cell_type": "code",
   "execution_count": 90,
   "metadata": {
    "colab": {
     "base_uri": "https://localhost:8080/"
    },
    "executionInfo": {
     "elapsed": 6,
     "status": "ok",
     "timestamp": 1748464920375,
     "user": {
      "displayName": "Jacqueline Gunther",
      "userId": "09898809932311330039"
     },
     "user_tz": 240
    },
    "id": "P8xmb6Owjl4n",
    "outputId": "524c35b2-dc04-48b0-9c16-2212d7eec5bb"
   },
   "outputs": [
    {
     "data": {
      "text/plain": [
       "array([1, 1, 0, 2, 2])"
      ]
     },
     "execution_count": 90,
     "metadata": {},
     "output_type": "execute_result"
    }
   ],
   "source": [
    "# This also works for each column\n",
    "np.sum(Z<=5,axis=0)\n",
    "\n",
    "# To break it down\n",
    "# Z<=5 gives you a boolean matrix of trues where the number is 5 and less\n"
   ]
  },
  {
   "cell_type": "code",
   "execution_count": 91,
   "metadata": {
    "colab": {
     "base_uri": "https://localhost:8080/"
    },
    "executionInfo": {
     "elapsed": 6,
     "status": "ok",
     "timestamp": 1748464920399,
     "user": {
      "displayName": "Jacqueline Gunther",
      "userId": "09898809932311330039"
     },
     "user_tz": 240
    },
    "id": "bMD-k35jjx7_",
    "outputId": "6f5805db-8a7f-4152-a547-5479a6a5b807"
   },
   "outputs": [
    {
     "name": "stdout",
     "output_type": "stream",
     "text": [
      "[[ True False False  True  True]\n",
      " [False  True False  True  True]\n",
      " [False False False False False]]\n"
     ]
    },
    {
     "data": {
      "text/plain": [
       "array([1, 1, 0, 2, 2])"
      ]
     },
     "execution_count": 91,
     "metadata": {},
     "output_type": "execute_result"
    }
   ],
   "source": [
    "# Let's break it down\n",
    "# Z<=5 gives you a boolean matrix of trues where the number is 5 and less\n",
    "print(Z<=5)\n",
    "np.sum(Z<=5, axis = 0) # This sums up the Trues (aka 1's) in the boolean matrix"
   ]
  },
  {
   "cell_type": "code",
   "execution_count": 92,
   "metadata": {
    "colab": {
     "base_uri": "https://localhost:8080/"
    },
    "executionInfo": {
     "elapsed": 6,
     "status": "ok",
     "timestamp": 1748464920406,
     "user": {
      "displayName": "Jacqueline Gunther",
      "userId": "09898809932311330039"
     },
     "user_tz": 240
    },
    "id": "HN8I2xuSkLpu",
    "outputId": "c40c4d55-8a04-43b6-a64a-2c04d40ba0ee"
   },
   "outputs": [
    {
     "name": "stdout",
     "output_type": "stream",
     "text": [
      "True\n",
      "False\n"
     ]
    }
   ],
   "source": [
    "print(np.any(Z>5))  # If any of the values are over 8 it will print True\n",
    "print(np.all(Z>5))  # Will be true if all the valuse are over 8"
   ]
  },
  {
   "cell_type": "code",
   "execution_count": 93,
   "metadata": {
    "colab": {
     "base_uri": "https://localhost:8080/"
    },
    "executionInfo": {
     "elapsed": 7,
     "status": "ok",
     "timestamp": 1748464920414,
     "user": {
      "displayName": "Jacqueline Gunther",
      "userId": "09898809932311330039"
     },
     "user_tz": 240
    },
    "id": "QYBYF-ofRfbd",
    "outputId": "c5eb7e2a-c383-4597-9cf9-dfbaf7d0aeeb"
   },
   "outputs": [
    {
     "name": "stdout",
     "output_type": "stream",
     "text": [
      "[ True  True  True]\n",
      "[False False  True]\n"
     ]
    }
   ],
   "source": [
    "print(np.any(Z>5,axis = 1))  # If any of the values are over 8 for a row it will print True\n",
    "print(np.all(Z>5,axis = 1))  # Will be true if all the valuse are over 8 for a particular row"
   ]
  },
  {
   "cell_type": "code",
   "execution_count": 94,
   "metadata": {
    "colab": {
     "base_uri": "https://localhost:8080/"
    },
    "executionInfo": {
     "elapsed": 5,
     "status": "ok",
     "timestamp": 1748464920443,
     "user": {
      "displayName": "Jacqueline Gunther",
      "userId": "09898809932311330039"
     },
     "user_tz": 240
    },
    "id": "7XcXtyr3SHYM",
    "outputId": "b265e243-b2a4-425d-c1ee-ab3bda9d30db"
   },
   "outputs": [
    {
     "data": {
      "text/plain": [
       "array([[False, False,  True,  True,  True],\n",
       "       [False, False,  True, False, False],\n",
       "       [ True, False, False, False, False]])"
      ]
     },
     "execution_count": 94,
     "metadata": {},
     "output_type": "execute_result"
    }
   ],
   "source": [
    "(Z>3) & (Z<8)  # You can use boolean operations to use more than one equality"
   ]
  },
  {
   "cell_type": "code",
   "execution_count": 95,
   "metadata": {
    "colab": {
     "base_uri": "https://localhost:8080/"
    },
    "executionInfo": {
     "elapsed": 7,
     "status": "ok",
     "timestamp": 1748464920451,
     "user": {
      "displayName": "Jacqueline Gunther",
      "userId": "09898809932311330039"
     },
     "user_tz": 240
    },
    "id": "ZachyTrNTKyr",
    "outputId": "827441b2-6f59-409d-bc8f-64b5623fe704"
   },
   "outputs": [
    {
     "data": {
      "text/plain": [
       "array([[False, False, False,  True,  True],\n",
       "       [ True, False, False, False, False],\n",
       "       [False,  True, False, False, False]])"
      ]
     },
     "execution_count": 95,
     "metadata": {},
     "output_type": "execute_result"
    }
   ],
   "source": [
    "(Z>8) | (Z==5) # Or operation"
   ]
  },
  {
   "cell_type": "code",
   "execution_count": 96,
   "metadata": {
    "colab": {
     "base_uri": "https://localhost:8080/"
    },
    "executionInfo": {
     "elapsed": 17,
     "status": "ok",
     "timestamp": 1748464920469,
     "user": {
      "displayName": "Jacqueline Gunther",
      "userId": "09898809932311330039"
     },
     "user_tz": 240
    },
    "id": "ywc1pHu9WJGa",
    "outputId": "ca4bd81b-bd6e-4039-91fc-f24c4d828e42"
   },
   "outputs": [
    {
     "name": "stdout",
     "output_type": "stream",
     "text": [
      "5\n"
     ]
    }
   ],
   "source": [
    "print(np.sum((Z>3) & (Z<8)))  # Then you can count how many values fall in the inequality constraints."
   ]
  },
  {
   "cell_type": "code",
   "execution_count": 97,
   "metadata": {
    "colab": {
     "base_uri": "https://localhost:8080/"
    },
    "executionInfo": {
     "elapsed": 5,
     "status": "ok",
     "timestamp": 1748464920475,
     "user": {
      "displayName": "Jacqueline Gunther",
      "userId": "09898809932311330039"
     },
     "user_tz": 240
    },
    "id": "9Td_nVJvWcIM",
    "outputId": "aec668f2-b2ac-4c55-f432-cf6e56bae544"
   },
   "outputs": [
    {
     "data": {
      "text/plain": [
       "array([ True, False,  True, False, False])"
      ]
     },
     "execution_count": 97,
     "metadata": {},
     "output_type": "execute_result"
    }
   ],
   "source": [
    "# Keep in mind you can isolate one of the columsn and rows and also do boolean operations\n",
    "Z[1]>5"
   ]
  },
  {
   "cell_type": "markdown",
   "metadata": {
    "id": "ZqOTAxtTXO0R"
   },
   "source": [
    "# Fancy Indexing"
   ]
  },
  {
   "cell_type": "code",
   "execution_count": 98,
   "metadata": {
    "colab": {
     "base_uri": "https://localhost:8080/"
    },
    "executionInfo": {
     "elapsed": 6,
     "status": "ok",
     "timestamp": 1748464920484,
     "user": {
      "displayName": "Jacqueline Gunther",
      "userId": "09898809932311330039"
     },
     "user_tz": 240
    },
    "id": "NgUyoEvXZ889",
    "outputId": "25b221bf-5b2f-4dbc-c392-2fca05afd341"
   },
   "outputs": [
    {
     "name": "stdout",
     "output_type": "stream",
     "text": [
      "[1 8 7 5 5 9 1 7 3 1]\n"
     ]
    }
   ],
   "source": [
    "rng = np.random.default_rng(seed = 42)  # Choose seed so that random answer is always the same.\n",
    "\n",
    "A = rng.integers(1,11,(10))\n",
    "print(A)"
   ]
  },
  {
   "cell_type": "code",
   "execution_count": 99,
   "metadata": {
    "colab": {
     "base_uri": "https://localhost:8080/"
    },
    "executionInfo": {
     "elapsed": 4,
     "status": "ok",
     "timestamp": 1748464920490,
     "user": {
      "displayName": "Jacqueline Gunther",
      "userId": "09898809932311330039"
     },
     "user_tz": 240
    },
    "id": "spPxqb9uaEwN",
    "outputId": "010cd115-a8d0-429b-c564-9688ef8a3a49"
   },
   "outputs": [
    {
     "name": "stdout",
     "output_type": "stream",
     "text": [
      "[np.int64(8), np.int64(9), np.int64(3)]\n",
      "[8 9 3]\n"
     ]
    }
   ],
   "source": [
    "print([A[1],A[5],A[8]])  # The output is show that it is spcefic type numpy integers.\n",
    "\n",
    "# However, you can do this\n",
    "ind = [1,5,8]\n",
    "print(A[ind])"
   ]
  },
  {
   "cell_type": "code",
   "execution_count": 100,
   "metadata": {
    "colab": {
     "base_uri": "https://localhost:8080/"
    },
    "executionInfo": {
     "elapsed": 17,
     "status": "ok",
     "timestamp": 1748464920508,
     "user": {
      "displayName": "Jacqueline Gunther",
      "userId": "09898809932311330039"
     },
     "user_tz": 240
    },
    "id": "vH11kzzkrCi5",
    "outputId": "53a96aae-1883-44c7-f9f0-63685a0d1d0a"
   },
   "outputs": [
    {
     "name": "stdout",
     "output_type": "stream",
     "text": [
      "(2, 2)\n",
      "(2, 2)\n"
     ]
    }
   ],
   "source": [
    "ind = np.array([[2,3],\n",
    "               [5,9]])\n",
    "A[ind]\n",
    "\n",
    "# the answer is the same shape as the ind\n",
    "print(ind.shape)\n",
    "print(A[ind].shape)"
   ]
  },
  {
   "cell_type": "code",
   "execution_count": 101,
   "metadata": {
    "colab": {
     "base_uri": "https://localhost:8080/"
    },
    "executionInfo": {
     "elapsed": 4,
     "status": "ok",
     "timestamp": 1748464920513,
     "user": {
      "displayName": "Jacqueline Gunther",
      "userId": "09898809932311330039"
     },
     "user_tz": 240
    },
    "id": "SDu-tS9xWune",
    "outputId": "56771a18-f7fe-43fa-b819-245993c5f50d"
   },
   "outputs": [
    {
     "name": "stdout",
     "output_type": "stream",
     "text": [
      "[[ 1  8  7  5  5]\n",
      " [ 9  1  7  3  1]\n",
      " [ 6 10  8  8  8]]\n"
     ]
    }
   ],
   "source": [
    "# Let's start back with Z;\n",
    "# Keep in mind even though Z is random, since it has seed 42, it will always\n",
    "# output the same matrix.\n",
    "\n",
    "# Let's start over\n",
    "rng = np.random.default_rng(seed = 42)  # Choose seed so that random answer is always the same.\n",
    "\n",
    "Z = rng.integers(1,11,(3,5))    # random integers 1-10, 3x5 matrix\n",
    "print(Z)"
   ]
  },
  {
   "cell_type": "code",
   "execution_count": 102,
   "metadata": {
    "colab": {
     "base_uri": "https://localhost:8080/"
    },
    "executionInfo": {
     "elapsed": 9,
     "status": "ok",
     "timestamp": 1748464920523,
     "user": {
      "displayName": "Jacqueline Gunther",
      "userId": "09898809932311330039"
     },
     "user_tz": 240
    },
    "id": "eIPMRRyvXdKb",
    "outputId": "830eb055-f307-49cb-a252-0e68b9d4624a"
   },
   "outputs": [
    {
     "data": {
      "text/plain": [
       "array([7, 1, 8])"
      ]
     },
     "execution_count": 102,
     "metadata": {},
     "output_type": "execute_result"
    }
   ],
   "source": [
    "# You can put the rows and column to get an array\n",
    "row = np.array([0,1,2])\n",
    "col = np.array([2,1,4])\n",
    "Z[row,col]"
   ]
  },
  {
   "cell_type": "code",
   "execution_count": 103,
   "metadata": {
    "colab": {
     "base_uri": "https://localhost:8080/"
    },
    "executionInfo": {
     "elapsed": 4,
     "status": "ok",
     "timestamp": 1748464920528,
     "user": {
      "displayName": "Jacqueline Gunther",
      "userId": "09898809932311330039"
     },
     "user_tz": 240
    },
    "id": "dp_9qKS_ZzBk",
    "outputId": "bdf631ea-2c83-43a8-d87f-1c5d6ea63890"
   },
   "outputs": [
    {
     "name": "stdout",
     "output_type": "stream",
     "text": [
      "[[0]\n",
      " [1]\n",
      " [2]]\n",
      "[2 1 4]\n",
      "\n",
      "\n",
      "[[ 7  8  5]\n",
      " [ 7  1  1]\n",
      " [ 8 10  8]]\n"
     ]
    }
   ],
   "source": [
    "print(row[:,np.newaxis])\n",
    "print(col)\n",
    "print('\\n')\n",
    "print(Z[row[:,np.newaxis],col])\n",
    "\n",
    "# The inverted array row with col will act as input similar to these coordinates:\n",
    "# (0,2) (0,1) (0,4)\n",
    "# (1,2) (1,1) (1,4)\n",
    "# (2,2) (2,1) (2,4)"
   ]
  },
  {
   "cell_type": "code",
   "execution_count": 104,
   "metadata": {
    "colab": {
     "base_uri": "https://localhost:8080/"
    },
    "executionInfo": {
     "elapsed": 5,
     "status": "ok",
     "timestamp": 1748464920544,
     "user": {
      "displayName": "Jacqueline Gunther",
      "userId": "09898809932311330039"
     },
     "user_tz": 240
    },
    "id": "U3ZEgrvar6uH",
    "outputId": "bd60ae9b-a475-4818-89db-6efd546ed17e"
   },
   "outputs": [
    {
     "name": "stdout",
     "output_type": "stream",
     "text": [
      "[[ 1  8  7  5  5]\n",
      " [ 9  1  7  3  1]\n",
      " [ 6 10  8  8  8]]\n",
      "\n",
      "\n",
      "[3 7 9]\n",
      "\n",
      "\n",
      "[[3 7 9]\n",
      " [8 8 6]]\n"
     ]
    }
   ],
   "source": [
    "print(Z)\n",
    "print('\\n')\n",
    "print(Z[1,[3,2,0]])\n",
    "print('\\n')\n",
    "print(Z[1:,[3,2,0]])"
   ]
  },
  {
   "cell_type": "code",
   "execution_count": 105,
   "metadata": {
    "colab": {
     "base_uri": "https://localhost:8080/"
    },
    "executionInfo": {
     "elapsed": 4,
     "status": "ok",
     "timestamp": 1748464920563,
     "user": {
      "displayName": "Jacqueline Gunther",
      "userId": "09898809932311330039"
     },
     "user_tz": 240
    },
    "id": "9o-kZNqGbfED",
    "outputId": "98c3ddca-820e-4e62-9f34-623d3290fb23"
   },
   "outputs": [
    {
     "name": "stdout",
     "output_type": "stream",
     "text": [
      "[[ 1  8  5]\n",
      " [ 6 10  8]]\n"
     ]
    }
   ],
   "source": [
    "row = np.array([0,2])\n",
    "mask = np.array([True, True, False, True, False])\n",
    "print(Z[row[:, np.newaxis],mask])\n",
    "# print(Z[row,mask]) # This will create an error."
   ]
  },
  {
   "cell_type": "code",
   "execution_count": 106,
   "metadata": {
    "colab": {
     "base_uri": "https://localhost:8080/"
    },
    "executionInfo": {
     "elapsed": 21,
     "status": "ok",
     "timestamp": 1748464920586,
     "user": {
      "displayName": "Jacqueline Gunther",
      "userId": "09898809932311330039"
     },
     "user_tz": 240
    },
    "id": "oNEC6gAHcRxZ",
    "outputId": "146e708c-ac13-45be-d639-f1e46fe1c261"
   },
   "outputs": [
    {
     "name": "stdout",
     "output_type": "stream",
     "text": [
      "[  1   2   3 100 100 100   7 100   9]\n",
      "[ 1  2  3 50 50 50  7 50  9]\n"
     ]
    }
   ],
   "source": [
    "num = np.arange(1,10)\n",
    "ind = np.array([3,7, 4, 5])\n",
    "num[ind]\n",
    "num[ind] = 100\n",
    "print(num)\n",
    "num[ind] -= 50\n",
    "print(num)"
   ]
  },
  {
   "cell_type": "markdown",
   "metadata": {
    "id": "HnoVtfRIef6l"
   },
   "source": [
    "# Sorting NumPy"
   ]
  },
  {
   "cell_type": "code",
   "execution_count": 107,
   "metadata": {
    "colab": {
     "base_uri": "https://localhost:8080/"
    },
    "executionInfo": {
     "elapsed": 3,
     "status": "ok",
     "timestamp": 1748464920590,
     "user": {
      "displayName": "Jacqueline Gunther",
      "userId": "09898809932311330039"
     },
     "user_tz": 240
    },
    "id": "_iTFxb4vdJvH",
    "outputId": "3449533f-f5c0-4264-8529-5ba0e393613d"
   },
   "outputs": [
    {
     "data": {
      "text/plain": [
       "array([1, 2, 3, 4, 5, 6])"
      ]
     },
     "execution_count": 107,
     "metadata": {},
     "output_type": "execute_result"
    }
   ],
   "source": [
    "A = np.array([5,4,1,3,2,6])\n",
    "np.sort(A)"
   ]
  },
  {
   "cell_type": "code",
   "execution_count": 108,
   "metadata": {
    "colab": {
     "base_uri": "https://localhost:8080/"
    },
    "executionInfo": {
     "elapsed": 8,
     "status": "ok",
     "timestamp": 1748464920599,
     "user": {
      "displayName": "Jacqueline Gunther",
      "userId": "09898809932311330039"
     },
     "user_tz": 240
    },
    "id": "KXw2mCS0fvoh",
    "outputId": "700c3386-a293-425d-8ec2-516ac0440e65"
   },
   "outputs": [
    {
     "name": "stdout",
     "output_type": "stream",
     "text": [
      "[5 4 1 3 2 6]\n",
      "[1 2 3 4 5 6]\n"
     ]
    }
   ],
   "source": [
    "print(A)  # The sort above does not change A\n",
    "A.sort()\n",
    "print(A)  # A is now sorted"
   ]
  },
  {
   "cell_type": "code",
   "execution_count": 109,
   "metadata": {
    "colab": {
     "base_uri": "https://localhost:8080/"
    },
    "executionInfo": {
     "elapsed": 8,
     "status": "ok",
     "timestamp": 1748464920608,
     "user": {
      "displayName": "Jacqueline Gunther",
      "userId": "09898809932311330039"
     },
     "user_tz": 240
    },
    "id": "Yxp6kPeKfyDG",
    "outputId": "ed94b436-9e71-439a-918e-3c9c968516ff"
   },
   "outputs": [
    {
     "name": "stdout",
     "output_type": "stream",
     "text": [
      "[2 4 3 1 0 5]\n"
     ]
    }
   ],
   "source": [
    "A = np.array([5,4,1,3,2,6])\n",
    "ind = np.argsort(A)\n",
    "print(ind)\n",
    "# prints the index of the sorted array.\n",
    "# For example, 1 is in location 2, but now it is first, so 2 is the first element of the ind array."
   ]
  },
  {
   "cell_type": "code",
   "execution_count": 110,
   "metadata": {
    "colab": {
     "base_uri": "https://localhost:8080/"
    },
    "executionInfo": {
     "elapsed": 20,
     "status": "ok",
     "timestamp": 1748464920657,
     "user": {
      "displayName": "Jacqueline Gunther",
      "userId": "09898809932311330039"
     },
     "user_tz": 240
    },
    "id": "pqodBYIpgJa7",
    "outputId": "e74683bf-993e-4ceb-eb3d-34da1921a6fe"
   },
   "outputs": [
    {
     "name": "stdout",
     "output_type": "stream",
     "text": [
      "[[ 8  6  2  9  5]\n",
      " [ 6  4  2 10  8]\n",
      " [ 7  5  9  6  5]]\n",
      "\n",
      "\n",
      "[[ 6  4  2  6  5]\n",
      " [ 7  5  2  9  5]\n",
      " [ 8  6  9 10  8]]\n",
      "\n",
      "\n",
      "[[ 2  5  6  8  9]\n",
      " [ 2  4  6  8 10]\n",
      " [ 5  5  6  7  9]]\n"
     ]
    }
   ],
   "source": [
    "Z = rng.integers(1,11,(3,5))    # random integers 1-10, 3x5 matrix\n",
    "print(Z)\n",
    "print('\\n')\n",
    "print(np.sort(Z,axis = 0))\n",
    "print('\\n')\n",
    "print(np.sort(Z,axis = 1))"
   ]
  },
  {
   "cell_type": "markdown",
   "metadata": {
    "id": "-u4j3XSToM6V"
   },
   "source": [
    "# Structured Numpy Data Array"
   ]
  },
  {
   "cell_type": "code",
   "execution_count": 127,
   "metadata": {
    "executionInfo": {
     "elapsed": 3,
     "status": "ok",
     "timestamp": 1748465550379,
     "user": {
      "displayName": "Jacqueline Gunther",
      "userId": "09898809932311330039"
     },
     "user_tz": 240
    },
    "id": "6_kj0AxdoOvU"
   },
   "outputs": [],
   "source": [
    "# Structured Numpy Data Array\n",
    "name = ['Luke','Lea','Han','Chewie','R2D2','C3P0']\n",
    "human = [True,True,True,False,False,False]\n",
    "occupation = ['Jedi','Princess','Smuggler','Smuggler','Droid','Droid']\n",
    "\n",
    "characters = np.zeros(6,dtype={'names':('name', 'human', 'occupation'),\n",
    "                                  'formats':('U10', 'i4', 'U10')})  # these are the different data formats U is string, i is integer."
   ]
  },
  {
   "cell_type": "code",
   "execution_count": 128,
   "metadata": {
    "colab": {
     "base_uri": "https://localhost:8080/"
    },
    "executionInfo": {
     "elapsed": 12,
     "status": "ok",
     "timestamp": 1748465552329,
     "user": {
      "displayName": "Jacqueline Gunther",
      "userId": "09898809932311330039"
     },
     "user_tz": 240
    },
    "id": "v_on_fB6pLDu",
    "outputId": "a858d610-1ddd-4f98-ea0d-3c84ad4f6fe7"
   },
   "outputs": [
    {
     "name": "stdout",
     "output_type": "stream",
     "text": [
      "[('Luke', 1, 'Jedi') ('Lea', 1, 'Princess') ('Han', 1, 'Smuggler')\n",
      " ('Chewie', 0, 'Smuggler') ('R2D2', 0, 'Droid') ('C3P0', 0, 'Droid')]\n"
     ]
    }
   ],
   "source": [
    "characters['name'] = name\n",
    "characters['human'] = human\n",
    "characters['occupation'] = occupation\n",
    "print(characters)"
   ]
  },
  {
   "cell_type": "code",
   "execution_count": 129,
   "metadata": {
    "colab": {
     "base_uri": "https://localhost:8080/"
    },
    "executionInfo": {
     "elapsed": 7,
     "status": "ok",
     "timestamp": 1748465552701,
     "user": {
      "displayName": "Jacqueline Gunther",
      "userId": "09898809932311330039"
     },
     "user_tz": 240
    },
    "id": "mZOPsrB4pxIH",
    "outputId": "b8fcc5b5-5d2f-4de9-ed6b-b4cd2045cde1"
   },
   "outputs": [
    {
     "name": "stdout",
     "output_type": "stream",
     "text": [
      "['Luke' 'Lea' 'Han' 'Chewie' 'R2D2' 'C3P0']\n",
      "['Jedi' 'Princess' 'Smuggler' 'Smuggler' 'Droid' 'Droid']\n",
      "('Chewie', 0, 'Smuggler')\n"
     ]
    }
   ],
   "source": [
    "# call different pieces of information\n",
    "print(characters['name'])\n",
    "print(characters['occupation'])\n",
    "print(characters[3])"
   ]
  },
  {
   "cell_type": "code",
   "execution_count": 130,
   "metadata": {
    "colab": {
     "base_uri": "https://localhost:8080/"
    },
    "executionInfo": {
     "elapsed": 24,
     "status": "ok",
     "timestamp": 1748465553057,
     "user": {
      "displayName": "Jacqueline Gunther",
      "userId": "09898809932311330039"
     },
     "user_tz": 240
    },
    "id": "UCgI-10wp973",
    "outputId": "452f9bcf-343d-4d9a-a99f-f5d0e0080e04"
   },
   "outputs": [
    {
     "name": "stdout",
     "output_type": "stream",
     "text": [
      "[('Luke', 1, 'Jedi') ('Lea', 1, 'Princess') ('Han', 1, 'Smuggler')]\n"
     ]
    }
   ],
   "source": [
    "print(characters[characters['human']==1])  #print only humans"
   ]
  }
 ],
 "metadata": {
  "colab": {
   "authorship_tag": "ABX9TyMvYdoAjb3v3XPgdvn7JTlj",
   "provenance": []
  },
  "kernelspec": {
   "display_name": "Python 3 (ipykernel)",
   "language": "python",
   "name": "python3"
  },
  "language_info": {
   "codemirror_mode": {
    "name": "ipython",
    "version": 3
   },
   "file_extension": ".py",
   "mimetype": "text/x-python",
   "name": "python",
   "nbconvert_exporter": "python",
   "pygments_lexer": "ipython3",
   "version": "3.10.15"
  }
 },
 "nbformat": 4,
 "nbformat_minor": 4
}
