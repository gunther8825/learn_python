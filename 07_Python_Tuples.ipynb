{
 "cells": [
  {
   "cell_type": "markdown",
   "metadata": {
    "id": "Vntqk6bniQ7b"
   },
   "source": [
    "To start, click File --> Save Notebook As...\n",
    "\n",
    "Then you can have your own copy you can modify.\n"
   ]
  },
  {
   "cell_type": "markdown",
   "metadata": {
    "id": "o7VZOCcSRakC"
   },
   "source": [
    "Adapted from Chapter 9: Tuples, Files, and Everything Else of Lutz, Mark. *Learning Python*, 6th Edition, O'Reilly, 2025"
   ]
  },
  {
   "cell_type": "markdown",
   "metadata": {
    "id": "uvBzSO4niSUo"
   },
   "source": [
    "# Tuples\n",
    "\n",
    "Tuples are like lists but they can't be changed (i.e. immutable)."
   ]
  },
  {
   "cell_type": "code",
   "execution_count": null,
   "metadata": {
    "id": "FKz1eEgI34uC"
   },
   "outputs": [],
   "source": [
    "T0 = () # Empty Tuple"
   ]
  },
  {
   "cell_type": "code",
   "execution_count": null,
   "metadata": {
    "colab": {
     "base_uri": "https://localhost:8080/"
    },
    "executionInfo": {
     "elapsed": 4,
     "status": "ok",
     "timestamp": 1740518465817,
     "user": {
      "displayName": "Jacqueline Gunther",
      "userId": "09898809932311330039"
     },
     "user_tz": 300
    },
    "id": "q9uu_Upb5DVf",
    "outputId": "d19fa2ca-d0d2-4682-b35d-a391d84fa78c"
   },
   "outputs": [
    {
     "name": "stdout",
     "output_type": "stream",
     "text": [
      "0\n",
      "(0,)\n"
     ]
    }
   ],
   "source": [
    "T1 = (0) # This turns into an integer\n",
    "print(T1)\n",
    "T1_1 = (0,) # This turns into a tuple\n",
    "print(T1_1)"
   ]
  },
  {
   "cell_type": "code",
   "execution_count": null,
   "metadata": {
    "colab": {
     "base_uri": "https://localhost:8080/"
    },
    "executionInfo": {
     "elapsed": 7,
     "status": "ok",
     "timestamp": 1740516979215,
     "user": {
      "displayName": "Jacqueline Gunther",
      "userId": "09898809932311330039"
     },
     "user_tz": 300
    },
    "id": "fUVp2GeT5KQ-",
    "outputId": "f14c919a-b236-466c-8bad-19944eff5667"
   },
   "outputs": [
    {
     "name": "stdout",
     "output_type": "stream",
     "text": [
      "(0, 'Hello', 3.14, True)\n"
     ]
    }
   ],
   "source": [
    "T2 = (0,'Hello', 3.14, True)\n",
    "print(T2)"
   ]
  },
  {
   "cell_type": "code",
   "execution_count": null,
   "metadata": {
    "colab": {
     "base_uri": "https://localhost:8080/"
    },
    "executionInfo": {
     "elapsed": 5,
     "status": "ok",
     "timestamp": 1740517003815,
     "user": {
      "displayName": "Jacqueline Gunther",
      "userId": "09898809932311330039"
     },
     "user_tz": 300
    },
    "id": "QI8oG7zd5XGP",
    "outputId": "d034b31a-ceda-4eff-92d2-245d0548aa15"
   },
   "outputs": [
    {
     "name": "stdout",
     "output_type": "stream",
     "text": [
      "(0, 'Hello', 3.14, True)\n"
     ]
    }
   ],
   "source": [
    "T3 = 0,'Hello', 3.14, True\n",
    "print(T3)"
   ]
  },
  {
   "cell_type": "code",
   "execution_count": null,
   "metadata": {
    "colab": {
     "base_uri": "https://localhost:8080/"
    },
    "executionInfo": {
     "elapsed": 8,
     "status": "ok",
     "timestamp": 1740517079792,
     "user": {
      "displayName": "Jacqueline Gunther",
      "userId": "09898809932311330039"
     },
     "user_tz": 300
    },
    "id": "YKdVqnEI5dGj",
    "outputId": "1e263d09-860b-4c4d-97ec-431a5ddda867"
   },
   "outputs": [
    {
     "name": "stdout",
     "output_type": "stream",
     "text": [
      "(0, (1, 2, 3))\n"
     ]
    }
   ],
   "source": [
    "# Nested Tuple\n",
    "T4 = (0, (1,2,3))\n",
    "print(T4)"
   ]
  },
  {
   "cell_type": "code",
   "execution_count": null,
   "metadata": {
    "colab": {
     "base_uri": "https://localhost:8080/"
    },
    "executionInfo": {
     "elapsed": 5,
     "status": "ok",
     "timestamp": 1740517116782,
     "user": {
      "displayName": "Jacqueline Gunther",
      "userId": "09898809932311330039"
     },
     "user_tz": 300
    },
    "id": "-Noum-FF5ssN",
    "outputId": "36ab8617-b80e-4619-cb2f-efdbe2aa1303"
   },
   "outputs": [
    {
     "name": "stdout",
     "output_type": "stream",
     "text": [
      "('H', 'e', 'l', 'l', 'o')\n"
     ]
    }
   ],
   "source": [
    "T5 = tuple('Hello')\n",
    "print(T5)"
   ]
  },
  {
   "cell_type": "code",
   "execution_count": null,
   "metadata": {
    "colab": {
     "base_uri": "https://localhost:8080/"
    },
    "executionInfo": {
     "elapsed": 5,
     "status": "ok",
     "timestamp": 1740517527086,
     "user": {
      "displayName": "Jacqueline Gunther",
      "userId": "09898809932311330039"
     },
     "user_tz": 300
    },
    "id": "sob40FGl53Og",
    "outputId": "1bae05f5-b64b-4f81-e60b-cd93de3c7e97"
   },
   "outputs": [
    {
     "name": "stdout",
     "output_type": "stream",
     "text": [
      "(0, (1, 2, 3))\n",
      "0\n",
      "2\n",
      "(2, 3)\n",
      "2\n"
     ]
    }
   ],
   "source": [
    "# Indexing\n",
    "T6 = (0, (1,2,3))\n",
    "print(T6)\n",
    "print(T6[0])\n",
    "print(T6[1][1])\n",
    "print(T6[1][1:3])\n",
    "print(len(T6))"
   ]
  },
  {
   "cell_type": "code",
   "execution_count": null,
   "metadata": {
    "colab": {
     "base_uri": "https://localhost:8080/"
    },
    "executionInfo": {
     "elapsed": 5,
     "status": "ok",
     "timestamp": 1740517572322,
     "user": {
      "displayName": "Jacqueline Gunther",
      "userId": "09898809932311330039"
     },
     "user_tz": 300
    },
    "id": "Px4499ZI6tal",
    "outputId": "27a78b02-1aee-4e46-c258-4b85f5464c0c"
   },
   "outputs": [
    {
     "name": "stdout",
     "output_type": "stream",
     "text": [
      "(0, 'Hello', 3.14, True, 0, (1, 2, 3))\n",
      "(0, 'Hello', 3.14, True, 0, 'Hello', 3.14, True, 0, 'Hello', 3.14, True)\n"
     ]
    }
   ],
   "source": [
    "# Concatenate and repeat\n",
    "T2 = (0,'Hello', 3.14, True)\n",
    "T4 = (0, (1,2,3))\n",
    "\n",
    "print(T2 + T4)\n",
    "print(T2 * 3)"
   ]
  },
  {
   "cell_type": "code",
   "execution_count": null,
   "metadata": {
    "colab": {
     "base_uri": "https://localhost:8080/"
    },
    "executionInfo": {
     "elapsed": 4,
     "status": "ok",
     "timestamp": 1740517670627,
     "user": {
      "displayName": "Jacqueline Gunther",
      "userId": "09898809932311330039"
     },
     "user_tz": 300
    },
    "id": "P7hwyXvL7le4",
    "outputId": "0ffe87d3-e468-4af8-9e81-fd5f9e4d9b1c"
   },
   "outputs": [
    {
     "name": "stdout",
     "output_type": "stream",
     "text": [
      "True\n",
      "False\n",
      "True\n"
     ]
    }
   ],
   "source": [
    "# Comparison\n",
    "\n",
    "num1 = (1,2,3)\n",
    "num2 = (1,2,4)\n",
    "print(num1 < num2)\n",
    "print(num1 == num2)\n",
    "print(1 in num1)"
   ]
  },
  {
   "cell_type": "code",
   "execution_count": null,
   "metadata": {
    "colab": {
     "base_uri": "https://localhost:8080/"
    },
    "executionInfo": {
     "elapsed": 8,
     "status": "ok",
     "timestamp": 1740517690237,
     "user": {
      "displayName": "Jacqueline Gunther",
      "userId": "09898809932311330039"
     },
     "user_tz": 300
    },
    "id": "esl7qVAs76HS",
    "outputId": "53995fdb-63aa-4ac1-87b6-9f9b02903e5d"
   },
   "outputs": [
    {
     "name": "stdout",
     "output_type": "stream",
     "text": [
      "1\n",
      "2\n",
      "3\n"
     ]
    }
   ],
   "source": [
    "# Loops\n",
    "num1 = (1,2,3)\n",
    "for i in num1:\n",
    "  print(i)"
   ]
  },
  {
   "cell_type": "code",
   "execution_count": null,
   "metadata": {
    "colab": {
     "base_uri": "https://localhost:8080/"
    },
    "executionInfo": {
     "elapsed": 10,
     "status": "ok",
     "timestamp": 1740518070120,
     "user": {
      "displayName": "Jacqueline Gunther",
      "userId": "09898809932311330039"
     },
     "user_tz": 300
    },
    "id": "_ziJrBJV8Er_",
    "outputId": "eb67eab7-fee7-4ccc-a2d2-b85445c1cfa0"
   },
   "outputs": [
    {
     "name": "stdout",
     "output_type": "stream",
     "text": [
      "(1, 2, 3, 0, 4, 5, 6)\n"
     ]
    }
   ],
   "source": [
    "# Unpackin (like for Dictionaries)\n",
    "\n",
    "x = (1,2,3)\n",
    "y = (4,5,6)\n",
    "\n",
    "T7 = (*x,0, *y)\n",
    "print(T7)"
   ]
  },
  {
   "cell_type": "code",
   "execution_count": null,
   "metadata": {
    "colab": {
     "base_uri": "https://localhost:8080/"
    },
    "executionInfo": {
     "elapsed": 4,
     "status": "ok",
     "timestamp": 1740519477338,
     "user": {
      "displayName": "Jacqueline Gunther",
      "userId": "09898809932311330039"
     },
     "user_tz": 300
    },
    "id": "_ho5AhxX9ha1",
    "outputId": "62fffd57-3af5-4bc7-9108-0e00e949bb95"
   },
   "outputs": [
    {
     "name": "stdout",
     "output_type": "stream",
     "text": [
      "2\n",
      "4\n",
      "3\n"
     ]
    }
   ],
   "source": [
    "# Index and count\n",
    "T8 = (1,5,3,4,5,5)\n",
    "print(T8.index(3))  # Shows where in the tuple the number 3 is\n",
    "print(T8.index(5,2))  # Shows where in the tuple the second 5 is\n",
    "print(T8.count(5))  # Shows how many 5's are in the tuple."
   ]
  },
  {
   "cell_type": "code",
   "execution_count": null,
   "metadata": {
    "colab": {
     "base_uri": "https://localhost:8080/"
    },
    "executionInfo": {
     "elapsed": 7,
     "status": "ok",
     "timestamp": 1740518894050,
     "user": {
      "displayName": "Jacqueline Gunther",
      "userId": "09898809932311330039"
     },
     "user_tz": 300
    },
    "id": "HA-6XFri-XCR",
    "outputId": "8e177b60-6918-4141-8e10-5e26c8aee7b9"
   },
   "outputs": [
    {
     "data": {
      "text/plain": [
       "[1, 2, 3]"
      ]
     },
     "execution_count": 43,
     "metadata": {},
     "output_type": "execute_result"
    }
   ],
   "source": [
    "# Change to list\n",
    "tup = (1,2,3)\n",
    "list(tup)"
   ]
  },
  {
   "cell_type": "code",
   "execution_count": null,
   "metadata": {
    "id": "HhERI6uYAoSj"
   },
   "outputs": [],
   "source": []
  }
 ],
 "metadata": {
  "colab": {
   "authorship_tag": "ABX9TyOU7wOIMj2KTwi/LDjOi7kI",
   "provenance": []
  },
  "kernelspec": {
   "display_name": "Python 3 (ipykernel)",
   "language": "python",
   "name": "python3"
  },
  "language_info": {
   "codemirror_mode": {
    "name": "ipython",
    "version": 3
   },
   "file_extension": ".py",
   "mimetype": "text/x-python",
   "name": "python",
   "nbconvert_exporter": "python",
   "pygments_lexer": "ipython3",
   "version": "3.10.15"
  }
 },
 "nbformat": 4,
 "nbformat_minor": 4
}
